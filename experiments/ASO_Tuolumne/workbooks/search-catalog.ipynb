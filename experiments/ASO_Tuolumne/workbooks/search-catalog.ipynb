{
 "cells": [
  {
   "cell_type": "code",
   "execution_count": 31,
   "metadata": {},
   "outputs": [],
   "source": [
    "import geopandas as gpd\n",
    "import pandas as pd\n",
    "%matplotlib inline"
   ]
  },
  {
   "cell_type": "code",
   "execution_count": 2,
   "metadata": {},
   "outputs": [],
   "source": [
    "planet_catalog = gpd.read_file(\"/users/tony/Dropbox/Projects/UW/planet-snowcover/scripts/planet-archive-catalog.geojson\")"
   ]
  },
  {
   "cell_type": "code",
   "execution_count": 3,
   "metadata": {},
   "outputs": [
    {
     "data": {
      "text/plain": [
       "Index(['_links._self', '_links.assets', '_links.thumbnail',\n",
       "       'properties.acquired', 'properties.anomalous_pixels',\n",
       "       'properties.clear_confidence_percent', 'properties.clear_percent',\n",
       "       'properties.cloud_cover', 'properties.cloud_percent',\n",
       "       'properties.columns', 'properties.epsg_code',\n",
       "       'properties.ground_control', 'properties.gsd',\n",
       "       'properties.heavy_haze_percent', 'properties.instrument',\n",
       "       'properties.item_type', 'properties.light_haze_percent',\n",
       "       'properties.origin_x', 'properties.origin_y',\n",
       "       'properties.pixel_resolution', 'properties.provider',\n",
       "       'properties.published', 'properties.quality_category',\n",
       "       'properties.rows', 'properties.satellite_id',\n",
       "       'properties.shadow_percent', 'properties.snow_ice_percent',\n",
       "       'properties.strip_id', 'properties.sun_azimuth',\n",
       "       'properties.sun_elevation', 'properties.updated',\n",
       "       'properties.usable_data', 'properties.view_angle',\n",
       "       'properties.visible_confidence_percent', 'properties.visible_percent',\n",
       "       'type', 'geometry'],\n",
       "      dtype='object')"
      ]
     },
     "execution_count": 3,
     "metadata": {},
     "output_type": "execute_result"
    }
   ],
   "source": [
    "planet_catalog.columns"
   ]
  },
  {
   "cell_type": "code",
   "execution_count": 4,
   "metadata": {},
   "outputs": [],
   "source": [
    "ids = [i.split('/')[-3] for i in planet_catalog['_links.assets']]\n",
    "planet_catalog['id'] = ids"
   ]
  },
  {
   "cell_type": "code",
   "execution_count": 5,
   "metadata": {},
   "outputs": [
    {
     "data": {
      "text/plain": [
       "9482    20190417_172932_0f1a\n",
       "9483    20190417_172936_0f1a\n",
       "9484    20190417_172937_0f1a\n",
       "9485    20190417_172938_0f1a\n",
       "9486    20190417_172939_0f1a\n",
       "9487    20190417_172940_0f1a\n",
       "9488    20190417_172941_0f1a\n",
       "9489    20190417_172942_0f1a\n",
       "Name: id, dtype: object"
      ]
     },
     "execution_count": 5,
     "metadata": {},
     "output_type": "execute_result"
    }
   ],
   "source": [
    "planet_catalog[(planet_catalog.id.str.contains('20190417')) & (planet_catalog['properties.satellite_id'] == '0f1a')].id"
   ]
  },
  {
   "cell_type": "code",
   "execution_count": 6,
   "metadata": {},
   "outputs": [
    {
     "data": {
      "text/plain": [
       "<pandas.core.strings.StringMethods at 0x115747630>"
      ]
     },
     "execution_count": 6,
     "metadata": {},
     "output_type": "execute_result"
    }
   ],
   "source": [
    "planet_catalog.id.str"
   ]
  },
  {
   "cell_type": "code",
   "execution_count": 43,
   "metadata": {},
   "outputs": [],
   "source": [
    "tuol = gpd.read_file(\"/Volumes/wrangell-st-elias/research/planet/CO/s3:::planet-snowcover-models:ASO-3M-SD-USCASJ-20180601-Step2-2020-01-21-21-37-55-126:planet-snowcover-imagery:20170224_171306_0e26_3B_AnalyticMS_SR_clip/mask-mask.geojson\")"
   ]
  },
  {
   "cell_type": "code",
   "execution_count": 44,
   "metadata": {},
   "outputs": [],
   "source": [
    "planet_tuol = planet_catalog[planet_catalog.overlaps(tuol.geometry.iloc[0])]"
   ]
  },
  {
   "cell_type": "code",
   "execution_count": 45,
   "metadata": {},
   "outputs": [
    {
     "name": "stderr",
     "output_type": "stream",
     "text": [
      "/Users/tony/miniconda3/envs/process_results/lib/python3.6/site-packages/ipykernel/__main__.py:1: SettingWithCopyWarning: \n",
      "A value is trying to be set on a copy of a slice from a DataFrame.\n",
      "Try using .loc[row_indexer,col_indexer] = value instead\n",
      "\n",
      "See the caveats in the documentation: http://pandas.pydata.org/pandas-docs/stable/user_guide/indexing.html#returning-a-view-versus-a-copy\n",
      "  if __name__ == '__main__':\n"
     ]
    }
   ],
   "source": [
    "planet_tuol['properties.acquired'] = pd.to_datetime(planet_tuol['properties.acquired'])"
   ]
  },
  {
   "cell_type": "code",
   "execution_count": 46,
   "metadata": {},
   "outputs": [
    {
     "data": {
      "text/html": [
       "<div>\n",
       "<style scoped>\n",
       "    .dataframe tbody tr th:only-of-type {\n",
       "        vertical-align: middle;\n",
       "    }\n",
       "\n",
       "    .dataframe tbody tr th {\n",
       "        vertical-align: top;\n",
       "    }\n",
       "\n",
       "    .dataframe thead th {\n",
       "        text-align: right;\n",
       "    }\n",
       "</style>\n",
       "<table border=\"1\" class=\"dataframe\">\n",
       "  <thead>\n",
       "    <tr style=\"text-align: right;\">\n",
       "      <th></th>\n",
       "      <th>_links._self</th>\n",
       "      <th>_links.assets</th>\n",
       "      <th>_links.thumbnail</th>\n",
       "      <th>properties.acquired</th>\n",
       "      <th>properties.anomalous_pixels</th>\n",
       "      <th>properties.clear_confidence_percent</th>\n",
       "      <th>properties.clear_percent</th>\n",
       "      <th>properties.cloud_cover</th>\n",
       "      <th>properties.cloud_percent</th>\n",
       "      <th>properties.columns</th>\n",
       "      <th>...</th>\n",
       "      <th>properties.sun_azimuth</th>\n",
       "      <th>properties.sun_elevation</th>\n",
       "      <th>properties.updated</th>\n",
       "      <th>properties.usable_data</th>\n",
       "      <th>properties.view_angle</th>\n",
       "      <th>properties.visible_confidence_percent</th>\n",
       "      <th>properties.visible_percent</th>\n",
       "      <th>type</th>\n",
       "      <th>geometry</th>\n",
       "      <th>id</th>\n",
       "    </tr>\n",
       "  </thead>\n",
       "  <tbody>\n",
       "  </tbody>\n",
       "</table>\n",
       "<p>0 rows × 38 columns</p>\n",
       "</div>"
      ],
      "text/plain": [
       "Empty GeoDataFrame\n",
       "Columns: [_links._self, _links.assets, _links.thumbnail, properties.acquired, properties.anomalous_pixels, properties.clear_confidence_percent, properties.clear_percent, properties.cloud_cover, properties.cloud_percent, properties.columns, properties.epsg_code, properties.ground_control, properties.gsd, properties.heavy_haze_percent, properties.instrument, properties.item_type, properties.light_haze_percent, properties.origin_x, properties.origin_y, properties.pixel_resolution, properties.provider, properties.published, properties.quality_category, properties.rows, properties.satellite_id, properties.shadow_percent, properties.snow_ice_percent, properties.strip_id, properties.sun_azimuth, properties.sun_elevation, properties.updated, properties.usable_data, properties.view_angle, properties.visible_confidence_percent, properties.visible_percent, type, geometry, id]\n",
       "Index: []\n",
       "\n",
       "[0 rows x 38 columns]"
      ]
     },
     "execution_count": 46,
     "metadata": {},
     "output_type": "execute_result"
    }
   ],
   "source": [
    "planet_tuol[planet_tuol['properties.acquired'].between('20180524', '20180530')]"
   ]
  },
  {
   "cell_type": "code",
   "execution_count": 48,
   "metadata": {},
   "outputs": [
    {
     "data": {
      "text/plain": [
       "array(['2019-02-02T17:34:49.000000000', '2019-02-02T17:34:51.000000000',\n",
       "       '2019-02-02T17:34:52.000000000'], dtype='datetime64[ns]')"
      ]
     },
     "execution_count": 48,
     "metadata": {},
     "output_type": "execute_result"
    }
   ],
   "source": [
    "planet_tuol[(planet_tuol['properties.acquired'].dt.year == 2019) & (planet_tuol['properties.acquired'].dt.month == 2)]['properties.acquired'].unique()"
   ]
  },
  {
   "cell_type": "code",
   "execution_count": null,
   "metadata": {},
   "outputs": [],
   "source": []
  }
 ],
 "metadata": {
  "kernelspec": {
   "display_name": "Python [conda env:process_results]",
   "language": "python",
   "name": "conda-env-process_results-py"
  },
  "language_info": {
   "codemirror_mode": {
    "name": "ipython",
    "version": 3
   },
   "file_extension": ".py",
   "mimetype": "text/x-python",
   "name": "python",
   "nbconvert_exporter": "python",
   "pygments_lexer": "ipython3",
   "version": "3.6.8"
  }
 },
 "nbformat": 4,
 "nbformat_minor": 2
}
