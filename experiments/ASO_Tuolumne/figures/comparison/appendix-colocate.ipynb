{
 "cells": [
  {
   "cell_type": "code",
   "execution_count": 93,
   "metadata": {},
   "outputs": [],
   "source": [
    "import os\n",
    "from glob import glob\n",
    "\n",
    "from shapely.geometry import shape\n",
    "\n",
    "import json\n",
    "\n",
    "from hashlib import md5\n",
    "\n",
    "from shutil import copyfile\n",
    "\n",
    "from tqdm import tqdm\n",
    "\n",
    "from subprocess import Popen"
   ]
  },
  {
   "cell_type": "markdown",
   "metadata": {},
   "source": [
    "## Appendix: Compute Performance Metrics with Comparator Observations for Single ASO Collect\n",
    "\n",
    "`run_prediction.py` produces a series of directories in S3, one per PlanetScope image, associated with a single trained model and ASO collection which the imagery overlaps (via the imagery specified in a model training `.toml` file).\n",
    "\n",
    "`summarize.py` run over these data produce a series of directories, one per PlanetScope image, containing: \n",
    "\n",
    "* Prediction Tiles\n",
    "* Merged Prediction Mask\n",
    "* ASO Tiles\n",
    "* Merged ASO Mask\n",
    "\n",
    "The purpose of this notebook is to augment each of these directories with **clipped, contemporaneous, and co-located observations** from following three comparators: \n",
    "\n",
    "* ASO\n",
    "* Landsat 8 fSCA\n",
    "* Sentinel 2 NDSI\n",
    "\n",
    "Each directory contains a contemporaneous, spatially overlapping ASO collect from `summarize.py`, so we only need to copy it. This notebook requires the location of each of the Landsat 8 and Sentinel 2 NDSI files. We assume that these overlapping data products have already been computed, and that a single comparator collect overlaps all imagery.\n",
    "\n",
    "We use a file of selected PlanetScope images to constrain the processing. \n"
   ]
  },
  {
   "cell_type": "code",
   "execution_count": 17,
   "metadata": {},
   "outputs": [],
   "source": [
    "root = \"/Volumes/wrangell-st-elias/research/planet/tuol-reruns-v2/ASO_3M_SD_USCATE_20180528/\""
   ]
  },
  {
   "cell_type": "code",
   "execution_count": 61,
   "metadata": {},
   "outputs": [],
   "source": [
    "ls8_fsca = os.path.join(root, \"LC08_CU_003009_20180603_20190615_C01_V01_SNOW/LC08_CU_003009_20180603_20190615_C01_V01_SNOW_05.tif\")"
   ]
  },
  {
   "cell_type": "code",
   "execution_count": 62,
   "metadata": {},
   "outputs": [],
   "source": [
    "s2_ndsi = os.path.join(root, \"sentinel-2/11SKC,2018-05-27,0/NDSI.tif\")"
   ]
  },
  {
   "cell_type": "code",
   "execution_count": 63,
   "metadata": {},
   "outputs": [],
   "source": [
    "comparators = [ls8_fsca, s2_ndsi]"
   ]
  },
  {
   "cell_type": "code",
   "execution_count": 22,
   "metadata": {},
   "outputs": [],
   "source": [
    "selected_image_ids = open(os.path.join(root, \"selected_images_rework.txt\")).read().split()"
   ]
  },
  {
   "cell_type": "code",
   "execution_count": 28,
   "metadata": {},
   "outputs": [],
   "source": [
    "selected_images = [glob(os.path.join(root, f\"*{i}*\"))[0] for i in selected_image_ids]"
   ]
  },
  {
   "cell_type": "code",
   "execution_count": 26,
   "metadata": {},
   "outputs": [
    {
     "data": {
      "text/plain": [
       "['/Volumes/wrangell-st-elias/research/planet/tuol-reruns-v2/ASO_3M_SD_USCATE_20180528/s3:::planet-snowcover-models:ASO-3M-SD-USCASJ-20180601-Step2-V2-2020-03-03-17-49-47-260:planet-snowcover-imagery:20180528_181108_1025_3B_AnalyticMS_SR_clip',\n",
       " '/Volumes/wrangell-st-elias/research/planet/tuol-reruns-v2/ASO_3M_SD_USCATE_20180528/s3:::planet-snowcover-models:ASO-3M-SD-USCASJ-20180601-Step2-V2-2020-03-03-17-49-47-260:planet-snowcover-imagery:20180528_181109_1025_3B_AnalyticMS_SR_clip',\n",
       " '/Volumes/wrangell-st-elias/research/planet/tuol-reruns-v2/ASO_3M_SD_USCATE_20180528/s3:::planet-snowcover-models:ASO-3M-SD-USCASJ-20180601-Step2-V2-2020-03-03-17-49-47-260:planet-snowcover-imagery:20180528_181110_1025_3B_AnalyticMS_SR_clip',\n",
       " '/Volumes/wrangell-st-elias/research/planet/tuol-reruns-v2/ASO_3M_SD_USCATE_20180528/s3:::planet-snowcover-models:ASO-3M-SD-USCASJ-20180601-Step2-V2-2020-03-03-17-49-47-260:planet-snowcover-imagery:20180528_181111_1025_3B_AnalyticMS_SR_clip',\n",
       " '/Volumes/wrangell-st-elias/research/planet/tuol-reruns-v2/ASO_3M_SD_USCATE_20180528/s3:::planet-snowcover-models:ASO-3M-SD-USCASJ-20180601-Step2-V2-2020-03-03-17-49-47-260:planet-snowcover-imagery:20180528_181112_1025_3B_AnalyticMS_SR_clip',\n",
       " '/Volumes/wrangell-st-elias/research/planet/tuol-reruns-v2/ASO_3M_SD_USCATE_20180528/s3:::planet-snowcover-models:ASO-3M-SD-USCASJ-20180601-Step2-V2-2020-03-03-17-49-47-260:planet-snowcover-imagery:20180528_181113_1025_3B_AnalyticMS_SR_clip']"
      ]
     },
     "execution_count": 26,
     "metadata": {},
     "output_type": "execute_result"
    }
   ],
   "source": [
    "selected_images"
   ]
  },
  {
   "cell_type": "code",
   "execution_count": 31,
   "metadata": {},
   "outputs": [
    {
     "data": {
      "text/plain": [
       "['data-mask.geojson', 'mask', 'preds']"
      ]
     },
     "execution_count": 31,
     "metadata": {},
     "output_type": "execute_result"
    }
   ],
   "source": [
    "os.listdir(selected_images[0])"
   ]
  },
  {
   "cell_type": "markdown",
   "metadata": {},
   "source": [
    "First we create a directory unique to the files that are being combined and **add ASO to that directory**: "
   ]
  },
  {
   "cell_type": "code",
   "execution_count": 98,
   "metadata": {},
   "outputs": [],
   "source": [
    "selected_images_comparators = []\n",
    "for image in selected_images:\n",
    "    aso_collect_path = glob(os.path.join(image, \"mask/*merged.tif\"))[0]\n",
    "    run_id = md5(\"_\".join([ls8_fsca, s2_ndsi, aso_collect_path]).encode('utf-8')).hexdigest()\n",
    "    selected_images_comparators.append(os.path.join(image, run_id))\n",
    "    comparator_dir = os.path.join(image, run_id)\n",
    "    os.makedirs(comparator_dir, exist_ok=True)\n",
    "    copyfile(aso_collect_path, os.path.join(comparator_dir, \"ASO_merged.tif\"))"
   ]
  },
  {
   "cell_type": "code",
   "execution_count": 99,
   "metadata": {},
   "outputs": [
    {
     "data": {
      "text/plain": [
       "['/Volumes/wrangell-st-elias/research/planet/tuol-reruns-v2/ASO_3M_SD_USCATE_20180528/s3:::planet-snowcover-models:ASO-3M-SD-USCASJ-20180601-Step2-V2-2020-03-03-17-49-47-260:planet-snowcover-imagery:20180528_181108_1025_3B_AnalyticMS_SR_clip/c8099c28f0abf143501bbcbfb84ba197',\n",
       " '/Volumes/wrangell-st-elias/research/planet/tuol-reruns-v2/ASO_3M_SD_USCATE_20180528/s3:::planet-snowcover-models:ASO-3M-SD-USCASJ-20180601-Step2-V2-2020-03-03-17-49-47-260:planet-snowcover-imagery:20180528_181109_1025_3B_AnalyticMS_SR_clip/00d2c3df253873185a3cbc45f6580342',\n",
       " '/Volumes/wrangell-st-elias/research/planet/tuol-reruns-v2/ASO_3M_SD_USCATE_20180528/s3:::planet-snowcover-models:ASO-3M-SD-USCASJ-20180601-Step2-V2-2020-03-03-17-49-47-260:planet-snowcover-imagery:20180528_181110_1025_3B_AnalyticMS_SR_clip/f9ed5fb7ea7e5d9a6f8a69b7d9513b9f',\n",
       " '/Volumes/wrangell-st-elias/research/planet/tuol-reruns-v2/ASO_3M_SD_USCATE_20180528/s3:::planet-snowcover-models:ASO-3M-SD-USCASJ-20180601-Step2-V2-2020-03-03-17-49-47-260:planet-snowcover-imagery:20180528_181111_1025_3B_AnalyticMS_SR_clip/5fc1f3ab355eac70ed2eea4b6b1370cc',\n",
       " '/Volumes/wrangell-st-elias/research/planet/tuol-reruns-v2/ASO_3M_SD_USCATE_20180528/s3:::planet-snowcover-models:ASO-3M-SD-USCASJ-20180601-Step2-V2-2020-03-03-17-49-47-260:planet-snowcover-imagery:20180528_181112_1025_3B_AnalyticMS_SR_clip/d301ecd945797c993a0b7f4bafcb102b',\n",
       " '/Volumes/wrangell-st-elias/research/planet/tuol-reruns-v2/ASO_3M_SD_USCATE_20180528/s3:::planet-snowcover-models:ASO-3M-SD-USCASJ-20180601-Step2-V2-2020-03-03-17-49-47-260:planet-snowcover-imagery:20180528_181113_1025_3B_AnalyticMS_SR_clip/4ef7e39b07308f40299b3df874597c8e']"
      ]
     },
     "execution_count": 99,
     "metadata": {},
     "output_type": "execute_result"
    }
   ],
   "source": [
    "selected_images_comparators"
   ]
  },
  {
   "cell_type": "markdown",
   "metadata": {},
   "source": [
    "## Clip and Reproject, and Copy\n",
    "\n",
    "Here we clip LS8 and S2 NDSI to a coarse bounding box of each PlanetScope image and re-project into a common EPSG, saving into the comparator directories we just generated. "
   ]
  },
  {
   "cell_type": "code",
   "execution_count": 100,
   "metadata": {},
   "outputs": [],
   "source": [
    "for i, image in enumerate(selected_images):\n",
    "    mask = shape(json.loads(open(os.path.join(image, \"data-mask.geojson\")).read()))\n",
    "    minx, miny, maxx, maxy = mask.bounds\n",
    "    \n",
    "    for comparator in comparators:\n",
    "        projected = os.path.splitext(os.path.basename(comparator))[0] + \"_reprojected.tif\"\n",
    "        projected_path = os.path.join(selected_images_comparators[i], projected)\n",
    "        clipped =  os.path.splitext(os.path.basename(projected))[0] + \"_clipped.tif\"\n",
    "        clipped_path = os.path.join(selected_images_comparators[i], clipped)\n",
    "        \n",
    "#         gdal_warp_cmd = f\"source activate qgis && gdal_translate -a_nodata 9999 -projwin {minx} {maxy} {maxx} {miny} -projwin_srs EPSG:4326 {comparator} {clipped_path} && gdalwarp -dstnodata 9999 -overwrite -t_srs EPSG:4326 {clipped_path} {projected_path}\" \n",
    "        gdal_warp_cmd = f\"source activate qgis && gdalwarp -dstnodata 9999 -overwrite -t_srs EPSG:4326 {comparator} {projected_path} && gdal_translate -a_nodata 9999 -projwin {minx} {maxy} {maxx} {miny} -projwin_srs EPSG:4326 {projected_path} {clipped_path}\" \n",
    "    \n",
    "        Popen(gdal_warp_cmd, shell=True).communicate()\n",
    "        os.remove(projected_path)\n"
   ]
  },
  {
   "cell_type": "markdown",
   "metadata": {},
   "source": [
    "## Copy geojson into comparator"
   ]
  },
  {
   "cell_type": "code",
   "execution_count": 96,
   "metadata": {},
   "outputs": [],
   "source": [
    "for i, image in enumerate(selected_images):\n",
    "    # unfortunate mismatch in naming (data-mask.geojson to data_region.geojson). Other tools expect data_region. oops!\n",
    "    copyfile(\n",
    "        os.path.join(image, \"data-mask.geojson\"),\n",
    "        os.path.join(image, selected_images_comparators[i], \"data_region.geojson\")\n",
    "    )\n"
   ]
  },
  {
   "cell_type": "markdown",
   "metadata": {},
   "source": [
    "## Copy ML predictions into comparator "
   ]
  },
  {
   "cell_type": "code",
   "execution_count": 101,
   "metadata": {},
   "outputs": [],
   "source": [
    "for i, image in enumerate(selected_images):\n",
    "    pred_path = glob(os.path.join(image, \"preds/*merged.tif\"))[0]\n",
    "    pred_fname = os.path.basename(pred_path)\n",
    "    copyfile(\n",
    "        pred_path, \n",
    "        os.path.join(image, selected_images_comparators[i], pred_fname)\n",
    "\n",
    "    )\n"
   ]
  },
  {
   "cell_type": "markdown",
   "metadata": {},
   "source": [
    "Should be good. "
   ]
  }
 ],
 "metadata": {
  "kernelspec": {
   "display_name": "Python [conda env:process_results]",
   "language": "python",
   "name": "conda-env-process_results-py"
  },
  "language_info": {
   "codemirror_mode": {
    "name": "ipython",
    "version": 3
   },
   "file_extension": ".py",
   "mimetype": "text/x-python",
   "name": "python",
   "nbconvert_exporter": "python",
   "pygments_lexer": "ipython3",
   "version": "3.6.8"
  }
 },
 "nbformat": 4,
 "nbformat_minor": 2
}
