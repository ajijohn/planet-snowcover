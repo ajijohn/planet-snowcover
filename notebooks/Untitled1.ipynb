{
 "cells": [
  {
   "cell_type": "code",
   "execution_count": 1,
   "metadata": {},
   "outputs": [],
   "source": [
    "import rasterio\n",
    "import geopandas as gpd\n",
    "import pandas as pd\n",
    "import matplotlib.pyplot as plt\n",
    "from shapely.geometry import Point, mapping\n",
    "import cartopy.crs as ccrs\n",
    "from cartopy.io.img_tiles import StamenTerrain\n",
    "import seaborn as sns\n",
    "from planet import api\n",
    "import folium\n",
    "import json\n",
    "sns.set();"
   ]
  },
  {
   "cell_type": "markdown",
   "metadata": {},
   "source": [
    "# Planet Image Coverage Study – Rainier (JHRL data)"
   ]
  },
  {
   "cell_type": "code",
   "execution_count": 2,
   "metadata": {},
   "outputs": [
    {
     "data": {
      "text/html": [
       "<div>\n",
       "<style scoped>\n",
       "    .dataframe tbody tr th:only-of-type {\n",
       "        vertical-align: middle;\n",
       "    }\n",
       "\n",
       "    .dataframe tbody tr th {\n",
       "        vertical-align: top;\n",
       "    }\n",
       "\n",
       "    .dataframe thead th {\n",
       "        text-align: right;\n",
       "    }\n",
       "</style>\n",
       "<table border=\"1\" class=\"dataframe\">\n",
       "  <thead>\n",
       "    <tr style=\"text-align: right;\">\n",
       "      <th></th>\n",
       "      <th>Study</th>\n",
       "      <th>Location</th>\n",
       "      <th>date_min</th>\n",
       "      <th>date_max</th>\n",
       "      <th>temp_min</th>\n",
       "      <th>temp_max</th>\n",
       "      <th>hobo</th>\n",
       "      <th>ibutton</th>\n",
       "      <th>year</th>\n",
       "      <th>calibration_temp</th>\n",
       "      <th>snow_appearance_date</th>\n",
       "      <th>snow_disappearance_date</th>\n",
       "      <th>snow_cover_duration</th>\n",
       "      <th>minimum_soil_temp</th>\n",
       "      <th>longitude</th>\n",
       "      <th>latitude</th>\n",
       "    </tr>\n",
       "  </thead>\n",
       "  <tbody>\n",
       "    <tr>\n",
       "      <th>0</th>\n",
       "      <td>Ailene</td>\n",
       "      <td>AE10-G1</td>\n",
       "      <td>10/5/11 15:00</td>\n",
       "      <td>7/24/12 11:23</td>\n",
       "      <td>-1.114</td>\n",
       "      <td>21.855</td>\n",
       "      <td>True</td>\n",
       "      <td>False</td>\n",
       "      <td>2012</td>\n",
       "      <td>0.000000</td>\n",
       "      <td>11/3/11</td>\n",
       "      <td>7/15/12</td>\n",
       "      <td>254</td>\n",
       "      <td>-1.114</td>\n",
       "      <td>-121.74346</td>\n",
       "      <td>46.76869</td>\n",
       "    </tr>\n",
       "    <tr>\n",
       "      <th>1</th>\n",
       "      <td>Ailene</td>\n",
       "      <td>AE10-G1</td>\n",
       "      <td>9/13/12 12:00</td>\n",
       "      <td>8/5/13 12:00</td>\n",
       "      <td>-2.494</td>\n",
       "      <td>27.370</td>\n",
       "      <td>True</td>\n",
       "      <td>False</td>\n",
       "      <td>2013</td>\n",
       "      <td>0.186820</td>\n",
       "      <td>10/21/12</td>\n",
       "      <td>7/4/13</td>\n",
       "      <td>243</td>\n",
       "      <td>-2.494</td>\n",
       "      <td>-121.74346</td>\n",
       "      <td>46.76869</td>\n",
       "    </tr>\n",
       "    <tr>\n",
       "      <th>2</th>\n",
       "      <td>Ailene</td>\n",
       "      <td>AE10-G2</td>\n",
       "      <td>10/5/11 15:00</td>\n",
       "      <td>7/11/12 17:22</td>\n",
       "      <td>-1.114</td>\n",
       "      <td>42.998</td>\n",
       "      <td>True</td>\n",
       "      <td>False</td>\n",
       "      <td>2012</td>\n",
       "      <td>0.000000</td>\n",
       "      <td>11/3/11</td>\n",
       "      <td>7/7/12</td>\n",
       "      <td>248</td>\n",
       "      <td>-1.114</td>\n",
       "      <td>-121.74407</td>\n",
       "      <td>46.76837</td>\n",
       "    </tr>\n",
       "    <tr>\n",
       "      <th>3</th>\n",
       "      <td>Ailene</td>\n",
       "      <td>AE10-G2</td>\n",
       "      <td>9/13/12 12:00</td>\n",
       "      <td>8/5/13 3:00</td>\n",
       "      <td>-1.001</td>\n",
       "      <td>46.850</td>\n",
       "      <td>True</td>\n",
       "      <td>False</td>\n",
       "      <td>2013</td>\n",
       "      <td>0.370098</td>\n",
       "      <td>10/21/12</td>\n",
       "      <td>6/25/13</td>\n",
       "      <td>237</td>\n",
       "      <td>-1.001</td>\n",
       "      <td>-121.74407</td>\n",
       "      <td>46.76837</td>\n",
       "    </tr>\n",
       "    <tr>\n",
       "      <th>4</th>\n",
       "      <td>Ailene</td>\n",
       "      <td>AE10-G3</td>\n",
       "      <td>10/5/11 15:00</td>\n",
       "      <td>7/11/12 16:13</td>\n",
       "      <td>-1.570</td>\n",
       "      <td>24.062</td>\n",
       "      <td>True</td>\n",
       "      <td>False</td>\n",
       "      <td>2012</td>\n",
       "      <td>0.000000</td>\n",
       "      <td>11/3/11</td>\n",
       "      <td>7/6/12</td>\n",
       "      <td>243</td>\n",
       "      <td>-1.570</td>\n",
       "      <td>-121.74390</td>\n",
       "      <td>46.76855</td>\n",
       "    </tr>\n",
       "  </tbody>\n",
       "</table>\n",
       "</div>"
      ],
      "text/plain": [
       "    Study Location       date_min       date_max  temp_min  temp_max  hobo  \\\n",
       "0  Ailene  AE10-G1  10/5/11 15:00  7/24/12 11:23    -1.114    21.855  True   \n",
       "1  Ailene  AE10-G1  9/13/12 12:00   8/5/13 12:00    -2.494    27.370  True   \n",
       "2  Ailene  AE10-G2  10/5/11 15:00  7/11/12 17:22    -1.114    42.998  True   \n",
       "3  Ailene  AE10-G2  9/13/12 12:00    8/5/13 3:00    -1.001    46.850  True   \n",
       "4  Ailene  AE10-G3  10/5/11 15:00  7/11/12 16:13    -1.570    24.062  True   \n",
       "\n",
       "   ibutton  year  calibration_temp snow_appearance_date  \\\n",
       "0    False  2012          0.000000              11/3/11   \n",
       "1    False  2013          0.186820             10/21/12   \n",
       "2    False  2012          0.000000              11/3/11   \n",
       "3    False  2013          0.370098             10/21/12   \n",
       "4    False  2012          0.000000              11/3/11   \n",
       "\n",
       "  snow_disappearance_date  snow_cover_duration  minimum_soil_temp  longitude  \\\n",
       "0                 7/15/12                  254             -1.114 -121.74346   \n",
       "1                  7/4/13                  243             -2.494 -121.74346   \n",
       "2                  7/7/12                  248             -1.114 -121.74407   \n",
       "3                 6/25/13                  237             -1.001 -121.74407   \n",
       "4                  7/6/12                  243             -1.570 -121.74390   \n",
       "\n",
       "   latitude  \n",
       "0  46.76869  \n",
       "1  46.76869  \n",
       "2  46.76837  \n",
       "3  46.76837  \n",
       "4  46.76855  "
      ]
     },
     "execution_count": 2,
     "metadata": {},
     "output_type": "execute_result"
    }
   ],
   "source": [
    "_sensorRaw = pd.read_csv(\"../data/snow_summary_all_2009_2017_locs.csv\")\n",
    "_sensorRaw.head()"
   ]
  },
  {
   "cell_type": "code",
   "execution_count": 11,
   "metadata": {},
   "outputs": [],
   "source": [
    "_sensorRaw.drop_duplicates('Location')[[\"Location\", 'longitude', 'latitude']].to_csv(\"all_locations.csv\", index_label=\"id\")"
   ]
  },
  {
   "cell_type": "code",
   "execution_count": 3,
   "metadata": {},
   "outputs": [
    {
     "data": {
      "text/plain": [
       "<matplotlib.axes._subplots.AxesSubplot at 0x7eff90e40be0>"
      ]
     },
     "execution_count": 3,
     "metadata": {},
     "output_type": "execute_result"
    },
    {
     "data": {
      "image/png": "[encoded data removed]",
      "text/plain": [
       "<matplotlib.figure.Figure at 0x7effda8ac208>"
      ]
     },
     "metadata": {},
     "output_type": "display_data"
    }
   ],
   "source": [
    "_sensorRaw['year'].hist()"
   ]
  },
  {
   "cell_type": "code",
   "execution_count": 4,
   "metadata": {},
   "outputs": [],
   "source": [
    "locations = _sensorRaw.dropna().drop_duplicates('Location')"
   ]
  },
  {
   "cell_type": "code",
   "execution_count": 5,
   "metadata": {},
   "outputs": [],
   "source": [
    "geometry = [Point(xy) for xy in zip(locations.longitude, locations.latitude)]\n",
    "locations_gpd = gpd.GeoDataFrame(locations, geometry=geometry)\n",
    "locations_gpd.crs = {'init' : 'epsg:4237'}"
   ]
  },
  {
   "cell_type": "code",
   "execution_count": 6,
   "metadata": {},
   "outputs": [
    {
     "data": {
      "text/plain": [
       "Text(0,0.5,'Number')"
      ]
     },
     "execution_count": 6,
     "metadata": {},
     "output_type": "execute_result"
    },
    {
     "data": {
      "image/png": "[encoded data removed]",
      "text/plain": [
       "<matplotlib.figure.Figure at 0x7effc6f526d8>"
      ]
     },
     "metadata": {},
     "output_type": "display_data"
    }
   ],
   "source": [
    "locations['year'].hist()\n",
    "plt.title(\"Sensors Per Year\")\n",
    "plt.ylabel(\"Number\")"
   ]
  },
  {
   "cell_type": "code",
   "execution_count": 21,
   "metadata": {
    "scrolled": false
   },
   "outputs": [
    {
     "data": {
      "text/html": [
       "<div style=\"width:100%;\"><div style=\"position:relative;width:100%;height:0;padding-bottom:60%;\"><iframe src=\"data:text/html;charset=utf-8;base64,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\" style=\"position:absolute;width:100%;height:100%;left:0;top:0;border:none !important;\" allowfullscreen webkitallowfullscreen mozallowfullscreen></iframe></div></div>"
      ],
      "text/plain": [
       "<folium.folium.Map at 0x7eff8822b0b8>"
      ]
     },
     "execution_count": 21,
     "metadata": {},
     "output_type": "execute_result"
    }
   ],
   "source": [
    "center = locations_gpd.cascaded_union.centroid\n",
    "envelope = locations_gpd.cascaded_union.convex_hull\n",
    "m = folium.Map([center.y, center.x])\n",
    "folium.GeoJson(locations_gpd[locations_gpd[\"year\"] >= 2016].dropna().geometry).add_to(m)\n",
    "folium.GeoJson(mapping(envelope)).add_to(m)\n",
    "\n",
    "m"
   ]
  },
  {
   "cell_type": "code",
   "execution_count": 26,
   "metadata": {},
   "outputs": [
    {
     "data": {
      "text/plain": [
       "'{\"type\": \"Polygon\", \"coordinates\": [[[-121.91632, 46.73899], [-121.91641000000001, 46.73915], [-121.91672, 46.739740000000005], [-121.88728, 46.994679999999995], [-121.53754920000002, 46.994992100000005], [-121.53741979999998, 46.99495506], [-121.5352794, 46.99410449], [-121.402, 46.888740000000006], [-121.55821, 46.741009999999996], [-121.91632, 46.73899]]]}'"
      ]
     },
     "execution_count": 26,
     "metadata": {},
     "output_type": "execute_result"
    }
   ],
   "source": [
    "json.dumps(mapping(envelope))"
   ]
  },
  {
   "cell_type": "code",
   "execution_count": 8,
   "metadata": {},
   "outputs": [],
   "source": [
    "?folium.GeoJson"
   ]
  },
  {
   "cell_type": "code",
   "execution_count": 27,
   "metadata": {},
   "outputs": [],
   "source": [
    "from planet import api\n",
    "aoi = mapping(envelope)\n",
    "client = api.ClientV1()\n",
    "\n",
    "\n",
    "query = api.filters.and_filter(\n",
    "    api.filters.geom_filter(aoi), \n",
    "    api.filters.date_range('acquired', gt=\"2018-01-18\"),\n",
    "    api.filters.date_range('acquired', lt=\"2018-01-20\")\n",
    ")\n",
    "# we are requesting PlanetScope 4 Band imagery\n",
    "item_types = ['PSScene4Band']\n",
    "request = api.filters.build_search_request(query, item_types)\n",
    "# this will cause an exception if there are any API related errors\n",
    "results = client.quick_search(request)"
   ]
  },
  {
   "cell_type": "code",
   "execution_count": null,
   "metadata": {},
   "outputs": [],
   "source": [
    "poly = \n",
    "for item in results.iter_items():\n",
    "    "
   ]
  },
  {
   "cell_type": "code",
   "execution_count": null,
   "metadata": {},
   "outputs": [],
   "source": []
  }
 ],
 "metadata": {
  "kernelspec": {
   "display_name": "Python [default]",
   "language": "python",
   "name": "python3"
  },
  "language_info": {
   "codemirror_mode": {
    "name": "ipython",
    "version": 3
   },
   "file_extension": ".py",
   "mimetype": "text/x-python",
   "name": "python",
   "nbconvert_exporter": "python",
   "pygments_lexer": "ipython3",
   "version": "3.5.4"
  }
 },
 "nbformat": 4,
 "nbformat_minor": 2
}
