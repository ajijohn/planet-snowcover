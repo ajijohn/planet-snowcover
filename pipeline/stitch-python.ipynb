{
 "cells": [
  {
   "cell_type": "code",
   "execution_count": 1,
   "metadata": {},
   "outputs": [
    {
     "name": "stderr",
     "output_type": "stream",
     "text": [
      "/home/ubuntu/anaconda3/envs/pytorch_p36/lib/python3.6/site-packages/matplotlib/__init__.py:1067: UserWarning: Duplicate key in file \"/home/ubuntu/.config/matplotlib/matplotlibrc\", line #2\n",
      "  (fname, cnt))\n",
      "/home/ubuntu/anaconda3/envs/pytorch_p36/lib/python3.6/site-packages/matplotlib/__init__.py:1067: UserWarning: Duplicate key in file \"/home/ubuntu/.config/matplotlib/matplotlibrc\", line #3\n",
      "  (fname, cnt))\n"
     ]
    }
   ],
   "source": [
    "import os\n",
    "from glob import glob\n",
    "import pandas as pd \n",
    "import matplotlib.pyplot as plt\n",
    "\n",
    "resultRoot = \"/home/ubuntu/veg-co-validate/\""
   ]
  },
  {
   "cell_type": "code",
   "execution_count": 2,
   "metadata": {},
   "outputs": [],
   "source": [
    "results = glob(os.path.join(resultRoot, \"*/*/*_merged.tif\"))"
   ]
  },
  {
   "cell_type": "code",
   "execution_count": null,
   "metadata": {},
   "outputs": [],
   "source": [
    "#/home/ubuntu/veg-co-validate/planet-snowcover-analysis:planet-snowcover-2020-03-01-13-37-37-330:planet-snowcover-imagery-veg:20180524_172329_0f51_3B_AnalyticMS_SR_clip/data-mask.geojson"
   ]
  },
  {
   "cell_type": "code",
   "execution_count": 3,
   "metadata": {},
   "outputs": [
    {
     "data": {
      "text/plain": [
       "['/home/ubuntu/veg-co-validate/planet-snowcover-analysis:planet-snowcover-2020-03-01-13-37-37-330:planet-snowcover-imagery-veg:20180524_172329_0f51_3B_AnalyticMS_SR_clip/preds/20180524_172329_0f51_3B_AnalyticMS_SR_clip_merged.tif',\n",
       " '/home/ubuntu/veg-co-validate/planet-snowcover-analysis:planet-snowcover-2020-03-01-13-37-37-330:planet-snowcover-imagery-veg:20180524_172329_0f51_3B_AnalyticMS_SR_clip/mask/ASO_3M_SD_USCOGE_20180524_binary_merged.tif',\n",
       " '/home/ubuntu/veg-co-validate/planet-snowcover-analysis:planet-snowcover-2020-03-01-13-37-37-330:planet-snowcover-imagery-veg:20180524_172147_103d_3B_AnalyticMS_SR_clip/preds/20180524_172147_103d_3B_AnalyticMS_SR_clip_merged.tif',\n",
       " '/home/ubuntu/veg-co-validate/planet-snowcover-analysis:planet-snowcover-2020-03-01-13-37-37-330:planet-snowcover-imagery-veg:20180524_172147_103d_3B_AnalyticMS_SR_clip/mask/ASO_3M_SD_USCOGE_20180524_binary_merged.tif',\n",
       " '/home/ubuntu/veg-co-validate/planet-snowcover-analysis:planet-snowcover-2020-03-01-13-37-37-330:planet-snowcover-imagery-veg:20180524_172326_0f51_3B_AnalyticMS_SR_clip/preds/20180524_172326_0f51_3B_AnalyticMS_SR_clip_merged.tif',\n",
       " '/home/ubuntu/veg-co-validate/planet-snowcover-analysis:planet-snowcover-2020-03-01-13-37-37-330:planet-snowcover-imagery-veg:20180524_172326_0f51_3B_AnalyticMS_SR_clip/mask/ASO_3M_SD_USCOGE_20180524_binary_merged.tif',\n",
       " '/home/ubuntu/veg-co-validate/planet-snowcover-analysis:planet-snowcover-2020-03-01-13-37-37-330:planet-snowcover-imagery-veg:20180524_172327_0f51_3B_AnalyticMS_SR_clip/preds/20180524_172327_0f51_3B_AnalyticMS_SR_clip_merged.tif',\n",
       " '/home/ubuntu/veg-co-validate/planet-snowcover-analysis:planet-snowcover-2020-03-01-13-37-37-330:planet-snowcover-imagery-veg:20180524_172327_0f51_3B_AnalyticMS_SR_clip/mask/ASO_3M_SD_USCOGE_20180524_binary_merged.tif',\n",
       " '/home/ubuntu/veg-co-validate/planet-snowcover-analysis:planet-snowcover-2020-03-01-13-37-37-330:planet-snowcover-imagery-veg:20180524_172332_0f51_3B_AnalyticMS_SR_clip/preds/20180524_172332_0f51_3B_AnalyticMS_SR_clip_merged.tif',\n",
       " '/home/ubuntu/veg-co-validate/planet-snowcover-analysis:planet-snowcover-2020-03-01-13-37-37-330:planet-snowcover-imagery-veg:20180524_172332_0f51_3B_AnalyticMS_SR_clip/mask/ASO_3M_SD_USCOGE_20180524_binary_merged.tif',\n",
       " '/home/ubuntu/veg-co-validate/planet-snowcover-analysis:planet-snowcover-2020-03-01-13-37-37-330:planet-snowcover-imagery-veg:20180524_172148_103d_3B_AnalyticMS_SR_clip/preds/20180524_172148_103d_3B_AnalyticMS_SR_clip_merged.tif',\n",
       " '/home/ubuntu/veg-co-validate/planet-snowcover-analysis:planet-snowcover-2020-03-01-13-37-37-330:planet-snowcover-imagery-veg:20180524_172148_103d_3B_AnalyticMS_SR_clip/mask/ASO_3M_SD_USCOGE_20180524_binary_merged.tif',\n",
       " '/home/ubuntu/veg-co-validate/planet-snowcover-analysis:planet-snowcover-2020-03-01-13-37-37-330:planet-snowcover-imagery-veg:20180524_172144_103d_3B_AnalyticMS_SR_clip/preds/20180524_172144_103d_3B_AnalyticMS_SR_clip_merged.tif',\n",
       " '/home/ubuntu/veg-co-validate/planet-snowcover-analysis:planet-snowcover-2020-03-01-13-37-37-330:planet-snowcover-imagery-veg:20180524_172144_103d_3B_AnalyticMS_SR_clip/mask/ASO_3M_SD_USCOGE_20180524_binary_merged.tif',\n",
       " '/home/ubuntu/veg-co-validate/planet-snowcover-analysis:planet-snowcover-2020-03-01-13-37-37-330:planet-snowcover-imagery-veg:20180524_172632_0f2d_3B_AnalyticMS_SR_clip/preds/20180524_172632_0f2d_3B_AnalyticMS_SR_clip_merged.tif',\n",
       " '/home/ubuntu/veg-co-validate/planet-snowcover-analysis:planet-snowcover-2020-03-01-13-37-37-330:planet-snowcover-imagery-veg:20180524_172632_0f2d_3B_AnalyticMS_SR_clip/mask/ASO_3M_SD_USCOGE_20180524_binary_merged.tif',\n",
       " '/home/ubuntu/veg-co-validate/planet-snowcover-analysis:planet-snowcover-2020-03-01-13-37-37-330:planet-snowcover-imagery-veg:20180524_172331_0f51_3B_AnalyticMS_SR_clip/preds/20180524_172331_0f51_3B_AnalyticMS_SR_clip_merged.tif',\n",
       " '/home/ubuntu/veg-co-validate/planet-snowcover-analysis:planet-snowcover-2020-03-01-13-37-37-330:planet-snowcover-imagery-veg:20180524_172331_0f51_3B_AnalyticMS_SR_clip/mask/ASO_3M_SD_USCOGE_20180524_binary_merged.tif',\n",
       " '/home/ubuntu/veg-co-validate/planet-snowcover-analysis:planet-snowcover-2020-03-01-13-37-37-330:planet-snowcover-imagery-veg:20180524_172333_0f51_3B_AnalyticMS_SR_clip/preds/20180524_172333_0f51_3B_AnalyticMS_SR_clip_merged.tif',\n",
       " '/home/ubuntu/veg-co-validate/planet-snowcover-analysis:planet-snowcover-2020-03-01-13-37-37-330:planet-snowcover-imagery-veg:20180524_172333_0f51_3B_AnalyticMS_SR_clip/mask/ASO_3M_SD_USCOGE_20180524_binary_merged.tif',\n",
       " '/home/ubuntu/veg-co-validate/planet-snowcover-analysis:planet-snowcover-2020-03-01-13-37-37-330:planet-snowcover-imagery-veg:20180524_172145_103d_3B_AnalyticMS_SR_clip/preds/20180524_172145_103d_3B_AnalyticMS_SR_clip_merged.tif',\n",
       " '/home/ubuntu/veg-co-validate/planet-snowcover-analysis:planet-snowcover-2020-03-01-13-37-37-330:planet-snowcover-imagery-veg:20180524_172145_103d_3B_AnalyticMS_SR_clip/mask/ASO_3M_SD_USCOGE_20180524_binary_merged.tif',\n",
       " '/home/ubuntu/veg-co-validate/planet-snowcover-analysis:planet-snowcover-2020-03-01-13-37-37-330:planet-snowcover-imagery-veg:20180524_172143_103d_3B_AnalyticMS_SR_clip/preds/20180524_172143_103d_3B_AnalyticMS_SR_clip_merged.tif',\n",
       " '/home/ubuntu/veg-co-validate/planet-snowcover-analysis:planet-snowcover-2020-03-01-13-37-37-330:planet-snowcover-imagery-veg:20180524_172143_103d_3B_AnalyticMS_SR_clip/mask/ASO_3M_SD_USCOGE_20180524_binary_merged.tif',\n",
       " '/home/ubuntu/veg-co-validate/planet-snowcover-analysis:planet-snowcover-2020-03-01-13-37-37-330:planet-snowcover-imagery-veg:20180524_172146_103d_3B_AnalyticMS_SR_clip/preds/20180524_172146_103d_3B_AnalyticMS_SR_clip_merged.tif',\n",
       " '/home/ubuntu/veg-co-validate/planet-snowcover-analysis:planet-snowcover-2020-03-01-13-37-37-330:planet-snowcover-imagery-veg:20180524_172146_103d_3B_AnalyticMS_SR_clip/mask/ASO_3M_SD_USCOGE_20180524_binary_merged.tif',\n",
       " '/home/ubuntu/veg-co-validate/planet-snowcover-analysis:planet-snowcover-2020-03-01-13-37-37-330:planet-snowcover-imagery-veg:20180524_172634_0f2d_3B_AnalyticMS_SR_clip/preds/20180524_172634_0f2d_3B_AnalyticMS_SR_clip_merged.tif',\n",
       " '/home/ubuntu/veg-co-validate/planet-snowcover-analysis:planet-snowcover-2020-03-01-13-37-37-330:planet-snowcover-imagery-veg:20180524_172634_0f2d_3B_AnalyticMS_SR_clip/mask/ASO_3M_SD_USCOGE_20180524_binary_merged.tif',\n",
       " '/home/ubuntu/veg-co-validate/planet-snowcover-analysis:planet-snowcover-2020-03-01-13-37-37-330:planet-snowcover-imagery-veg:20180524_172330_0f51_3B_AnalyticMS_SR_clip/preds/20180524_172330_0f51_3B_AnalyticMS_SR_clip_merged.tif',\n",
       " '/home/ubuntu/veg-co-validate/planet-snowcover-analysis:planet-snowcover-2020-03-01-13-37-37-330:planet-snowcover-imagery-veg:20180524_172330_0f51_3B_AnalyticMS_SR_clip/mask/ASO_3M_SD_USCOGE_20180524_binary_merged.tif',\n",
       " '/home/ubuntu/veg-co-validate/planet-snowcover-analysis:planet-snowcover-2020-03-01-13-37-37-330:planet-snowcover-imagery-veg:20180524_172633_0f2d_3B_AnalyticMS_SR_clip/preds/20180524_172633_0f2d_3B_AnalyticMS_SR_clip_merged.tif',\n",
       " '/home/ubuntu/veg-co-validate/planet-snowcover-analysis:planet-snowcover-2020-03-01-13-37-37-330:planet-snowcover-imagery-veg:20180524_172633_0f2d_3B_AnalyticMS_SR_clip/mask/ASO_3M_SD_USCOGE_20180524_binary_merged.tif',\n",
       " '/home/ubuntu/veg-co-validate/planet-snowcover-analysis:planet-snowcover-2020-03-01-13-37-37-330:planet-snowcover-imagery-veg:20180524_172635_0f2d_3B_AnalyticMS_SR_clip/preds/20180524_172635_0f2d_3B_AnalyticMS_SR_clip_merged.tif',\n",
       " '/home/ubuntu/veg-co-validate/planet-snowcover-analysis:planet-snowcover-2020-03-01-13-37-37-330:planet-snowcover-imagery-veg:20180524_172635_0f2d_3B_AnalyticMS_SR_clip/mask/ASO_3M_SD_USCOGE_20180524_binary_merged.tif',\n",
       " '/home/ubuntu/veg-co-validate/planet-snowcover-analysis:planet-snowcover-2020-03-01-13-37-37-330:planet-snowcover-imagery-veg:20180524_172637_0f2d_3B_AnalyticMS_SR_clip/preds/20180524_172637_0f2d_3B_AnalyticMS_SR_clip_merged.tif',\n",
       " '/home/ubuntu/veg-co-validate/planet-snowcover-analysis:planet-snowcover-2020-03-01-13-37-37-330:planet-snowcover-imagery-veg:20180524_172637_0f2d_3B_AnalyticMS_SR_clip/mask/ASO_3M_SD_USCOGE_20180524_binary_merged.tif',\n",
       " '/home/ubuntu/veg-co-validate/planet-snowcover-analysis:planet-snowcover-2020-03-01-13-37-37-330:planet-snowcover-imagery-veg:20180524_172142_103d_3B_AnalyticMS_SR_clip/preds/20180524_172142_103d_3B_AnalyticMS_SR_clip_merged.tif',\n",
       " '/home/ubuntu/veg-co-validate/planet-snowcover-analysis:planet-snowcover-2020-03-01-13-37-37-330:planet-snowcover-imagery-veg:20180524_172142_103d_3B_AnalyticMS_SR_clip/mask/ASO_3M_SD_USCOGE_20180524_binary_merged.tif']"
      ]
     },
     "execution_count": 3,
     "metadata": {},
     "output_type": "execute_result"
    }
   ],
   "source": [
    "results"
   ]
  },
  {
   "cell_type": "code",
   "execution_count": 8,
   "metadata": {},
   "outputs": [],
   "source": [
    "# separate into ASOs\n",
    "\n",
    "asoS =  glob(os.path.join(resultRoot, \"*/*/ASO_*_merged.tif\"))\n",
    "#separate into Preds\n",
    "predS = glob(os.path.join(resultRoot, \"*/*/20180524_*_merged.tif\"))"
   ]
  },
  {
   "cell_type": "code",
   "execution_count": 9,
   "metadata": {},
   "outputs": [
    {
     "data": {
      "text/plain": [
       "['/home/ubuntu/veg-co-validate/planet-snowcover-analysis:planet-snowcover-2020-03-01-13-37-37-330:planet-snowcover-imagery-veg:20180524_172329_0f51_3B_AnalyticMS_SR_clip/preds/20180524_172329_0f51_3B_AnalyticMS_SR_clip_merged.tif',\n",
       " '/home/ubuntu/veg-co-validate/planet-snowcover-analysis:planet-snowcover-2020-03-01-13-37-37-330:planet-snowcover-imagery-veg:20180524_172147_103d_3B_AnalyticMS_SR_clip/preds/20180524_172147_103d_3B_AnalyticMS_SR_clip_merged.tif',\n",
       " '/home/ubuntu/veg-co-validate/planet-snowcover-analysis:planet-snowcover-2020-03-01-13-37-37-330:planet-snowcover-imagery-veg:20180524_172326_0f51_3B_AnalyticMS_SR_clip/preds/20180524_172326_0f51_3B_AnalyticMS_SR_clip_merged.tif',\n",
       " '/home/ubuntu/veg-co-validate/planet-snowcover-analysis:planet-snowcover-2020-03-01-13-37-37-330:planet-snowcover-imagery-veg:20180524_172327_0f51_3B_AnalyticMS_SR_clip/preds/20180524_172327_0f51_3B_AnalyticMS_SR_clip_merged.tif',\n",
       " '/home/ubuntu/veg-co-validate/planet-snowcover-analysis:planet-snowcover-2020-03-01-13-37-37-330:planet-snowcover-imagery-veg:20180524_172332_0f51_3B_AnalyticMS_SR_clip/preds/20180524_172332_0f51_3B_AnalyticMS_SR_clip_merged.tif',\n",
       " '/home/ubuntu/veg-co-validate/planet-snowcover-analysis:planet-snowcover-2020-03-01-13-37-37-330:planet-snowcover-imagery-veg:20180524_172148_103d_3B_AnalyticMS_SR_clip/preds/20180524_172148_103d_3B_AnalyticMS_SR_clip_merged.tif',\n",
       " '/home/ubuntu/veg-co-validate/planet-snowcover-analysis:planet-snowcover-2020-03-01-13-37-37-330:planet-snowcover-imagery-veg:20180524_172144_103d_3B_AnalyticMS_SR_clip/preds/20180524_172144_103d_3B_AnalyticMS_SR_clip_merged.tif',\n",
       " '/home/ubuntu/veg-co-validate/planet-snowcover-analysis:planet-snowcover-2020-03-01-13-37-37-330:planet-snowcover-imagery-veg:20180524_172632_0f2d_3B_AnalyticMS_SR_clip/preds/20180524_172632_0f2d_3B_AnalyticMS_SR_clip_merged.tif',\n",
       " '/home/ubuntu/veg-co-validate/planet-snowcover-analysis:planet-snowcover-2020-03-01-13-37-37-330:planet-snowcover-imagery-veg:20180524_172331_0f51_3B_AnalyticMS_SR_clip/preds/20180524_172331_0f51_3B_AnalyticMS_SR_clip_merged.tif',\n",
       " '/home/ubuntu/veg-co-validate/planet-snowcover-analysis:planet-snowcover-2020-03-01-13-37-37-330:planet-snowcover-imagery-veg:20180524_172333_0f51_3B_AnalyticMS_SR_clip/preds/20180524_172333_0f51_3B_AnalyticMS_SR_clip_merged.tif',\n",
       " '/home/ubuntu/veg-co-validate/planet-snowcover-analysis:planet-snowcover-2020-03-01-13-37-37-330:planet-snowcover-imagery-veg:20180524_172145_103d_3B_AnalyticMS_SR_clip/preds/20180524_172145_103d_3B_AnalyticMS_SR_clip_merged.tif',\n",
       " '/home/ubuntu/veg-co-validate/planet-snowcover-analysis:planet-snowcover-2020-03-01-13-37-37-330:planet-snowcover-imagery-veg:20180524_172143_103d_3B_AnalyticMS_SR_clip/preds/20180524_172143_103d_3B_AnalyticMS_SR_clip_merged.tif',\n",
       " '/home/ubuntu/veg-co-validate/planet-snowcover-analysis:planet-snowcover-2020-03-01-13-37-37-330:planet-snowcover-imagery-veg:20180524_172146_103d_3B_AnalyticMS_SR_clip/preds/20180524_172146_103d_3B_AnalyticMS_SR_clip_merged.tif',\n",
       " '/home/ubuntu/veg-co-validate/planet-snowcover-analysis:planet-snowcover-2020-03-01-13-37-37-330:planet-snowcover-imagery-veg:20180524_172634_0f2d_3B_AnalyticMS_SR_clip/preds/20180524_172634_0f2d_3B_AnalyticMS_SR_clip_merged.tif',\n",
       " '/home/ubuntu/veg-co-validate/planet-snowcover-analysis:planet-snowcover-2020-03-01-13-37-37-330:planet-snowcover-imagery-veg:20180524_172330_0f51_3B_AnalyticMS_SR_clip/preds/20180524_172330_0f51_3B_AnalyticMS_SR_clip_merged.tif',\n",
       " '/home/ubuntu/veg-co-validate/planet-snowcover-analysis:planet-snowcover-2020-03-01-13-37-37-330:planet-snowcover-imagery-veg:20180524_172633_0f2d_3B_AnalyticMS_SR_clip/preds/20180524_172633_0f2d_3B_AnalyticMS_SR_clip_merged.tif',\n",
       " '/home/ubuntu/veg-co-validate/planet-snowcover-analysis:planet-snowcover-2020-03-01-13-37-37-330:planet-snowcover-imagery-veg:20180524_172635_0f2d_3B_AnalyticMS_SR_clip/preds/20180524_172635_0f2d_3B_AnalyticMS_SR_clip_merged.tif',\n",
       " '/home/ubuntu/veg-co-validate/planet-snowcover-analysis:planet-snowcover-2020-03-01-13-37-37-330:planet-snowcover-imagery-veg:20180524_172637_0f2d_3B_AnalyticMS_SR_clip/preds/20180524_172637_0f2d_3B_AnalyticMS_SR_clip_merged.tif',\n",
       " '/home/ubuntu/veg-co-validate/planet-snowcover-analysis:planet-snowcover-2020-03-01-13-37-37-330:planet-snowcover-imagery-veg:20180524_172142_103d_3B_AnalyticMS_SR_clip/preds/20180524_172142_103d_3B_AnalyticMS_SR_clip_merged.tif']"
      ]
     },
     "execution_count": 9,
     "metadata": {},
     "output_type": "execute_result"
    }
   ],
   "source": [
    "predS"
   ]
  },
  {
   "cell_type": "code",
   "execution_count": 10,
   "metadata": {},
   "outputs": [
    {
     "data": {
      "text/plain": [
       "[<open DatasetReader name='/home/ubuntu/veg-co-validate/planet-snowcover-analysis:planet-snowcover-2020-03-01-13-37-37-330:planet-snowcover-imagery-veg:20180524_172329_0f51_3B_AnalyticMS_SR_clip/preds/20180524_172329_0f51_3B_AnalyticMS_SR_clip_merged.tif' mode='r'>,\n",
       " <open DatasetReader name='/home/ubuntu/veg-co-validate/planet-snowcover-analysis:planet-snowcover-2020-03-01-13-37-37-330:planet-snowcover-imagery-veg:20180524_172147_103d_3B_AnalyticMS_SR_clip/preds/20180524_172147_103d_3B_AnalyticMS_SR_clip_merged.tif' mode='r'>,\n",
       " <open DatasetReader name='/home/ubuntu/veg-co-validate/planet-snowcover-analysis:planet-snowcover-2020-03-01-13-37-37-330:planet-snowcover-imagery-veg:20180524_172326_0f51_3B_AnalyticMS_SR_clip/preds/20180524_172326_0f51_3B_AnalyticMS_SR_clip_merged.tif' mode='r'>,\n",
       " <open DatasetReader name='/home/ubuntu/veg-co-validate/planet-snowcover-analysis:planet-snowcover-2020-03-01-13-37-37-330:planet-snowcover-imagery-veg:20180524_172327_0f51_3B_AnalyticMS_SR_clip/preds/20180524_172327_0f51_3B_AnalyticMS_SR_clip_merged.tif' mode='r'>,\n",
       " <open DatasetReader name='/home/ubuntu/veg-co-validate/planet-snowcover-analysis:planet-snowcover-2020-03-01-13-37-37-330:planet-snowcover-imagery-veg:20180524_172332_0f51_3B_AnalyticMS_SR_clip/preds/20180524_172332_0f51_3B_AnalyticMS_SR_clip_merged.tif' mode='r'>,\n",
       " <open DatasetReader name='/home/ubuntu/veg-co-validate/planet-snowcover-analysis:planet-snowcover-2020-03-01-13-37-37-330:planet-snowcover-imagery-veg:20180524_172148_103d_3B_AnalyticMS_SR_clip/preds/20180524_172148_103d_3B_AnalyticMS_SR_clip_merged.tif' mode='r'>,\n",
       " <open DatasetReader name='/home/ubuntu/veg-co-validate/planet-snowcover-analysis:planet-snowcover-2020-03-01-13-37-37-330:planet-snowcover-imagery-veg:20180524_172144_103d_3B_AnalyticMS_SR_clip/preds/20180524_172144_103d_3B_AnalyticMS_SR_clip_merged.tif' mode='r'>,\n",
       " <open DatasetReader name='/home/ubuntu/veg-co-validate/planet-snowcover-analysis:planet-snowcover-2020-03-01-13-37-37-330:planet-snowcover-imagery-veg:20180524_172632_0f2d_3B_AnalyticMS_SR_clip/preds/20180524_172632_0f2d_3B_AnalyticMS_SR_clip_merged.tif' mode='r'>,\n",
       " <open DatasetReader name='/home/ubuntu/veg-co-validate/planet-snowcover-analysis:planet-snowcover-2020-03-01-13-37-37-330:planet-snowcover-imagery-veg:20180524_172331_0f51_3B_AnalyticMS_SR_clip/preds/20180524_172331_0f51_3B_AnalyticMS_SR_clip_merged.tif' mode='r'>,\n",
       " <open DatasetReader name='/home/ubuntu/veg-co-validate/planet-snowcover-analysis:planet-snowcover-2020-03-01-13-37-37-330:planet-snowcover-imagery-veg:20180524_172333_0f51_3B_AnalyticMS_SR_clip/preds/20180524_172333_0f51_3B_AnalyticMS_SR_clip_merged.tif' mode='r'>,\n",
       " <open DatasetReader name='/home/ubuntu/veg-co-validate/planet-snowcover-analysis:planet-snowcover-2020-03-01-13-37-37-330:planet-snowcover-imagery-veg:20180524_172145_103d_3B_AnalyticMS_SR_clip/preds/20180524_172145_103d_3B_AnalyticMS_SR_clip_merged.tif' mode='r'>,\n",
       " <open DatasetReader name='/home/ubuntu/veg-co-validate/planet-snowcover-analysis:planet-snowcover-2020-03-01-13-37-37-330:planet-snowcover-imagery-veg:20180524_172143_103d_3B_AnalyticMS_SR_clip/preds/20180524_172143_103d_3B_AnalyticMS_SR_clip_merged.tif' mode='r'>,\n",
       " <open DatasetReader name='/home/ubuntu/veg-co-validate/planet-snowcover-analysis:planet-snowcover-2020-03-01-13-37-37-330:planet-snowcover-imagery-veg:20180524_172146_103d_3B_AnalyticMS_SR_clip/preds/20180524_172146_103d_3B_AnalyticMS_SR_clip_merged.tif' mode='r'>,\n",
       " <open DatasetReader name='/home/ubuntu/veg-co-validate/planet-snowcover-analysis:planet-snowcover-2020-03-01-13-37-37-330:planet-snowcover-imagery-veg:20180524_172634_0f2d_3B_AnalyticMS_SR_clip/preds/20180524_172634_0f2d_3B_AnalyticMS_SR_clip_merged.tif' mode='r'>,\n",
       " <open DatasetReader name='/home/ubuntu/veg-co-validate/planet-snowcover-analysis:planet-snowcover-2020-03-01-13-37-37-330:planet-snowcover-imagery-veg:20180524_172330_0f51_3B_AnalyticMS_SR_clip/preds/20180524_172330_0f51_3B_AnalyticMS_SR_clip_merged.tif' mode='r'>,\n",
       " <open DatasetReader name='/home/ubuntu/veg-co-validate/planet-snowcover-analysis:planet-snowcover-2020-03-01-13-37-37-330:planet-snowcover-imagery-veg:20180524_172633_0f2d_3B_AnalyticMS_SR_clip/preds/20180524_172633_0f2d_3B_AnalyticMS_SR_clip_merged.tif' mode='r'>,\n",
       " <open DatasetReader name='/home/ubuntu/veg-co-validate/planet-snowcover-analysis:planet-snowcover-2020-03-01-13-37-37-330:planet-snowcover-imagery-veg:20180524_172635_0f2d_3B_AnalyticMS_SR_clip/preds/20180524_172635_0f2d_3B_AnalyticMS_SR_clip_merged.tif' mode='r'>,\n",
       " <open DatasetReader name='/home/ubuntu/veg-co-validate/planet-snowcover-analysis:planet-snowcover-2020-03-01-13-37-37-330:planet-snowcover-imagery-veg:20180524_172637_0f2d_3B_AnalyticMS_SR_clip/preds/20180524_172637_0f2d_3B_AnalyticMS_SR_clip_merged.tif' mode='r'>,\n",
       " <open DatasetReader name='/home/ubuntu/veg-co-validate/planet-snowcover-analysis:planet-snowcover-2020-03-01-13-37-37-330:planet-snowcover-imagery-veg:20180524_172142_103d_3B_AnalyticMS_SR_clip/preds/20180524_172142_103d_3B_AnalyticMS_SR_clip_merged.tif' mode='r'>]"
      ]
     },
     "execution_count": 10,
     "metadata": {},
     "output_type": "execute_result"
    }
   ],
   "source": [
    "# List for the source files\n",
    "src_files_to_mosaic = []\n",
    "\n",
    "# Iterate over raster files and add them to source -list in 'read mode'\n",
    "for fp in predS:\n",
    "    src = rasterio.open(fp)\n",
    "    src_files_to_mosaic.append(src)\n",
    "\n",
    "src_files_to_mosaic\n"
   ]
  },
  {
   "cell_type": "code",
   "execution_count": 12,
   "metadata": {},
   "outputs": [
    {
     "data": {
      "image/png": "[encoded data removed]",
      "text/plain": [
       "<Figure size 864x288 with 4 Axes>"
      ]
     },
     "metadata": {},
     "output_type": "display_data"
    }
   ],
   "source": [
    "\n",
    "import rasterio\n",
    "from rasterio.merge import merge\n",
    "from rasterio.plot import show\n",
    "import glob\n",
    "import os\n",
    "%matplotlib inline\n",
    "import matplotlib.pyplot as plt\n",
    "%matplotlib inline\n",
    "\n",
    "# Create 4 plots next to each other\n",
    "fig, (ax1, ax2, ax3, ax4) = plt.subplots(ncols=4, nrows=1, figsize=(12, 4))\n",
    "\n",
    "# Plot first four files\n",
    "show(src_files_to_mosaic[0], ax=ax1)\n",
    "show(src_files_to_mosaic[1], ax=ax2)\n",
    "show(src_files_to_mosaic[2], ax=ax3)\n",
    "show(src_files_to_mosaic[3], ax=ax4)\n",
    "\n",
    "# Do not show y-ticks values in last three axis\n",
    "for ax in [ax2, ax3, ax4]:\n",
    "    ax.yaxis.set_visible(False)"
   ]
  },
  {
   "cell_type": "code",
   "execution_count": 14,
   "metadata": {},
   "outputs": [
    {
     "data": {
      "image/png": "[encoded data removed]",
      "text/plain": [
       "<Figure size 432x288 with 1 Axes>"
      ]
     },
     "metadata": {},
     "output_type": "display_data"
    },
    {
     "data": {
      "text/plain": [
       "<matplotlib.axes._subplots.AxesSubplot at 0x7fa76e393668>"
      ]
     },
     "execution_count": 14,
     "metadata": {},
     "output_type": "execute_result"
    }
   ],
   "source": [
    "# Merge function returns a single mosaic array and the transformation info\n",
    "mosaic, out_trans = merge(src_files_to_mosaic)\n",
    "\n",
    "# Plot the result\n",
    "show(mosaic)"
   ]
  },
  {
   "cell_type": "code",
   "execution_count": 15,
   "metadata": {},
   "outputs": [
    {
     "data": {
      "text/plain": [
       "[<open DatasetReader name='/home/ubuntu/veg-co-validate/planet-snowcover-analysis:planet-snowcover-2020-03-01-13-37-37-330:planet-snowcover-imagery-veg:20180524_172329_0f51_3B_AnalyticMS_SR_clip/mask/ASO_3M_SD_USCOGE_20180524_binary_merged.tif' mode='r'>,\n",
       " <open DatasetReader name='/home/ubuntu/veg-co-validate/planet-snowcover-analysis:planet-snowcover-2020-03-01-13-37-37-330:planet-snowcover-imagery-veg:20180524_172147_103d_3B_AnalyticMS_SR_clip/mask/ASO_3M_SD_USCOGE_20180524_binary_merged.tif' mode='r'>,\n",
       " <open DatasetReader name='/home/ubuntu/veg-co-validate/planet-snowcover-analysis:planet-snowcover-2020-03-01-13-37-37-330:planet-snowcover-imagery-veg:20180524_172326_0f51_3B_AnalyticMS_SR_clip/mask/ASO_3M_SD_USCOGE_20180524_binary_merged.tif' mode='r'>,\n",
       " <open DatasetReader name='/home/ubuntu/veg-co-validate/planet-snowcover-analysis:planet-snowcover-2020-03-01-13-37-37-330:planet-snowcover-imagery-veg:20180524_172327_0f51_3B_AnalyticMS_SR_clip/mask/ASO_3M_SD_USCOGE_20180524_binary_merged.tif' mode='r'>,\n",
       " <open DatasetReader name='/home/ubuntu/veg-co-validate/planet-snowcover-analysis:planet-snowcover-2020-03-01-13-37-37-330:planet-snowcover-imagery-veg:20180524_172332_0f51_3B_AnalyticMS_SR_clip/mask/ASO_3M_SD_USCOGE_20180524_binary_merged.tif' mode='r'>,\n",
       " <open DatasetReader name='/home/ubuntu/veg-co-validate/planet-snowcover-analysis:planet-snowcover-2020-03-01-13-37-37-330:planet-snowcover-imagery-veg:20180524_172148_103d_3B_AnalyticMS_SR_clip/mask/ASO_3M_SD_USCOGE_20180524_binary_merged.tif' mode='r'>,\n",
       " <open DatasetReader name='/home/ubuntu/veg-co-validate/planet-snowcover-analysis:planet-snowcover-2020-03-01-13-37-37-330:planet-snowcover-imagery-veg:20180524_172144_103d_3B_AnalyticMS_SR_clip/mask/ASO_3M_SD_USCOGE_20180524_binary_merged.tif' mode='r'>,\n",
       " <open DatasetReader name='/home/ubuntu/veg-co-validate/planet-snowcover-analysis:planet-snowcover-2020-03-01-13-37-37-330:planet-snowcover-imagery-veg:20180524_172632_0f2d_3B_AnalyticMS_SR_clip/mask/ASO_3M_SD_USCOGE_20180524_binary_merged.tif' mode='r'>,\n",
       " <open DatasetReader name='/home/ubuntu/veg-co-validate/planet-snowcover-analysis:planet-snowcover-2020-03-01-13-37-37-330:planet-snowcover-imagery-veg:20180524_172331_0f51_3B_AnalyticMS_SR_clip/mask/ASO_3M_SD_USCOGE_20180524_binary_merged.tif' mode='r'>,\n",
       " <open DatasetReader name='/home/ubuntu/veg-co-validate/planet-snowcover-analysis:planet-snowcover-2020-03-01-13-37-37-330:planet-snowcover-imagery-veg:20180524_172333_0f51_3B_AnalyticMS_SR_clip/mask/ASO_3M_SD_USCOGE_20180524_binary_merged.tif' mode='r'>,\n",
       " <open DatasetReader name='/home/ubuntu/veg-co-validate/planet-snowcover-analysis:planet-snowcover-2020-03-01-13-37-37-330:planet-snowcover-imagery-veg:20180524_172145_103d_3B_AnalyticMS_SR_clip/mask/ASO_3M_SD_USCOGE_20180524_binary_merged.tif' mode='r'>,\n",
       " <open DatasetReader name='/home/ubuntu/veg-co-validate/planet-snowcover-analysis:planet-snowcover-2020-03-01-13-37-37-330:planet-snowcover-imagery-veg:20180524_172143_103d_3B_AnalyticMS_SR_clip/mask/ASO_3M_SD_USCOGE_20180524_binary_merged.tif' mode='r'>,\n",
       " <open DatasetReader name='/home/ubuntu/veg-co-validate/planet-snowcover-analysis:planet-snowcover-2020-03-01-13-37-37-330:planet-snowcover-imagery-veg:20180524_172146_103d_3B_AnalyticMS_SR_clip/mask/ASO_3M_SD_USCOGE_20180524_binary_merged.tif' mode='r'>,\n",
       " <open DatasetReader name='/home/ubuntu/veg-co-validate/planet-snowcover-analysis:planet-snowcover-2020-03-01-13-37-37-330:planet-snowcover-imagery-veg:20180524_172634_0f2d_3B_AnalyticMS_SR_clip/mask/ASO_3M_SD_USCOGE_20180524_binary_merged.tif' mode='r'>,\n",
       " <open DatasetReader name='/home/ubuntu/veg-co-validate/planet-snowcover-analysis:planet-snowcover-2020-03-01-13-37-37-330:planet-snowcover-imagery-veg:20180524_172330_0f51_3B_AnalyticMS_SR_clip/mask/ASO_3M_SD_USCOGE_20180524_binary_merged.tif' mode='r'>,\n",
       " <open DatasetReader name='/home/ubuntu/veg-co-validate/planet-snowcover-analysis:planet-snowcover-2020-03-01-13-37-37-330:planet-snowcover-imagery-veg:20180524_172633_0f2d_3B_AnalyticMS_SR_clip/mask/ASO_3M_SD_USCOGE_20180524_binary_merged.tif' mode='r'>,\n",
       " <open DatasetReader name='/home/ubuntu/veg-co-validate/planet-snowcover-analysis:planet-snowcover-2020-03-01-13-37-37-330:planet-snowcover-imagery-veg:20180524_172635_0f2d_3B_AnalyticMS_SR_clip/mask/ASO_3M_SD_USCOGE_20180524_binary_merged.tif' mode='r'>,\n",
       " <open DatasetReader name='/home/ubuntu/veg-co-validate/planet-snowcover-analysis:planet-snowcover-2020-03-01-13-37-37-330:planet-snowcover-imagery-veg:20180524_172637_0f2d_3B_AnalyticMS_SR_clip/mask/ASO_3M_SD_USCOGE_20180524_binary_merged.tif' mode='r'>,\n",
       " <open DatasetReader name='/home/ubuntu/veg-co-validate/planet-snowcover-analysis:planet-snowcover-2020-03-01-13-37-37-330:planet-snowcover-imagery-veg:20180524_172142_103d_3B_AnalyticMS_SR_clip/mask/ASO_3M_SD_USCOGE_20180524_binary_merged.tif' mode='r'>]"
      ]
     },
     "execution_count": 15,
     "metadata": {},
     "output_type": "execute_result"
    }
   ],
   "source": [
    "# List for the source files\n",
    "aso_files_to_mosaic = []\n",
    "\n",
    "# Iterate over raster files and add them to source -list in 'read mode'\n",
    "for fp in asoS:\n",
    "    src = rasterio.open(fp)\n",
    "    aso_files_to_mosaic.append(src)\n",
    "\n",
    "aso_files_to_mosaic\n"
   ]
  },
  {
   "cell_type": "code",
   "execution_count": 16,
   "metadata": {},
   "outputs": [
    {
     "data": {
      "image/png": "[encoded data removed]",
      "text/plain": [
       "<Figure size 864x288 with 4 Axes>"
      ]
     },
     "metadata": {},
     "output_type": "display_data"
    }
   ],
   "source": [
    "\n",
    "%matplotlib inline\n",
    "\n",
    "# Create 4 plots next to each other\n",
    "fig, (ax1, ax2, ax3, ax4) = plt.subplots(ncols=4, nrows=1, figsize=(12, 4))\n",
    "\n",
    "# Plot first four files\n",
    "show(aso_files_to_mosaic[0], ax=ax1)\n",
    "show(aso_files_to_mosaic[1], ax=ax2)\n",
    "show(aso_files_to_mosaic[2], ax=ax3)\n",
    "show(aso_files_to_mosaic[3], ax=ax4)\n",
    "\n",
    "# Do not show y-ticks values in last three axis\n",
    "for ax in [ax2, ax3, ax4]:\n",
    "    ax.yaxis.set_visible(False)"
   ]
  },
  {
   "cell_type": "code",
   "execution_count": 23,
   "metadata": {},
   "outputs": [],
   "source": [
    "from osgeo import gdal\n",
    "outvrt = 'gunnison_stacked.vrt' #/vsimem is special in-memory virtual \"directory\"\n",
    "outtif = 'gunnison_stacked.tif'\n",
    "translateoptions = gdal.TranslateOptions(gdal.ParseCommandLine(\"-of Gtiff -co COMPRESS=LZW\"))\n",
    "\n",
    "outds = gdal.BuildVRT(outvrt, asoS, separate=True)\n",
    "outds = gdal.Translate(outtif, outds, options=translateoptions)"
   ]
  },
  {
   "cell_type": "code",
   "execution_count": 19,
   "metadata": {},
   "outputs": [
    {
     "data": {
      "image/png": "[encoded data removed]",
      "text/plain": [
       "<Figure size 432x288 with 1 Axes>"
      ]
     },
     "metadata": {},
     "output_type": "display_data"
    },
    {
     "data": {
      "text/plain": [
       "<matplotlib.axes._subplots.AxesSubplot at 0x7fa78f03d278>"
      ]
     },
     "execution_count": 19,
     "metadata": {},
     "output_type": "execute_result"
    }
   ],
   "source": [
    "# Plot first four files\n",
    "show(rasterio.open(outtif))"
   ]
  },
  {
   "cell_type": "code",
   "execution_count": 22,
   "metadata": {},
   "outputs": [],
   "source": [
    "from osgeo import gdal\n",
    "predoutvrt = 'gunnison_pred_stacked.vrt' #/vsimem is special in-memory virtual \"directory\"\n",
    "predouttif = 'gunnison_pred_stacked.tif'\n",
    "predoutds = gdal.BuildVRT(predoutvrt, predS, separate=True)\n",
    "translateoptions = gdal.TranslateOptions(gdal.ParseCommandLine(\"-of Gtiff -co COMPRESS=LZW\"))\n",
    "predoutds = gdal.Translate(predouttif, predoutds, options=translateoptions)"
   ]
  },
  {
   "cell_type": "code",
   "execution_count": 133,
   "metadata": {},
   "outputs": [
    {
     "ename": "JSONDecodeError",
     "evalue": "Expecting value: line 1 column 1 (char 0)",
     "output_type": "error",
     "traceback": [
      "\u001b[0;31m---------------------------------------------------------------------------\u001b[0m",
      "\u001b[0;31mJSONDecodeError\u001b[0m                           Traceback (most recent call last)",
      "\u001b[0;32m<ipython-input-133-fa66b7f9daab>\u001b[0m in \u001b[0;36m<module>\u001b[0;34m()\u001b[0m\n\u001b[1;32m      4\u001b[0m \u001b[0mgeojson\u001b[0m\u001b[0;34m=\u001b[0m\u001b[0;34m'/home/ubuntu/veg-co-validate/planet-snowcover-analysis:planet-snowcover-2020-03-01-13-37-37-330:planet-snowcover-imagery-veg:20180524_172329_0f51_3B_AnalyticMS_SR_clip/data-mask.geojson'\u001b[0m\u001b[0;34m\u001b[0m\u001b[0;34m\u001b[0m\u001b[0m\n\u001b[1;32m      5\u001b[0m \u001b[0;34m\u001b[0m\u001b[0m\n\u001b[0;32m----> 6\u001b[0;31m \u001b[0mcut_by_geojson\u001b[0m\u001b[0;34m(\u001b[0m\u001b[0mpredouttif\u001b[0m\u001b[0;34m,\u001b[0m\u001b[0;34m'gunnison_pred_stacked_clipped.tif'\u001b[0m\u001b[0;34m,\u001b[0m\u001b[0mgeojson\u001b[0m\u001b[0;34m)\u001b[0m\u001b[0;34m\u001b[0m\u001b[0;34m\u001b[0m\u001b[0m\n\u001b[0m",
      "\u001b[0;32m<ipython-input-61-34d797bbaaec>\u001b[0m in \u001b[0;36mcut_by_geojson\u001b[0;34m(input_file, output_file, shape_geojson)\u001b[0m\n\u001b[1;32m     14\u001b[0m \u001b[0;34m\u001b[0m\u001b[0m\n\u001b[1;32m     15\u001b[0m     \u001b[0;31m# Get coords for bounding box\u001b[0m\u001b[0;34m\u001b[0m\u001b[0;34m\u001b[0m\u001b[0;34m\u001b[0m\u001b[0m\n\u001b[0;32m---> 16\u001b[0;31m     \u001b[0mx\u001b[0m\u001b[0;34m,\u001b[0m \u001b[0my\u001b[0m \u001b[0;34m=\u001b[0m \u001b[0mzip\u001b[0m\u001b[0;34m(\u001b[0m\u001b[0;34m*\u001b[0m\u001b[0mgj\u001b[0m\u001b[0;34m.\u001b[0m\u001b[0mutils\u001b[0m\u001b[0;34m.\u001b[0m\u001b[0mcoords\u001b[0m\u001b[0;34m(\u001b[0m\u001b[0mgj\u001b[0m\u001b[0;34m.\u001b[0m\u001b[0mloads\u001b[0m\u001b[0;34m(\u001b[0m\u001b[0mshape_geojson\u001b[0m\u001b[0;34m)\u001b[0m\u001b[0;34m)\u001b[0m\u001b[0;34m)\u001b[0m\u001b[0;34m\u001b[0m\u001b[0;34m\u001b[0m\u001b[0m\n\u001b[0m\u001b[1;32m     17\u001b[0m     \u001b[0mmin_x\u001b[0m\u001b[0;34m,\u001b[0m \u001b[0mmax_x\u001b[0m\u001b[0;34m,\u001b[0m \u001b[0mmin_y\u001b[0m\u001b[0;34m,\u001b[0m \u001b[0mmax_y\u001b[0m \u001b[0;34m=\u001b[0m \u001b[0mmin\u001b[0m\u001b[0;34m(\u001b[0m\u001b[0mx\u001b[0m\u001b[0;34m)\u001b[0m\u001b[0;34m,\u001b[0m \u001b[0mmax\u001b[0m\u001b[0;34m(\u001b[0m\u001b[0mx\u001b[0m\u001b[0;34m)\u001b[0m\u001b[0;34m,\u001b[0m \u001b[0mmin\u001b[0m\u001b[0;34m(\u001b[0m\u001b[0my\u001b[0m\u001b[0;34m)\u001b[0m\u001b[0;34m,\u001b[0m \u001b[0mmax\u001b[0m\u001b[0;34m(\u001b[0m\u001b[0my\u001b[0m\u001b[0;34m)\u001b[0m\u001b[0;34m\u001b[0m\u001b[0;34m\u001b[0m\u001b[0m\n\u001b[1;32m     18\u001b[0m \u001b[0;34m\u001b[0m\u001b[0m\n",
      "\u001b[0;32m~/anaconda3/envs/pytorch_p36/lib/python3.6/site-packages/geojson/codec.py\u001b[0m in \u001b[0;36mloads\u001b[0;34m(s, cls, parse_constant, object_hook, **kwargs)\u001b[0m\n\u001b[1;32m     52\u001b[0m                       \u001b[0mcls\u001b[0m\u001b[0;34m=\u001b[0m\u001b[0mcls\u001b[0m\u001b[0;34m,\u001b[0m \u001b[0mobject_hook\u001b[0m\u001b[0;34m=\u001b[0m\u001b[0mobject_hook\u001b[0m\u001b[0;34m,\u001b[0m\u001b[0;34m\u001b[0m\u001b[0;34m\u001b[0m\u001b[0m\n\u001b[1;32m     53\u001b[0m                       \u001b[0mparse_constant\u001b[0m\u001b[0;34m=\u001b[0m\u001b[0mparse_constant\u001b[0m\u001b[0;34m,\u001b[0m\u001b[0;34m\u001b[0m\u001b[0;34m\u001b[0m\u001b[0m\n\u001b[0;32m---> 54\u001b[0;31m                       **kwargs)\n\u001b[0m\u001b[1;32m     55\u001b[0m \u001b[0;34m\u001b[0m\u001b[0m\n\u001b[1;32m     56\u001b[0m \u001b[0;34m\u001b[0m\u001b[0m\n",
      "\u001b[0;32m~/anaconda3/envs/pytorch_p36/lib/python3.6/site-packages/simplejson/__init__.py\u001b[0m in \u001b[0;36mloads\u001b[0;34m(s, encoding, cls, object_hook, parse_float, parse_int, parse_constant, object_pairs_hook, use_decimal, **kw)\u001b[0m\n\u001b[1;32m    540\u001b[0m             \u001b[0;32mraise\u001b[0m \u001b[0mTypeError\u001b[0m\u001b[0;34m(\u001b[0m\u001b[0;34m\"use_decimal=True implies parse_float=Decimal\"\u001b[0m\u001b[0;34m)\u001b[0m\u001b[0;34m\u001b[0m\u001b[0;34m\u001b[0m\u001b[0m\n\u001b[1;32m    541\u001b[0m         \u001b[0mkw\u001b[0m\u001b[0;34m[\u001b[0m\u001b[0;34m'parse_float'\u001b[0m\u001b[0;34m]\u001b[0m \u001b[0;34m=\u001b[0m \u001b[0mDecimal\u001b[0m\u001b[0;34m\u001b[0m\u001b[0;34m\u001b[0m\u001b[0m\n\u001b[0;32m--> 542\u001b[0;31m     \u001b[0;32mreturn\u001b[0m \u001b[0mcls\u001b[0m\u001b[0;34m(\u001b[0m\u001b[0mencoding\u001b[0m\u001b[0;34m=\u001b[0m\u001b[0mencoding\u001b[0m\u001b[0;34m,\u001b[0m \u001b[0;34m**\u001b[0m\u001b[0mkw\u001b[0m\u001b[0;34m)\u001b[0m\u001b[0;34m.\u001b[0m\u001b[0mdecode\u001b[0m\u001b[0;34m(\u001b[0m\u001b[0ms\u001b[0m\u001b[0;34m)\u001b[0m\u001b[0;34m\u001b[0m\u001b[0;34m\u001b[0m\u001b[0m\n\u001b[0m\u001b[1;32m    543\u001b[0m \u001b[0;34m\u001b[0m\u001b[0m\n\u001b[1;32m    544\u001b[0m \u001b[0;34m\u001b[0m\u001b[0m\n",
      "\u001b[0;32m~/anaconda3/envs/pytorch_p36/lib/python3.6/site-packages/simplejson/decoder.py\u001b[0m in \u001b[0;36mdecode\u001b[0;34m(self, s, _w, _PY3)\u001b[0m\n\u001b[1;32m    368\u001b[0m         \u001b[0;32mif\u001b[0m \u001b[0m_PY3\u001b[0m \u001b[0;32mand\u001b[0m \u001b[0misinstance\u001b[0m\u001b[0;34m(\u001b[0m\u001b[0ms\u001b[0m\u001b[0;34m,\u001b[0m \u001b[0mbytes\u001b[0m\u001b[0;34m)\u001b[0m\u001b[0;34m:\u001b[0m\u001b[0;34m\u001b[0m\u001b[0;34m\u001b[0m\u001b[0m\n\u001b[1;32m    369\u001b[0m             \u001b[0ms\u001b[0m \u001b[0;34m=\u001b[0m \u001b[0mstr\u001b[0m\u001b[0;34m(\u001b[0m\u001b[0ms\u001b[0m\u001b[0;34m,\u001b[0m \u001b[0mself\u001b[0m\u001b[0;34m.\u001b[0m\u001b[0mencoding\u001b[0m\u001b[0;34m)\u001b[0m\u001b[0;34m\u001b[0m\u001b[0;34m\u001b[0m\u001b[0m\n\u001b[0;32m--> 370\u001b[0;31m         \u001b[0mobj\u001b[0m\u001b[0;34m,\u001b[0m \u001b[0mend\u001b[0m \u001b[0;34m=\u001b[0m \u001b[0mself\u001b[0m\u001b[0;34m.\u001b[0m\u001b[0mraw_decode\u001b[0m\u001b[0;34m(\u001b[0m\u001b[0ms\u001b[0m\u001b[0;34m)\u001b[0m\u001b[0;34m\u001b[0m\u001b[0;34m\u001b[0m\u001b[0m\n\u001b[0m\u001b[1;32m    371\u001b[0m         \u001b[0mend\u001b[0m \u001b[0;34m=\u001b[0m \u001b[0m_w\u001b[0m\u001b[0;34m(\u001b[0m\u001b[0ms\u001b[0m\u001b[0;34m,\u001b[0m \u001b[0mend\u001b[0m\u001b[0;34m)\u001b[0m\u001b[0;34m.\u001b[0m\u001b[0mend\u001b[0m\u001b[0;34m(\u001b[0m\u001b[0;34m)\u001b[0m\u001b[0;34m\u001b[0m\u001b[0;34m\u001b[0m\u001b[0m\n\u001b[1;32m    372\u001b[0m         \u001b[0;32mif\u001b[0m \u001b[0mend\u001b[0m \u001b[0;34m!=\u001b[0m \u001b[0mlen\u001b[0m\u001b[0;34m(\u001b[0m\u001b[0ms\u001b[0m\u001b[0;34m)\u001b[0m\u001b[0;34m:\u001b[0m\u001b[0;34m\u001b[0m\u001b[0;34m\u001b[0m\u001b[0m\n",
      "\u001b[0;32m~/anaconda3/envs/pytorch_p36/lib/python3.6/site-packages/simplejson/decoder.py\u001b[0m in \u001b[0;36mraw_decode\u001b[0;34m(self, s, idx, _w, _PY3)\u001b[0m\n\u001b[1;32m    398\u001b[0m             \u001b[0;32melif\u001b[0m \u001b[0mord0\u001b[0m \u001b[0;34m==\u001b[0m \u001b[0;36m0xef\u001b[0m \u001b[0;32mand\u001b[0m \u001b[0ms\u001b[0m\u001b[0;34m[\u001b[0m\u001b[0midx\u001b[0m\u001b[0;34m:\u001b[0m\u001b[0midx\u001b[0m \u001b[0;34m+\u001b[0m \u001b[0;36m3\u001b[0m\u001b[0;34m]\u001b[0m \u001b[0;34m==\u001b[0m \u001b[0;34m'\\xef\\xbb\\xbf'\u001b[0m\u001b[0;34m:\u001b[0m\u001b[0;34m\u001b[0m\u001b[0;34m\u001b[0m\u001b[0m\n\u001b[1;32m    399\u001b[0m                 \u001b[0midx\u001b[0m \u001b[0;34m+=\u001b[0m \u001b[0;36m3\u001b[0m\u001b[0;34m\u001b[0m\u001b[0;34m\u001b[0m\u001b[0m\n\u001b[0;32m--> 400\u001b[0;31m         \u001b[0;32mreturn\u001b[0m \u001b[0mself\u001b[0m\u001b[0;34m.\u001b[0m\u001b[0mscan_once\u001b[0m\u001b[0;34m(\u001b[0m\u001b[0ms\u001b[0m\u001b[0;34m,\u001b[0m \u001b[0midx\u001b[0m\u001b[0;34m=\u001b[0m\u001b[0m_w\u001b[0m\u001b[0;34m(\u001b[0m\u001b[0ms\u001b[0m\u001b[0;34m,\u001b[0m \u001b[0midx\u001b[0m\u001b[0;34m)\u001b[0m\u001b[0;34m.\u001b[0m\u001b[0mend\u001b[0m\u001b[0;34m(\u001b[0m\u001b[0;34m)\u001b[0m\u001b[0;34m)\u001b[0m\u001b[0;34m\u001b[0m\u001b[0;34m\u001b[0m\u001b[0m\n\u001b[0m",
      "\u001b[0;31mJSONDecodeError\u001b[0m: Expecting value: line 1 column 1 (char 0)"
     ]
    }
   ],
   "source": [
    "from shapely.geometry import mapping\n",
    "from rasterio.mask import mask\n",
    "import json\n",
    "geojson='/home/ubuntu/veg-co-validate/planet-snowcover-analysis:planet-snowcover-2020-03-01-13-37-37-330:planet-snowcover-imagery-veg:20180524_172329_0f51_3B_AnalyticMS_SR_clip/data-mask.geojson'\n",
    "\n",
    "cut_by_geojson(predouttif,'gunnison_pred_stacked_clipped.tif',geojson)"
   ]
  },
  {
   "cell_type": "code",
   "execution_count": 131,
   "metadata": {},
   "outputs": [
    {
     "name": "stdout",
     "output_type": "stream",
     "text": [
      "Driver: GTiff/GeoTIFF\n",
      "Files: gunnison_pred_stacked.tif\n",
      "Size is 20992, 23037\n",
      "Coordinate System is:\n",
      "GEOGCS[\"WGS 84\",\n",
      "    DATUM[\"WGS_1984\",\n",
      "        SPHEROID[\"WGS 84\",6378137,298.257223563,\n",
      "            AUTHORITY[\"EPSG\",\"7030\"]],\n",
      "        AUTHORITY[\"EPSG\",\"6326\"]],\n",
      "    PRIMEM[\"Greenwich\",0],\n",
      "    UNIT[\"degree\",0.0174532925199433],\n",
      "    AUTHORITY[\"EPSG\",\"4326\"]]\n",
      "Origin = (-107.215576171875000,39.095962936305483)\n",
      "Pixel Size = (0.000021457672119,-0.000016700378284)\n",
      "Metadata:\n",
      "  AREA_OR_POINT=Area\n",
      "Image Structure Metadata:\n",
      "  COMPRESSION=LZW\n",
      "  INTERLEAVE=PIXEL\n",
      "Corner Coordinates:\n",
      "Upper Left  (-107.2155762,  39.0959629) (107d12'56.07\"W, 39d 5'45.47\"N)\n",
      "Lower Left  (-107.2155762,  38.7112363) (107d12'56.07\"W, 38d42'40.45\"N)\n",
      "Upper Right (-106.7651367,  39.0959629) (106d45'54.49\"W, 39d 5'45.47\"N)\n",
      "Lower Right (-106.7651367,  38.7112363) (106d45'54.49\"W, 38d42'40.45\"N)\n",
      "Center      (-106.9903564,  38.9035996) (106d59'25.28\"W, 38d54'12.96\"N)\n",
      "Band 1 Block=20992x1 Type=Int16, ColorInterp=Gray\n",
      "  NoData Value=9999\n",
      "Band 2 Block=20992x1 Type=Int16, ColorInterp=Undefined\n",
      "  NoData Value=9999\n",
      "Band 3 Block=20992x1 Type=Int16, ColorInterp=Undefined\n",
      "  NoData Value=9999\n",
      "Band 4 Block=20992x1 Type=Int16, ColorInterp=Undefined\n",
      "  NoData Value=9999\n",
      "Band 5 Block=20992x1 Type=Int16, ColorInterp=Undefined\n",
      "  NoData Value=9999\n",
      "Band 6 Block=20992x1 Type=Int16, ColorInterp=Undefined\n",
      "  NoData Value=9999\n",
      "Band 7 Block=20992x1 Type=Int16, ColorInterp=Undefined\n",
      "  NoData Value=9999\n",
      "Band 8 Block=20992x1 Type=Int16, ColorInterp=Undefined\n",
      "  NoData Value=9999\n",
      "Band 9 Block=20992x1 Type=Int16, ColorInterp=Undefined\n",
      "  NoData Value=9999\n",
      "Band 10 Block=20992x1 Type=Int16, ColorInterp=Undefined\n",
      "  NoData Value=9999\n",
      "Band 11 Block=20992x1 Type=Int16, ColorInterp=Undefined\n",
      "  NoData Value=9999\n",
      "Band 12 Block=20992x1 Type=Int16, ColorInterp=Undefined\n",
      "  NoData Value=9999\n",
      "Band 13 Block=20992x1 Type=Int16, ColorInterp=Undefined\n",
      "  NoData Value=9999\n",
      "Band 14 Block=20992x1 Type=Int16, ColorInterp=Undefined\n",
      "  NoData Value=9999\n",
      "Band 15 Block=20992x1 Type=Int16, ColorInterp=Undefined\n",
      "  NoData Value=9999\n",
      "Band 16 Block=20992x1 Type=Int16, ColorInterp=Undefined\n",
      "  NoData Value=9999\n",
      "Band 17 Block=20992x1 Type=Int16, ColorInterp=Undefined\n",
      "  NoData Value=9999\n",
      "Band 18 Block=20992x1 Type=Int16, ColorInterp=Undefined\n",
      "  NoData Value=9999\n",
      "Band 19 Block=20992x1 Type=Int16, ColorInterp=Undefined\n",
      "  NoData Value=9999\n"
     ]
    }
   ],
   "source": [
    "!gdalinfo gunnison_pred_stacked.tif"
   ]
  },
  {
   "cell_type": "code",
   "execution_count": 21,
   "metadata": {},
   "outputs": [
    {
     "data": {
      "image/png": "[encoded data removed]",
      "text/plain": [
       "<Figure size 432x288 with 1 Axes>"
      ]
     },
     "metadata": {},
     "output_type": "display_data"
    },
    {
     "data": {
      "text/plain": [
       "<matplotlib.axes._subplots.AxesSubplot at 0x7fa794223e10>"
      ]
     },
     "execution_count": 21,
     "metadata": {},
     "output_type": "execute_result"
    }
   ],
   "source": [
    "# Plot first four files\n",
    "show(rasterio.open(predouttif))"
   ]
  },
  {
   "cell_type": "code",
   "execution_count": 25,
   "metadata": {},
   "outputs": [
    {
     "data": {
      "text/plain": [
       "<open DatasetReader name='/home/ubuntu/veg-co-validate/planet-snowcover-analysis:planet-snowcover-2020-03-01-13-37-37-330:planet-snowcover-imagery-veg:20180524_172329_0f51_3B_AnalyticMS_SR_clip/mask/ASO_3M_SD_USCOGE_20180524_binary_merged.tif' mode='r'>"
      ]
     },
     "execution_count": 25,
     "metadata": {},
     "output_type": "execute_result"
    }
   ],
   "source": [
    "aso_files_to_mosaic[0]"
   ]
  },
  {
   "cell_type": "code",
   "execution_count": 47,
   "metadata": {},
   "outputs": [
    {
     "name": "stdout",
     "output_type": "stream",
     "text": [
      "(16511488,) (16518656,)\n",
      "(11010560,) (11013120,)\n"
     ]
    }
   ],
   "source": [
    "mask_data = aso_files_to_mosaic[0].read(1).flatten()\n",
    "pred_data = src_files_to_mosaic[0].read(1).flatten()\n",
    "print(mask_data.shape, pred_data.shape)\n",
    "# remove nodata\n",
    "try:\n",
    "        mask_data = mask_data[np.where(mask_data != 9999)]\n",
    "        pred_data = pred_data[np.where(pred_data != 9999)]\n",
    "except Exception as e:\n",
    "        print(\"Error filtering nodata. Do input data files have nodata attribute set? [{}]\".format(e))\n",
    "print(mask_data.shape, pred_data.shape)        "
   ]
  },
  {
   "cell_type": "code",
   "execution_count": 48,
   "metadata": {},
   "outputs": [
    {
     "ename": "ValueError",
     "evalue": "Found input variables with inconsistent numbers of samples: [11010560, 11013120]",
     "output_type": "error",
     "traceback": [
      "\u001b[0;31m---------------------------------------------------------------------------\u001b[0m",
      "\u001b[0;31mValueError\u001b[0m                                Traceback (most recent call last)",
      "\u001b[0;32m<ipython-input-48-5a96b6d9f7d1>\u001b[0m in \u001b[0;36m<module>\u001b[0;34m()\u001b[0m\n\u001b[1;32m      5\u001b[0m \u001b[0mcompare\u001b[0m \u001b[0;34m=\u001b[0m \u001b[0;34m(\u001b[0m\u001b[0mmask_data\u001b[0m\u001b[0;34m,\u001b[0m \u001b[0mpred_data\u001b[0m\u001b[0;34m)\u001b[0m\u001b[0;34m\u001b[0m\u001b[0;34m\u001b[0m\u001b[0m\n\u001b[1;32m      6\u001b[0m \u001b[0;34m\u001b[0m\u001b[0m\n\u001b[0;32m----> 7\u001b[0;31m \u001b[0mbalanced_acc\u001b[0m \u001b[0;34m=\u001b[0m \u001b[0mmetrics\u001b[0m\u001b[0;34m.\u001b[0m\u001b[0mbalanced_accuracy_score\u001b[0m\u001b[0;34m(\u001b[0m\u001b[0;34m*\u001b[0m\u001b[0mcompare\u001b[0m\u001b[0;34m)\u001b[0m\u001b[0;34m\u001b[0m\u001b[0;34m\u001b[0m\u001b[0m\n\u001b[0m\u001b[1;32m      8\u001b[0m \u001b[0mprfs\u001b[0m \u001b[0;34m=\u001b[0m \u001b[0mmetrics\u001b[0m\u001b[0;34m.\u001b[0m\u001b[0mprecision_recall_fscore_support\u001b[0m\u001b[0;34m(\u001b[0m\u001b[0;34m*\u001b[0m\u001b[0mcompare\u001b[0m\u001b[0;34m,\u001b[0m \u001b[0maverage\u001b[0m\u001b[0;34m=\u001b[0m\u001b[0;34m'binary'\u001b[0m\u001b[0;34m)\u001b[0m\u001b[0;34m\u001b[0m\u001b[0;34m\u001b[0m\u001b[0m\n\u001b[1;32m      9\u001b[0m \u001b[0;34m\u001b[0m\u001b[0m\n",
      "\u001b[0;32m~/anaconda3/envs/pytorch_p36/lib/python3.6/site-packages/sklearn/metrics/classification.py\u001b[0m in \u001b[0;36mbalanced_accuracy_score\u001b[0;34m(y_true, y_pred, sample_weight, adjusted)\u001b[0m\n\u001b[1;32m   1431\u001b[0m \u001b[0;34m\u001b[0m\u001b[0m\n\u001b[1;32m   1432\u001b[0m     \"\"\"\n\u001b[0;32m-> 1433\u001b[0;31m     \u001b[0mC\u001b[0m \u001b[0;34m=\u001b[0m \u001b[0mconfusion_matrix\u001b[0m\u001b[0;34m(\u001b[0m\u001b[0my_true\u001b[0m\u001b[0;34m,\u001b[0m \u001b[0my_pred\u001b[0m\u001b[0;34m,\u001b[0m \u001b[0msample_weight\u001b[0m\u001b[0;34m=\u001b[0m\u001b[0msample_weight\u001b[0m\u001b[0;34m)\u001b[0m\u001b[0;34m\u001b[0m\u001b[0;34m\u001b[0m\u001b[0m\n\u001b[0m\u001b[1;32m   1434\u001b[0m     \u001b[0;32mwith\u001b[0m \u001b[0mnp\u001b[0m\u001b[0;34m.\u001b[0m\u001b[0merrstate\u001b[0m\u001b[0;34m(\u001b[0m\u001b[0mdivide\u001b[0m\u001b[0;34m=\u001b[0m\u001b[0;34m'ignore'\u001b[0m\u001b[0;34m,\u001b[0m \u001b[0minvalid\u001b[0m\u001b[0;34m=\u001b[0m\u001b[0;34m'ignore'\u001b[0m\u001b[0;34m)\u001b[0m\u001b[0;34m:\u001b[0m\u001b[0;34m\u001b[0m\u001b[0;34m\u001b[0m\u001b[0m\n\u001b[1;32m   1435\u001b[0m         \u001b[0mper_class\u001b[0m \u001b[0;34m=\u001b[0m \u001b[0mnp\u001b[0m\u001b[0;34m.\u001b[0m\u001b[0mdiag\u001b[0m\u001b[0;34m(\u001b[0m\u001b[0mC\u001b[0m\u001b[0;34m)\u001b[0m \u001b[0;34m/\u001b[0m \u001b[0mC\u001b[0m\u001b[0;34m.\u001b[0m\u001b[0msum\u001b[0m\u001b[0;34m(\u001b[0m\u001b[0maxis\u001b[0m\u001b[0;34m=\u001b[0m\u001b[0;36m1\u001b[0m\u001b[0;34m)\u001b[0m\u001b[0;34m\u001b[0m\u001b[0;34m\u001b[0m\u001b[0m\n",
      "\u001b[0;32m~/anaconda3/envs/pytorch_p36/lib/python3.6/site-packages/sklearn/metrics/classification.py\u001b[0m in \u001b[0;36mconfusion_matrix\u001b[0;34m(y_true, y_pred, labels, sample_weight)\u001b[0m\n\u001b[1;32m    251\u001b[0m \u001b[0;34m\u001b[0m\u001b[0m\n\u001b[1;32m    252\u001b[0m     \"\"\"\n\u001b[0;32m--> 253\u001b[0;31m     \u001b[0my_type\u001b[0m\u001b[0;34m,\u001b[0m \u001b[0my_true\u001b[0m\u001b[0;34m,\u001b[0m \u001b[0my_pred\u001b[0m \u001b[0;34m=\u001b[0m \u001b[0m_check_targets\u001b[0m\u001b[0;34m(\u001b[0m\u001b[0my_true\u001b[0m\u001b[0;34m,\u001b[0m \u001b[0my_pred\u001b[0m\u001b[0;34m)\u001b[0m\u001b[0;34m\u001b[0m\u001b[0;34m\u001b[0m\u001b[0m\n\u001b[0m\u001b[1;32m    254\u001b[0m     \u001b[0;32mif\u001b[0m \u001b[0my_type\u001b[0m \u001b[0;32mnot\u001b[0m \u001b[0;32min\u001b[0m \u001b[0;34m(\u001b[0m\u001b[0;34m\"binary\"\u001b[0m\u001b[0;34m,\u001b[0m \u001b[0;34m\"multiclass\"\u001b[0m\u001b[0;34m)\u001b[0m\u001b[0;34m:\u001b[0m\u001b[0;34m\u001b[0m\u001b[0;34m\u001b[0m\u001b[0m\n\u001b[1;32m    255\u001b[0m         \u001b[0;32mraise\u001b[0m \u001b[0mValueError\u001b[0m\u001b[0;34m(\u001b[0m\u001b[0;34m\"%s is not supported\"\u001b[0m \u001b[0;34m%\u001b[0m \u001b[0my_type\u001b[0m\u001b[0;34m)\u001b[0m\u001b[0;34m\u001b[0m\u001b[0;34m\u001b[0m\u001b[0m\n",
      "\u001b[0;32m~/anaconda3/envs/pytorch_p36/lib/python3.6/site-packages/sklearn/metrics/classification.py\u001b[0m in \u001b[0;36m_check_targets\u001b[0;34m(y_true, y_pred)\u001b[0m\n\u001b[1;32m     69\u001b[0m     \u001b[0my_pred\u001b[0m \u001b[0;34m:\u001b[0m \u001b[0marray\u001b[0m \u001b[0;32mor\u001b[0m \u001b[0mindicator\u001b[0m \u001b[0mmatrix\u001b[0m\u001b[0;34m\u001b[0m\u001b[0;34m\u001b[0m\u001b[0m\n\u001b[1;32m     70\u001b[0m     \"\"\"\n\u001b[0;32m---> 71\u001b[0;31m     \u001b[0mcheck_consistent_length\u001b[0m\u001b[0;34m(\u001b[0m\u001b[0my_true\u001b[0m\u001b[0;34m,\u001b[0m \u001b[0my_pred\u001b[0m\u001b[0;34m)\u001b[0m\u001b[0;34m\u001b[0m\u001b[0;34m\u001b[0m\u001b[0m\n\u001b[0m\u001b[1;32m     72\u001b[0m     \u001b[0mtype_true\u001b[0m \u001b[0;34m=\u001b[0m \u001b[0mtype_of_target\u001b[0m\u001b[0;34m(\u001b[0m\u001b[0my_true\u001b[0m\u001b[0;34m)\u001b[0m\u001b[0;34m\u001b[0m\u001b[0;34m\u001b[0m\u001b[0m\n\u001b[1;32m     73\u001b[0m     \u001b[0mtype_pred\u001b[0m \u001b[0;34m=\u001b[0m \u001b[0mtype_of_target\u001b[0m\u001b[0;34m(\u001b[0m\u001b[0my_pred\u001b[0m\u001b[0;34m)\u001b[0m\u001b[0;34m\u001b[0m\u001b[0;34m\u001b[0m\u001b[0m\n",
      "\u001b[0;32m~/anaconda3/envs/pytorch_p36/lib/python3.6/site-packages/sklearn/utils/validation.py\u001b[0m in \u001b[0;36mcheck_consistent_length\u001b[0;34m(*arrays)\u001b[0m\n\u001b[1;32m    233\u001b[0m     \u001b[0;32mif\u001b[0m \u001b[0mlen\u001b[0m\u001b[0;34m(\u001b[0m\u001b[0muniques\u001b[0m\u001b[0;34m)\u001b[0m \u001b[0;34m>\u001b[0m \u001b[0;36m1\u001b[0m\u001b[0;34m:\u001b[0m\u001b[0;34m\u001b[0m\u001b[0;34m\u001b[0m\u001b[0m\n\u001b[1;32m    234\u001b[0m         raise ValueError(\"Found input variables with inconsistent numbers of\"\n\u001b[0;32m--> 235\u001b[0;31m                          \" samples: %r\" % [int(l) for l in lengths])\n\u001b[0m\u001b[1;32m    236\u001b[0m \u001b[0;34m\u001b[0m\u001b[0m\n\u001b[1;32m    237\u001b[0m \u001b[0;34m\u001b[0m\u001b[0m\n",
      "\u001b[0;31mValueError\u001b[0m: Found input variables with inconsistent numbers of samples: [11010560, 11013120]"
     ]
    }
   ],
   "source": [
    "from glob import glob\n",
    "from sklearn import metrics\n",
    "import json\n",
    "\n",
    "compare = (mask_data, pred_data)\n",
    "\n",
    "balanced_acc = metrics.balanced_accuracy_score(*compare)\n",
    "prfs = metrics.precision_recall_fscore_support(*compare, average='binary')\n",
    "\n",
    "these_metrics = {\n",
    "        \"balanced_accuracy\" : balanced_acc,\n",
    "        \"precision\": prfs[0],\n",
    "        \"recall\": prfs[1],\n",
    "        \"f_score\": prfs[2]\n",
    "    }"
   ]
  },
  {
   "cell_type": "code",
   "execution_count": 43,
   "metadata": {},
   "outputs": [
    {
     "data": {
      "text/plain": [
       "'/home/ubuntu/veg-co-validate/planet-snowcover-analysis:planet-snowcover-2020-03-01-13-37-37-330:planet-snowcover-imagery-veg:20180524_172329_0f51_3B_AnalyticMS_SR_clip/preds/20180524_172329_0f51_3B_AnalyticMS_SR_clip_merged.tif'"
      ]
     },
     "execution_count": 43,
     "metadata": {},
     "output_type": "execute_result"
    }
   ],
   "source": [
    "predS[0]"
   ]
  },
  {
   "cell_type": "code",
   "execution_count": 108,
   "metadata": {},
   "outputs": [
    {
     "name": "stdout",
     "output_type": "stream",
     "text": [
      "pred\n",
      "{'driver': 'GTiff', 'dtype': 'int16', 'nodata': 9999.0, 'width': 3584, 'height': 4609, 'count': 1, 'crs': CRS.from_epsg(4326), 'transform': Affine(2.1457672119140625e-05, 0.0, -107.138671875,\n",
      "       0.0, -1.6678264160907563e-05, 39.01918369029135), 'tiled': False, 'compress': 'lzw', 'interleave': 'band'}\n",
      "mask\n",
      "{'driver': 'GTiff', 'dtype': 'int16', 'nodata': 9999.0, 'width': 3584, 'height': 4607, 'count': 1, 'crs': CRS.from_epsg(4326), 'transform': Affine(2.1457672119140625e-05, 0.0, -107.138671875,\n",
      "       0.0, -1.668429992519871e-05, 39.01918369029135), 'tiled': False, 'compress': 'lzw', 'interleave': 'band'}\n"
     ]
    }
   ],
   "source": [
    "from shapely.geometry import mapping\n",
    "from rasterio.mask import mask\n",
    "import json\n",
    "geojson='/home/ubuntu/veg-co-validate/planet-snowcover-analysis:planet-snowcover-2020-03-01-13-37-37-330:planet-snowcover-imagery-veg:20180524_172329_0f51_3B_AnalyticMS_SR_clip/data-mask.geojson'\n",
    "with open(geojson) as data_file:\n",
    "     geoms= json.loads(data_file.read())\n",
    "all_bounds = [geoms]        \n",
    "with rasterio.open(predS[0]) as src:\n",
    "    out_image, out_transform = mask(src, all_bounds, crop=True) \n",
    "    out_meta = src.meta.copy()\n",
    "    ## Re-arrange bounding box to plot\n",
    "    bounds = (src.bounds.left, src.bounds.right, \\\n",
    "          src.bounds.bottom, src.bounds.top)\n",
    "    # save the resulting raster\n",
    "    out_meta.update({\"driver\": \"GTiff\",\n",
    "            \"height\": out_image.shape[1],\n",
    "            \"width\": out_image.shape[2],\n",
    "            \"transform\": out_transform})\n",
    "    print('pred')\n",
    "    print(src.profile)\n",
    "    with rasterio.open( \"preds_clipped.tif\", \"w\", **out_meta) as dest:\n",
    "            dest.write(out_image) \n",
    "with rasterio.open(asoS[0]) as src:\n",
    "    out_image, out_transform = mask(src, all_bounds, crop=True) \n",
    "    out_meta = src.meta.copy()\n",
    "\n",
    "    # save the resulting raster\n",
    "    out_meta.update({\"driver\": \"GTiff\",\n",
    "            \"height\": out_image.shape[1],\n",
    "            \"width\": out_image.shape[2],\n",
    "            \"transform\": out_transform})\n",
    "    print('mask')\n",
    "    print(src.profile)\n",
    "    with rasterio.open( \"asos_clipped.tif\", \"w\", **out_meta) as dest:\n",
    "            dest.write(out_image)             "
   ]
  },
  {
   "cell_type": "code",
   "execution_count": 70,
   "metadata": {},
   "outputs": [
    {
     "data": {
      "text/plain": [
       "(-107.138671875, -107.061767578125, 38.94231357077373, 39.01918369029135)"
      ]
     },
     "execution_count": 70,
     "metadata": {},
     "output_type": "execute_result"
    }
   ],
   "source": [
    "bounds"
   ]
  },
  {
   "cell_type": "code",
   "execution_count": 60,
   "metadata": {},
   "outputs": [
    {
     "name": "stdout",
     "output_type": "stream",
     "text": [
      "(16511488,) (16518656,)\n",
      "(11007488,) (11010560,)\n"
     ]
    }
   ],
   "source": [
    "mask_data = rasterio.open(\"asos_clipped.tif\").read(1).flatten()\n",
    "pred_data = rasterio.open(\"preds_clipped.tif\").read(1).flatten()\n",
    "print(mask_data.shape, pred_data.shape)\n",
    "# remove nodata\n",
    "try:\n",
    "        mask_data = mask_data[np.where(mask_data != 9999)]\n",
    "        pred_data = pred_data[np.where(pred_data != 9999)]\n",
    "except Exception as e:\n",
    "        print(\"Error filtering nodata. Do input data files have nodata attribute set? [{}]\".format(e))\n",
    "print(mask_data.shape, pred_data.shape) "
   ]
  },
  {
   "cell_type": "code",
   "execution_count": 65,
   "metadata": {},
   "outputs": [
    {
     "data": {
      "text/plain": [
       "<matplotlib.axes._subplots.AxesSubplot at 0x7fa74ee704a8>"
      ]
     },
     "execution_count": 65,
     "metadata": {},
     "output_type": "execute_result"
    },
    {
     "data": {
      "image/png": "[encoded data removed]",
      "text/plain": [
       "<Figure size 432x288 with 1 Axes>"
      ]
     },
     "metadata": {},
     "output_type": "display_data"
    }
   ],
   "source": [
    "import geopandas as gpd\n",
    "\n",
    "lsoas = gpd.read_file(geojson)\n",
    "lsoas.head()\n",
    "lsoas.plot()"
   ]
  },
  {
   "cell_type": "code",
   "execution_count": 68,
   "metadata": {},
   "outputs": [],
   "source": [
    "## Re-arrange bounding box to plot\n",
    "bounds = (source.bounds.left, source.bounds.right, \\\n",
    "          source.bounds.bottom, source.bounds.top)\n",
    "## Stack RGB values into a single array\n",
    "pix = np.dstack(rasterio.open(\"preds_clipped.tif\").read(1))"
   ]
  },
  {
   "cell_type": "code",
   "execution_count": 73,
   "metadata": {},
   "outputs": [
    {
     "data": {
      "text/plain": [
       "array([[[9999, 9999, 9999, ..., 9999, 9999, 9999],\n",
       "        [9999, 9999, 9999, ..., 9999, 9999, 9999],\n",
       "        [9999, 9999, 9999, ..., 9999, 9999, 9999],\n",
       "        ...,\n",
       "        [9999, 9999, 9999, ..., 9999, 9999, 9999],\n",
       "        [9999, 9999, 9999, ..., 9999, 9999, 9999],\n",
       "        [9999, 9999, 9999, ..., 9999, 9999, 9999]]], dtype=int16)"
      ]
     },
     "execution_count": 73,
     "metadata": {},
     "output_type": "execute_result"
    }
   ],
   "source": [
    "pix"
   ]
  },
  {
   "cell_type": "code",
   "execution_count": 77,
   "metadata": {},
   "outputs": [
    {
     "data": {
      "image/png": "[encoded data removed]",
      "text/plain": [
       "<Figure size 432x432 with 1 Axes>"
      ]
     },
     "metadata": {},
     "output_type": "display_data"
    }
   ],
   "source": [
    "\n",
    "# Set up figure\n",
    "f, ax = plt.subplots(figsize=(6, 6))\n",
    "# Add raster\n",
    "ax.imshow(rasterio.open(\"preds_clipped.tif\").read(1), extent=bounds)\n",
    "# Extract limits from Liverpool from LSOAs\n",
    "w, s, e, n = lsoas.total_bounds\n",
    "# Center figure on Liverpool limits\n",
    "ax.set_xlim((w, e))\n",
    "ax.set_ylim((s, n))\n",
    "# Add polygon layer\n",
    "lsoas.plot(ax=ax, alpha=0.5, color='green', linewidth=3)\n",
    "# Remove axis\n",
    "plt.axis('off')\n",
    "# Display figure\n",
    "plt.show()"
   ]
  },
  {
   "cell_type": "code",
   "execution_count": 82,
   "metadata": {},
   "outputs": [
    {
     "data": {
      "text/plain": [
       "(1, 4607, 3584)"
      ]
     },
     "execution_count": 82,
     "metadata": {},
     "output_type": "execute_result"
    }
   ],
   "source": [
    "out_image.shape"
   ]
  },
  {
   "cell_type": "code",
   "execution_count": 84,
   "metadata": {},
   "outputs": [
    {
     "data": {
      "text/plain": [
       "numpy.ndarray"
      ]
     },
     "execution_count": 84,
     "metadata": {},
     "output_type": "execute_result"
    }
   ],
   "source": [
    "type(out_image)"
   ]
  },
  {
   "cell_type": "code",
   "execution_count": 88,
   "metadata": {},
   "outputs": [
    {
     "name": "stdout",
     "output_type": "stream",
     "text": [
      "9999.0\n"
     ]
    }
   ],
   "source": [
    "# no data values of the original raster\n",
    "no_data=src.nodata\n",
    "print (no_data)\n",
    "# extract the values of the masked array\n",
    "data = out_image[0]\n",
    "# extract the row, columns of the valid values\n",
    "\n",
    "row, col = np.where(data != no_data) \n",
    "snow = np.extract(data != no_data, data)"
   ]
  },
  {
   "cell_type": "code",
   "execution_count": 89,
   "metadata": {},
   "outputs": [],
   "source": [
    "from rasterio import Affine # or from affine import Affine\n",
    "T1 = out_transform * Affine.translation(0.5, 0.5) # reference the pixel centre\n",
    "rc2xy = lambda r, c: (c, r) * T1  "
   ]
  },
  {
   "cell_type": "code",
   "execution_count": 90,
   "metadata": {},
   "outputs": [
    {
     "data": {
      "text/html": [
       "<div>\n",
       "<style scoped>\n",
       "    .dataframe tbody tr th:only-of-type {\n",
       "        vertical-align: middle;\n",
       "    }\n",
       "\n",
       "    .dataframe tbody tr th {\n",
       "        vertical-align: top;\n",
       "    }\n",
       "\n",
       "    .dataframe thead th {\n",
       "        text-align: right;\n",
       "    }\n",
       "</style>\n",
       "<table border=\"1\" class=\"dataframe\">\n",
       "  <thead>\n",
       "    <tr style=\"text-align: right;\">\n",
       "      <th></th>\n",
       "      <th>col</th>\n",
       "      <th>row</th>\n",
       "      <th>snow</th>\n",
       "      <th>x</th>\n",
       "      <th>y</th>\n",
       "      <th>geometry</th>\n",
       "    </tr>\n",
       "  </thead>\n",
       "  <tbody>\n",
       "    <tr>\n",
       "      <th>0</th>\n",
       "      <td>1024</td>\n",
       "      <td>0</td>\n",
       "      <td>1</td>\n",
       "      <td>-107.116688</td>\n",
       "      <td>39.019175</td>\n",
       "      <td>POINT (-107.11669 39.01918)</td>\n",
       "    </tr>\n",
       "    <tr>\n",
       "      <th>1</th>\n",
       "      <td>1025</td>\n",
       "      <td>0</td>\n",
       "      <td>1</td>\n",
       "      <td>-107.116667</td>\n",
       "      <td>39.019175</td>\n",
       "      <td>POINT (-107.11667 39.01918)</td>\n",
       "    </tr>\n",
       "  </tbody>\n",
       "</table>\n",
       "</div>"
      ],
      "text/plain": [
       "    col  row  snow           x          y                     geometry\n",
       "0  1024    0     1 -107.116688  39.019175  POINT (-107.11669 39.01918)\n",
       "1  1025    0     1 -107.116667  39.019175  POINT (-107.11667 39.01918)"
      ]
     },
     "execution_count": 90,
     "metadata": {},
     "output_type": "execute_result"
    }
   ],
   "source": [
    "d = gpd.GeoDataFrame({'col':col,'row':row,'snow':snow})\n",
    "# coordinate transformation\n",
    "d['x'] = d.apply(lambda row: rc2xy(row.row,row.col)[0], axis=1)\n",
    "d['y'] = d.apply(lambda row: rc2xy(row.row,row.col)[1], axis=1)\n",
    "# geometry\n",
    "from shapely.geometry import Point\n",
    "d['geometry'] =d.apply(lambda row: Point(row['x'], row['y']), axis=1)\n",
    "# first 2 points\n",
    "d.head(2)"
   ]
  },
  {
   "cell_type": "code",
   "execution_count": 93,
   "metadata": {},
   "outputs": [
    {
     "data": {
      "text/plain": [
       "geopandas.geodataframe.GeoDataFrame"
      ]
     },
     "execution_count": 93,
     "metadata": {},
     "output_type": "execute_result"
    }
   ],
   "source": [
    "type(d)"
   ]
  },
  {
   "cell_type": "code",
   "execution_count": 117,
   "metadata": {},
   "outputs": [
    {
     "name": "stdout",
     "output_type": "stream",
     "text": [
      "{'driver': 'GTiff', 'dtype': 'int16', 'nodata': 9999.0, 'width': 3584, 'height': 4607, 'count': 1, 'crs': CRS.from_epsg(4326), 'transform': Affine(2.1457672119140625e-05, 0.0, -107.138671875,\n",
      "       0.0, -1.668429992519871e-05, 39.01918369029135), 'tiled': False, 'interleave': 'band'}\n"
     ]
    },
    {
     "ename": "ValueError",
     "evalue": "Source shape (4609, 3584) is inconsistent with given indexes 1",
     "output_type": "error",
     "traceback": [
      "\u001b[0;31m---------------------------------------------------------------------------\u001b[0m",
      "\u001b[0;31mValueError\u001b[0m                                Traceback (most recent call last)",
      "\u001b[0;32m<ipython-input-117-2017ad206c2d>\u001b[0m in \u001b[0;36m<module>\u001b[0;34m()\u001b[0m\n\u001b[1;32m     15\u001b[0m         \u001b[0moutput\u001b[0m\u001b[0;34m=\u001b[0m\u001b[0;34m'preds_clipped_matched.tif'\u001b[0m\u001b[0;34m\u001b[0m\u001b[0;34m\u001b[0m\u001b[0m\n\u001b[1;32m     16\u001b[0m         \u001b[0;32mwith\u001b[0m \u001b[0mrasterio\u001b[0m\u001b[0;34m.\u001b[0m\u001b[0mopen\u001b[0m\u001b[0;34m(\u001b[0m\u001b[0moutput\u001b[0m\u001b[0;34m,\u001b[0m \u001b[0;34m'w'\u001b[0m\u001b[0;34m,\u001b[0m \u001b[0;34m**\u001b[0m\u001b[0mout_profile\u001b[0m\u001b[0;34m)\u001b[0m \u001b[0;32mas\u001b[0m \u001b[0mdst\u001b[0m\u001b[0;34m:\u001b[0m\u001b[0;34m\u001b[0m\u001b[0;34m\u001b[0m\u001b[0m\n\u001b[0;32m---> 17\u001b[0;31m             \u001b[0mdst\u001b[0m\u001b[0;34m.\u001b[0m\u001b[0mwrite\u001b[0m\u001b[0;34m(\u001b[0m\u001b[0mpred\u001b[0m\u001b[0;34m)\u001b[0m\u001b[0;34m\u001b[0m\u001b[0;34m\u001b[0m\u001b[0m\n\u001b[0m",
      "\u001b[0;32mrasterio/_io.pyx\u001b[0m in \u001b[0;36mrasterio._io.DatasetWriterBase.write\u001b[0;34m()\u001b[0m\n",
      "\u001b[0;31mValueError\u001b[0m: Source shape (4609, 3584) is inconsistent with given indexes 1"
     ]
    }
   ],
   "source": [
    "import geopandas as gp\n",
    "from rasterio.features import shapes\n",
    "with rasterio.open('asos_clipped.tif') as msk:\n",
    "    with rasterio.open('preds_clipped.tif') as src:        \n",
    "        aso = msk.read(1)  ## first and only band      \n",
    "        pred = src.read(1)   ## first and only band\n",
    "        #print('mask',msk.profile)\n",
    "        #print('pred', src.profile)\n",
    "        out_profile = msk.profile.copy()\n",
    "        print(out_profile)\n",
    "        out_affine = out_profile.pop(\"transform\")\n",
    "        out_profile[\"transform\"] = out_affine\n",
    "\n",
    "        # then, write the output raster\n",
    "        output='preds_clipped_matched.tif'\n",
    "        with rasterio.open(output, 'w', **out_profile) as dst:\n",
    "            dst.write(pred)\n",
    "\n"
   ]
  },
  {
   "cell_type": "code",
   "execution_count": 105,
   "metadata": {},
   "outputs": [
    {
     "data": {
      "text/html": [
       "<div>\n",
       "<style scoped>\n",
       "    .dataframe tbody tr th:only-of-type {\n",
       "        vertical-align: middle;\n",
       "    }\n",
       "\n",
       "    .dataframe tbody tr th {\n",
       "        vertical-align: top;\n",
       "    }\n",
       "\n",
       "    .dataframe thead th {\n",
       "        text-align: right;\n",
       "    }\n",
       "</style>\n",
       "<table border=\"1\" class=\"dataframe\">\n",
       "  <thead>\n",
       "    <tr style=\"text-align: right;\">\n",
       "      <th></th>\n",
       "      <th>geometry</th>\n",
       "      <th>altitude</th>\n",
       "    </tr>\n",
       "  </thead>\n",
       "  <tbody>\n",
       "    <tr>\n",
       "      <th>0</th>\n",
       "      <td>POLYGON ((-107.11627 39.01918, -107.11627 39.0...</td>\n",
       "      <td>0.0</td>\n",
       "    </tr>\n",
       "    <tr>\n",
       "      <th>1</th>\n",
       "      <td>POLYGON ((-107.11593 39.01918, -107.11593 39.0...</td>\n",
       "      <td>0.0</td>\n",
       "    </tr>\n",
       "  </tbody>\n",
       "</table>\n",
       "</div>"
      ],
      "text/plain": [
       "                                            geometry  altitude\n",
       "0  POLYGON ((-107.11627 39.01918, -107.11627 39.0...       0.0\n",
       "1  POLYGON ((-107.11593 39.01918, -107.11593 39.0...       0.0"
      ]
     },
     "execution_count": 105,
     "metadata": {},
     "output_type": "execute_result"
    }
   ],
   "source": [
    "thisGeoData.head(2)"
   ]
  },
  {
   "cell_type": "code",
   "execution_count": 119,
   "metadata": {},
   "outputs": [],
   "source": [
    "scale=1\n",
    "from rasterio.enums import Resampling\n",
    "# Open data and assign negative values to nan\n",
    "with rio.open('preds_clipped.tif') as origin:\n",
    "        with rio.open('asos_clipped.tif') as src:\n",
    "            t = src.transform\n",
    "            # # Load red and NIR bands - note all PlanetScope 4-band images have band order BGRN\n",
    "           # planet_ndvi = es.normalized_diff(src.read(3), src.read(4))\n",
    "            # rescale the metadata\n",
    "            transform = Affine(t.a * scale, t.b, t.c, t.d, t.e * scale, t.f)\n",
    "            height = int(src.height / scale)\n",
    "            width = int(src.width / scale)\n",
    "\n",
    "            profile = origin.profile\n",
    "            profile.update(transform=transform,\n",
    "                           driver='GTiff', \n",
    "                           height=height, width=width)\n",
    "\n",
    "            #data = raster.read(\n",
    "            #        out_shape=(origin.count, height, width),\n",
    "            #        resampling=Resampling.bilinear,\n",
    "            #    )\n",
    "            data = origin.read(\n",
    "                    out_shape=(origin.count, height, width),\n",
    "                    resampling=Resampling.bilinear,\n",
    "            )\n",
    "            with rasterio.open('preds_clipped_matched.tif', 'w', **profile) as dataset:  # Open as DatasetWriter\n",
    "                dataset.write(data)"
   ]
  },
  {
   "cell_type": "code",
   "execution_count": null,
   "metadata": {},
   "outputs": [],
   "source": []
  },
  {
   "cell_type": "code",
   "execution_count": 106,
   "metadata": {},
   "outputs": [],
   "source": [
    "import os\n",
    "from glob import glob\n",
    "import matplotlib.pyplot as plt\n",
    "import rasterio as rio\n",
    "from rasterio.plot import plotting_extent\n",
    "import geopandas as gpd\n",
    "import earthpy as et\n",
    "import earthpy.spatial as es\n",
    "import earthpy.plot as ep"
   ]
  },
  {
   "cell_type": "code",
   "execution_count": 128,
   "metadata": {},
   "outputs": [],
   "source": [
    "stack_band_paths= [\"asos_clipped.tif\",\"preds_clipped_matched.tif\"]\n",
    "raster_out_path = os.path.join('.', \"raster.tiff\")\n",
    "array, raster_prof = es.stack(stack_band_paths, out_path=raster_out_path)"
   ]
  },
  {
   "cell_type": "code",
   "execution_count": 129,
   "metadata": {},
   "outputs": [
    {
     "data": {
      "image/png": "[encoded data removed]",
      "text/plain": [
       "<Figure size 864x864 with 2 Axes>"
      ]
     },
     "metadata": {},
     "output_type": "display_data"
    }
   ],
   "source": [
    "# View hist of data with nodata values removed\n",
    "ep.hist(\n",
    "    array,\n",
    "    title=[\n",
    "        \"Band 1 - ASO\",\n",
    "        \"Band 2 - PRED\"\n",
    "    ],\n",
    ")\n",
    "plt.show()\n",
    "\n",
    "# Recreate extent object for the No Data array\n",
    "\n",
    "extent_nodata = plotting_extent(\n",
    "    array[0], raster_prof[\"transform\"]\n",
    ")"
   ]
  },
  {
   "cell_type": "code",
   "execution_count": 130,
   "metadata": {},
   "outputs": [
    {
     "ename": "ValueError",
     "evalue": "Found input variables with inconsistent numbers of samples: [11007488, 11010560]",
     "output_type": "error",
     "traceback": [
      "\u001b[0;31m---------------------------------------------------------------------------\u001b[0m",
      "\u001b[0;31mValueError\u001b[0m                                Traceback (most recent call last)",
      "\u001b[0;32m<ipython-input-130-1c1d2f1dfd2b>\u001b[0m in \u001b[0;36m<module>\u001b[0;34m()\u001b[0m\n\u001b[1;32m      8\u001b[0m \u001b[0mcompare\u001b[0m \u001b[0;34m=\u001b[0m \u001b[0;34m(\u001b[0m\u001b[0mmask_data\u001b[0m\u001b[0;34m,\u001b[0m \u001b[0mpred_data\u001b[0m\u001b[0;34m)\u001b[0m\u001b[0;34m\u001b[0m\u001b[0;34m\u001b[0m\u001b[0m\n\u001b[1;32m      9\u001b[0m \u001b[0;34m\u001b[0m\u001b[0m\n\u001b[0;32m---> 10\u001b[0;31m \u001b[0mbalanced_acc\u001b[0m \u001b[0;34m=\u001b[0m \u001b[0mmetrics\u001b[0m\u001b[0;34m.\u001b[0m\u001b[0mbalanced_accuracy_score\u001b[0m\u001b[0;34m(\u001b[0m\u001b[0;34m*\u001b[0m\u001b[0mcompare\u001b[0m\u001b[0;34m)\u001b[0m\u001b[0;34m\u001b[0m\u001b[0;34m\u001b[0m\u001b[0m\n\u001b[0m\u001b[1;32m     11\u001b[0m \u001b[0mprfs\u001b[0m \u001b[0;34m=\u001b[0m \u001b[0mmetrics\u001b[0m\u001b[0;34m.\u001b[0m\u001b[0mprecision_recall_fscore_support\u001b[0m\u001b[0;34m(\u001b[0m\u001b[0;34m*\u001b[0m\u001b[0mcompare\u001b[0m\u001b[0;34m,\u001b[0m \u001b[0maverage\u001b[0m\u001b[0;34m=\u001b[0m\u001b[0;34m'binary'\u001b[0m\u001b[0;34m)\u001b[0m\u001b[0;34m\u001b[0m\u001b[0;34m\u001b[0m\u001b[0m\n\u001b[1;32m     12\u001b[0m \u001b[0;34m\u001b[0m\u001b[0m\n",
      "\u001b[0;32m~/anaconda3/envs/pytorch_p36/lib/python3.6/site-packages/sklearn/metrics/classification.py\u001b[0m in \u001b[0;36mbalanced_accuracy_score\u001b[0;34m(y_true, y_pred, sample_weight, adjusted)\u001b[0m\n\u001b[1;32m   1431\u001b[0m \u001b[0;34m\u001b[0m\u001b[0m\n\u001b[1;32m   1432\u001b[0m     \"\"\"\n\u001b[0;32m-> 1433\u001b[0;31m     \u001b[0mC\u001b[0m \u001b[0;34m=\u001b[0m \u001b[0mconfusion_matrix\u001b[0m\u001b[0;34m(\u001b[0m\u001b[0my_true\u001b[0m\u001b[0;34m,\u001b[0m \u001b[0my_pred\u001b[0m\u001b[0;34m,\u001b[0m \u001b[0msample_weight\u001b[0m\u001b[0;34m=\u001b[0m\u001b[0msample_weight\u001b[0m\u001b[0;34m)\u001b[0m\u001b[0;34m\u001b[0m\u001b[0;34m\u001b[0m\u001b[0m\n\u001b[0m\u001b[1;32m   1434\u001b[0m     \u001b[0;32mwith\u001b[0m \u001b[0mnp\u001b[0m\u001b[0;34m.\u001b[0m\u001b[0merrstate\u001b[0m\u001b[0;34m(\u001b[0m\u001b[0mdivide\u001b[0m\u001b[0;34m=\u001b[0m\u001b[0;34m'ignore'\u001b[0m\u001b[0;34m,\u001b[0m \u001b[0minvalid\u001b[0m\u001b[0;34m=\u001b[0m\u001b[0;34m'ignore'\u001b[0m\u001b[0;34m)\u001b[0m\u001b[0;34m:\u001b[0m\u001b[0;34m\u001b[0m\u001b[0;34m\u001b[0m\u001b[0m\n\u001b[1;32m   1435\u001b[0m         \u001b[0mper_class\u001b[0m \u001b[0;34m=\u001b[0m \u001b[0mnp\u001b[0m\u001b[0;34m.\u001b[0m\u001b[0mdiag\u001b[0m\u001b[0;34m(\u001b[0m\u001b[0mC\u001b[0m\u001b[0;34m)\u001b[0m \u001b[0;34m/\u001b[0m \u001b[0mC\u001b[0m\u001b[0;34m.\u001b[0m\u001b[0msum\u001b[0m\u001b[0;34m(\u001b[0m\u001b[0maxis\u001b[0m\u001b[0;34m=\u001b[0m\u001b[0;36m1\u001b[0m\u001b[0;34m)\u001b[0m\u001b[0;34m\u001b[0m\u001b[0;34m\u001b[0m\u001b[0m\n",
      "\u001b[0;32m~/anaconda3/envs/pytorch_p36/lib/python3.6/site-packages/sklearn/metrics/classification.py\u001b[0m in \u001b[0;36mconfusion_matrix\u001b[0;34m(y_true, y_pred, labels, sample_weight)\u001b[0m\n\u001b[1;32m    251\u001b[0m \u001b[0;34m\u001b[0m\u001b[0m\n\u001b[1;32m    252\u001b[0m     \"\"\"\n\u001b[0;32m--> 253\u001b[0;31m     \u001b[0my_type\u001b[0m\u001b[0;34m,\u001b[0m \u001b[0my_true\u001b[0m\u001b[0;34m,\u001b[0m \u001b[0my_pred\u001b[0m \u001b[0;34m=\u001b[0m \u001b[0m_check_targets\u001b[0m\u001b[0;34m(\u001b[0m\u001b[0my_true\u001b[0m\u001b[0;34m,\u001b[0m \u001b[0my_pred\u001b[0m\u001b[0;34m)\u001b[0m\u001b[0;34m\u001b[0m\u001b[0;34m\u001b[0m\u001b[0m\n\u001b[0m\u001b[1;32m    254\u001b[0m     \u001b[0;32mif\u001b[0m \u001b[0my_type\u001b[0m \u001b[0;32mnot\u001b[0m \u001b[0;32min\u001b[0m \u001b[0;34m(\u001b[0m\u001b[0;34m\"binary\"\u001b[0m\u001b[0;34m,\u001b[0m \u001b[0;34m\"multiclass\"\u001b[0m\u001b[0;34m)\u001b[0m\u001b[0;34m:\u001b[0m\u001b[0;34m\u001b[0m\u001b[0;34m\u001b[0m\u001b[0m\n\u001b[1;32m    255\u001b[0m         \u001b[0;32mraise\u001b[0m \u001b[0mValueError\u001b[0m\u001b[0;34m(\u001b[0m\u001b[0;34m\"%s is not supported\"\u001b[0m \u001b[0;34m%\u001b[0m \u001b[0my_type\u001b[0m\u001b[0;34m)\u001b[0m\u001b[0;34m\u001b[0m\u001b[0;34m\u001b[0m\u001b[0m\n",
      "\u001b[0;32m~/anaconda3/envs/pytorch_p36/lib/python3.6/site-packages/sklearn/metrics/classification.py\u001b[0m in \u001b[0;36m_check_targets\u001b[0;34m(y_true, y_pred)\u001b[0m\n\u001b[1;32m     69\u001b[0m     \u001b[0my_pred\u001b[0m \u001b[0;34m:\u001b[0m \u001b[0marray\u001b[0m \u001b[0;32mor\u001b[0m \u001b[0mindicator\u001b[0m \u001b[0mmatrix\u001b[0m\u001b[0;34m\u001b[0m\u001b[0;34m\u001b[0m\u001b[0m\n\u001b[1;32m     70\u001b[0m     \"\"\"\n\u001b[0;32m---> 71\u001b[0;31m     \u001b[0mcheck_consistent_length\u001b[0m\u001b[0;34m(\u001b[0m\u001b[0my_true\u001b[0m\u001b[0;34m,\u001b[0m \u001b[0my_pred\u001b[0m\u001b[0;34m)\u001b[0m\u001b[0;34m\u001b[0m\u001b[0;34m\u001b[0m\u001b[0m\n\u001b[0m\u001b[1;32m     72\u001b[0m     \u001b[0mtype_true\u001b[0m \u001b[0;34m=\u001b[0m \u001b[0mtype_of_target\u001b[0m\u001b[0;34m(\u001b[0m\u001b[0my_true\u001b[0m\u001b[0;34m)\u001b[0m\u001b[0;34m\u001b[0m\u001b[0;34m\u001b[0m\u001b[0m\n\u001b[1;32m     73\u001b[0m     \u001b[0mtype_pred\u001b[0m \u001b[0;34m=\u001b[0m \u001b[0mtype_of_target\u001b[0m\u001b[0;34m(\u001b[0m\u001b[0my_pred\u001b[0m\u001b[0;34m)\u001b[0m\u001b[0;34m\u001b[0m\u001b[0;34m\u001b[0m\u001b[0m\n",
      "\u001b[0;32m~/anaconda3/envs/pytorch_p36/lib/python3.6/site-packages/sklearn/utils/validation.py\u001b[0m in \u001b[0;36mcheck_consistent_length\u001b[0;34m(*arrays)\u001b[0m\n\u001b[1;32m    233\u001b[0m     \u001b[0;32mif\u001b[0m \u001b[0mlen\u001b[0m\u001b[0;34m(\u001b[0m\u001b[0muniques\u001b[0m\u001b[0;34m)\u001b[0m \u001b[0;34m>\u001b[0m \u001b[0;36m1\u001b[0m\u001b[0;34m:\u001b[0m\u001b[0;34m\u001b[0m\u001b[0;34m\u001b[0m\u001b[0m\n\u001b[1;32m    234\u001b[0m         raise ValueError(\"Found input variables with inconsistent numbers of\"\n\u001b[0;32m--> 235\u001b[0;31m                          \" samples: %r\" % [int(l) for l in lengths])\n\u001b[0m\u001b[1;32m    236\u001b[0m \u001b[0;34m\u001b[0m\u001b[0m\n\u001b[1;32m    237\u001b[0m \u001b[0;34m\u001b[0m\u001b[0m\n",
      "\u001b[0;31mValueError\u001b[0m: Found input variables with inconsistent numbers of samples: [11007488, 11010560]"
     ]
    }
   ],
   "source": [
    "from glob import glob\n",
    "from sklearn import metrics\n",
    "import json\n",
    "\n",
    "mask_data = array[0][np.where(array[0] != 9999)]\n",
    "pred_data = array[1][np.where(array[1] != 9999)]\n",
    "        \n",
    "compare = (mask_data, pred_data)\n",
    "\n",
    "balanced_acc = metrics.balanced_accuracy_score(*compare)\n",
    "prfs = metrics.precision_recall_fscore_support(*compare, average='binary')\n",
    "\n",
    "these_metrics = {\n",
    "        \"balanced_accuracy\" : balanced_acc,\n",
    "        \"precision\": prfs[0],\n",
    "        \"recall\": prfs[1],\n",
    "        \"f_score\": prfs[2]\n",
    "    }"
   ]
  },
  {
   "cell_type": "code",
   "execution_count": 124,
   "metadata": {},
   "outputs": [
    {
     "data": {
      "text/plain": [
       "masked_array(\n",
       "  data=[[[9999, 9999, 9999, ..., 9999, 9999, 9999],\n",
       "         [9999, 9999, 9999, ..., 9999, 9999, 9999],\n",
       "         [9999, 9999, 9999, ..., 9999, 9999, 9999],\n",
       "         ...,\n",
       "         [9999, 9999, 9999, ..., 9999, 9999, 9999],\n",
       "         [9999, 9999, 9999, ..., 9999, 9999, 9999],\n",
       "         [9999, 9999, 9999, ..., 9999, 9999, 9999]],\n",
       "\n",
       "        [[9999, 9999, 9999, ..., 9999, 9999, 9999],\n",
       "         [9999, 9999, 9999, ..., 9999, 9999, 9999],\n",
       "         [9999, 9999, 9999, ..., 9999, 9999, 9999],\n",
       "         ...,\n",
       "         [9999, 9999, 9999, ..., 9999, 9999, 9999],\n",
       "         [9999, 9999, 9999, ..., 9999, 9999, 9999],\n",
       "         [9999, 9999, 9999, ..., 9999, 9999, 9999]]],\n",
       "  mask=False,\n",
       "  fill_value=-9999,\n",
       "  dtype=int16)"
      ]
     },
     "execution_count": 124,
     "metadata": {},
     "output_type": "execute_result"
    }
   ],
   "source": [
    "array"
   ]
  },
  {
   "cell_type": "code",
   "execution_count": 61,
   "metadata": {},
   "outputs": [],
   "source": [
    "import geojson as gj\n",
    "from osgeo import ogr, osr, gdal\n",
    "\n",
    "# Enable GDAL/OGR exceptions\n",
    "gdal.UseExceptions()\n",
    "\n",
    "\n",
    "# GDAL & OGR memory drivers\n",
    "GDAL_MEMORY_DRIVER = gdal.GetDriverByName('MEM')\n",
    "OGR_MEMORY_DRIVER = ogr.GetDriverByName('Memory')\n",
    "\n",
    "\n",
    "def cut_by_geojson(input_file, output_file, shape_geojson):\n",
    "\n",
    "    # Get coords for bounding box\n",
    "    x, y = zip(*gj.utils.coords(gj.loads(shape_geojson)))\n",
    "    min_x, max_x, min_y, max_y = min(x), max(x), min(y), max(y)\n",
    "\n",
    "    # Open original data as read only\n",
    "    dataset = gdal.Open(input_file, gdal.GA_ReadOnly)\n",
    "\n",
    "    bands = dataset.RasterCount\n",
    "\n",
    "    # Getting georeference info\n",
    "    transform = dataset.GetGeoTransform()\n",
    "    projection = dataset.GetProjection()\n",
    "    xOrigin = transform[0]\n",
    "    yOrigin = transform[3]\n",
    "    pixelWidth = transform[1]\n",
    "    pixelHeight = -transform[5]\n",
    "\n",
    "    # Getting spatial reference of input raster\n",
    "    srs = osr.SpatialReference()\n",
    "    srs.ImportFromWkt(projection)\n",
    "\n",
    "    # WGS84 projection reference\n",
    "    OSR_WGS84_REF = osr.SpatialReference()\n",
    "    OSR_WGS84_REF.ImportFromEPSG(4326)\n",
    "\n",
    "    # OSR transformation\n",
    "    wgs84_to_image_trasformation = osr.CoordinateTransformation(OSR_WGS84_REF,\n",
    "                                                                srs)\n",
    "    XYmin = wgs84_to_image_trasformation.TransformPoint(min_x, max_y)\n",
    "    XYmax = wgs84_to_image_trasformation.TransformPoint(max_x, min_y)\n",
    "\n",
    "    # Computing Point1(i1,j1), Point2(i2,j2)\n",
    "    i1 = int((XYmin[0] - xOrigin) / pixelWidth)\n",
    "    j1 = int((yOrigin - XYmin[1]) / pixelHeight)\n",
    "    i2 = int((XYmax[0] - xOrigin) / pixelWidth)\n",
    "    j2 = int((yOrigin - XYmax[1]) / pixelHeight)\n",
    "    new_cols = i2 - i1 + 1\n",
    "    new_rows = j2 - j1 + 1\n",
    "\n",
    "    # New upper-left X,Y values\n",
    "    new_x = xOrigin + i1 * pixelWidth\n",
    "    new_y = yOrigin - j1 * pixelHeight\n",
    "    new_transform = (new_x, transform[1], transform[2], new_y, transform[4],\n",
    "                     transform[5])\n",
    "\n",
    "    wkt_geom = ogr.CreateGeometryFromJson(str(shape_geojson))\n",
    "    wkt_geom.Transform(wgs84_to_image_trasformation)\n",
    "\n",
    "    target_ds = GDAL_MEMORY_DRIVER.Create('', new_cols, new_rows, 1,\n",
    "                                          gdal.GDT_Byte)\n",
    "    target_ds.SetGeoTransform(new_transform)\n",
    "    target_ds.SetProjection(projection)\n",
    "\n",
    "    # Create a memory layer to rasterize from.\n",
    "    ogr_dataset = OGR_MEMORY_DRIVER.CreateDataSource('shapemask')\n",
    "    ogr_layer = ogr_dataset.CreateLayer('shapemask', srs=srs)\n",
    "    ogr_feature = ogr.Feature(ogr_layer.GetLayerDefn())\n",
    "    ogr_feature.SetGeometryDirectly(ogr.Geometry(wkt=wkt_geom.ExportToWkt()))\n",
    "    ogr_layer.CreateFeature(ogr_feature)\n",
    "\n",
    "    gdal.RasterizeLayer(target_ds, [1], ogr_layer, burn_values=[1],\n",
    "                        options=[\"ALL_TOUCHED=TRUE\"])\n",
    "\n",
    "    # Create output file\n",
    "    driver = gdal.GetDriverByName('GTiff')\n",
    "    outds = driver.Create(output_file, new_cols, new_rows, bands,\n",
    "                          gdal.GDT_Float32)\n",
    "\n",
    "    # Read in bands and store all the data in bandList\n",
    "    mask_array = target_ds.GetRasterBand(1).ReadAsArray()\n",
    "    band_list = []\n",
    "\n",
    "    for i in range(bands):\n",
    "        band_list.append(dataset.GetRasterBand(i + 1).ReadAsArray(i1, j1,\n",
    "                         new_cols, new_rows))\n",
    "\n",
    "    for j in range(bands):\n",
    "        data = np.where(mask_array == 1, band_list[j], mask_array)\n",
    "        outds.GetRasterBand(j + 1).SetNoDataValue(0)\n",
    "        outds.GetRasterBand(j + 1).WriteArray(data)\n",
    "\n",
    "    outds.SetProjection(projection)\n",
    "    outds.SetGeoTransform(new_transform)\n",
    "\n",
    "    target_ds = None\n",
    "    dataset = None\n",
    "    outds = None\n",
    "    ogr_dataset = None"
   ]
  },
  {
   "cell_type": "code",
   "execution_count": null,
   "metadata": {},
   "outputs": [],
   "source": []
  },
  {
   "cell_type": "code",
   "execution_count": 4,
   "metadata": {},
   "outputs": [
    {
     "name": "stdout",
     "output_type": "stream",
     "text": [
      "/home/ubuntu/veg-co-validate/planet-snowcover-analysis:planet-snowcover-2020-03-01-13-37-37-330:planet-snowcover-imagery-veg:20180524_172329_0f51_3B_AnalyticMS_SR_clip/preds/20180524_172329_0f51_3B_AnalyticMS_SR_clip_merged.tif\n",
      "[[9999 9999 9999 ... 9999 9999 9999]\n",
      " [9999 9999 9999 ... 9999 9999 9999]\n",
      " [9999 9999 9999 ... 9999 9999 9999]\n",
      " ...\n",
      " [9999 9999 9999 ... 9999 9999 9999]\n",
      " [9999 9999 9999 ... 9999 9999 9999]\n",
      " [9999 9999 9999 ... 9999 9999 9999]]\n"
     ]
    },
    {
     "data": {
      "image/png": "[encoded data removed]",
      "text/plain": [
       "<Figure size 720x720 with 1 Axes>"
      ]
     },
     "metadata": {},
     "output_type": "display_data"
    }
   ],
   "source": [
    "%matplotlib inline\n",
    "import rasterio as rio\n",
    "import numpy as np\n",
    "from matplotlib import pyplot as plt\n",
    "import rasterio.plot\n",
    "import os\n",
    "from datetime import datetime as dt\n",
    "print(results[0])\n",
    "# Load the DEM and read out a np array of the elevation values (meters):\n",
    "dem = rio.open(results[0])\n",
    "elev = dem.read(1)\n",
    "print(elev)\n",
    "\n",
    "\n",
    "# Plot this elevation band:\n",
    "plt.figure(figsize=(10,10))\n",
    "plt.imshow(elev)\n",
    "\n",
    "title_text = ''\n",
    "plt.title(title_text);"
   ]
  },
  {
   "cell_type": "code",
   "execution_count": 5,
   "metadata": {},
   "outputs": [
    {
     "name": "stdout",
     "output_type": "stream",
     "text": [
      "/home/ubuntu/veg-co-validate/planet-snowcover-analysis:planet-snowcover-2020-03-01-13-37-37-330:planet-snowcover-imagery-veg:20180524_172329_0f51_3B_AnalyticMS_SR_clip/mask/ASO_3M_SD_USCOGE_20180524_binary_merged.tif\n",
      "[[9999 9999 9999 ... 9999 9999 9999]\n",
      " [9999 9999 9999 ... 9999 9999 9999]\n",
      " [9999 9999 9999 ... 9999 9999 9999]\n",
      " ...\n",
      " [9999 9999 9999 ... 9999 9999 9999]\n",
      " [9999 9999 9999 ... 9999 9999 9999]\n",
      " [9999 9999 9999 ... 9999 9999 9999]]\n"
     ]
    },
    {
     "data": {
      "image/png": "[encoded data removed]",
      "text/plain": [
       "<Figure size 720x720 with 1 Axes>"
      ]
     },
     "metadata": {},
     "output_type": "display_data"
    }
   ],
   "source": [
    "%matplotlib inline\n",
    "import rasterio as rio\n",
    "import numpy as np\n",
    "from matplotlib import pyplot as plt\n",
    "import rasterio.plot\n",
    "import os\n",
    "from datetime import datetime as dt\n",
    "print(results[1])\n",
    "# Load the DEM and read out a np array of the elevation values (meters):\n",
    "dem = rio.open(results[1])\n",
    "elev = dem.read(1)\n",
    "print(elev)\n",
    "\n",
    "\n",
    "# Plot this elevation band:\n",
    "plt.figure(figsize=(10,10))\n",
    "plt.imshow(elev)\n",
    "\n",
    "title_text = ''\n",
    "plt.title(title_text);"
   ]
  },
  {
   "cell_type": "code",
   "execution_count": null,
   "metadata": {},
   "outputs": [],
   "source": []
  }
 ],
 "metadata": {
  "kernelspec": {
   "display_name": "Environment (conda_pytorch_p36)",
   "language": "python",
   "name": "conda_pytorch_p36"
  },
  "language_info": {
   "codemirror_mode": {
    "name": "ipython",
    "version": 3
   },
   "file_extension": ".py",
   "mimetype": "text/x-python",
   "name": "python",
   "nbconvert_exporter": "python",
   "pygments_lexer": "ipython3",
   "version": "3.6.8"
  }
 },
 "nbformat": 4,
 "nbformat_minor": 2
}
