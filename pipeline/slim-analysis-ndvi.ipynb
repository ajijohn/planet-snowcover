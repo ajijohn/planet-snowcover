{
 "cells": [
  {
   "cell_type": "code",
   "execution_count": null,
   "metadata": {},
   "outputs": [],
   "source": []
  },
  {
   "cell_type": "code",
   "execution_count": 14,
   "metadata": {},
   "outputs": [],
   "source": [
    "library(tidyverse)\n"
   ]
  },
  {
   "cell_type": "code",
   "execution_count": 15,
   "metadata": {},
   "outputs": [],
   "source": [
    "library(raster)\n",
    "library(gdalUtils)"
   ]
  },
  {
   "cell_type": "code",
   "execution_count": 4,
   "metadata": {},
   "outputs": [],
   "source": [
    "# get all the rasters aso tiles\n",
    "#list files in a specific folder\n",
    "veg_aso <- list.files(path = \"~/ndvi/\")"
   ]
  },
  {
   "cell_type": "code",
   "execution_count": 5,
   "metadata": {},
   "outputs": [
    {
     "name": "stdout",
     "output_type": "stream",
     "text": [
      "[[1]]\n",
      "[1] \"~/ndvi/planet-snowcover-experiments:planet-snowcover-2020-04-17-16-32-32-656:planet-snowcover-imagery-ndvi:20180528_180847_1002_3B_AnalyticMS_SR_clip/mask/ASO_3M_SD_USCATE_20180528_binary_merged.tif\"\n",
      "\n",
      "[[2]]\n",
      "[1] \"~/ndvi/planet-snowcover-experiments:planet-snowcover-2020-04-17-16-32-32-656:planet-snowcover-imagery-ndvi:20180528_181108_1025_3B_AnalyticMS_SR_clip/mask/ASO_3M_SD_USCATE_20180528_binary_merged.tif\"\n",
      "\n",
      "[[3]]\n",
      "[1] \"~/ndvi/planet-snowcover-experiments:planet-snowcover-2020-04-17-16-32-32-656:planet-snowcover-imagery-ndvi:20180528_181109_1025_3B_AnalyticMS_SR_clip/mask/ASO_3M_SD_USCATE_20180528_binary_merged.tif\"\n",
      "\n",
      "[[4]]\n",
      "[1] \"~/ndvi/planet-snowcover-experiments:planet-snowcover-2020-04-17-16-32-32-656:planet-snowcover-imagery-ndvi:20180528_181110_1025_3B_AnalyticMS_SR_clip/mask/ASO_3M_SD_USCATE_20180528_binary_merged.tif\"\n",
      "\n",
      "[[5]]\n",
      "[1] \"~/ndvi/planet-snowcover-experiments:planet-snowcover-2020-04-17-16-32-32-656:planet-snowcover-imagery-ndvi:20180528_181111_1025_3B_AnalyticMS_SR_clip/mask/ASO_3M_SD_USCATE_20180528_binary_merged.tif\"\n",
      "\n",
      "[[6]]\n",
      "[1] \"~/ndvi/planet-snowcover-experiments:planet-snowcover-2020-04-17-16-32-32-656:planet-snowcover-imagery-ndvi:20180528_181112_1025_3B_AnalyticMS_SR_clip/mask/ASO_3M_SD_USCATE_20180528_binary_merged.tif\"\n",
      "\n",
      "[[7]]\n",
      "[1] \"~/ndvi/planet-snowcover-experiments:planet-snowcover-2020-04-17-16-32-32-656:planet-snowcover-imagery-ndvi:20180528_181113_1025_3B_AnalyticMS_SR_clip/mask/ASO_3M_SD_USCATE_20180528_binary_merged.tif\"\n",
      "\n",
      "[[8]]\n",
      "[1] \"~/ndvi/planet-snowcover-experiments:planet-snowcover-2020-04-17-16-32-32-656:planet-snowcover-imagery-ndvi:20180528_181319_1005_3B_AnalyticMS_SR_clip/mask/ASO_3M_SD_USCATE_20180528_binary_merged.tif\"\n",
      "\n",
      "[[9]]\n",
      "[1] \"~/ndvi/planet-snowcover-experiments:planet-snowcover-2020-04-17-16-32-32-656:planet-snowcover-imagery-ndvi:20180528_181320_1005_3B_AnalyticMS_SR_clip/mask/ASO_3M_SD_USCATE_20180528_binary_merged.tif\"\n",
      "\n",
      "[[10]]\n",
      "[1] \"~/ndvi/planet-snowcover-experiments:planet-snowcover-2020-04-17-16-32-32-656:planet-snowcover-imagery-ndvi:20180528_181322_1005_3B_AnalyticMS_SR_clip/mask/ASO_3M_SD_USCATE_20180528_binary_merged.tif\"\n",
      "\n",
      "[[11]]\n",
      "[1] \"~/ndvi/planet-snowcover-experiments:planet-snowcover-2020-04-17-16-32-32-656:planet-snowcover-imagery-ndvi:20180528_181323_1005_3B_AnalyticMS_SR_clip/mask/ASO_3M_SD_USCATE_20180528_binary_merged.tif\"\n",
      "\n",
      "[[1]]\n",
      "[1] \"~/ndvi/planet-snowcover-experiments:planet-snowcover-2020-04-17-16-32-32-656:planet-snowcover-imagery-ndvi:20180528_180847_1002_3B_AnalyticMS_SR_clip/preds/20180528_180847_1002_3B_AnalyticMS_SR_clip_merged.tif\"\n",
      "\n",
      "[[2]]\n",
      "[1] \"~/ndvi/planet-snowcover-experiments:planet-snowcover-2020-04-17-16-32-32-656:planet-snowcover-imagery-ndvi:20180528_181108_1025_3B_AnalyticMS_SR_clip/preds/20180528_181108_1025_3B_AnalyticMS_SR_clip_merged.tif\"\n",
      "\n",
      "[[3]]\n",
      "[1] \"~/ndvi/planet-snowcover-experiments:planet-snowcover-2020-04-17-16-32-32-656:planet-snowcover-imagery-ndvi:20180528_181109_1025_3B_AnalyticMS_SR_clip/preds/20180528_181109_1025_3B_AnalyticMS_SR_clip_merged.tif\"\n",
      "\n",
      "[[4]]\n",
      "[1] \"~/ndvi/planet-snowcover-experiments:planet-snowcover-2020-04-17-16-32-32-656:planet-snowcover-imagery-ndvi:20180528_181110_1025_3B_AnalyticMS_SR_clip/preds/20180528_181110_1025_3B_AnalyticMS_SR_clip_merged.tif\"\n",
      "\n",
      "[[5]]\n",
      "[1] \"~/ndvi/planet-snowcover-experiments:planet-snowcover-2020-04-17-16-32-32-656:planet-snowcover-imagery-ndvi:20180528_181111_1025_3B_AnalyticMS_SR_clip/preds/20180528_181111_1025_3B_AnalyticMS_SR_clip_merged.tif\"\n",
      "\n",
      "[[6]]\n",
      "[1] \"~/ndvi/planet-snowcover-experiments:planet-snowcover-2020-04-17-16-32-32-656:planet-snowcover-imagery-ndvi:20180528_181112_1025_3B_AnalyticMS_SR_clip/preds/20180528_181112_1025_3B_AnalyticMS_SR_clip_merged.tif\"\n",
      "\n",
      "[[7]]\n",
      "[1] \"~/ndvi/planet-snowcover-experiments:planet-snowcover-2020-04-17-16-32-32-656:planet-snowcover-imagery-ndvi:20180528_181113_1025_3B_AnalyticMS_SR_clip/preds/20180528_181113_1025_3B_AnalyticMS_SR_clip_merged.tif\"\n",
      "\n",
      "[[8]]\n",
      "[1] \"~/ndvi/planet-snowcover-experiments:planet-snowcover-2020-04-17-16-32-32-656:planet-snowcover-imagery-ndvi:20180528_181319_1005_3B_AnalyticMS_SR_clip/preds/20180528_181319_1005_3B_AnalyticMS_SR_clip_merged.tif\"\n",
      "\n",
      "[[9]]\n",
      "[1] \"~/ndvi/planet-snowcover-experiments:planet-snowcover-2020-04-17-16-32-32-656:planet-snowcover-imagery-ndvi:20180528_181320_1005_3B_AnalyticMS_SR_clip/preds/20180528_181320_1005_3B_AnalyticMS_SR_clip_merged.tif\"\n",
      "\n",
      "[[10]]\n",
      "[1] \"~/ndvi/planet-snowcover-experiments:planet-snowcover-2020-04-17-16-32-32-656:planet-snowcover-imagery-ndvi:20180528_181322_1005_3B_AnalyticMS_SR_clip/preds/20180528_181322_1005_3B_AnalyticMS_SR_clip_merged.tif\"\n",
      "\n",
      "[[11]]\n",
      "[1] \"~/ndvi/planet-snowcover-experiments:planet-snowcover-2020-04-17-16-32-32-656:planet-snowcover-imagery-ndvi:20180528_181323_1005_3B_AnalyticMS_SR_clip/preds/20180528_181323_1005_3B_AnalyticMS_SR_clip_merged.tif\"\n",
      "\n"
     ]
    }
   ],
   "source": [
    "asos <- list()\n",
    "preds <-list()\n",
    "for (vaso in veg_aso)\n",
    "{\n",
    "    #print(vaso)\n",
    "    recur = list.files(path=paste(\"~/ndvi/\",vaso,sep=\"\"),recursive = TRUE)\n",
    "    #print(recur)\n",
    "    for (filename in recur)\n",
    "        {\n",
    "          if (startsWith(filename,'mask/') & endsWith(filename,\"merged.tif\"))\n",
    "              asos <- append(asos,paste(\"~/ndvi/\",vaso,\"/\",filename,sep=\"\"))\n",
    "              \n",
    "           if (startsWith(filename,'preds/') & endsWith(filename,\"merged.tif\"))\n",
    "              preds <- append(preds,paste(\"~/ndvi/\",vaso,\"/\",filename,sep=\"\"))    \n",
    "        }\n",
    "}\n",
    "\n",
    "print(asos) \n",
    "print(preds)        \n",
    "    "
   ]
  },
  {
   "cell_type": "code",
   "execution_count": 7,
   "metadata": {},
   "outputs": [
    {
     "name": "stdout",
     "output_type": "stream",
     "text": [
      "List of 11\n",
      " $ : chr \"~/ndvi/planet-snowcover-experiments:planet-snowcover-2020-04-17-16-32-32-656:planet-snowcover-imagery-ndvi:2018\"| __truncated__\n",
      " $ : chr \"~/ndvi/planet-snowcover-experiments:planet-snowcover-2020-04-17-16-32-32-656:planet-snowcover-imagery-ndvi:2018\"| __truncated__\n",
      " $ : chr \"~/ndvi/planet-snowcover-experiments:planet-snowcover-2020-04-17-16-32-32-656:planet-snowcover-imagery-ndvi:2018\"| __truncated__\n",
      " $ : chr \"~/ndvi/planet-snowcover-experiments:planet-snowcover-2020-04-17-16-32-32-656:planet-snowcover-imagery-ndvi:2018\"| __truncated__\n",
      " $ : chr \"~/ndvi/planet-snowcover-experiments:planet-snowcover-2020-04-17-16-32-32-656:planet-snowcover-imagery-ndvi:2018\"| __truncated__\n",
      " $ : chr \"~/ndvi/planet-snowcover-experiments:planet-snowcover-2020-04-17-16-32-32-656:planet-snowcover-imagery-ndvi:2018\"| __truncated__\n",
      " $ : chr \"~/ndvi/planet-snowcover-experiments:planet-snowcover-2020-04-17-16-32-32-656:planet-snowcover-imagery-ndvi:2018\"| __truncated__\n",
      " $ : chr \"~/ndvi/planet-snowcover-experiments:planet-snowcover-2020-04-17-16-32-32-656:planet-snowcover-imagery-ndvi:2018\"| __truncated__\n",
      " $ : chr \"~/ndvi/planet-snowcover-experiments:planet-snowcover-2020-04-17-16-32-32-656:planet-snowcover-imagery-ndvi:2018\"| __truncated__\n",
      " $ : chr \"~/ndvi/planet-snowcover-experiments:planet-snowcover-2020-04-17-16-32-32-656:planet-snowcover-imagery-ndvi:2018\"| __truncated__\n",
      " $ : chr \"~/ndvi/planet-snowcover-experiments:planet-snowcover-2020-04-17-16-32-32-656:planet-snowcover-imagery-ndvi:2018\"| __truncated__\n"
     ]
    }
   ],
   "source": [
    "str(asos)"
   ]
  },
  {
   "cell_type": "code",
   "execution_count": 8,
   "metadata": {},
   "outputs": [],
   "source": [
    "aso_un <- unlist(asos)\n",
    "pred_un <- unlist(preds)"
   ]
  },
  {
   "cell_type": "code",
   "execution_count": 9,
   "metadata": {},
   "outputs": [],
   "source": [
    "aso_un_list <- paste(aso_un, collapse=' ' )\n",
    "pred_un_list <- paste(pred_un, collapse=' ' )"
   ]
  },
  {
   "cell_type": "code",
   "execution_count": 10,
   "metadata": {},
   "outputs": [],
   "source": [
    "system(\"mkdir aso_ndvi\")"
   ]
  },
  {
   "cell_type": "code",
   "execution_count": 11,
   "metadata": {},
   "outputs": [],
   "source": [
    "system(\"mkdir aso_ndvi_pred\")"
   ]
  },
  {
   "cell_type": "code",
   "execution_count": 12,
   "metadata": {},
   "outputs": [
    {
     "data": {
      "text/html": [
       "<ol class=list-inline>\n",
       "\t<li>TRUE</li>\n",
       "\t<li>TRUE</li>\n",
       "\t<li>TRUE</li>\n",
       "\t<li>TRUE</li>\n",
       "\t<li>TRUE</li>\n",
       "\t<li>TRUE</li>\n",
       "\t<li>TRUE</li>\n",
       "\t<li>TRUE</li>\n",
       "\t<li>TRUE</li>\n",
       "\t<li>TRUE</li>\n",
       "\t<li>TRUE</li>\n",
       "</ol>\n"
      ],
      "text/latex": [
       "\\begin{enumerate*}\n",
       "\\item TRUE\n",
       "\\item TRUE\n",
       "\\item TRUE\n",
       "\\item TRUE\n",
       "\\item TRUE\n",
       "\\item TRUE\n",
       "\\item TRUE\n",
       "\\item TRUE\n",
       "\\item TRUE\n",
       "\\item TRUE\n",
       "\\item TRUE\n",
       "\\end{enumerate*}\n"
      ],
      "text/markdown": [
       "1. TRUE\n",
       "2. TRUE\n",
       "3. TRUE\n",
       "4. TRUE\n",
       "5. TRUE\n",
       "6. TRUE\n",
       "7. TRUE\n",
       "8. TRUE\n",
       "9. TRUE\n",
       "10. TRUE\n",
       "11. TRUE\n",
       "\n",
       "\n"
      ],
      "text/plain": [
       " [1] TRUE TRUE TRUE TRUE TRUE TRUE TRUE TRUE TRUE TRUE TRUE"
      ]
     },
     "metadata": {},
     "output_type": "display_data"
    }
   ],
   "source": [
    "file.copy(from=pred_un, to='./aso_ndvi_pred', \n",
    "          overwrite = TRUE, recursive = FALSE, \n",
    "          copy.mode = TRUE)"
   ]
  },
  {
   "cell_type": "code",
   "execution_count": 13,
   "metadata": {},
   "outputs": [
    {
     "name": "stdout",
     "output_type": "stream",
     "text": [
      "[1] \"~/ndvi/planet-snowcover-experiments:planet-snowcover-2020-04-17-16-32-32-656:planet-snowcover-imagery-ndvi:20180528_180847_1002_3B_AnalyticMS_SR_clip/mask/ASO_3M_SD_USCATE_20180528_binary_merged.tif\"\n",
      "[1] \"~/ndvi/planet-snowcover-experiments:planet-snowcover-2020-04-17-16-32-32-656:planet-snowcover-imagery-ndvi:20180528_181108_1025_3B_AnalyticMS_SR_clip/mask/ASO_3M_SD_USCATE_20180528_binary_merged.tif\"\n",
      "[1] \"~/ndvi/planet-snowcover-experiments:planet-snowcover-2020-04-17-16-32-32-656:planet-snowcover-imagery-ndvi:20180528_181109_1025_3B_AnalyticMS_SR_clip/mask/ASO_3M_SD_USCATE_20180528_binary_merged.tif\"\n",
      "[1] \"~/ndvi/planet-snowcover-experiments:planet-snowcover-2020-04-17-16-32-32-656:planet-snowcover-imagery-ndvi:20180528_181110_1025_3B_AnalyticMS_SR_clip/mask/ASO_3M_SD_USCATE_20180528_binary_merged.tif\"\n",
      "[1] \"~/ndvi/planet-snowcover-experiments:planet-snowcover-2020-04-17-16-32-32-656:planet-snowcover-imagery-ndvi:20180528_181111_1025_3B_AnalyticMS_SR_clip/mask/ASO_3M_SD_USCATE_20180528_binary_merged.tif\"\n",
      "[1] \"~/ndvi/planet-snowcover-experiments:planet-snowcover-2020-04-17-16-32-32-656:planet-snowcover-imagery-ndvi:20180528_181112_1025_3B_AnalyticMS_SR_clip/mask/ASO_3M_SD_USCATE_20180528_binary_merged.tif\"\n",
      "[1] \"~/ndvi/planet-snowcover-experiments:planet-snowcover-2020-04-17-16-32-32-656:planet-snowcover-imagery-ndvi:20180528_181113_1025_3B_AnalyticMS_SR_clip/mask/ASO_3M_SD_USCATE_20180528_binary_merged.tif\"\n",
      "[1] \"~/ndvi/planet-snowcover-experiments:planet-snowcover-2020-04-17-16-32-32-656:planet-snowcover-imagery-ndvi:20180528_181319_1005_3B_AnalyticMS_SR_clip/mask/ASO_3M_SD_USCATE_20180528_binary_merged.tif\"\n",
      "[1] \"~/ndvi/planet-snowcover-experiments:planet-snowcover-2020-04-17-16-32-32-656:planet-snowcover-imagery-ndvi:20180528_181320_1005_3B_AnalyticMS_SR_clip/mask/ASO_3M_SD_USCATE_20180528_binary_merged.tif\"\n",
      "[1] \"~/ndvi/planet-snowcover-experiments:planet-snowcover-2020-04-17-16-32-32-656:planet-snowcover-imagery-ndvi:20180528_181322_1005_3B_AnalyticMS_SR_clip/mask/ASO_3M_SD_USCATE_20180528_binary_merged.tif\"\n",
      "[1] \"~/ndvi/planet-snowcover-experiments:planet-snowcover-2020-04-17-16-32-32-656:planet-snowcover-imagery-ndvi:20180528_181323_1005_3B_AnalyticMS_SR_clip/mask/ASO_3M_SD_USCATE_20180528_binary_merged.tif\"\n"
     ]
    }
   ],
   "source": [
    "for(i in 1:length(aso_un))\n",
    "    {\n",
    "     print(aso_un[i])\n",
    "    file.copy(from=aso_un[i],to=paste('./aso_ndvi/',i,'-ASO_3M_SD_USCATE_20180528_binary_merged.tif',sep=\"\"))\n",
    "}"
   ]
  },
  {
   "cell_type": "code",
   "execution_count": 14,
   "metadata": {},
   "outputs": [],
   "source": [
    "fo <- list.files(path = \"./aso_ndvi\", pattern = \".tif$\", full.names = TRUE)\n",
    "rlo <- lapply(fo, raster)\n",
    "\n",
    "aso_dem <- do.call(merge, c(rlo, tolerance = 1))"
   ]
  },
  {
   "cell_type": "code",
   "execution_count": 15,
   "metadata": {},
   "outputs": [],
   "source": [
    "f <- list.files(path = \"./aso_ndvi_pred\", pattern = \".tif$\", full.names = TRUE)\n",
    "rl <- lapply(f, raster)\n",
    "\n",
    "aso_dem_pred <- do.call(merge, c(rl, tolerance = 1))\n"
   ]
  },
  {
   "cell_type": "code",
   "execution_count": 16,
   "metadata": {},
   "outputs": [
    {
     "data": {
      "text/plain": [
       "class       : RasterLayer \n",
       "dimensions  : 26544, 31232, 829022208  (nrow, ncol, ncell)\n",
       "resolution  : 2.145767e-05, 1.695862e-05  (x, y)\n",
       "extent      : -119.8608, -119.1907, 37.7794, 38.22955  (xmin, xmax, ymin, ymax)\n",
       "coord. ref. : +proj=longlat +datum=WGS84 +no_defs +ellps=WGS84 +towgs84=0,0,0 \n",
       "data source : /tmp/RtmpNrXszn/raster/r_tmp_2020-04-20_234432_6808_31800.grd \n",
       "names       : layer \n",
       "values      : 0, 1  (min, max)\n"
      ]
     },
     "metadata": {},
     "output_type": "display_data"
    }
   ],
   "source": [
    "aso_dem"
   ]
  },
  {
   "cell_type": "code",
   "execution_count": 17,
   "metadata": {},
   "outputs": [
    {
     "data": {
      "image/png": "[encoded data removed]",
      "text/plain": [
       "Plot with title “”"
      ]
     },
     "metadata": {},
     "output_type": "display_data",
     "source": "R display func"
    }
   ],
   "source": [
    "plot(aso_dem)"
   ]
  },
  {
   "cell_type": "code",
   "execution_count": 18,
   "metadata": {},
   "outputs": [
    {
     "data": {
      "text/plain": [
       "class       : RasterLayer \n",
       "dimensions  : 26544, 31232, 829022208  (nrow, ncol, ncell)\n",
       "resolution  : 2.145767e-05, 1.695862e-05  (x, y)\n",
       "extent      : -119.8608, -119.1907, 37.7794, 38.22955  (xmin, xmax, ymin, ymax)\n",
       "coord. ref. : +proj=longlat +datum=WGS84 +no_defs +ellps=WGS84 +towgs84=0,0,0 \n",
       "data source : /tmp/RtmpNrXszn/raster/r_tmp_2020-04-20_234903_6808_42683.grd \n",
       "names       : layer \n",
       "values      : 0, 1  (min, max)\n"
      ]
     },
     "metadata": {},
     "output_type": "display_data"
    }
   ],
   "source": [
    "aso_dem_pred"
   ]
  },
  {
   "cell_type": "code",
   "execution_count": 19,
   "metadata": {},
   "outputs": [
    {
     "data": {
      "image/png": "[encoded data removed]",
      "text/plain": [
       "Plot with title “”"
      ]
     },
     "metadata": {},
     "output_type": "display_data",
     "source": "R display func"
    }
   ],
   "source": [
    "plot(aso_dem_pred)"
   ]
  },
  {
   "cell_type": "code",
   "execution_count": 20,
   "metadata": {},
   "outputs": [],
   "source": [
    "# save the inter,ediate raster\n",
    "writeRaster(aso_dem, filename=\"aso_ndvi_test_only.tif\", format=\"GTiff\", overwrite=TRUE)\n",
    "\n"
   ]
  },
  {
   "cell_type": "code",
   "execution_count": 21,
   "metadata": {},
   "outputs": [],
   "source": [
    "writeRaster(aso_dem_pred, filename=\"aso_ndvi_pred_test_only.tif\", format=\"GTiff\", overwrite=TRUE)"
   ]
  },
  {
   "cell_type": "code",
   "execution_count": 16,
   "metadata": {},
   "outputs": [],
   "source": [
    "aso_dem <- raster(\"aso_ndvi_test_only.tif\")"
   ]
  },
  {
   "cell_type": "code",
   "execution_count": 17,
   "metadata": {},
   "outputs": [],
   "source": [
    "aso_dem_pred <- raster(\"aso_ndvi_pred_test_only.tif\")"
   ]
  },
  {
   "cell_type": "code",
   "execution_count": 18,
   "metadata": {},
   "outputs": [],
   "source": [
    "df <- stack(aso_dem,aso_dem_pred)"
   ]
  },
  {
   "cell_type": "code",
   "execution_count": 7,
   "metadata": {},
   "outputs": [],
   "source": [
    "veg_vegResamp <- raster(\"veg_reasampl2point1by1point6.tif\")\n"
   ]
  },
  {
   "cell_type": "code",
   "execution_count": 8,
   "metadata": {},
   "outputs": [],
   "source": [
    "veg_crop<-crop(veg_vegResamp,extent(df))"
   ]
  },
  {
   "cell_type": "code",
   "execution_count": 11,
   "metadata": {},
   "outputs": [
    {
     "data": {
      "text/plain": [
       "class       : RasterLayer \n",
       "dimensions  : 26547, 31232, 829115904  (nrow, ncol, ncell)\n",
       "resolution  : 2.145767e-05, 1.695663e-05  (x, y)\n",
       "extent      : -119.8608, -119.1907, 37.7794, 38.22955  (xmin, xmax, ymin, ymax)\n",
       "coord. ref. : +proj=longlat +datum=WGS84 +no_defs +ellps=WGS84 +towgs84=0,0,0 \n",
       "data source : /tmp/RtmprnXc2T/raster/r_tmp_2020-05-09_230744_8980_66895.grd \n",
       "names       : veg_reasampl2point1by1point6 \n",
       "values      : 0, 54.08412  (min, max)\n"
      ]
     },
     "metadata": {},
     "output_type": "display_data"
    }
   ],
   "source": [
    "veg_crop"
   ]
  },
  {
   "cell_type": "code",
   "execution_count": 12,
   "metadata": {},
   "outputs": [
    {
     "data": {
      "text/plain": [
       "class       : RasterStack \n",
       "dimensions  : 26544, 31232, 829022208, 2  (nrow, ncol, ncell, nlayers)\n",
       "resolution  : 2.145767e-05, 1.695862e-05  (x, y)\n",
       "extent      : -119.8608, -119.1907, 37.7794, 38.22955  (xmin, xmax, ymin, ymax)\n",
       "coord. ref. : +proj=longlat +datum=WGS84 +no_defs +ellps=WGS84 +towgs84=0,0,0 \n",
       "names       : aso_ndvi_test_only, aso_ndvi_pred_test_only \n",
       "min values  :                  0,                       0 \n",
       "max values  :                  1,                       1 \n"
      ]
     },
     "metadata": {},
     "output_type": "display_data"
    }
   ],
   "source": [
    "df"
   ]
  },
  {
   "cell_type": "code",
   "execution_count": 13,
   "metadata": {},
   "outputs": [],
   "source": [
    "veg_resampl_prj <- projectRaster(veg_crop,df)"
   ]
  },
  {
   "cell_type": "code",
   "execution_count": 14,
   "metadata": {},
   "outputs": [],
   "source": [
    "writeRaster(veg_resampl_prj, filename=\"aso_ndvi_ch_test_only.tif\", format=\"GTiff\", overwrite=TRUE)"
   ]
  },
  {
   "cell_type": "code",
   "execution_count": 19,
   "metadata": {},
   "outputs": [],
   "source": [
    "veg_resampl_prj <- raster(\"aso_ndvi_ch_test_only.tif\")"
   ]
  },
  {
   "cell_type": "code",
   "execution_count": 20,
   "metadata": {},
   "outputs": [],
   "source": [
    "df <- stack(aso_dem,aso_dem_pred,veg_resampl_prj)"
   ]
  },
  {
   "cell_type": "code",
   "execution_count": 21,
   "metadata": {},
   "outputs": [
    {
     "data": {
      "text/html": [
       "<table>\n",
       "<thead><tr><th scope=col>x</th><th scope=col>y</th><th scope=col>aso_ndvi_test_only</th><th scope=col>aso_ndvi_pred_test_only</th><th scope=col>aso_ndvi_ch_test_only</th></tr></thead>\n",
       "<tbody>\n",
       "\t<tr><td>-119.7400</td><td>38.22954 </td><td>0        </td><td>1        </td><td>NA       </td></tr>\n",
       "\t<tr><td>-119.7400</td><td>38.22954 </td><td>0        </td><td>1        </td><td>NA       </td></tr>\n",
       "\t<tr><td>-119.7399</td><td>38.22954 </td><td>0        </td><td>1        </td><td>NA       </td></tr>\n",
       "\t<tr><td>-119.7399</td><td>38.22954 </td><td>0        </td><td>1        </td><td>NA       </td></tr>\n",
       "\t<tr><td>-119.7399</td><td>38.22954 </td><td>0        </td><td>1        </td><td>NA       </td></tr>\n",
       "\t<tr><td>-119.7399</td><td>38.22954 </td><td>0        </td><td>1        </td><td>NA       </td></tr>\n",
       "</tbody>\n",
       "</table>\n"
      ],
      "text/latex": [
       "\\begin{tabular}{lllll}\n",
       " x & y & aso\\_ndvi\\_test\\_only & aso\\_ndvi\\_pred\\_test\\_only & aso\\_ndvi\\_ch\\_test\\_only\\\\\n",
       "\\hline\n",
       "\t -119.7400 & 38.22954  & 0         & 1         & NA       \\\\\n",
       "\t -119.7400 & 38.22954  & 0         & 1         & NA       \\\\\n",
       "\t -119.7399 & 38.22954  & 0         & 1         & NA       \\\\\n",
       "\t -119.7399 & 38.22954  & 0         & 1         & NA       \\\\\n",
       "\t -119.7399 & 38.22954  & 0         & 1         & NA       \\\\\n",
       "\t -119.7399 & 38.22954  & 0         & 1         & NA       \\\\\n",
       "\\end{tabular}\n"
      ],
      "text/markdown": [
       "\n",
       "x | y | aso_ndvi_test_only | aso_ndvi_pred_test_only | aso_ndvi_ch_test_only | \n",
       "|---|---|---|---|---|---|\n",
       "| -119.7400 | 38.22954  | 0         | 1         | NA        | \n",
       "| -119.7400 | 38.22954  | 0         | 1         | NA        | \n",
       "| -119.7399 | 38.22954  | 0         | 1         | NA        | \n",
       "| -119.7399 | 38.22954  | 0         | 1         | NA        | \n",
       "| -119.7399 | 38.22954  | 0         | 1         | NA        | \n",
       "| -119.7399 | 38.22954  | 0         | 1         | NA        | \n",
       "\n",
       "\n"
      ],
      "text/plain": [
       "     x         y        aso_ndvi_test_only aso_ndvi_pred_test_only\n",
       "[1,] -119.7400 38.22954 0                  1                      \n",
       "[2,] -119.7400 38.22954 0                  1                      \n",
       "[3,] -119.7399 38.22954 0                  1                      \n",
       "[4,] -119.7399 38.22954 0                  1                      \n",
       "[5,] -119.7399 38.22954 0                  1                      \n",
       "[6,] -119.7399 38.22954 0                  1                      \n",
       "     aso_ndvi_ch_test_only\n",
       "[1,] NA                   \n",
       "[2,] NA                   \n",
       "[3,] NA                   \n",
       "[4,] NA                   \n",
       "[5,] NA                   \n",
       "[6,] NA                   "
      ]
     },
     "metadata": {},
     "output_type": "display_data"
    }
   ],
   "source": [
    "data_matrix <- rasterToPoints(df)\n",
    "head(data_matrix)\n",
    "datafra_comb <- data_matrix %>% as.data.frame()"
   ]
  },
  {
   "cell_type": "code",
   "execution_count": 22,
   "metadata": {},
   "outputs": [
    {
     "data": {
      "text/html": [
       "465846536"
      ],
      "text/latex": [
       "465846536"
      ],
      "text/markdown": [
       "465846536"
      ],
      "text/plain": [
       "[1] 465846536"
      ]
     },
     "metadata": {},
     "output_type": "display_data"
    }
   ],
   "source": [
    "nrow(datafra_comb)"
   ]
  },
  {
   "cell_type": "code",
   "execution_count": 23,
   "metadata": {},
   "outputs": [],
   "source": [
    "colnames(datafra_comb) <- c('x','y','aso_ndvi','aso_ndvi_pred','veg_height')"
   ]
  },
  {
   "cell_type": "code",
   "execution_count": 24,
   "metadata": {},
   "outputs": [],
   "source": [
    "datafra_comb1m <- datafra_comb %>% filter(!is.na(veg_height) & veg_height > 1) %>% as.data.frame()"
   ]
  },
  {
   "cell_type": "code",
   "execution_count": 25,
   "metadata": {},
   "outputs": [
    {
     "data": {
      "text/html": [
       "<table>\n",
       "<thead><tr><th scope=col>aso_ndvi_pred</th><th scope=col>count</th></tr></thead>\n",
       "<tbody>\n",
       "\t<tr><td> 0       </td><td> 15059664</td></tr>\n",
       "\t<tr><td> 1       </td><td> 11868986</td></tr>\n",
       "\t<tr><td>NA       </td><td>157507436</td></tr>\n",
       "</tbody>\n",
       "</table>\n"
      ],
      "text/latex": [
       "\\begin{tabular}{r|ll}\n",
       " aso\\_ndvi\\_pred & count\\\\\n",
       "\\hline\n",
       "\t  0        &  15059664\\\\\n",
       "\t  1        &  11868986\\\\\n",
       "\t NA        & 157507436\\\\\n",
       "\\end{tabular}\n"
      ],
      "text/markdown": [
       "\n",
       "aso_ndvi_pred | count | \n",
       "|---|---|---|\n",
       "|  0        |  15059664 | \n",
       "|  1        |  11868986 | \n",
       "| NA        | 157507436 | \n",
       "\n",
       "\n"
      ],
      "text/plain": [
       "  aso_ndvi_pred count    \n",
       "1  0             15059664\n",
       "2  1             11868986\n",
       "3 NA            157507436"
      ]
     },
     "metadata": {},
     "output_type": "display_data"
    }
   ],
   "source": [
    "datafra_comb1m %>% group_by(aso_ndvi_pred) %>% summarize(count = n())"
   ]
  },
  {
   "cell_type": "code",
   "execution_count": 26,
   "metadata": {},
   "outputs": [
    {
     "data": {
      "text/html": [
       "<table>\n",
       "<thead><tr><th scope=col>aso_ndvi</th><th scope=col>count</th></tr></thead>\n",
       "<tbody>\n",
       "\t<tr><td> 0       </td><td> 24058205</td></tr>\n",
       "\t<tr><td> 1       </td><td>  2865239</td></tr>\n",
       "\t<tr><td>NA       </td><td>157512642</td></tr>\n",
       "</tbody>\n",
       "</table>\n"
      ],
      "text/latex": [
       "\\begin{tabular}{r|ll}\n",
       " aso\\_ndvi & count\\\\\n",
       "\\hline\n",
       "\t  0        &  24058205\\\\\n",
       "\t  1        &   2865239\\\\\n",
       "\t NA        & 157512642\\\\\n",
       "\\end{tabular}\n"
      ],
      "text/markdown": [
       "\n",
       "aso_ndvi | count | \n",
       "|---|---|---|\n",
       "|  0        |  24058205 | \n",
       "|  1        |   2865239 | \n",
       "| NA        | 157512642 | \n",
       "\n",
       "\n"
      ],
      "text/plain": [
       "  aso_ndvi count    \n",
       "1  0        24058205\n",
       "2  1         2865239\n",
       "3 NA       157512642"
      ]
     },
     "metadata": {},
     "output_type": "display_data"
    }
   ],
   "source": [
    "datafra_comb1m %>% group_by(aso_ndvi) %>% summarize(count = n())"
   ]
  },
  {
   "cell_type": "code",
   "execution_count": 27,
   "metadata": {},
   "outputs": [
    {
     "ename": "ERROR",
     "evalue": "Error: cannot allocate vector of size 1.4 Gb\n",
     "output_type": "error",
     "traceback": [
      "Error: cannot allocate vector of size 1.4 Gb\nTraceback:\n",
      "1. datafra_comb1m %>% filter(!is.na(veg_height)) %>% filter(veg_height > \n .     1) %>% as.data.frame()",
      "2. withVisible(eval(quote(`_fseq`(`_lhs`)), env, env))",
      "3. eval(quote(`_fseq`(`_lhs`)), env, env)",
      "4. eval(quote(`_fseq`(`_lhs`)), env, env)",
      "5. `_fseq`(`_lhs`)",
      "6. freduce(value, `_function_list`)",
      "7. function_list[[i]](value)",
      "8. filter(., veg_height > 1)",
      "9. filter.data.frame(., veg_height > 1)",
      "10. as.data.frame(filter(tbl_df(.data), ...))",
      "11. filter(tbl_df(.data), ...)",
      "12. filter.tbl_df(tbl_df(.data), ...)",
      "13. filter_impl(.data, quo)"
     ]
    }
   ],
   "source": [
    "high_veg <- datafra_comb1m %>% filter(!is.na(veg_height)) %>% filter(veg_height > 1 ) %>% as.data.frame()\n",
    "high_veg_perf<- confusionMatrix(high_veg$aso_ndvi, high_veg$aso_ndvi_pred,mode = \"prec_recall\")\n",
    "high_veg_perf"
   ]
  },
  {
   "cell_type": "code",
   "execution_count": 8,
   "metadata": {},
   "outputs": [],
   "source": [
    "class <- c(\"0\", \"1\")\n",
    "f_score <- c(15059664,11868986)"
   ]
  },
  {
   "cell_type": "code",
   "execution_count": 10,
   "metadata": {},
   "outputs": [
    {
     "data": {
      "image/png": "[encoded data removed]",
      "text/plain": [
       "plot without title"
      ]
     },
     "metadata": {
      "image/png": {
       "height": 420,
       "width": 420
      }
     },
     "output_type": "display_data"
    }
   ],
   "source": [
    "perf_pred<- data.frame(class, f_score)\n",
    "colnames(perf_pred) <- c('class','f_score')\n",
    "perf_pred %>% ggplot() + geom_bar(aes(class,f_score),stat=\"identity\") +\n",
    " labs(x=\"Vegetation class > 1m \" , y=\"Count\",subtitle=\"+NDVI model - Prediction\") + theme_minimal(base_size = 12)\n"
   ]
  },
  {
   "cell_type": "code",
   "execution_count": 11,
   "metadata": {},
   "outputs": [
    {
     "data": {
      "image/png": "[encoded data removed]",
      "text/plain": [
       "plot without title"
      ]
     },
     "metadata": {
      "image/png": {
       "height": 420,
       "width": 420
      }
     },
     "output_type": "display_data"
    }
   ],
   "source": [
    "class <- c(\"0\", \"1\")\n",
    "f_score <- c(24058205,2865239)\n",
    "perf_pred<- data.frame(class, f_score)\n",
    "colnames(perf_pred) <- c('class','f_score')\n",
    "perf_pred %>% ggplot() + geom_bar(aes(class,f_score),stat=\"identity\") +\n",
    "(breaks = c(0,5,10,15,20,25,30,35,40,45))+\n",
    " labs(x=\"Vegetation class > 1m \" , y=\"Count\",subtitle=\"+NDVI model - ASO\") + theme_minimal(base_size = 12)\n"
   ]
  },
  {
   "cell_type": "code",
   "execution_count": 25,
   "metadata": {},
   "outputs": [],
   "source": [
    "hist(datafra_comb1m$veg_height)"
   ]
  },
  {
   "cell_type": "code",
   "execution_count": 12,
   "metadata": {},
   "outputs": [
    {
     "data": {
      "text/plain": [
       "class       : RasterLayer \n",
       "dimensions  : 26544, 31232, 829022208  (nrow, ncol, ncell)\n",
       "resolution  : 2.145767e-05, 1.695862e-05  (x, y)\n",
       "extent      : -119.8608, -119.1907, 37.7794, 38.22955  (xmin, xmax, ymin, ymax)\n",
       "coord. ref. : +proj=longlat +datum=WGS84 +no_defs +ellps=WGS84 +towgs84=0,0,0 \n",
       "data source : /tmp/Rtmp6j7AEs/raster/r_tmp_2020-04-23_154138_3786_72217.grd \n",
       "names       : veg_reasampl2point1by1point6 \n",
       "values      : -9.832477e-10, 54.06391  (min, max)\n"
      ]
     },
     "metadata": {},
     "output_type": "display_data"
    }
   ],
   "source": [
    "veg_crop"
   ]
  },
  {
   "cell_type": "code",
   "execution_count": 9,
   "metadata": {},
   "outputs": [
    {
     "data": {
      "text/plain": [
       "class       : RasterStack \n",
       "dimensions  : 26544, 31232, 829022208, 2  (nrow, ncol, ncell, nlayers)\n",
       "resolution  : 2.145767e-05, 1.695862e-05  (x, y)\n",
       "extent      : -119.8608, -119.1907, 37.7794, 38.22955  (xmin, xmax, ymin, ymax)\n",
       "coord. ref. : +proj=longlat +datum=WGS84 +no_defs +ellps=WGS84 +towgs84=0,0,0 \n",
       "names       : aso_ndvi_test_only, aso_ndvi_pred_test_only \n",
       "min values  :                  0,                       0 \n",
       "max values  :                  1,                       1 \n"
      ]
     },
     "metadata": {},
     "output_type": "display_data"
    }
   ],
   "source": [
    "df"
   ]
  },
  {
   "cell_type": "code",
   "execution_count": null,
   "metadata": {},
   "outputs": [],
   "source": [
    "#data_matrix <- rasterToPoints(df)\n",
    "#head(data_matrix)\n",
    "#datafra_comb <- data_matrix %>% as.data.frame()"
   ]
  },
  {
   "cell_type": "code",
   "execution_count": 12,
   "metadata": {},
   "outputs": [],
   "source": [
    "veg_crop_aso <- crop(veg_crop, extent(df))"
   ]
  },
  {
   "cell_type": "code",
   "execution_count": 16,
   "metadata": {},
   "outputs": [],
   "source": [
    "# mask all the pixels below 2\n",
    "veg_crop_h <- veg_crop_aso\n",
    "veg_crop_h[veg_crop_h < 2] <- NA\n",
    "aso_demabove2 <- mask(aso_dem, veg_crop_h, filename=\"aso_ndviabove2_test.tif\",overwrite=TRUE)"
   ]
  },
  {
   "cell_type": "code",
   "execution_count": 17,
   "metadata": {},
   "outputs": [],
   "source": [
    "aso_dem_predabove2 <- mask(aso_dem_pred, veg_crop_h,filename=\"pred_ndviabove2_test.tif\",overwrite=TRUE)"
   ]
  },
  {
   "cell_type": "code",
   "execution_count": 2,
   "metadata": {},
   "outputs": [],
   "source": [
    "aso_dem_predabove2 <- raster(\"pred_demabove2_test.tif\")"
   ]
  },
  {
   "cell_type": "code",
   "execution_count": 3,
   "metadata": {},
   "outputs": [],
   "source": [
    "aso_demabove2 <- raster(\"aso_demabove2_test.tif\")"
   ]
  },
  {
   "cell_type": "code",
   "execution_count": 18,
   "metadata": {},
   "outputs": [],
   "source": [
    "vals_pred <- getValues(aso_dem_predabove2)"
   ]
  },
  {
   "cell_type": "code",
   "execution_count": 21,
   "metadata": {},
   "outputs": [
    {
     "name": "stderr",
     "output_type": "stream",
     "text": [
      "Loading required package: lattice\n",
      "\n",
      "Attaching package: ‘caret’\n",
      "\n",
      "The following object is masked from ‘package:purrr’:\n",
      "\n",
      "    lift\n",
      "\n"
     ]
    }
   ],
   "source": [
    "library(caret)"
   ]
  },
  {
   "cell_type": "code",
   "execution_count": 19,
   "metadata": {},
   "outputs": [],
   "source": [
    "vals_aso <- getValues(aso_demabove2)"
   ]
  },
  {
   "cell_type": "code",
   "execution_count": 22,
   "metadata": {},
   "outputs": [],
   "source": [
    "high_veg_perf<- confusionMatrix(vals_aso, vals_pred,mode = \"prec_recall\")"
   ]
  },
  {
   "cell_type": "code",
   "execution_count": 23,
   "metadata": {},
   "outputs": [
    {
     "data": {
      "text/plain": [
       "Confusion Matrix and Statistics\n",
       "\n",
       "          Reference\n",
       "Prediction        0        1\n",
       "         0 10166991  6634352\n",
       "         1    49902  1480682\n",
       "                                          \n",
       "               Accuracy : 0.6354          \n",
       "                 95% CI : (0.6352, 0.6356)\n",
       "    No Information Rate : 0.5573          \n",
       "    P-Value [Acc > NIR] : < 2.2e-16       \n",
       "                                          \n",
       "                  Kappa : 0.1937          \n",
       " Mcnemar's Test P-Value : < 2.2e-16       \n",
       "                                          \n",
       "              Precision : 0.6051          \n",
       "                 Recall : 0.9951          \n",
       "                     F1 : 0.7526          \n",
       "             Prevalence : 0.5573          \n",
       "         Detection Rate : 0.5546          \n",
       "   Detection Prevalence : 0.9165          \n",
       "      Balanced Accuracy : 0.5888          \n",
       "                                          \n",
       "       'Positive' Class : 0               \n",
       "                                          "
      ]
     },
     "metadata": {},
     "output_type": "display_data"
    }
   ],
   "source": [
    "high_veg_perf"
   ]
  },
  {
   "cell_type": "code",
   "execution_count": 24,
   "metadata": {},
   "outputs": [],
   "source": [
    "#create below two mask all excpet the ones below .2\n",
    "veg_crop_h <- veg_crop_aso\n",
    "veg_crop_h[veg_crop_h > .2] <- NA\n",
    "aso_vegbpoint2 <- mask(aso_dem, veg_crop_h, filename=\"aso_ndvibelowpoint2_test.tif\",overwrite=TRUE)"
   ]
  },
  {
   "cell_type": "code",
   "execution_count": 25,
   "metadata": {},
   "outputs": [],
   "source": [
    "aso_dem_predvegbpoint2 <- mask(aso_dem_pred, veg_crop_h,filename=\"pred_ndvibelowpoint2_test.tif\",overwrite=TRUE)"
   ]
  },
  {
   "cell_type": "code",
   "execution_count": 26,
   "metadata": {},
   "outputs": [],
   "source": [
    "vals_pred <- getValues(aso_dem_predvegbpoint2)"
   ]
  },
  {
   "cell_type": "code",
   "execution_count": 27,
   "metadata": {},
   "outputs": [],
   "source": [
    "vals_aso <- getValues(aso_vegbpoint2)"
   ]
  },
  {
   "cell_type": "code",
   "execution_count": 28,
   "metadata": {},
   "outputs": [],
   "source": [
    "low_veg_perf<- confusionMatrix(vals_aso, vals_pred,mode = \"prec_recall\")"
   ]
  },
  {
   "cell_type": "code",
   "execution_count": 29,
   "metadata": {},
   "outputs": [
    {
     "data": {
      "text/plain": [
       "Confusion Matrix and Statistics\n",
       "\n",
       "          Reference\n",
       "Prediction        0        1\n",
       "         0  9026149 10949027\n",
       "         1    73676  8734215\n",
       "                                          \n",
       "               Accuracy : 0.617           \n",
       "                 95% CI : (0.6169, 0.6172)\n",
       "    No Information Rate : 0.6838          \n",
       "    P-Value [Acc > NIR] : 1               \n",
       "                                          \n",
       "                  Kappa : 0.3297          \n",
       " Mcnemar's Test P-Value : <2e-16          \n",
       "                                          \n",
       "              Precision : 0.4519          \n",
       "                 Recall : 0.9919          \n",
       "                     F1 : 0.6209          \n",
       "             Prevalence : 0.3162          \n",
       "         Detection Rate : 0.3136          \n",
       "   Detection Prevalence : 0.6940          \n",
       "      Balanced Accuracy : 0.7178          \n",
       "                                          \n",
       "       'Positive' Class : 0               \n",
       "                                          "
      ]
     },
     "metadata": {},
     "output_type": "display_data"
    }
   ],
   "source": [
    "low_veg_perf"
   ]
  },
  {
   "cell_type": "code",
   "execution_count": 30,
   "metadata": {},
   "outputs": [],
   "source": [
    "#create below two and above .2\n",
    "veg_crop_h <- veg_crop_aso\n",
    "veg_crop_h[veg_crop_h < .2 &  veg_crop_h > 2] <- NA\n",
    "aso_vegabovepoint2below2 <- mask(aso_dem, veg_crop_h, filename=\"aso_ndviabovepoint2andbelow2_test.tif\",overwrite=TRUE)"
   ]
  },
  {
   "cell_type": "code",
   "execution_count": 31,
   "metadata": {},
   "outputs": [],
   "source": [
    "aso_dem_predabovepoint2andbelow2 <- mask(aso_dem_pred, veg_crop_h,filename=\"pred_ndviabovepoint2andbelow2_test.tif\",overwrite=TRUE)"
   ]
  },
  {
   "cell_type": "code",
   "execution_count": 32,
   "metadata": {},
   "outputs": [],
   "source": [
    "vals_pred <- getValues(aso_dem_predabovepoint2andbelow2)"
   ]
  },
  {
   "cell_type": "code",
   "execution_count": 33,
   "metadata": {},
   "outputs": [],
   "source": [
    "vals_aso <- getValues(aso_vegabovepoint2below2)"
   ]
  },
  {
   "cell_type": "code",
   "execution_count": 34,
   "metadata": {},
   "outputs": [],
   "source": [
    "med_veg_perf<- confusionMatrix(vals_aso, vals_pred,mode = \"prec_recall\")"
   ]
  },
  {
   "cell_type": "code",
   "execution_count": 35,
   "metadata": {},
   "outputs": [
    {
     "data": {
      "text/plain": [
       "Confusion Matrix and Statistics\n",
       "\n",
       "          Reference\n",
       "Prediction        0        1\n",
       "         0 28179704 22939789\n",
       "         1   181878 13806255\n",
       "                                         \n",
       "               Accuracy : 0.6449         \n",
       "                 95% CI : (0.6448, 0.645)\n",
       "    No Information Rate : 0.5644         \n",
       "    P-Value [Acc > NIR] : < 2.2e-16      \n",
       "                                         \n",
       "                  Kappa : 0.3383         \n",
       " Mcnemar's Test P-Value : < 2.2e-16      \n",
       "                                         \n",
       "              Precision : 0.5513         \n",
       "                 Recall : 0.9936         \n",
       "                     F1 : 0.7091         \n",
       "             Prevalence : 0.4356         \n",
       "         Detection Rate : 0.4328         \n",
       "   Detection Prevalence : 0.7852         \n",
       "      Balanced Accuracy : 0.6847         \n",
       "                                         \n",
       "       'Positive' Class : 0              \n",
       "                                         "
      ]
     },
     "metadata": {},
     "output_type": "display_data"
    }
   ],
   "source": [
    "med_veg_perf"
   ]
  },
  {
   "cell_type": "code",
   "execution_count": 1,
   "metadata": {},
   "outputs": [
    {
     "ename": "ERROR",
     "evalue": "Error in eval(expr, envir, enclos): object 'med_veg_perf' not found\n",
     "execution_count": 1,
     "output_type": "error",
     "traceback": [
      "Error in eval(expr, envir, enclos): object 'med_veg_perf' not found\nTraceback:\n"
     ]
    }
   ],
   "source": [
    "med_veg_perf"
   ]
  },
  {
   "cell_type": "code",
   "execution_count": 2,
   "metadata": {},
   "outputs": [],
   "source": [
    "class <- c(\"< .2m\", \"> .2 & < 2m\",\" > 2m\")\n",
    "f_score <- c(0.6209,0.7091,0.7526)"
   ]
  },
  {
   "cell_type": "code",
   "execution_count": 5,
   "metadata": {},
   "outputs": [
    {
     "data": {},
     "metadata": {},
     "output_type": "display_data"
    },
    {
     "data": {
      "image/png": "[encoded data removed]",
      "text/plain": [
       "plot without title"
      ]
     },
     "metadata": {},
     "output_type": "display_data",
     "source": "R display func"
    }
   ],
   "source": [
    "perf<- data.frame(class, f_score)\n",
    "colnames(perf) <- c('class','f_score')\n",
    "perf %>% ggplot() + geom_bar(aes(class,f_score),stat=\"identity\") +\n",
    " labs(x=\"Vegetation class\" , y=\"F-Score\",subtitle=\"+NDVI model\") + theme_minimal(base_size = 12)\n",
    "ggsave(filename = \"gg-ndvi+allclasses.png\",dpi = 300,height=4,width=4,units=\"in\")"
   ]
  },
  {
   "cell_type": "code",
   "execution_count": 13,
   "metadata": {},
   "outputs": [
    {
     "ename": "ERROR",
     "evalue": "Error in compareRaster(x, mask): different extent\n",
     "execution_count": 13,
     "output_type": "error",
     "traceback": [
      "Error in compareRaster(x, mask): different extent\nTraceback:\n",
      "1. mask(aso_dem, veg_crop_h, filename = \"aso_ndviabove1_test.tif\", \n .     overwrite = TRUE)",
      "2. mask(aso_dem, veg_crop_h, filename = \"aso_ndviabove1_test.tif\", \n .     overwrite = TRUE)",
      "3. .local(x, mask, ...)",
      "4. compareRaster(x, mask)",
      "5. stop(\"different extent\")"
     ]
    }
   ],
   "source": [
    "# check the result\n",
    "\n",
    "# mask all the pixels below 2\n",
    "veg_crop_h <- veg_crop_aso\n",
    "veg_crop_h[veg_crop_h < 1] <- NA\n",
    "aso_demabove1 <- mask(aso_dem, veg_crop_h, filename=\"aso_ndviabove1_test.tif\",overwrite=TRUE)"
   ]
  },
  {
   "cell_type": "code",
   "execution_count": 15,
   "metadata": {},
   "outputs": [
    {
     "data": {
      "text/plain": [
       "class       : RasterLayer \n",
       "dimensions  : 26544, 31232, 829022208  (nrow, ncol, ncell)\n",
       "resolution  : 2.145767e-05, 1.695862e-05  (x, y)\n",
       "extent      : -119.8608, -119.1907, 37.7794, 38.22955  (xmin, xmax, ymin, ymax)\n",
       "coord. ref. : +proj=longlat +datum=WGS84 +no_defs +ellps=WGS84 +towgs84=0,0,0 \n",
       "data source : /home/ubuntu/planet-snowcover/pipeline/aso_ndvi_pred_test_only.tif \n",
       "names       : aso_ndvi_pred_test_only \n",
       "values      : 0, 1  (min, max)\n"
      ]
     },
     "metadata": {},
     "output_type": "display_data"
    }
   ],
   "source": [
    "aso_dem_pred\n"
   ]
  },
  {
   "cell_type": "code",
   "execution_count": 16,
   "metadata": {},
   "outputs": [
    {
     "data": {
      "text/plain": [
       "class       : RasterLayer \n",
       "dimensions  : 26547, 31232, 829115904  (nrow, ncol, ncell)\n",
       "resolution  : 2.145767e-05, 1.695663e-05  (x, y)\n",
       "extent      : -119.8608, -119.1907, 37.7794, 38.22955  (xmin, xmax, ymin, ymax)\n",
       "coord. ref. : +proj=longlat +datum=WGS84 +no_defs +ellps=WGS84 +towgs84=0,0,0 \n",
       "data source : /tmp/RtmpQ4jTi5/raster/r_tmp_2020-05-02_055321_2738_67490.grd \n",
       "names       : layer \n",
       "values      : 1, 54.08412  (min, max)\n"
      ]
     },
     "metadata": {},
     "output_type": "display_data"
    }
   ],
   "source": [
    "veg_crop_h"
   ]
  },
  {
   "cell_type": "code",
   "execution_count": 19,
   "metadata": {},
   "outputs": [],
   "source": [
    "aso_dem_pred_prj <- projectRaster(aso_dem_pred,veg_crop_h)"
   ]
  },
  {
   "cell_type": "code",
   "execution_count": 20,
   "metadata": {},
   "outputs": [
    {
     "data": {
      "text/plain": [
       "class       : RasterLayer \n",
       "dimensions  : 26547, 31232, 829115904  (nrow, ncol, ncell)\n",
       "resolution  : 2.145767e-05, 1.695663e-05  (x, y)\n",
       "extent      : -119.8608, -119.1907, 37.7794, 38.22955  (xmin, xmax, ymin, ymax)\n",
       "coord. ref. : +proj=longlat +datum=WGS84 +no_defs +ellps=WGS84 +towgs84=0,0,0 \n",
       "data source : /tmp/RtmpQ4jTi5/raster/r_tmp_2020-05-02_061011_2738_85770.grd \n",
       "names       : aso_ndvi_pred_test_only \n",
       "values      : -5.875066e-05, 1  (min, max)\n"
      ]
     },
     "metadata": {},
     "output_type": "display_data"
    }
   ],
   "source": [
    "aso_dem_pred_prj"
   ]
  },
  {
   "cell_type": "code",
   "execution_count": 21,
   "metadata": {},
   "outputs": [],
   "source": [
    "aso_dem_predabove1 <- mask(aso_dem_pred_prj, \n",
    "                           veg_crop_h,filename=\"pred_ndviabove1_test.tif\",overwrite=TRUE)"
   ]
  },
  {
   "cell_type": "code",
   "execution_count": 22,
   "metadata": {},
   "outputs": [
    {
     "data": {
      "text/plain": [
       "class       : RasterLayer \n",
       "dimensions  : 26547, 31232, 829115904  (nrow, ncol, ncell)\n",
       "resolution  : 2.145767e-05, 1.695663e-05  (x, y)\n",
       "extent      : -119.8608, -119.1907, 37.7794, 38.22955  (xmin, xmax, ymin, ymax)\n",
       "coord. ref. : +proj=longlat +datum=WGS84 +no_defs +ellps=WGS84 +towgs84=0,0,0 \n",
       "data source : /home/ubuntu/planet-snowcover/pipeline/pred_ndviabove1_test.tif \n",
       "names       : pred_ndviabove1_test \n",
       "values      : 0, 1  (min, max)\n"
      ]
     },
     "metadata": {},
     "output_type": "display_data"
    }
   ],
   "source": [
    "aso_dem_predabove1"
   ]
  },
  {
   "cell_type": "code",
   "execution_count": 23,
   "metadata": {},
   "outputs": [
    {
     "data": {
      "text/plain": [
       "class       : RasterLayer \n",
       "dimensions  : 26547, 31232, 829115904  (nrow, ncol, ncell)\n",
       "resolution  : 2.145767e-05, 1.695663e-05  (x, y)\n",
       "extent      : -119.8608, -119.1907, 37.7794, 38.22955  (xmin, xmax, ymin, ymax)\n",
       "coord. ref. : +proj=longlat +datum=WGS84 +no_defs +ellps=WGS84 +towgs84=0,0,0 \n",
       "data source : /tmp/RtmpQ4jTi5/raster/r_tmp_2020-05-02_055321_2738_67490.grd \n",
       "names       : layer \n",
       "values      : 1, 54.08412  (min, max)\n"
      ]
     },
     "metadata": {},
     "output_type": "display_data"
    }
   ],
   "source": [
    "veg_crop_h"
   ]
  },
  {
   "cell_type": "code",
   "execution_count": 24,
   "metadata": {},
   "outputs": [],
   "source": [
    "writeRaster(veg_crop_h, filename=\"veg_above_1.tif\", format=\"GTiff\", overwrite=TRUE)"
   ]
  },
  {
   "cell_type": "code",
   "execution_count": 25,
   "metadata": {},
   "outputs": [],
   "source": [
    "onem_df <- stack(aso_dem_predabove1,veg_crop_h)"
   ]
  },
  {
   "cell_type": "code",
   "execution_count": 26,
   "metadata": {},
   "outputs": [
    {
     "data": {
      "text/html": [
       "<table>\n",
       "<thead><tr><th scope=col>x</th><th scope=col>y</th><th scope=col>pred_ndviabove1_test</th><th scope=col>layer</th></tr></thead>\n",
       "<tbody>\n",
       "\t<tr><td>-119.4995</td><td>38.18838 </td><td>NA       </td><td>1.981519 </td></tr>\n",
       "\t<tr><td>-119.4995</td><td>38.18838 </td><td>NA       </td><td>1.463764 </td></tr>\n",
       "\t<tr><td>-119.4991</td><td>38.18838 </td><td>NA       </td><td>1.088179 </td></tr>\n",
       "\t<tr><td>-119.4991</td><td>38.18838 </td><td>NA       </td><td>1.055851 </td></tr>\n",
       "\t<tr><td>-119.4989</td><td>38.18838 </td><td>NA       </td><td>1.037520 </td></tr>\n",
       "\t<tr><td>-119.4989</td><td>38.18838 </td><td>NA       </td><td>1.102266 </td></tr>\n",
       "</tbody>\n",
       "</table>\n"
      ],
      "text/latex": [
       "\\begin{tabular}{llll}\n",
       " x & y & pred\\_ndviabove1\\_test & layer\\\\\n",
       "\\hline\n",
       "\t -119.4995 & 38.18838  & NA        & 1.981519 \\\\\n",
       "\t -119.4995 & 38.18838  & NA        & 1.463764 \\\\\n",
       "\t -119.4991 & 38.18838  & NA        & 1.088179 \\\\\n",
       "\t -119.4991 & 38.18838  & NA        & 1.055851 \\\\\n",
       "\t -119.4989 & 38.18838  & NA        & 1.037520 \\\\\n",
       "\t -119.4989 & 38.18838  & NA        & 1.102266 \\\\\n",
       "\\end{tabular}\n"
      ],
      "text/markdown": [
       "\n",
       "x | y | pred_ndviabove1_test | layer | \n",
       "|---|---|---|---|---|---|\n",
       "| -119.4995 | 38.18838  | NA        | 1.981519  | \n",
       "| -119.4995 | 38.18838  | NA        | 1.463764  | \n",
       "| -119.4991 | 38.18838  | NA        | 1.088179  | \n",
       "| -119.4991 | 38.18838  | NA        | 1.055851  | \n",
       "| -119.4989 | 38.18838  | NA        | 1.037520  | \n",
       "| -119.4989 | 38.18838  | NA        | 1.102266  | \n",
       "\n",
       "\n"
      ],
      "text/plain": [
       "     x         y        pred_ndviabove1_test layer   \n",
       "[1,] -119.4995 38.18838 NA                   1.981519\n",
       "[2,] -119.4995 38.18838 NA                   1.463764\n",
       "[3,] -119.4991 38.18838 NA                   1.088179\n",
       "[4,] -119.4991 38.18838 NA                   1.055851\n",
       "[5,] -119.4989 38.18838 NA                   1.037520\n",
       "[6,] -119.4989 38.18838 NA                   1.102266"
      ]
     },
     "metadata": {},
     "output_type": "display_data"
    }
   ],
   "source": [
    "data_matrix <- rasterToPoints(onem_df)\n",
    "head(data_matrix)\n",
    "datafra_comb <- data_matrix %>% as.data.frame()"
   ]
  },
  {
   "cell_type": "code",
   "execution_count": 27,
   "metadata": {},
   "outputs": [
    {
     "data": {
      "text/html": [
       "<table>\n",
       "<thead><tr><th scope=col>x</th><th scope=col>y</th><th scope=col>pred_ndviabove1_test</th><th scope=col>layer</th></tr></thead>\n",
       "<tbody>\n",
       "\t<tr><td>-119.4995</td><td>38.18838 </td><td>NA       </td><td>1.981519 </td></tr>\n",
       "\t<tr><td>-119.4995</td><td>38.18838 </td><td>NA       </td><td>1.463764 </td></tr>\n",
       "\t<tr><td>-119.4991</td><td>38.18838 </td><td>NA       </td><td>1.088179 </td></tr>\n",
       "\t<tr><td>-119.4991</td><td>38.18838 </td><td>NA       </td><td>1.055851 </td></tr>\n",
       "\t<tr><td>-119.4989</td><td>38.18838 </td><td>NA       </td><td>1.037520 </td></tr>\n",
       "\t<tr><td>-119.4989</td><td>38.18838 </td><td>NA       </td><td>1.102266 </td></tr>\n",
       "</tbody>\n",
       "</table>\n"
      ],
      "text/latex": [
       "\\begin{tabular}{r|llll}\n",
       " x & y & pred\\_ndviabove1\\_test & layer\\\\\n",
       "\\hline\n",
       "\t -119.4995 & 38.18838  & NA        & 1.981519 \\\\\n",
       "\t -119.4995 & 38.18838  & NA        & 1.463764 \\\\\n",
       "\t -119.4991 & 38.18838  & NA        & 1.088179 \\\\\n",
       "\t -119.4991 & 38.18838  & NA        & 1.055851 \\\\\n",
       "\t -119.4989 & 38.18838  & NA        & 1.037520 \\\\\n",
       "\t -119.4989 & 38.18838  & NA        & 1.102266 \\\\\n",
       "\\end{tabular}\n"
      ],
      "text/markdown": [
       "\n",
       "x | y | pred_ndviabove1_test | layer | \n",
       "|---|---|---|---|---|---|\n",
       "| -119.4995 | 38.18838  | NA        | 1.981519  | \n",
       "| -119.4995 | 38.18838  | NA        | 1.463764  | \n",
       "| -119.4991 | 38.18838  | NA        | 1.088179  | \n",
       "| -119.4991 | 38.18838  | NA        | 1.055851  | \n",
       "| -119.4989 | 38.18838  | NA        | 1.037520  | \n",
       "| -119.4989 | 38.18838  | NA        | 1.102266  | \n",
       "\n",
       "\n"
      ],
      "text/plain": [
       "  x         y        pred_ndviabove1_test layer   \n",
       "1 -119.4995 38.18838 NA                   1.981519\n",
       "2 -119.4995 38.18838 NA                   1.463764\n",
       "3 -119.4991 38.18838 NA                   1.088179\n",
       "4 -119.4991 38.18838 NA                   1.055851\n",
       "5 -119.4989 38.18838 NA                   1.037520\n",
       "6 -119.4989 38.18838 NA                   1.102266"
      ]
     },
     "metadata": {},
     "output_type": "display_data"
    }
   ],
   "source": [
    "head(datafra_comb)"
   ]
  },
  {
   "cell_type": "code",
   "execution_count": 28,
   "metadata": {},
   "outputs": [],
   "source": [
    "colnames(datafra_comb) <- c('x','y','ndvi_pred','veg_height')"
   ]
  },
  {
   "cell_type": "code",
   "execution_count": 29,
   "metadata": {},
   "outputs": [
    {
     "data": {
      "text/html": [
       "184171620"
      ],
      "text/latex": [
       "184171620"
      ],
      "text/markdown": [
       "184171620"
      ],
      "text/plain": [
       "[1] 184171620"
      ]
     },
     "metadata": {},
     "output_type": "display_data"
    }
   ],
   "source": [
    "nrow(datafra_comb)"
   ]
  },
  {
   "cell_type": "code",
   "execution_count": 30,
   "metadata": {},
   "outputs": [
    {
     "data": {
      "text/html": [
       "26971251"
      ],
      "text/latex": [
       "26971251"
      ],
      "text/markdown": [
       "26971251"
      ],
      "text/plain": [
       "[1] 26971251"
      ]
     },
     "metadata": {},
     "output_type": "display_data"
    }
   ],
   "source": [
    "datafra_comb%>% filter(!is.na(ndvi_pred)) %>% nrow()"
   ]
  },
  {
   "cell_type": "code",
   "execution_count": 31,
   "metadata": {},
   "outputs": [],
   "source": [
    "data_not_na <- datafra_comb%>% filter(!is.na(ndvi_pred)) %>% as.data.frame()"
   ]
  },
  {
   "cell_type": "code",
   "execution_count": 33,
   "metadata": {},
   "outputs": [
    {
     "data": {
      "image/png": "[encoded data removed]",
      "text/plain": [
       "Plot with title “Histogram of data_not_na$ndvi_pred”"
      ]
     },
     "metadata": {},
     "output_type": "display_data",
     "source": "R display func"
    }
   ],
   "source": [
    "hist(data_not_na$ndvi_pred)"
   ]
  },
  {
   "cell_type": "code",
   "execution_count": 34,
   "metadata": {},
   "outputs": [
    {
     "data": {
      "image/png": "[encoded data removed]",
      "text/plain": [
       "Plot with title “Histogram of data_not_na$veg_height”"
      ]
     },
     "metadata": {},
     "output_type": "display_data",
     "source": "R display func"
    }
   ],
   "source": [
    "hist(data_not_na$veg_height)"
   ]
  },
  {
   "cell_type": "code",
   "execution_count": 35,
   "metadata": {},
   "outputs": [],
   "source": [
    "save.image()"
   ]
  },
  {
   "cell_type": "code",
   "execution_count": null,
   "metadata": {},
   "outputs": [],
   "source": []
  }
 ],
 "metadata": {
  "kernelspec": {
   "display_name": "R",
   "language": "R",
   "name": "ir"
  },
  "language_info": {
   "codemirror_mode": "r",
   "file_extension": ".r",
   "mimetype": "text/x-r-source",
   "name": "R",
   "pygments_lexer": "r",
   "version": "3.4.3"
  }
 },
 "nbformat": 4,
 "nbformat_minor": 2
}
