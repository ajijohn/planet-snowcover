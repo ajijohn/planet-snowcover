{
 "cells": [
  {
   "cell_type": "code",
   "execution_count": 55,
   "metadata": {},
   "outputs": [
    {
     "name": "stdout",
     "output_type": "stream",
     "text": [
      "candidates:\n",
      "['planet-snowcover-experiments/planet-snowcover-2020-04-17-16-32-32-656/planet-snowcover-imagery-ndvi-validate:20190705_171624_0f49_3B_AnalyticMS_SR',\n",
      " 'planet-snowcover-experiments/planet-snowcover-2020-04-17-16-32-32-656/planet-snowcover-imagery-ndvi-validate:20190705_171625_0f49_3B_AnalyticMS_SR',\n",
      " 'planet-snowcover-experiments/planet-snowcover-2020-04-17-16-32-32-656/planet-snowcover-imagery-ndvi-validate:20190705_181943_101b_3B_AnalyticMS_SR',\n",
      " 'planet-snowcover-experiments/planet-snowcover-2020-04-17-16-32-32-656/planet-snowcover-imagery-ndvi-validate:20190705_181944_101b_3B_AnalyticMS_SR',\n",
      " 'planet-snowcover-experiments/planet-snowcover-2020-04-17-16-32-32-656/planet-snowcover-imagery-ndvi-validate:20190705_181945_101b_3B_AnalyticMS_SR',\n",
      " 'planet-snowcover-experiments/planet-snowcover-2020-04-17-16-32-32-656/planet-snowcover-imagery-ndvi-validate:20190705_181946_101b_3B_AnalyticMS_SR',\n",
      " 'planet-snowcover-experiments/planet-snowcover-2020-04-17-16-32-32-656/planet-snowcover-imagery-ndvi-validate:20190705_181947_101b_3B_AnalyticMS_SR',\n",
      " 'planet-snowcover-experiments/planet-snowcover-2020-04-17-16-32-32-656/planet-snowcover-imagery-ndvi-validate:20190705_181948_101b_3B_AnalyticMS_SR',\n",
      " 'planet-snowcover-experiments/planet-snowcover-2020-04-17-16-32-32-656/planet-snowcover-imagery-ndvi-validate:20190705_182420_0f28_3B_AnalyticMS_SR',\n",
      " 'planet-snowcover-experiments/planet-snowcover-2020-04-17-16-32-32-656/planet-snowcover-imagery-ndvi-validate:20190705_182421_0f28_3B_AnalyticMS_SR',\n",
      " 'planet-snowcover-experiments/planet-snowcover-2020-04-17-16-32-32-656/planet-snowcover-imagery-ndvi-validate:20190705_182422_0f28_3B_AnalyticMS_SR',\n",
      " 'planet-snowcover-experiments/planet-snowcover-2020-04-17-16-32-32-656/planet-snowcover-imagery-ndvi-validate:20190705_182423_0f28_3B_AnalyticMS_SR',\n",
      " 'planet-snowcover-experiments/planet-snowcover-2020-04-17-16-32-32-656/planet-snowcover-imagery-ndvi-validate:20190705_182424_0f28_3B_AnalyticMS_SR',\n",
      " 'planet-snowcover-experiments/planet-snowcover-2020-04-17-16-32-32-656/planet-snowcover-imagery-ndvi-validate:20190705_182425_0f28_3B_AnalyticMS_SR',\n",
      " 'planet-snowcover-experiments/planet-snowcover-2020-04-17-16-32-32-656/planet-snowcover-imagery-ndvi-validate:20190705_182532_0f17_3B_AnalyticMS_SR',\n",
      " 'planet-snowcover-experiments/planet-snowcover-2020-04-17-16-32-32-656/planet-snowcover-imagery-ndvi-validate:20190705_182533_0f17_3B_AnalyticMS_SR',\n",
      " 'planet-snowcover-experiments/planet-snowcover-2020-04-17-16-32-32-656/planet-snowcover-imagery-ndvi-validate:20190705_182534_0f17_3B_AnalyticMS_SR',\n",
      " 'planet-snowcover-experiments/planet-snowcover-2020-04-17-16-32-32-656/planet-snowcover-imagery-ndvi-validate:20190705_182535_0f17_3B_AnalyticMS_SR',\n",
      " 'planet-snowcover-experiments/planet-snowcover-2020-04-17-16-32-32-656/planet-snowcover-imagery-ndvi-validate:20190705_182536_0f17_3B_AnalyticMS_SR',\n",
      " 'planet-snowcover-experiments/planet-snowcover-2020-04-17-16-32-32-656/planet-snowcover-imagery-ndvi-validate:20190705_182537_0f17_3B_AnalyticMS_SR']\n"
     ]
    }
   ],
   "source": [
    "# NDVI validate\n",
    "# read thru and combine with run summary\n",
    "#build a pipeline to assemble all the images\n",
    "#Amazon S3/planet-snowcover-experiments/planet-snowcover-2020-04-17-16-32-32-656\n",
    "import pprint\n",
    "import s3fs\n",
    "import boto3\n",
    "import io\n",
    "from re import match\n",
    "%matplotlib inline\n",
    "import rasterio as rio\n",
    "import numpy as np\n",
    "p = pprint.PrettyPrinter()\n",
    "\n",
    "fs = s3fs.S3FileSystem(session = boto3.Session(profile_name = 'esip'))\n",
    "#dem only\n",
    "imagery_searchpath = 's3://planet-snowcover-experiments/planet-snowcover-2020-04-17-16-32-32-656/'\n",
    "#print(\"Searching for imagery...({})\".format(imagery_searchpath))\n",
    "imagery_candidates = fs.ls(imagery_searchpath)\n",
    "print(\"candidates:\")\n",
    "#p.pprint(imagery_candidates)\n",
    "# filter only the test scenes tiles\n",
    "clipped_scenes = [link for link  in imagery_candidates if link.endswith('AnalyticMS_SR')]\n",
    "p.pprint(clipped_scenes)"
   ]
  },
  {
   "cell_type": "code",
   "execution_count": 14,
   "metadata": {},
   "outputs": [
    {
     "name": "stdout",
     "output_type": "stream",
     "text": [
      "Imagepath: planet-snowcover-imagery-ndvi-validate/20190705_171624_0f49_3B_AnalyticMS_SR\n",
      "44 4255\n",
      "100%|███████████████████████████████████████████| 44/44 [00:09<00:00,  4.88it/s]\n",
      "0...10...20...30...40...50...60...70...80...90...100 - done.\n",
      "0...10...20...30...40...50...60...70...80...90...100 - done.\n",
      "Imagepath: planet-snowcover-imagery-ndvi-validate/20190705_171625_0f49_3B_AnalyticMS_SR\n",
      "33 4255\n",
      "100%|███████████████████████████████████████████| 33/33 [00:06<00:00,  5.15it/s]\n",
      "0...10...20...30...40...50...60...70...80...90...100 - done.\n",
      "0...10...20...30...40...50...60...70...80...90...100 - done.\n",
      "Imagepath: planet-snowcover-imagery-ndvi-validate/20190705_181943_101b_3B_AnalyticMS_SR\n",
      "186 4255\n",
      "100%|█████████████████████████████████████████| 186/186 [00:34<00:00,  5.40it/s]\n",
      "0...10...20...30...40...50...60...70...80...90...100 - done.\n",
      "0...10...20...30...40...50...60...70...80...90...100 - done.\n",
      "Imagepath: planet-snowcover-imagery-ndvi-validate/20190705_181944_101b_3B_AnalyticMS_SR\n",
      "189 4255\n",
      "100%|█████████████████████████████████████████| 189/189 [00:34<00:00,  5.43it/s]\n",
      "0...10...20...30...40...50...60...70...80...90...100 - done.\n",
      "0...10...20...30...40...50...60...70...80...90...100 - done.\n",
      "Imagepath: planet-snowcover-imagery-ndvi-validate/20190705_181945_101b_3B_AnalyticMS_SR\n",
      "186 4255\n",
      "100%|█████████████████████████████████████████| 186/186 [00:35<00:00,  5.29it/s]\n",
      "0...10...20...30...40...50...60...70...80...90...100 - done.\n",
      "0...10...20...30...40...50...60...70...80...90...100 - done.\n",
      "Imagepath: planet-snowcover-imagery-ndvi-validate/20190705_181946_101b_3B_AnalyticMS_SR\n",
      "187 4255\n",
      "100%|█████████████████████████████████████████| 187/187 [00:36<00:00,  5.18it/s]\n",
      "0...10...20...30...40...50...60...70...80...90...100 - done.\n",
      "0...10...20...30...40...50...60...70...80...90...100 - done.\n",
      "Imagepath: planet-snowcover-imagery-ndvi-validate/20190705_181947_101b_3B_AnalyticMS_SR\n",
      "186 4255\n",
      "100%|█████████████████████████████████████████| 186/186 [00:34<00:00,  5.35it/s]\n",
      "0...10...20...30...40...50...60...70...80...90...100 - done.\n",
      "0...10...20...30...40...50...60...70...80...90...100 - done.\n",
      "Imagepath: planet-snowcover-imagery-ndvi-validate/20190705_181948_101b_3B_AnalyticMS_SR\n",
      "185 4255\n",
      "100%|█████████████████████████████████████████| 185/185 [00:34<00:00,  5.38it/s]\n",
      "0...10...20...30...40...50...60...70...80...90...100 - done.\n",
      "0...10...20...30...40...50...60...70...80...90...100 - done.\n",
      "Imagepath: planet-snowcover-imagery-ndvi-validate/20190705_182420_0f28_3B_AnalyticMS_SR\n",
      "187 4255\n",
      "100%|█████████████████████████████████████████| 187/187 [00:33<00:00,  5.60it/s]\n",
      "0...10...20...30...40...50...60...70...80...90...100 - done.\n",
      "0...10...20...30...40...50...60...70...80...90...100 - done.\n",
      "Imagepath: planet-snowcover-imagery-ndvi-validate/20190705_182421_0f28_3B_AnalyticMS_SR\n",
      "186 4255\n",
      "100%|█████████████████████████████████████████| 186/186 [00:31<00:00,  5.99it/s]\n",
      "0...10...20...30...40...50...60...70...80...90...100 - done.\n",
      "0...10...20...30...40...50...60...70...80...90...100 - done.\n",
      "Imagepath: planet-snowcover-imagery-ndvi-validate/20190705_182422_0f28_3B_AnalyticMS_SR\n",
      "186 4255\n",
      "100%|█████████████████████████████████████████| 186/186 [00:35<00:00,  5.21it/s]\n",
      "0...10...20...30...40...50...60...70...80...90...100 - done.\n",
      "0...10...20...30...40...50...60...70...80...90...100 - done.\n",
      "Imagepath: planet-snowcover-imagery-ndvi-validate/20190705_182423_0f28_3B_AnalyticMS_SR\n",
      "186 4255\n",
      "100%|█████████████████████████████████████████| 186/186 [00:31<00:00,  5.81it/s]\n",
      "0...10...20...30...40...50...60...70...80...90...100 - done.\n",
      "0...10...20...30...40...50...60...70...80...90...100 - done.\n",
      "Imagepath: planet-snowcover-imagery-ndvi-validate/20190705_182424_0f28_3B_AnalyticMS_SR\n",
      "183 4255\n",
      "100%|█████████████████████████████████████████| 183/183 [00:31<00:00,  5.80it/s]\n",
      "0...10...20...30...40...50...60...70...80...90...100 - done.\n",
      "0...10...20...30...40...50...60...70...80...90...100 - done.\n",
      "Imagepath: planet-snowcover-imagery-ndvi-validate/20190705_182425_0f28_3B_AnalyticMS_SR\n",
      "175 4255\n",
      "100%|█████████████████████████████████████████| 175/175 [00:29<00:00,  5.89it/s]\n",
      "0...10...20...30...40...50...60...70...80...90...100 - done.\n",
      "0...10...20...30...40...50...60...70...80...90...100 - done.\n",
      "Imagepath: planet-snowcover-imagery-ndvi-validate/20190705_182532_0f17_3B_AnalyticMS_SR\n",
      "66 4255\n",
      "100%|███████████████████████████████████████████| 66/66 [00:11<00:00,  5.85it/s]\n",
      "0...10...20...30...40...50...60...70...80...90...100 - done.\n",
      "0...10...20...30...40...50...60...70...80...90...100 - done.\n",
      "Imagepath: planet-snowcover-imagery-ndvi-validate/20190705_182533_0f17_3B_AnalyticMS_SR\n",
      "184 4255\n",
      "100%|█████████████████████████████████████████| 184/184 [00:33<00:00,  5.57it/s]\n",
      "0...10...20...30...40...50...60...70...80...90...100 - done.\n",
      "0...10...20...30...40...50...60...70...80...90...100 - done.\n",
      "Imagepath: planet-snowcover-imagery-ndvi-validate/20190705_182534_0f17_3B_AnalyticMS_SR\n",
      "171 4255\n",
      "100%|█████████████████████████████████████████| 171/171 [00:30<00:00,  5.55it/s]\n",
      "0...10...20...30...40...50...60...70...80...90...100 - done.\n",
      "0...10...20...30...40...50...60...70...80...90...100 - done.\n",
      "Imagepath: planet-snowcover-imagery-ndvi-validate/20190705_182535_0f17_3B_AnalyticMS_SR\n",
      "160 4255\n",
      "100%|█████████████████████████████████████████| 160/160 [00:31<00:00,  5.16it/s]\n",
      "0...10...20...30...40...50...60...70...80...90...100 - done.\n",
      "0...10...20...30...40...50...60...70...80...90...100 - done.\n",
      "Imagepath: planet-snowcover-imagery-ndvi-validate/20190705_182536_0f17_3B_AnalyticMS_SR\n",
      "146 4255\n",
      "100%|█████████████████████████████████████████| 146/146 [00:24<00:00,  5.92it/s]\n",
      "0...10...20...30...40...50...60...70...80...90...100 - done.\n",
      "0...10...20...30...40...50...60...70...80...90...100 - done.\n",
      "Imagepath: planet-snowcover-imagery-ndvi-validate/20190705_182537_0f17_3B_AnalyticMS_SR\n",
      "134 4255\n",
      "100%|█████████████████████████████████████████| 134/134 [00:23<00:00,  5.63it/s]\n",
      "0...10...20...30...40...50...60...70...80...90...100 - done.\n",
      "0...10...20...30...40...50...60...70...80...90...100 - done.\n"
     ]
    }
   ],
   "source": [
    "import os\n",
    "os.chdir('/home/ubuntu/planet-snowcover/experiments/ASO_Tuolumne/scripts')\n",
    "for link in clipped_scenes:\n",
    "    !python summarize.py --aws_profile esip {link} ~/ndvi-validate --mask_loc planet-snowcover-snow/ASO_3M_SD_USCATE_20190705_4326_binary \n"
   ]
  },
  {
   "cell_type": "code",
   "execution_count": 15,
   "metadata": {},
   "outputs": [
    {
     "name": "stdout",
     "output_type": "stream",
     "text": [
      "total 10304\n",
      "-rw-rw-r-- 1 ubuntu ubuntu    2259 Mar  5 04:36 aftertrain.py\n",
      "-rw-rw-r-- 1 ubuntu ubuntu    7409 Feb 27 23:33 compare.py\n",
      "-rw-rw-r-- 1 ubuntu ubuntu    3952 Feb 27 23:33 get-modis.py\n",
      "-rw-rw-r-- 1 ubuntu ubuntu    8868 Feb 27 23:33 get_sentinel.py\n",
      "-rw-rw-r-- 1 ubuntu ubuntu  322120 May  4 04:45 output-dah.log\n",
      "-rw-rw-r-- 1 ubuntu ubuntu     680 Mar 12 14:42 output.log\n",
      "-rw-rw-r-- 1 ubuntu ubuntu  315242 Apr 20 21:40 output-ndvi.log\n",
      "-rw-rw-r-- 1 ubuntu ubuntu 3625676 May 27 15:34 output-ndvi_validate.log\n",
      "-rw-rw-r-- 1 ubuntu ubuntu    1673 Mar  5 04:42 output_summarize_veg.log\n",
      "-rw-rw-r-- 1 ubuntu ubuntu   13396 May 28 16:42 output-veg_validate.log\n",
      "-rw-rw-r-- 1 ubuntu ubuntu  306443 Mar 25 12:02 prediction_base_job_test_only.log\n",
      "-rw-rw-r-- 1 ubuntu ubuntu  314434 Mar 18 05:36 prediction_base_test_only.log\n",
      "-rw-rw-r-- 1 ubuntu ubuntu  318913 May  5 04:59 prediction_dem_job_test.log\n",
      "-rw-rw-r-- 1 ubuntu ubuntu 2332511 Mar 13 03:04 prediction_veg_dem_job.log\n",
      "-rw-rw-r-- 1 ubuntu ubuntu  332866 Mar 18 05:32 prediction_veg_dem_job_test.log\n",
      "-rw-rw-r-- 1 ubuntu ubuntu 2263394 May  4 06:38 prediction_veg_job.log\n",
      "-rw-rw-r-- 1 ubuntu ubuntu  319397 Mar 18 05:25 prediction_veg_job_test_only.log\n",
      "-rw-rw-r-- 1 ubuntu ubuntu    3738 Mar 12 17:20 run_prediction.py\n",
      "-rw-rw-r-- 1 ubuntu ubuntu    2737 Feb 27 23:33 sagetrain.py\n",
      "-rw-rw-r-- 1 ubuntu ubuntu    6068 Mar  5 04:36 summarize.py\n",
      "-rw-rw-r-- 1 ubuntu ubuntu    1021 Mar 26 05:28 veg_gdal.vrt\n"
     ]
    }
   ],
   "source": [
    "ls -l"
   ]
  },
  {
   "cell_type": "code",
   "execution_count": 1,
   "metadata": {},
   "outputs": [
    {
     "name": "stderr",
     "output_type": "stream",
     "text": [
      "/home/ubuntu/anaconda3/envs/pytorch_p36/lib/python3.6/site-packages/matplotlib/__init__.py:1067: UserWarning: Duplicate key in file \"/home/ubuntu/.config/matplotlib/matplotlibrc\", line #2\n",
      "  (fname, cnt))\n",
      "/home/ubuntu/anaconda3/envs/pytorch_p36/lib/python3.6/site-packages/matplotlib/__init__.py:1067: UserWarning: Duplicate key in file \"/home/ubuntu/.config/matplotlib/matplotlibrc\", line #3\n",
      "  (fname, cnt))\n"
     ]
    }
   ],
   "source": [
    "import os\n",
    "from glob import glob\n",
    "\n",
    "import pandas as pd \n",
    "\n",
    "import matplotlib.pyplot as plt"
   ]
  },
  {
   "cell_type": "code",
   "execution_count": 2,
   "metadata": {},
   "outputs": [],
   "source": [
    "resultRoot = \"/home/ubuntu/ndvi-validate/\""
   ]
  },
  {
   "cell_type": "code",
   "execution_count": 3,
   "metadata": {},
   "outputs": [],
   "source": [
    "results = glob(os.path.join(resultRoot, \"*/*/*_merged.tif\"))"
   ]
  },
  {
   "cell_type": "code",
   "execution_count": 122,
   "metadata": {},
   "outputs": [
    {
     "data": {
      "text/plain": [
       "['/home/ubuntu/ndvi-validate/planet-snowcover-experiments:planet-snowcover-2020-04-17-16-32-32-656:planet-snowcover-imagery-ndvi-validate:20190705_181944_101b_3B_AnalyticMS_SR/preds/20190705_181944_101b_3B_AnalyticMS_SR_merged.tif',\n",
       " '/home/ubuntu/ndvi-validate/planet-snowcover-experiments:planet-snowcover-2020-04-17-16-32-32-656:planet-snowcover-imagery-ndvi-validate:20190705_181944_101b_3B_AnalyticMS_SR/mask/ASO_3M_SD_USCATE_20190705_4326_binary_merged.tif',\n",
       " '/home/ubuntu/ndvi-validate/planet-snowcover-experiments:planet-snowcover-2020-04-17-16-32-32-656:planet-snowcover-imagery-ndvi-validate:20190705_182424_0f28_3B_AnalyticMS_SR/preds/20190705_182424_0f28_3B_AnalyticMS_SR_merged.tif',\n",
       " '/home/ubuntu/ndvi-validate/planet-snowcover-experiments:planet-snowcover-2020-04-17-16-32-32-656:planet-snowcover-imagery-ndvi-validate:20190705_182424_0f28_3B_AnalyticMS_SR/mask/ASO_3M_SD_USCATE_20190705_4326_binary_merged.tif',\n",
       " '/home/ubuntu/ndvi-validate/planet-snowcover-experiments:planet-snowcover-2020-04-17-16-32-32-656:planet-snowcover-imagery-ndvi-validate:20190705_171624_0f49_3B_AnalyticMS_SR/preds/20190705_171624_0f49_3B_AnalyticMS_SR_merged.tif',\n",
       " '/home/ubuntu/ndvi-validate/planet-snowcover-experiments:planet-snowcover-2020-04-17-16-32-32-656:planet-snowcover-imagery-ndvi-validate:20190705_171624_0f49_3B_AnalyticMS_SR/mask/ASO_3M_SD_USCATE_20190705_4326_binary_merged.tif',\n",
       " '/home/ubuntu/ndvi-validate/planet-snowcover-experiments:planet-snowcover-2020-04-17-16-32-32-656:planet-snowcover-imagery-ndvi-validate:20190705_182533_0f17_3B_AnalyticMS_SR/preds/20190705_182533_0f17_3B_AnalyticMS_SR_merged.tif',\n",
       " '/home/ubuntu/ndvi-validate/planet-snowcover-experiments:planet-snowcover-2020-04-17-16-32-32-656:planet-snowcover-imagery-ndvi-validate:20190705_182533_0f17_3B_AnalyticMS_SR/mask/ASO_3M_SD_USCATE_20190705_4326_binary_merged.tif',\n",
       " '/home/ubuntu/ndvi-validate/planet-snowcover-experiments:planet-snowcover-2020-04-17-16-32-32-656:planet-snowcover-imagery-ndvi-validate:20190705_182422_0f28_3B_AnalyticMS_SR/preds/20190705_182422_0f28_3B_AnalyticMS_SR_merged.tif',\n",
       " '/home/ubuntu/ndvi-validate/planet-snowcover-experiments:planet-snowcover-2020-04-17-16-32-32-656:planet-snowcover-imagery-ndvi-validate:20190705_182422_0f28_3B_AnalyticMS_SR/mask/ASO_3M_SD_USCATE_20190705_4326_binary_merged.tif',\n",
       " '/home/ubuntu/ndvi-validate/planet-snowcover-experiments:planet-snowcover-2020-04-17-16-32-32-656:planet-snowcover-imagery-ndvi-validate:20190705_181943_101b_3B_AnalyticMS_SR/preds/20190705_181943_101b_3B_AnalyticMS_SR_merged.tif',\n",
       " '/home/ubuntu/ndvi-validate/planet-snowcover-experiments:planet-snowcover-2020-04-17-16-32-32-656:planet-snowcover-imagery-ndvi-validate:20190705_181943_101b_3B_AnalyticMS_SR/mask/ASO_3M_SD_USCATE_20190705_4326_binary_merged.tif',\n",
       " '/home/ubuntu/ndvi-validate/planet-snowcover-experiments:planet-snowcover-2020-04-17-16-32-32-656:planet-snowcover-imagery-ndvi-validate:20190705_182420_0f28_3B_AnalyticMS_SR/preds/20190705_182420_0f28_3B_AnalyticMS_SR_merged.tif',\n",
       " '/home/ubuntu/ndvi-validate/planet-snowcover-experiments:planet-snowcover-2020-04-17-16-32-32-656:planet-snowcover-imagery-ndvi-validate:20190705_182420_0f28_3B_AnalyticMS_SR/mask/ASO_3M_SD_USCATE_20190705_4326_binary_merged.tif',\n",
       " '/home/ubuntu/ndvi-validate/planet-snowcover-experiments:planet-snowcover-2020-04-17-16-32-32-656:planet-snowcover-imagery-ndvi-validate:20190705_182535_0f17_3B_AnalyticMS_SR/preds/20190705_182535_0f17_3B_AnalyticMS_SR_merged.tif',\n",
       " '/home/ubuntu/ndvi-validate/planet-snowcover-experiments:planet-snowcover-2020-04-17-16-32-32-656:planet-snowcover-imagery-ndvi-validate:20190705_182535_0f17_3B_AnalyticMS_SR/mask/ASO_3M_SD_USCATE_20190705_4326_binary_merged.tif',\n",
       " '/home/ubuntu/ndvi-validate/planet-snowcover-experiments:planet-snowcover-2020-04-17-16-32-32-656:planet-snowcover-imagery-ndvi-validate:20190705_181945_101b_3B_AnalyticMS_SR/preds/20190705_181945_101b_3B_AnalyticMS_SR_merged.tif',\n",
       " '/home/ubuntu/ndvi-validate/planet-snowcover-experiments:planet-snowcover-2020-04-17-16-32-32-656:planet-snowcover-imagery-ndvi-validate:20190705_181945_101b_3B_AnalyticMS_SR/mask/ASO_3M_SD_USCATE_20190705_4326_binary_merged.tif',\n",
       " '/home/ubuntu/ndvi-validate/planet-snowcover-experiments:planet-snowcover-2020-04-17-16-32-32-656:planet-snowcover-imagery-ndvi-validate:20190705_171625_0f49_3B_AnalyticMS_SR/preds/20190705_171625_0f49_3B_AnalyticMS_SR_merged.tif',\n",
       " '/home/ubuntu/ndvi-validate/planet-snowcover-experiments:planet-snowcover-2020-04-17-16-32-32-656:planet-snowcover-imagery-ndvi-validate:20190705_171625_0f49_3B_AnalyticMS_SR/mask/ASO_3M_SD_USCATE_20190705_4326_binary_merged.tif',\n",
       " '/home/ubuntu/ndvi-validate/planet-snowcover-experiments:planet-snowcover-2020-04-17-16-32-32-656:planet-snowcover-imagery-ndvi-validate:20190705_182537_0f17_3B_AnalyticMS_SR/preds/20190705_182537_0f17_3B_AnalyticMS_SR_merged.tif',\n",
       " '/home/ubuntu/ndvi-validate/planet-snowcover-experiments:planet-snowcover-2020-04-17-16-32-32-656:planet-snowcover-imagery-ndvi-validate:20190705_182537_0f17_3B_AnalyticMS_SR/mask/ASO_3M_SD_USCATE_20190705_4326_binary_merged.tif',\n",
       " '/home/ubuntu/ndvi-validate/planet-snowcover-experiments:planet-snowcover-2020-04-17-16-32-32-656:planet-snowcover-imagery-ndvi-validate:20190705_182425_0f28_3B_AnalyticMS_SR/preds/20190705_182425_0f28_3B_AnalyticMS_SR_merged.tif',\n",
       " '/home/ubuntu/ndvi-validate/planet-snowcover-experiments:planet-snowcover-2020-04-17-16-32-32-656:planet-snowcover-imagery-ndvi-validate:20190705_182425_0f28_3B_AnalyticMS_SR/mask/ASO_3M_SD_USCATE_20190705_4326_binary_merged.tif',\n",
       " '/home/ubuntu/ndvi-validate/planet-snowcover-experiments:planet-snowcover-2020-04-17-16-32-32-656:planet-snowcover-imagery-ndvi-validate:20190705_182532_0f17_3B_AnalyticMS_SR/preds/20190705_182532_0f17_3B_AnalyticMS_SR_merged.tif',\n",
       " '/home/ubuntu/ndvi-validate/planet-snowcover-experiments:planet-snowcover-2020-04-17-16-32-32-656:planet-snowcover-imagery-ndvi-validate:20190705_182532_0f17_3B_AnalyticMS_SR/mask/ASO_3M_SD_USCATE_20190705_4326_binary_merged.tif',\n",
       " '/home/ubuntu/ndvi-validate/planet-snowcover-experiments:planet-snowcover-2020-04-17-16-32-32-656:planet-snowcover-imagery-ndvi-validate:20190705_182536_0f17_3B_AnalyticMS_SR/preds/20190705_182536_0f17_3B_AnalyticMS_SR_merged.tif',\n",
       " '/home/ubuntu/ndvi-validate/planet-snowcover-experiments:planet-snowcover-2020-04-17-16-32-32-656:planet-snowcover-imagery-ndvi-validate:20190705_182536_0f17_3B_AnalyticMS_SR/mask/ASO_3M_SD_USCATE_20190705_4326_binary_merged.tif',\n",
       " '/home/ubuntu/ndvi-validate/planet-snowcover-experiments:planet-snowcover-2020-04-17-16-32-32-656:planet-snowcover-imagery-ndvi-validate:20190705_182421_0f28_3B_AnalyticMS_SR/preds/20190705_182421_0f28_3B_AnalyticMS_SR_merged.tif',\n",
       " '/home/ubuntu/ndvi-validate/planet-snowcover-experiments:planet-snowcover-2020-04-17-16-32-32-656:planet-snowcover-imagery-ndvi-validate:20190705_182421_0f28_3B_AnalyticMS_SR/mask/ASO_3M_SD_USCATE_20190705_4326_binary_merged.tif',\n",
       " '/home/ubuntu/ndvi-validate/planet-snowcover-experiments:planet-snowcover-2020-04-17-16-32-32-656:planet-snowcover-imagery-ndvi-validate:20190705_181948_101b_3B_AnalyticMS_SR/preds/20190705_181948_101b_3B_AnalyticMS_SR_merged.tif',\n",
       " '/home/ubuntu/ndvi-validate/planet-snowcover-experiments:planet-snowcover-2020-04-17-16-32-32-656:planet-snowcover-imagery-ndvi-validate:20190705_181948_101b_3B_AnalyticMS_SR/mask/ASO_3M_SD_USCATE_20190705_4326_binary_merged.tif',\n",
       " '/home/ubuntu/ndvi-validate/planet-snowcover-experiments:planet-snowcover-2020-04-17-16-32-32-656:planet-snowcover-imagery-ndvi-validate:20190705_181947_101b_3B_AnalyticMS_SR/preds/20190705_181947_101b_3B_AnalyticMS_SR_merged.tif',\n",
       " '/home/ubuntu/ndvi-validate/planet-snowcover-experiments:planet-snowcover-2020-04-17-16-32-32-656:planet-snowcover-imagery-ndvi-validate:20190705_181947_101b_3B_AnalyticMS_SR/mask/ASO_3M_SD_USCATE_20190705_4326_binary_merged.tif',\n",
       " '/home/ubuntu/ndvi-validate/planet-snowcover-experiments:planet-snowcover-2020-04-17-16-32-32-656:planet-snowcover-imagery-ndvi-validate:20190705_182534_0f17_3B_AnalyticMS_SR/preds/20190705_182534_0f17_3B_AnalyticMS_SR_merged.tif',\n",
       " '/home/ubuntu/ndvi-validate/planet-snowcover-experiments:planet-snowcover-2020-04-17-16-32-32-656:planet-snowcover-imagery-ndvi-validate:20190705_182534_0f17_3B_AnalyticMS_SR/mask/ASO_3M_SD_USCATE_20190705_4326_binary_merged.tif',\n",
       " '/home/ubuntu/ndvi-validate/planet-snowcover-experiments:planet-snowcover-2020-04-17-16-32-32-656:planet-snowcover-imagery-ndvi-validate:20190705_181946_101b_3B_AnalyticMS_SR/preds/20190705_181946_101b_3B_AnalyticMS_SR_merged.tif',\n",
       " '/home/ubuntu/ndvi-validate/planet-snowcover-experiments:planet-snowcover-2020-04-17-16-32-32-656:planet-snowcover-imagery-ndvi-validate:20190705_181946_101b_3B_AnalyticMS_SR/mask/ASO_3M_SD_USCATE_20190705_4326_binary_merged.tif',\n",
       " '/home/ubuntu/ndvi-validate/planet-snowcover-experiments:planet-snowcover-2020-04-17-16-32-32-656:planet-snowcover-imagery-ndvi-validate:20190705_182423_0f28_3B_AnalyticMS_SR/preds/20190705_182423_0f28_3B_AnalyticMS_SR_merged.tif',\n",
       " '/home/ubuntu/ndvi-validate/planet-snowcover-experiments:planet-snowcover-2020-04-17-16-32-32-656:planet-snowcover-imagery-ndvi-validate:20190705_182423_0f28_3B_AnalyticMS_SR/mask/ASO_3M_SD_USCATE_20190705_4326_binary_merged.tif']"
      ]
     },
     "execution_count": 122,
     "metadata": {},
     "output_type": "execute_result"
    }
   ],
   "source": [
    "results"
   ]
  },
  {
   "cell_type": "code",
   "execution_count": 78,
   "metadata": {},
   "outputs": [],
   "source": [
    "results_dirs = glob(os.path.join(resultRoot, \"*\"))"
   ]
  },
  {
   "cell_type": "code",
   "execution_count": 79,
   "metadata": {},
   "outputs": [
    {
     "data": {
      "text/plain": [
       "['/home/ubuntu/ndvi-validate/planet-snowcover-experiments:planet-snowcover-2020-04-17-16-32-32-656:planet-snowcover-imagery-ndvi-validate:20190705_181944_101b_3B_AnalyticMS_SR',\n",
       " '/home/ubuntu/ndvi-validate/planet-snowcover-experiments:planet-snowcover-2020-04-17-16-32-32-656:planet-snowcover-imagery-ndvi-validate:20190705_182424_0f28_3B_AnalyticMS_SR',\n",
       " '/home/ubuntu/ndvi-validate/planet-snowcover-experiments:planet-snowcover-2020-04-17-16-32-32-656:planet-snowcover-imagery-ndvi-validate:20190705_171624_0f49_3B_AnalyticMS_SR',\n",
       " '/home/ubuntu/ndvi-validate/planet-snowcover-experiments:planet-snowcover-2020-04-17-16-32-32-656:planet-snowcover-imagery-ndvi-validate:20190705_182533_0f17_3B_AnalyticMS_SR',\n",
       " '/home/ubuntu/ndvi-validate/planet-snowcover-experiments:planet-snowcover-2020-04-17-16-32-32-656:planet-snowcover-imagery-ndvi-validate:20190705_182422_0f28_3B_AnalyticMS_SR',\n",
       " '/home/ubuntu/ndvi-validate/planet-snowcover-experiments:planet-snowcover-2020-04-17-16-32-32-656:planet-snowcover-imagery-ndvi-validate:20190705_181943_101b_3B_AnalyticMS_SR',\n",
       " '/home/ubuntu/ndvi-validate/planet-snowcover-experiments:planet-snowcover-2020-04-17-16-32-32-656:planet-snowcover-imagery-ndvi-validate:20190705_182420_0f28_3B_AnalyticMS_SR',\n",
       " '/home/ubuntu/ndvi-validate/planet-snowcover-experiments:planet-snowcover-2020-04-17-16-32-32-656:planet-snowcover-imagery-ndvi-validate:20190705_182535_0f17_3B_AnalyticMS_SR',\n",
       " '/home/ubuntu/ndvi-validate/planet-snowcover-experiments:planet-snowcover-2020-04-17-16-32-32-656:planet-snowcover-imagery-ndvi-validate:20190705_181945_101b_3B_AnalyticMS_SR',\n",
       " '/home/ubuntu/ndvi-validate/planet-snowcover-experiments:planet-snowcover-2020-04-17-16-32-32-656:planet-snowcover-imagery-ndvi-validate:20190705_171625_0f49_3B_AnalyticMS_SR',\n",
       " '/home/ubuntu/ndvi-validate/planet-snowcover-experiments:planet-snowcover-2020-04-17-16-32-32-656:planet-snowcover-imagery-ndvi-validate:20190705_182537_0f17_3B_AnalyticMS_SR',\n",
       " '/home/ubuntu/ndvi-validate/planet-snowcover-experiments:planet-snowcover-2020-04-17-16-32-32-656:planet-snowcover-imagery-ndvi-validate:20190705_182425_0f28_3B_AnalyticMS_SR',\n",
       " '/home/ubuntu/ndvi-validate/planet-snowcover-experiments:planet-snowcover-2020-04-17-16-32-32-656:planet-snowcover-imagery-ndvi-validate:20190705_182532_0f17_3B_AnalyticMS_SR',\n",
       " '/home/ubuntu/ndvi-validate/planet-snowcover-experiments:planet-snowcover-2020-04-17-16-32-32-656:planet-snowcover-imagery-ndvi-validate:20190705_182536_0f17_3B_AnalyticMS_SR',\n",
       " '/home/ubuntu/ndvi-validate/planet-snowcover-experiments:planet-snowcover-2020-04-17-16-32-32-656:planet-snowcover-imagery-ndvi-validate:20190705_182421_0f28_3B_AnalyticMS_SR',\n",
       " '/home/ubuntu/ndvi-validate/planet-snowcover-experiments:planet-snowcover-2020-04-17-16-32-32-656:planet-snowcover-imagery-ndvi-validate:20190705_181948_101b_3B_AnalyticMS_SR',\n",
       " '/home/ubuntu/ndvi-validate/planet-snowcover-experiments:planet-snowcover-2020-04-17-16-32-32-656:planet-snowcover-imagery-ndvi-validate:20190705_181947_101b_3B_AnalyticMS_SR',\n",
       " '/home/ubuntu/ndvi-validate/planet-snowcover-experiments:planet-snowcover-2020-04-17-16-32-32-656:planet-snowcover-imagery-ndvi-validate:20190705_182534_0f17_3B_AnalyticMS_SR',\n",
       " '/home/ubuntu/ndvi-validate/planet-snowcover-experiments:planet-snowcover-2020-04-17-16-32-32-656:planet-snowcover-imagery-ndvi-validate:20190705_181946_101b_3B_AnalyticMS_SR',\n",
       " '/home/ubuntu/ndvi-validate/planet-snowcover-experiments:planet-snowcover-2020-04-17-16-32-32-656:planet-snowcover-imagery-ndvi-validate:20190705_182423_0f28_3B_AnalyticMS_SR']"
      ]
     },
     "execution_count": 79,
     "metadata": {},
     "output_type": "execute_result"
    }
   ],
   "source": [
    "results_dirs"
   ]
  },
  {
   "cell_type": "code",
   "execution_count": 123,
   "metadata": {},
   "outputs": [
    {
     "name": "stdout",
     "output_type": "stream",
     "text": [
      "/home/ubuntu/ndvi-validate/planet-snowcover-experiments:planet-snowcover-2020-04-17-16-32-32-656:planet-snowcover-imagery-ndvi-validate:20190705_182424_0f28_3B_AnalyticMS_SR/preds/20190705_182424_0f28_3B_AnalyticMS_SR_merged.tif\n",
      "[[9999 9999 9999 ... 9999 9999 9999]\n",
      " [9999 9999 9999 ... 9999 9999 9999]\n",
      " [9999 9999 9999 ... 9999 9999 9999]\n",
      " ...\n",
      " [9999 9999 9999 ... 9999 9999 9999]\n",
      " [9999 9999 9999 ... 9999 9999 9999]\n",
      " [9999 9999 9999 ... 9999 9999 9999]]\n"
     ]
    },
    {
     "data": {
      "image/png": "[encoded data removed]",
      "text/plain": [
       "<Figure size 720x720 with 1 Axes>"
      ]
     },
     "metadata": {},
     "output_type": "display_data"
    }
   ],
   "source": [
    "%matplotlib inline\n",
    "import rasterio as rio\n",
    "import numpy as np\n",
    "from matplotlib import pyplot as plt\n",
    "import rasterio.plot\n",
    "import os\n",
    "from datetime import datetime as dt\n",
    "print(results[2])\n",
    "# Load the DEM and read out a np array of the elevation values (meters):\n",
    "dem = rio.open(results[2])\n",
    "elev = dem.read(1)\n",
    "print(elev)\n",
    "\n",
    "\n",
    "# Plot this elevation band:\n",
    "plt.figure(figsize=(10,10))\n",
    "plt.imshow(elev)\n",
    "\n",
    "title_text = ''\n",
    "plt.title(title_text);"
   ]
  },
  {
   "cell_type": "code",
   "execution_count": 124,
   "metadata": {},
   "outputs": [
    {
     "name": "stdout",
     "output_type": "stream",
     "text": [
      "/home/ubuntu/ndvi-validate/planet-snowcover-experiments:planet-snowcover-2020-04-17-16-32-32-656:planet-snowcover-imagery-ndvi-validate:20190705_182424_0f28_3B_AnalyticMS_SR/mask/ASO_3M_SD_USCATE_20190705_4326_binary_merged.tif\n",
      "[[9999 9999 9999 ... 9999 9999 9999]\n",
      " [9999 9999 9999 ... 9999 9999 9999]\n",
      " [9999 9999 9999 ... 9999 9999 9999]\n",
      " ...\n",
      " [9999 9999 9999 ... 9999 9999 9999]\n",
      " [9999 9999 9999 ... 9999 9999 9999]\n",
      " [9999 9999 9999 ... 9999 9999 9999]]\n"
     ]
    },
    {
     "data": {
      "image/png": "[encoded data removed]",
      "text/plain": [
       "<Figure size 720x720 with 1 Axes>"
      ]
     },
     "metadata": {},
     "output_type": "display_data"
    }
   ],
   "source": [
    "%matplotlib inline\n",
    "import rasterio as rio\n",
    "import numpy as np\n",
    "from matplotlib import pyplot as plt\n",
    "import rasterio.plot\n",
    "import os\n",
    "from datetime import datetime as dt\n",
    "print(results[3])\n",
    "# Load the DEM and read out a np array of the elevation values (meters):\n",
    "dem = rio.open(results[3])\n",
    "elev = dem.read(1)\n",
    "print(elev)\n",
    "\n",
    "\n",
    "# Plot this elevation band:\n",
    "plt.figure(figsize=(10,10))\n",
    "plt.imshow(elev)\n",
    "\n",
    "title_text = ''\n",
    "plt.title(title_text);"
   ]
  },
  {
   "cell_type": "code",
   "execution_count": 89,
   "metadata": {},
   "outputs": [
    {
     "name": "stdout",
     "output_type": "stream",
     "text": [
      "Driver: GTiff/GeoTIFF\n",
      "Files: /home/ubuntu/ndvi-validate/planet-snowcover-experiments:planet-snowcover-2020-04-17-16-32-32-656:planet-snowcover-imagery-ndvi-validate:20190705_181944_101b_3B_AnalyticMS_SR/mask/ASO_3M_SD_USCATE_20190705_4326_binary_merged.tif\n",
      "Size is 13824, 7167\n",
      "Coordinate System is:\n",
      "GEOGCS[\"WGS 84\",\n",
      "    DATUM[\"WGS_1984\",\n",
      "        SPHEROID[\"WGS 84\",6378137,298.257223563,\n",
      "            AUTHORITY[\"EPSG\",\"7030\"]],\n",
      "        AUTHORITY[\"EPSG\",\"6326\"]],\n",
      "    PRIMEM[\"Greenwich\",0],\n",
      "    UNIT[\"degree\",0.0174532925199433],\n",
      "    AUTHORITY[\"EPSG\",\"4326\"]]\n",
      "Origin = (-119.542236328125000,38.134556577054127)\n",
      "Pixel Size = (0.000021457672119,-0.000016894786483)\n",
      "Metadata:\n",
      "  AREA_OR_POINT=Area\n",
      "Image Structure Metadata:\n",
      "  COMPRESSION=LZW\n",
      "  INTERLEAVE=BAND\n",
      "Corner Coordinates:\n",
      "Upper Left  (-119.5422363,  38.1345566) (119d32'32.05\"W, 38d 8' 4.40\"N)\n",
      "Lower Left  (-119.5422363,  38.0134716) (119d32'32.05\"W, 38d 0'48.50\"N)\n",
      "Upper Right (-119.2456055,  38.1345566) (119d14'44.18\"W, 38d 8' 4.40\"N)\n",
      "Lower Right (-119.2456055,  38.0134716) (119d14'44.18\"W, 38d 0'48.50\"N)\n",
      "Center      (-119.3939209,  38.0740141) (119d23'38.12\"W, 38d 4'26.45\"N)\n",
      "Band 1 Block=13824x1 Type=Int16, ColorInterp=Gray\n",
      "  NoData Value=9999\n"
     ]
    }
   ],
   "source": [
    "!gdalinfo {results[1]}"
   ]
  },
  {
   "cell_type": "code",
   "execution_count": 95,
   "metadata": {},
   "outputs": [
    {
     "name": "stdout",
     "output_type": "stream",
     "text": [
      "Driver: GTiff/GeoTIFF\n",
      "Files: /home/ubuntu/ndvi-validate/planet-snowcover-experiments:planet-snowcover-2020-04-17-16-32-32-656:planet-snowcover-imagery-ndvi-validate:20190705_181944_101b_3B_AnalyticMS_SR/preds/20190705_181944_101b_3B_AnalyticMS_SR_merged.tif\n",
      "Size is 13824, 7168\n",
      "Coordinate System is:\n",
      "GEOGCS[\"WGS 84\",\n",
      "    DATUM[\"WGS_1984\",\n",
      "        SPHEROID[\"WGS 84\",6378137,298.257223563,\n",
      "            AUTHORITY[\"EPSG\",\"7030\"]],\n",
      "        AUTHORITY[\"EPSG\",\"6326\"]],\n",
      "    PRIMEM[\"Greenwich\",0],\n",
      "    UNIT[\"degree\",0.0174532925199433],\n",
      "    AUTHORITY[\"EPSG\",\"4326\"]]\n",
      "Origin = (-119.542236328125000,38.134556577054127)\n",
      "Pixel Size = (0.000021457672119,-0.000016890791833)\n",
      "Metadata:\n",
      "  AREA_OR_POINT=Area\n",
      "Image Structure Metadata:\n",
      "  COMPRESSION=LZW\n",
      "  INTERLEAVE=BAND\n",
      "Corner Coordinates:\n",
      "Upper Left  (-119.5422363,  38.1345566) (119d32'32.05\"W, 38d 8' 4.40\"N)\n",
      "Lower Left  (-119.5422363,  38.0134834) (119d32'32.05\"W, 38d 0'48.54\"N)\n",
      "Upper Right (-119.2456055,  38.1345566) (119d14'44.18\"W, 38d 8' 4.40\"N)\n",
      "Lower Right (-119.2456055,  38.0134834) (119d14'44.18\"W, 38d 0'48.54\"N)\n",
      "Center      (-119.3939209,  38.0740200) (119d23'38.12\"W, 38d 4'26.47\"N)\n",
      "Band 1 Block=13824x1 Type=Int16, ColorInterp=Gray\n",
      "  NoData Value=9999\n"
     ]
    }
   ],
   "source": [
    "!gdalinfo {results[0]}"
   ]
  },
  {
   "cell_type": "code",
   "execution_count": 98,
   "metadata": {},
   "outputs": [
    {
     "data": {
      "text/plain": [
       "'/home/ubuntu/ndvi-validate/planet-snowcover-experiments:planet-snowcover-2020-04-17-16-32-32-656:planet-snowcover-imagery-ndvi-validate:20190705_181944_101b_3B_AnalyticMS_SR/preds/20190705_181944_101b_3B_AnalyticMS_SR_merged_crop.vrt'"
      ]
     },
     "execution_count": 98,
     "metadata": {},
     "output_type": "execute_result"
    }
   ],
   "source": [
    "reproject_image_to_master(results[1],results[0])"
   ]
  },
  {
   "cell_type": "code",
   "execution_count": 107,
   "metadata": {},
   "outputs": [
    {
     "name": "stdout",
     "output_type": "stream",
     "text": [
      "Driver: VRT/Virtual Raster\n",
      "Files: /home/ubuntu/ndvi-validate/planet-snowcover-experiments:planet-snowcover-2020-04-17-16-32-32-656:planet-snowcover-imagery-ndvi-validate:20190705_181944_101b_3B_AnalyticMS_SR/preds/20190705_181944_101b_3B_AnalyticMS_SR_merged_crop.vrt\n",
      "Size is 13824, 7167\n",
      "Coordinate System is:\n",
      "GEOGCS[\"WGS 84\",\n",
      "    DATUM[\"WGS_1984\",\n",
      "        SPHEROID[\"WGS 84\",6378137,298.257223563,\n",
      "            AUTHORITY[\"EPSG\",\"7030\"]],\n",
      "        AUTHORITY[\"EPSG\",\"6326\"]],\n",
      "    PRIMEM[\"Greenwich\",0],\n",
      "    UNIT[\"degree\",0.0174532925199433],\n",
      "    AUTHORITY[\"EPSG\",\"4326\"]]\n",
      "Origin = (-119.542236328125000,38.134556577054127)\n",
      "Pixel Size = (0.000021457672119,-0.000016894786483)\n",
      "Corner Coordinates:\n",
      "Upper Left  (-119.5422363,  38.1345566) (119d32'32.05\"W, 38d 8' 4.40\"N)\n",
      "Lower Left  (-119.5422363,  38.0134716) (119d32'32.05\"W, 38d 0'48.50\"N)\n",
      "Upper Right (-119.2456055,  38.1345566) (119d14'44.18\"W, 38d 8' 4.40\"N)\n",
      "Lower Right (-119.2456055,  38.0134716) (119d14'44.18\"W, 38d 0'48.50\"N)\n",
      "Center      (-119.3939209,  38.0740141) (119d23'38.12\"W, 38d 4'26.45\"N)\n",
      "Band 1 Block=128x128 Type=Int16, ColorInterp=Undefined\n",
      "  Min=0.000 Max=0.000 \n",
      "  NoData Value=9999\n"
     ]
    }
   ],
   "source": [
    "!gdalinfo {reproject_image_to_master(results[1],results[0])}"
   ]
  },
  {
   "cell_type": "code",
   "execution_count": 109,
   "metadata": {},
   "outputs": [
    {
     "name": "stdout",
     "output_type": "stream",
     "text": [
      "9999.0\n",
      "9999.0\n",
      "EPSG:4326 EPSG:4326\n",
      "(99076608,) (99076608,)\n"
     ]
    },
    {
     "ename": "ValueError",
     "evalue": "Target is multiclass but average='binary'. Please choose another average setting.",
     "output_type": "error",
     "traceback": [
      "\u001b[0;31m---------------------------------------------------------------------------\u001b[0m",
      "\u001b[0;31mValueError\u001b[0m                                Traceback (most recent call last)",
      "\u001b[0;32m<ipython-input-109-f901a9cff681>\u001b[0m in \u001b[0;36m<module>\u001b[0;34m()\u001b[0m\n\u001b[1;32m     12\u001b[0m \u001b[0;34m\u001b[0m\u001b[0m\n\u001b[1;32m     13\u001b[0m \u001b[0mbalanced_acc\u001b[0m \u001b[0;34m=\u001b[0m \u001b[0mmetrics\u001b[0m\u001b[0;34m.\u001b[0m\u001b[0mbalanced_accuracy_score\u001b[0m\u001b[0;34m(\u001b[0m\u001b[0;34m*\u001b[0m\u001b[0mcompare\u001b[0m\u001b[0;34m)\u001b[0m\u001b[0;34m\u001b[0m\u001b[0;34m\u001b[0m\u001b[0m\n\u001b[0;32m---> 14\u001b[0;31m \u001b[0mprfs\u001b[0m \u001b[0;34m=\u001b[0m \u001b[0mmetrics\u001b[0m\u001b[0;34m.\u001b[0m\u001b[0mprecision_recall_fscore_support\u001b[0m\u001b[0;34m(\u001b[0m\u001b[0;34m*\u001b[0m\u001b[0mcompare\u001b[0m\u001b[0;34m,\u001b[0m \u001b[0maverage\u001b[0m\u001b[0;34m=\u001b[0m\u001b[0;34m'binary'\u001b[0m\u001b[0;34m)\u001b[0m\u001b[0;34m\u001b[0m\u001b[0;34m\u001b[0m\u001b[0m\n\u001b[0m\u001b[1;32m     15\u001b[0m \u001b[0;34m\u001b[0m\u001b[0m\n\u001b[1;32m     16\u001b[0m these_metrics = {\n",
      "\u001b[0;32m~/anaconda3/envs/pytorch_p36/lib/python3.6/site-packages/sklearn/metrics/classification.py\u001b[0m in \u001b[0;36mprecision_recall_fscore_support\u001b[0;34m(y_true, y_pred, beta, labels, pos_label, average, warn_for, sample_weight)\u001b[0m\n\u001b[1;32m   1045\u001b[0m         \u001b[0;32melse\u001b[0m\u001b[0;34m:\u001b[0m\u001b[0;34m\u001b[0m\u001b[0;34m\u001b[0m\u001b[0m\n\u001b[1;32m   1046\u001b[0m             raise ValueError(\"Target is %s but average='binary'. Please \"\n\u001b[0;32m-> 1047\u001b[0;31m                              \"choose another average setting.\" % y_type)\n\u001b[0m\u001b[1;32m   1048\u001b[0m     \u001b[0;32melif\u001b[0m \u001b[0mpos_label\u001b[0m \u001b[0;32mnot\u001b[0m \u001b[0;32min\u001b[0m \u001b[0;34m(\u001b[0m\u001b[0;32mNone\u001b[0m\u001b[0;34m,\u001b[0m \u001b[0;36m1\u001b[0m\u001b[0;34m)\u001b[0m\u001b[0;34m:\u001b[0m\u001b[0;34m\u001b[0m\u001b[0;34m\u001b[0m\u001b[0m\n\u001b[1;32m   1049\u001b[0m         warnings.warn(\"Note that pos_label (set to %r) is ignored when \"\n",
      "\u001b[0;31mValueError\u001b[0m: Target is multiclass but average='binary'. Please choose another average setting."
     ]
    }
   ],
   "source": [
    "mask = rio.open(results[1])\n",
    "preds = rio.open(reproject_image_to_master(results[1],results[0]))\n",
    "print(mask.nodata)\n",
    "print(preds.nodata)\n",
    "\n",
    "print(mask.crs, preds.crs)\n",
    "mask_data = mask.read(1).flatten()\n",
    "pred_data = preds.read(1).flatten()\n",
    "\n",
    "print(mask_data.shape, pred_data.shape)\n",
    "compare = (mask_data, pred_data)\n",
    "\n",
    "balanced_acc = metrics.balanced_accuracy_score(*compare)\n",
    "prfs = metrics.precision_recall_fscore_support(*compare, average='binary')\n",
    "\n",
    "these_metrics = {\n",
    "        \"balanced_accuracy\" : balanced_acc,\n",
    "        \"precision\": prfs[0],\n",
    "        \"recall\": prfs[1],\n",
    "        \"f_score\": prfs[2]\n",
    "    }"
   ]
  },
  {
   "cell_type": "code",
   "execution_count": 6,
   "metadata": {},
   "outputs": [],
   "source": [
    "base=results[0].split(\"preds\")[0]"
   ]
  },
  {
   "cell_type": "code",
   "execution_count": 7,
   "metadata": {},
   "outputs": [],
   "source": [
    "base_region = base +\"data-mask.geojson\""
   ]
  },
  {
   "cell_type": "code",
   "execution_count": 8,
   "metadata": {},
   "outputs": [
    {
     "data": {
      "text/plain": [
       "'/home/ubuntu/ndvi-validate/planet-snowcover-experiments:planet-snowcover-2020-04-17-16-32-32-656:planet-snowcover-imagery-ndvi-validate:20190705_181944_101b_3B_AnalyticMS_SR/data-mask.geojson'"
      ]
     },
     "execution_count": 8,
     "metadata": {},
     "output_type": "execute_result"
    }
   ],
   "source": [
    "base_region"
   ]
  },
  {
   "cell_type": "code",
   "execution_count": 38,
   "metadata": {},
   "outputs": [
    {
     "name": "stdout",
     "output_type": "stream",
     "text": [
      "Duplicate key in file '/home/ubuntu/.config/matplotlib/matplotlibrc' line #2.\n",
      "Duplicate key in file '/home/ubuntu/.config/matplotlib/matplotlibrc' line #3.\n",
      "Traceback (most recent call last):\n",
      "  File \"compare-metrics.py\", line 28, in <module>\n",
      "    from osgeo import gdal\n",
      "ModuleNotFoundError: No module named 'osgeo'\n"
     ]
    }
   ],
   "source": [
    "import os\n",
    "os.chdir('/home/ubuntu/planet-snowcover/experiments/ASO_Tuolumne/scripts')\n",
    "!python compare-metrics.py  prediction  /home/ubuntu/ndvi-validate/planet-snowcover-experiments:planet-snowcover-2020-04-17-16-32-32-656:planet-snowcover-imagery-ndvi-validate:20190705_181944_101b_3B_AnalyticMS_SR"
   ]
  },
  {
   "cell_type": "code",
   "execution_count": 36,
   "metadata": {},
   "outputs": [
    {
     "name": "stdout",
     "output_type": "stream",
     "text": [
      "X offset 0, Y offset 0\n",
      "Xmax -119.24560546875, Ymin 38.013483381195826\n",
      "Reading 13824 cols, 7166 rows\n"
     ]
    }
   ],
   "source": [
    "from osgeo import gdal\n",
    "\n",
    "# given that a geotransform object is in this form:\n",
    "#adfGeoTransform[0] /* top left x */\n",
    "#adfGeoTransform[1] /* w-e pixel resolution */\n",
    "#adfGeoTransform[2] /* 0 */\n",
    "#adfGeoTransform[3] /* top left y */\n",
    "#adfGeoTransform[4] /* 0 */\n",
    "#adfGeoTransform[5] /* n-s pixel resolution (negative value) */\n",
    "\n",
    "smaller_raster = gdal.Open(results[0])\n",
    "larger_raster  = gdal.Open(results[1])\n",
    "\n",
    "gt = smaller_raster.GetGeoTransform()\n",
    "lt = larger_raster.GetGeoTransform()\n",
    "\n",
    "SmlMaxX = gt[0] + (gt[1] * smaller_raster.RasterXSize)\n",
    "SmlMinY = gt[3] + (gt[5] * smaller_raster.RasterYSize)\n",
    "Xoff = int((gt[0] - lt[0])/lt[1]) # cols to skip\n",
    "Yoff = int((gt[3] - lt[3])/lt[5]) # rows to skip\n",
    "Cols = int((SmlMaxX - gt[0])/lt[1])\n",
    "Rows = int((SmlMinY - gt[3])/lt[5])\n",
    "\n",
    "# print out some numbers so you can check manually\n",
    "print(\"X offset {}, Y offset {}\".format(Xoff,Yoff))\n",
    "print(\"Xmax {}, Ymin {}\".format(SmlMaxX,SmlMinY))\n",
    "print(\"Reading {} cols, {} rows\".format(Cols,Rows))\n",
    "\n",
    "band = larger_raster.GetRasterBand(1)\n",
    "data = larger_raster.ReadAsArray(Xoff,Yoff,Cols,Rows) # read the larger raster"
   ]
  },
  {
   "cell_type": "code",
   "execution_count": 97,
   "metadata": {},
   "outputs": [
    {
     "name": "stdout",
     "output_type": "stream",
     "text": [
      "9999.0\n",
      "9999.0\n",
      "EPSG:4326 EPSG:4326\n",
      "(99076608,) (99090432,)\n",
      "(49545216,) (49552896,)\n",
      "X offset 0, Y offset 0\n",
      "Xmax -119.24560546875, Ymin 38.01347164232713\n",
      "Reading 13824 cols, 7168 rows\n",
      "<class 'numpy.ndarray'>\n",
      "(49552896,) (49552896,)\n",
      "(49552896,) (49552896,)\n",
      "{'mask': '/home/ubuntu/ndvi-validate/planet-snowcover-experiments:planet-snowcover-2020-04-17-16-32-32-656:planet-snowcover-imagery-ndvi-validate:20190705_181944_101b_3B_AnalyticMS_SR/mask/ASO_3M_SD_USCATE_20190705_4326_binary_merged.tif', 'preds': '/home/ubuntu/ndvi-validate/planet-snowcover-experiments:planet-snowcover-2020-04-17-16-32-32-656:planet-snowcover-imagery-ndvi-validate:20190705_181944_101b_3B_AnalyticMS_SR/preds/20190705_181944_101b_3B_AnalyticMS_SR_merged.tif', 'metrics': {'balanced_accuracy': 1.0, 'precision': 1.0, 'recall': 1.0, 'f_score': 1.0}}\n"
     ]
    }
   ],
   "source": [
    "prediction('/home/ubuntu/ndvi-validate/planet-snowcover-experiments:planet-snowcover-2020-04-17-16-32-32-656:planet-snowcover-imagery-ndvi-validate:20190705_181944_101b_3B_AnalyticMS_SR','','mask')"
   ]
  },
  {
   "cell_type": "code",
   "execution_count": 125,
   "metadata": {},
   "outputs": [
    {
     "name": "stdout",
     "output_type": "stream",
     "text": [
      "9999.0\n",
      "9999.0\n",
      "EPSG:4326 EPSG:4326\n",
      "(99076608,) (99090432,)\n",
      "(49545216,) (49552896,)\n",
      "X offset 0, Y offset 0\n",
      "Xmax -119.24560546875, Ymin 38.01347164232713\n",
      "Reading 13824 cols, 7168 rows\n",
      "<class 'numpy.ndarray'>\n",
      "(49552896,) (49552896,)\n",
      "(49552896,) (49552896,)\n",
      "{'mask': '/home/ubuntu/ndvi-validate/planet-snowcover-experiments:planet-snowcover-2020-04-17-16-32-32-656:planet-snowcover-imagery-ndvi-validate:20190705_181944_101b_3B_AnalyticMS_SR/mask/ASO_3M_SD_USCATE_20190705_4326_binary_merged.tif', 'preds': '/home/ubuntu/ndvi-validate/planet-snowcover-experiments:planet-snowcover-2020-04-17-16-32-32-656:planet-snowcover-imagery-ndvi-validate:20190705_181944_101b_3B_AnalyticMS_SR/preds/20190705_181944_101b_3B_AnalyticMS_SR_merged.tif', 'metrics': {'balanced_accuracy': 1.0, 'precision': 1.0, 'recall': 1.0, 'f_score': 1.0}}\n",
      "9999.0\n",
      "9999.0\n",
      "EPSG:4326 EPSG:4326\n",
      "(81788928,) (81815552,)\n",
      "(47974912,) (47995392,)\n",
      "X offset 0, Y offset 0\n",
      "Xmax -119.24560546875, Ymin 37.77939244280755\n",
      "Reading 13312 cols, 6146 rows\n",
      "<class 'numpy.ndarray'>\n",
      "(47995392,) (47995392,)\n",
      "(47995392,) (47995392,)\n",
      "{'mask': '/home/ubuntu/ndvi-validate/planet-snowcover-experiments:planet-snowcover-2020-04-17-16-32-32-656:planet-snowcover-imagery-ndvi-validate:20190705_182424_0f28_3B_AnalyticMS_SR/mask/ASO_3M_SD_USCATE_20190705_4326_binary_merged.tif', 'preds': '/home/ubuntu/ndvi-validate/planet-snowcover-experiments:planet-snowcover-2020-04-17-16-32-32-656:planet-snowcover-imagery-ndvi-validate:20190705_182424_0f28_3B_AnalyticMS_SR/preds/20190705_182424_0f28_3B_AnalyticMS_SR_merged.tif', 'metrics': {'balanced_accuracy': 1.0, 'precision': 1.0, 'recall': 1.0, 'f_score': 1.0}}\n",
      "9999.0\n",
      "9999.0\n",
      "EPSG:4326 EPSG:4326\n",
      "(14683648,) (14680064,)\n",
      "(11537920,) (11536896,)\n",
      "X offset 0, Y offset 0\n",
      "Xmax -119.72900390625, Ymin 37.89219146024844\n",
      "Reading 3584 cols, 4097 rows\n",
      "<class 'numpy.ndarray'>\n",
      "(11537920,) (11537920,)\n",
      "(11537920,) (11537920,)\n",
      "{'mask': '/home/ubuntu/ndvi-validate/planet-snowcover-experiments:planet-snowcover-2020-04-17-16-32-32-656:planet-snowcover-imagery-ndvi-validate:20190705_171624_0f49_3B_AnalyticMS_SR/mask/ASO_3M_SD_USCATE_20190705_4326_binary_merged.tif', 'preds': '/home/ubuntu/ndvi-validate/planet-snowcover-experiments:planet-snowcover-2020-04-17-16-32-32-656:planet-snowcover-imagery-ndvi-validate:20190705_171624_0f49_3B_AnalyticMS_SR/preds/20190705_171624_0f49_3B_AnalyticMS_SR_merged.tif', 'metrics': {'balanced_accuracy': 1.0, 'precision': 0.0, 'recall': 0.0, 'f_score': 0.0}}\n",
      "9999.0\n",
      "9999.0\n",
      "EPSG:4326 EPSG:4326\n",
      "(85184000,) (85184000,)\n",
      "(48230912,) (48230912,)\n",
      "(48230912,) (48230912,)\n",
      "{'mask': '/home/ubuntu/ndvi-validate/planet-snowcover-experiments:planet-snowcover-2020-04-17-16-32-32-656:planet-snowcover-imagery-ndvi-validate:20190705_182533_0f17_3B_AnalyticMS_SR/mask/ASO_3M_SD_USCATE_20190705_4326_binary_merged.tif', 'preds': '/home/ubuntu/ndvi-validate/planet-snowcover-experiments:planet-snowcover-2020-04-17-16-32-32-656:planet-snowcover-imagery-ndvi-validate:20190705_182533_0f17_3B_AnalyticMS_SR/preds/20190705_182533_0f17_3B_AnalyticMS_SR_merged.tif', 'metrics': {'balanced_accuracy': 0.5767513874815117, 'precision': 0.39216665796880995, 'recall': 0.9719203944714581, 'f_score': 0.5588423000273137}}\n",
      "9999.0\n",
      "9999.0\n",
      "EPSG:4326 EPSG:4326\n",
      "(81735680,) (81788928,)\n",
      "(48731648,) (48760832,)\n",
      "X offset 0, Y offset 0\n",
      "Xmax -119.212646484375, Ymin 37.909533909951826\n",
      "Reading 13312 cols, 6143 rows\n",
      "<class 'numpy.ndarray'>\n",
      "(48758272,) (48760832,)\n",
      "(48758272,) (48760832,)\n"
     ]
    },
    {
     "ename": "AssertionError",
     "evalue": "Masks and predictions are different shapes. Are you sure they're in the same CRS/extent?",
     "output_type": "error",
     "traceback": [
      "\u001b[0;31m---------------------------------------------------------------------------\u001b[0m",
      "\u001b[0;31mAssertionError\u001b[0m                            Traceback (most recent call last)",
      "\u001b[0;32m<ipython-input-125-bbdcf0627892>\u001b[0m in \u001b[0;36m<module>\u001b[0;34m()\u001b[0m\n\u001b[1;32m      1\u001b[0m \u001b[0;32mfor\u001b[0m \u001b[0mpath\u001b[0m \u001b[0;32min\u001b[0m \u001b[0mresults_dirs\u001b[0m\u001b[0;34m:\u001b[0m\u001b[0;34m\u001b[0m\u001b[0;34m\u001b[0m\u001b[0m\n\u001b[0;32m----> 2\u001b[0;31m     \u001b[0mprediction\u001b[0m\u001b[0;34m(\u001b[0m\u001b[0mpath\u001b[0m\u001b[0;34m,\u001b[0m\u001b[0;34m''\u001b[0m\u001b[0;34m,\u001b[0m\u001b[0;34m'mask'\u001b[0m\u001b[0;34m)\u001b[0m\u001b[0;34m\u001b[0m\u001b[0;34m\u001b[0m\u001b[0m\n\u001b[0m",
      "\u001b[0;32m<ipython-input-96-bddc3c5b0e4d>\u001b[0m in \u001b[0;36mprediction\u001b[0;34m(directory, plot, mask_dir)\u001b[0m\n\u001b[1;32m     49\u001b[0m         \u001b[0;31m#mask = reproject_like_vrt(mask, preds)\u001b[0m\u001b[0;34m\u001b[0m\u001b[0;34m\u001b[0m\u001b[0;34m\u001b[0m\u001b[0m\n\u001b[1;32m     50\u001b[0m \u001b[0;34m\u001b[0m\u001b[0m\n\u001b[0;32m---> 51\u001b[0;31m     \u001b[0mmetrics\u001b[0m \u001b[0;34m=\u001b[0m \u001b[0mcompute_metrics\u001b[0m\u001b[0;34m(\u001b[0m\u001b[0mmask_data\u001b[0m\u001b[0;34m,\u001b[0m \u001b[0mpred_data\u001b[0m\u001b[0;34m)\u001b[0m\u001b[0;34m\u001b[0m\u001b[0;34m\u001b[0m\u001b[0m\n\u001b[0m\u001b[1;32m     52\u001b[0m \u001b[0;34m\u001b[0m\u001b[0m\n\u001b[1;32m     53\u001b[0m     results = {\n",
      "\u001b[0;32m<ipython-input-82-08c187b934bf>\u001b[0m in \u001b[0;36mcompute_metrics\u001b[0;34m(true, pred)\u001b[0m\n\u001b[1;32m      4\u001b[0m \u001b[0;32mdef\u001b[0m \u001b[0mcompute_metrics\u001b[0m\u001b[0;34m(\u001b[0m\u001b[0mtrue\u001b[0m\u001b[0;34m,\u001b[0m \u001b[0mpred\u001b[0m\u001b[0;34m)\u001b[0m\u001b[0;34m:\u001b[0m\u001b[0;34m\u001b[0m\u001b[0;34m\u001b[0m\u001b[0m\n\u001b[1;32m      5\u001b[0m     \u001b[0mprint\u001b[0m\u001b[0;34m(\u001b[0m\u001b[0mtrue\u001b[0m\u001b[0;34m.\u001b[0m\u001b[0mshape\u001b[0m\u001b[0;34m,\u001b[0m \u001b[0mpred\u001b[0m\u001b[0;34m.\u001b[0m\u001b[0mshape\u001b[0m\u001b[0;34m)\u001b[0m\u001b[0;34m\u001b[0m\u001b[0;34m\u001b[0m\u001b[0m\n\u001b[0;32m----> 6\u001b[0;31m     \u001b[0;32massert\u001b[0m \u001b[0mtrue\u001b[0m\u001b[0;34m.\u001b[0m\u001b[0mshape\u001b[0m \u001b[0;34m==\u001b[0m \u001b[0mpred\u001b[0m\u001b[0;34m.\u001b[0m\u001b[0mshape\u001b[0m\u001b[0;34m,\u001b[0m \u001b[0;34m\"Masks and predictions are different shapes. Are you sure they're in the same CRS/extent?\"\u001b[0m\u001b[0;34m\u001b[0m\u001b[0;34m\u001b[0m\u001b[0m\n\u001b[0m\u001b[1;32m      7\u001b[0m \u001b[0;34m\u001b[0m\u001b[0m\n\u001b[1;32m      8\u001b[0m     \u001b[0mcompare\u001b[0m \u001b[0;34m=\u001b[0m \u001b[0;34m(\u001b[0m\u001b[0mtrue\u001b[0m\u001b[0;34m,\u001b[0m \u001b[0mpred\u001b[0m\u001b[0;34m)\u001b[0m\u001b[0;34m\u001b[0m\u001b[0;34m\u001b[0m\u001b[0m\n",
      "\u001b[0;31mAssertionError\u001b[0m: Masks and predictions are different shapes. Are you sure they're in the same CRS/extent?"
     ]
    }
   ],
   "source": [
    "for path in results_dirs:\n",
    "    prediction(path,'','mask')"
   ]
  },
  {
   "cell_type": "code",
   "execution_count": 101,
   "metadata": {},
   "outputs": [],
   "source": [
    "def reproject_image_to_master ( master, slave, res=None ):\n",
    "    \"\"\"This function reprojects an image (``slave``) to\n",
    "    match the extent, resolution and projection of another\n",
    "    (``master``) using GDAL. The newly reprojected image\n",
    "    is a GDAL VRT file for efficiency. A different spatial\n",
    "    resolution can be chosen by specifyign the optional\n",
    "    ``res`` parameter. The function returns the new file's\n",
    "    name.\n",
    "    Parameters\n",
    "    -------------\n",
    "    master: str \n",
    "        A filename (with full path if required) with the \n",
    "        master image (that that will be taken as a reference)\n",
    "    slave: str \n",
    "        A filename (with path if needed) with the image\n",
    "        that will be reprojected\n",
    "    res: float, optional\n",
    "        The desired output spatial resolution, if different \n",
    "        to the one in ``master``.\n",
    "    Returns\n",
    "    ----------\n",
    "    The reprojected filename\n",
    "    TODO Have a way of controlling output filename\n",
    "    \"\"\"\n",
    "    slave_ds = gdal.Open( slave )\n",
    "    if slave_ds is None:\n",
    "        raise IOError( \"GDAL could not open slave file %s \" % slave)\n",
    "    slave_proj = slave_ds.GetProjection()\n",
    "    slave_geotrans = slave_ds.GetGeoTransform()\n",
    "    data_type = slave_ds.GetRasterBand(1).DataType\n",
    "    n_bands = slave_ds.RasterCount\n",
    "\n",
    "    master_ds = gdal.Open( master )\n",
    "    if master_ds is None:\n",
    "        raise IOError (\"GDAL could not open master file %s \" % master)\n",
    "    master_proj = master_ds.GetProjection()\n",
    "    master_geotrans = master_ds.GetGeoTransform()\n",
    "    w = master_ds.RasterXSize\n",
    "    h = master_ds.RasterYSize\n",
    "    if res is not None:\n",
    "        master_geotrans[1] = float( res )\n",
    "        master_geotrans[-1] = - float ( res )\n",
    "\n",
    "    dst_filename = slave.replace( \".tif\", \"_crop.vrt\" )\n",
    "    dst_ds = gdal.GetDriverByName('VRT').Create(dst_filename,\n",
    "                                                w, h, n_bands, data_type)\n",
    "    dst_ds.GetRasterBand(1).SetNoDataValue( 9999.0 )\n",
    "    dst_ds.SetGeoTransform( master_geotrans )\n",
    "    dst_ds.SetProjection( master_proj)\n",
    "\n",
    "    gdal.ReprojectImage( slave_ds, dst_ds, slave_proj,\n",
    "                         master_proj, gdal.GRA_NearestNeighbour)\n",
    "    dst_ds = None  # Flush to disk\n",
    "    return dst_filename\n"
   ]
  },
  {
   "cell_type": "code",
   "execution_count": 81,
   "metadata": {},
   "outputs": [],
   "source": [
    "def match_extent(small,large):\n",
    "\n",
    "    # given that a geotransform object is in this form:\n",
    "    #adfGeoTransform[0] /* top left x */\n",
    "    #adfGeoTransform[1] /* w-e pixel resolution */\n",
    "    #adfGeoTransform[2] /* 0 */\n",
    "    #adfGeoTransform[3] /* top left y */\n",
    "    #adfGeoTransform[4] /* 0 */\n",
    "    #adfGeoTransform[5] /* n-s pixel resolution (negative value) */\n",
    "\n",
    "    smaller_raster = gdal.Open(small)\n",
    "    larger_raster  = gdal.Open(large)\n",
    "\n",
    "    gt = smaller_raster.GetGeoTransform()\n",
    "    lt = larger_raster.GetGeoTransform()\n",
    "\n",
    "    SmlMaxX = gt[0] + (gt[1] * smaller_raster.RasterXSize)\n",
    "    SmlMinY = gt[3] + (gt[5] * smaller_raster.RasterYSize)\n",
    "    Xoff = int((gt[0] - lt[0])/lt[1]) # cols to skip\n",
    "    Yoff = int((gt[3] - lt[3])/lt[5]) # rows to skip\n",
    "    Cols = int((SmlMaxX - gt[0])/lt[1])\n",
    "    Rows = int((SmlMinY - gt[3])/lt[5])\n",
    "\n",
    "    # print out some numbers so you can check manually\n",
    "    print(\"X offset {}, Y offset {}\".format(Xoff,Yoff))\n",
    "    print(\"Xmax {}, Ymin {}\".format(SmlMaxX,SmlMinY))\n",
    "    print(\"Reading {} cols, {} rows\".format(Cols,Rows))\n",
    "\n",
    "    band = larger_raster.GetRasterBand(1)\n",
    "    data = larger_raster.ReadAsArray(Xoff,Yoff,Cols,Rows) # read the larger raster\n",
    "    return data"
   ]
  },
  {
   "cell_type": "code",
   "execution_count": 82,
   "metadata": {},
   "outputs": [],
   "source": [
    "from glob import glob\n",
    "from sklearn import metrics\n",
    "import json\n",
    "def compute_metrics(true, pred):\n",
    "    print(true.shape, pred.shape)\n",
    "    assert true.shape == pred.shape, \"Masks and predictions are different shapes. Are you sure they're in the same CRS/extent?\"\n",
    "\n",
    "    compare = (true, pred)\n",
    "\n",
    "    balanced_acc = metrics.balanced_accuracy_score(*compare)\n",
    "    prfs = metrics.precision_recall_fscore_support(*compare, average='binary')\n",
    "\n",
    "    these_metrics = {\n",
    "        \"balanced_accuracy\" : balanced_acc,\n",
    "        \"precision\": prfs[0],\n",
    "        \"recall\": prfs[1],\n",
    "        \"f_score\": prfs[2]\n",
    "    }\n",
    "\n",
    "    return these_metrics\n"
   ]
  },
  {
   "cell_type": "code",
   "execution_count": 96,
   "metadata": {},
   "outputs": [],
   "source": [
    "def prediction(directory, plot, mask_dir):\n",
    "    \"\"\"\n",
    "    Compare ASO in <directory> to predictions found in <directory>.\n",
    "\n",
    "    Looks for *merged.tif files.\n",
    "    \"\"\"\n",
    "\n",
    "    dirfiles = os.listdir(directory)\n",
    "    assert mask_dir in dirfiles, f\"Mask directory '{mask_dir}' not found in {directory}\"\n",
    "    assert \"preds\" in dirfiles, f\"Prediction directory not found in {directory}\"\n",
    "\n",
    "    mask_file = glob(os.path.join(directory, mask_dir, \"*merged*.tif\"))[0]\n",
    "    mask = rio.open(mask_file)\n",
    "    print(mask.nodata)\n",
    "\n",
    "    preds_file = glob(os.path.join(directory, \"preds\", \"*merged*.tif\"))[0]\n",
    "    preds = rio.open(preds_file)\n",
    "    print(preds.nodata)\n",
    "\n",
    "    print(mask.crs, preds.crs)\n",
    "    mask_data = mask.read(1).flatten()\n",
    "    pred_data = preds.read(1).flatten()\n",
    "    print(mask_data.shape, pred_data.shape)\n",
    "    # remove nodata\n",
    "    try:\n",
    "        mask_data = mask_data[np.where(mask_data != mask.nodata)]\n",
    "        pred_data = pred_data[np.where(pred_data != preds.nodata)]\n",
    "    except Exception as e:\n",
    "        print(\"Error filtering nodata. Do input data files have nodata attribute set? [{}]\".format(e))\n",
    "        sys.exit(1)\n",
    "    print(mask_data.shape, pred_data.shape)\n",
    "    if not (mask_data.shape==pred_data.shape):\n",
    "        if mask_data.shape < pred_data.shape:\n",
    "            mask_r = match_extent(mask_file,preds_file).ravel()\n",
    "            print(type(mask_r))\n",
    "            mask_data = mask_r.flatten()\n",
    "            pred_data = preds.read(1).flatten()\n",
    "        if mask_data.shape > pred_data.shape:    \n",
    "            preds_r = match_extent(preds_file,mask_file).ravel()\n",
    "            print(type(preds_r))\n",
    "            mask_data = mask.read(1).flatten()  \n",
    "            pred_data = preds_r.flatten()    \n",
    "            \n",
    "            \n",
    "\n",
    "        mask_data = mask_data[np.where(mask_data != mask.nodata)]\n",
    "        pred_data = pred_data[np.where(pred_data != preds.nodata)]\n",
    "        print(mask_data.shape, pred_data.shape)\n",
    "        #mask = reproject_like_vrt(mask, preds)\n",
    "        \n",
    "    metrics = compute_metrics(mask_data, pred_data)\n",
    "\n",
    "    results = {\n",
    "        \"mask\": mask_file,\n",
    "        \"preds\": preds_file,\n",
    "        \"metrics\" : metrics\n",
    "    }\n",
    "    print(results)\n",
    "    outfile = os.path.join(directory, \"aso_metrics.json\")\n",
    "    with open(outfile, 'w') as o:\n",
    "        json.dump(results, o)\n"
   ]
  },
  {
   "cell_type": "raw",
   "metadata": {},
   "source": [
    "import os\n",
    "os.chdir('/home/ubuntu/planet-snowcover/experiments/ASO_Tuolumne/scripts')\n",
    "!python compare.py --help"
   ]
  },
  {
   "cell_type": "code",
   "execution_count": null,
   "metadata": {},
   "outputs": [],
   "source": []
  },
  {
   "cell_type": "code",
   "execution_count": 16,
   "metadata": {},
   "outputs": [
    {
     "name": "stdout",
     "output_type": "stream",
     "text": [
      "Collecting scipy==1.1.0\n",
      "  Using cached https://files.pythonhosted.org/packages/a8/0b/f163da98d3a01b3e0ef1cab8dd2123c34aee2bafbb1c5bffa354cc8a1730/scipy-1.1.0-cp36-cp36m-manylinux1_x86_64.whl\n",
      "Requirement already satisfied: numpy>=1.8.2 in /home/ubuntu/anaconda3/lib/python3.6/site-packages (from scipy==1.1.0)\n",
      "Installing collected packages: scipy\n",
      "  Found existing installation: scipy 1.0.0\n",
      "    Uninstalling scipy-1.0.0:\n",
      "      Successfully uninstalled scipy-1.0.0\n",
      "Successfully installed scipy-1.1.0\n",
      "\u001b[33mYou are using pip version 9.0.1, however version 20.1.1 is available.\n",
      "You should consider upgrading via the 'pip install --upgrade pip' command.\u001b[0m\n"
     ]
    }
   ],
   "source": [
    "!pip install scipy==1.1.0\n"
   ]
  },
  {
   "cell_type": "code",
   "execution_count": null,
   "metadata": {},
   "outputs": [],
   "source": []
  }
 ],
 "metadata": {
  "kernelspec": {
   "display_name": "Environment (conda_pytorch_p36)",
   "language": "python",
   "name": "conda_pytorch_p36"
  },
  "language_info": {
   "codemirror_mode": {
    "name": "ipython",
    "version": 3
   },
   "file_extension": ".py",
   "mimetype": "text/x-python",
   "name": "python",
   "nbconvert_exporter": "python",
   "pygments_lexer": "ipython3",
   "version": "3.6.8"
  }
 },
 "nbformat": 4,
 "nbformat_minor": 2
}
