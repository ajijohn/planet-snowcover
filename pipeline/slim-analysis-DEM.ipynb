{
 "cells": [
  {
   "cell_type": "code",
   "execution_count": 1,
   "metadata": {},
   "outputs": [
    {
     "name": "stderr",
     "output_type": "stream",
     "text": [
      "── Attaching packages ─────────────────────────────────────── tidyverse 1.2.1 ──\n",
      "✔ ggplot2 2.2.1     ✔ purrr   0.2.4\n",
      "✔ tibble  1.4.1     ✔ dplyr   0.7.4\n",
      "✔ tidyr   0.7.2     ✔ stringr 1.2.0\n",
      "✔ readr   1.1.1     ✔ forcats 0.2.0\n",
      "── Conflicts ────────────────────────────────────────── tidyverse_conflicts() ──\n",
      "✖ dplyr::filter() masks stats::filter()\n",
      "✖ dplyr::lag()    masks stats::lag()\n"
     ]
    }
   ],
   "source": [
    "library(tidyverse)\n"
   ]
  },
  {
   "cell_type": "code",
   "execution_count": 1,
   "metadata": {},
   "outputs": [
    {
     "name": "stderr",
     "output_type": "stream",
     "text": [
      "Loading required package: sp\n"
     ]
    }
   ],
   "source": [
    "library(raster)\n",
    "library(gdalUtils)"
   ]
  },
  {
   "cell_type": "code",
   "execution_count": 3,
   "metadata": {},
   "outputs": [],
   "source": [
    "# get all the rasters aso tiles\n",
    "#list files in a specific folder\n",
    "veg_aso <- list.files(path = \"~/dem/\")"
   ]
  },
  {
   "cell_type": "code",
   "execution_count": 4,
   "metadata": {},
   "outputs": [
    {
     "name": "stdout",
     "output_type": "stream",
     "text": [
      "[[1]]\n",
      "[1] \"~/dem/planet-snowcover-experiments:planet-snowcover-2020-03-06-21-21-30-038:planet-snowcover-imagery-dem:20180528_180846_1002_3B_AnalyticMS_SR_clip/mask/ASO_3M_SD_USCATE_20180528_binary_merged.tif\"\n",
      "\n",
      "[[2]]\n",
      "[1] \"~/dem/planet-snowcover-experiments:planet-snowcover-2020-03-06-21-21-30-038:planet-snowcover-imagery-dem:20180528_180847_1002_3B_AnalyticMS_SR_clip/mask/ASO_3M_SD_USCATE_20180528_binary_merged.tif\"\n",
      "\n",
      "[[3]]\n",
      "[1] \"~/dem/planet-snowcover-experiments:planet-snowcover-2020-03-06-21-21-30-038:planet-snowcover-imagery-dem:20180528_181108_1025_3B_AnalyticMS_SR_clip/mask/ASO_3M_SD_USCATE_20180528_binary_merged.tif\"\n",
      "\n",
      "[[4]]\n",
      "[1] \"~/dem/planet-snowcover-experiments:planet-snowcover-2020-03-06-21-21-30-038:planet-snowcover-imagery-dem:20180528_181109_1025_3B_AnalyticMS_SR_clip/mask/ASO_3M_SD_USCATE_20180528_binary_merged.tif\"\n",
      "\n",
      "[[5]]\n",
      "[1] \"~/dem/planet-snowcover-experiments:planet-snowcover-2020-03-06-21-21-30-038:planet-snowcover-imagery-dem:20180528_181110_1025_3B_AnalyticMS_SR_clip/mask/ASO_3M_SD_USCATE_20180528_binary_merged.tif\"\n",
      "\n",
      "[[6]]\n",
      "[1] \"~/dem/planet-snowcover-experiments:planet-snowcover-2020-03-06-21-21-30-038:planet-snowcover-imagery-dem:20180528_181111_1025_3B_AnalyticMS_SR_clip/mask/ASO_3M_SD_USCATE_20180528_binary_merged.tif\"\n",
      "\n",
      "[[7]]\n",
      "[1] \"~/dem/planet-snowcover-experiments:planet-snowcover-2020-03-06-21-21-30-038:planet-snowcover-imagery-dem:20180528_181112_1025_3B_AnalyticMS_SR_clip/mask/ASO_3M_SD_USCATE_20180528_binary_merged.tif\"\n",
      "\n",
      "[[8]]\n",
      "[1] \"~/dem/planet-snowcover-experiments:planet-snowcover-2020-03-06-21-21-30-038:planet-snowcover-imagery-dem:20180528_181113_1025_3B_AnalyticMS_SR_clip/mask/ASO_3M_SD_USCATE_20180528_binary_merged.tif\"\n",
      "\n",
      "[[9]]\n",
      "[1] \"~/dem/planet-snowcover-experiments:planet-snowcover-2020-03-06-21-21-30-038:planet-snowcover-imagery-dem:20180528_181319_1005_3B_AnalyticMS_SR_clip/mask/ASO_3M_SD_USCATE_20180528_binary_merged.tif\"\n",
      "\n",
      "[[10]]\n",
      "[1] \"~/dem/planet-snowcover-experiments:planet-snowcover-2020-03-06-21-21-30-038:planet-snowcover-imagery-dem:20180528_181320_1005_3B_AnalyticMS_SR_clip/mask/ASO_3M_SD_USCATE_20180528_binary_merged.tif\"\n",
      "\n",
      "[[11]]\n",
      "[1] \"~/dem/planet-snowcover-experiments:planet-snowcover-2020-03-06-21-21-30-038:planet-snowcover-imagery-dem:20180528_181322_1005_3B_AnalyticMS_SR_clip/mask/ASO_3M_SD_USCATE_20180528_binary_merged.tif\"\n",
      "\n",
      "[[12]]\n",
      "[1] \"~/dem/planet-snowcover-experiments:planet-snowcover-2020-03-06-21-21-30-038:planet-snowcover-imagery-dem:20180528_181323_1005_3B_AnalyticMS_SR_clip/mask/ASO_3M_SD_USCATE_20180528_binary_merged.tif\"\n",
      "\n",
      "[[1]]\n",
      "[1] \"~/dem/planet-snowcover-experiments:planet-snowcover-2020-03-06-21-21-30-038:planet-snowcover-imagery-dem:20180528_180846_1002_3B_AnalyticMS_SR_clip/preds/20180528_180846_1002_3B_AnalyticMS_SR_clip_merged.tif\"\n",
      "\n",
      "[[2]]\n",
      "[1] \"~/dem/planet-snowcover-experiments:planet-snowcover-2020-03-06-21-21-30-038:planet-snowcover-imagery-dem:20180528_180847_1002_3B_AnalyticMS_SR_clip/preds/20180528_180847_1002_3B_AnalyticMS_SR_clip_merged.tif\"\n",
      "\n",
      "[[3]]\n",
      "[1] \"~/dem/planet-snowcover-experiments:planet-snowcover-2020-03-06-21-21-30-038:planet-snowcover-imagery-dem:20180528_181108_1025_3B_AnalyticMS_SR_clip/preds/20180528_181108_1025_3B_AnalyticMS_SR_clip_merged.tif\"\n",
      "\n",
      "[[4]]\n",
      "[1] \"~/dem/planet-snowcover-experiments:planet-snowcover-2020-03-06-21-21-30-038:planet-snowcover-imagery-dem:20180528_181109_1025_3B_AnalyticMS_SR_clip/preds/20180528_181109_1025_3B_AnalyticMS_SR_clip_merged.tif\"\n",
      "\n",
      "[[5]]\n",
      "[1] \"~/dem/planet-snowcover-experiments:planet-snowcover-2020-03-06-21-21-30-038:planet-snowcover-imagery-dem:20180528_181110_1025_3B_AnalyticMS_SR_clip/preds/20180528_181110_1025_3B_AnalyticMS_SR_clip_merged.tif\"\n",
      "\n",
      "[[6]]\n",
      "[1] \"~/dem/planet-snowcover-experiments:planet-snowcover-2020-03-06-21-21-30-038:planet-snowcover-imagery-dem:20180528_181111_1025_3B_AnalyticMS_SR_clip/preds/20180528_181111_1025_3B_AnalyticMS_SR_clip_merged.tif\"\n",
      "\n",
      "[[7]]\n",
      "[1] \"~/dem/planet-snowcover-experiments:planet-snowcover-2020-03-06-21-21-30-038:planet-snowcover-imagery-dem:20180528_181112_1025_3B_AnalyticMS_SR_clip/preds/20180528_181112_1025_3B_AnalyticMS_SR_clip_merged.tif\"\n",
      "\n",
      "[[8]]\n",
      "[1] \"~/dem/planet-snowcover-experiments:planet-snowcover-2020-03-06-21-21-30-038:planet-snowcover-imagery-dem:20180528_181113_1025_3B_AnalyticMS_SR_clip/preds/20180528_181113_1025_3B_AnalyticMS_SR_clip_merged.tif\"\n",
      "\n",
      "[[9]]\n",
      "[1] \"~/dem/planet-snowcover-experiments:planet-snowcover-2020-03-06-21-21-30-038:planet-snowcover-imagery-dem:20180528_181319_1005_3B_AnalyticMS_SR_clip/preds/20180528_181319_1005_3B_AnalyticMS_SR_clip_merged.tif\"\n",
      "\n",
      "[[10]]\n",
      "[1] \"~/dem/planet-snowcover-experiments:planet-snowcover-2020-03-06-21-21-30-038:planet-snowcover-imagery-dem:20180528_181320_1005_3B_AnalyticMS_SR_clip/preds/20180528_181320_1005_3B_AnalyticMS_SR_clip_merged.tif\"\n",
      "\n",
      "[[11]]\n",
      "[1] \"~/dem/planet-snowcover-experiments:planet-snowcover-2020-03-06-21-21-30-038:planet-snowcover-imagery-dem:20180528_181322_1005_3B_AnalyticMS_SR_clip/preds/20180528_181322_1005_3B_AnalyticMS_SR_clip_merged.tif\"\n",
      "\n",
      "[[12]]\n",
      "[1] \"~/dem/planet-snowcover-experiments:planet-snowcover-2020-03-06-21-21-30-038:planet-snowcover-imagery-dem:20180528_181323_1005_3B_AnalyticMS_SR_clip/preds/20180528_181323_1005_3B_AnalyticMS_SR_clip_merged.tif\"\n",
      "\n"
     ]
    }
   ],
   "source": [
    "asos <- list()\n",
    "preds <-list()\n",
    "for (vaso in veg_aso)\n",
    "{\n",
    "    #print(vaso)\n",
    "    recur = list.files(path=paste(\"~/dem/\",vaso,sep=\"\"),recursive = TRUE)\n",
    "    #print(recur)\n",
    "    for (filename in recur)\n",
    "        {\n",
    "          if (startsWith(filename,'mask/') & endsWith(filename,\"merged.tif\"))\n",
    "              asos <- append(asos,paste(\"~/dem/\",vaso,\"/\",filename,sep=\"\"))\n",
    "              \n",
    "           if (startsWith(filename,'preds/') & endsWith(filename,\"merged.tif\"))\n",
    "              preds <- append(preds,paste(\"~/dem/\",vaso,\"/\",filename,sep=\"\"))    \n",
    "        }\n",
    "}\n",
    "\n",
    "print(asos) \n",
    "print(preds)        \n",
    "    "
   ]
  },
  {
   "cell_type": "code",
   "execution_count": 11,
   "metadata": {},
   "outputs": [
    {
     "name": "stdout",
     "output_type": "stream",
     "text": [
      "List of 12\n",
      " $ : chr \"~/dem/planet-snowcover-experiments:planet-snowcover-2020-03-06-21-21-30-038:planet-snowcover-imagery-dem:201805\"| __truncated__\n",
      " $ : chr \"~/dem/planet-snowcover-experiments:planet-snowcover-2020-03-06-21-21-30-038:planet-snowcover-imagery-dem:201805\"| __truncated__\n",
      " $ : chr \"~/dem/planet-snowcover-experiments:planet-snowcover-2020-03-06-21-21-30-038:planet-snowcover-imagery-dem:201805\"| __truncated__\n",
      " $ : chr \"~/dem/planet-snowcover-experiments:planet-snowcover-2020-03-06-21-21-30-038:planet-snowcover-imagery-dem:201805\"| __truncated__\n",
      " $ : chr \"~/dem/planet-snowcover-experiments:planet-snowcover-2020-03-06-21-21-30-038:planet-snowcover-imagery-dem:201805\"| __truncated__\n",
      " $ : chr \"~/dem/planet-snowcover-experiments:planet-snowcover-2020-03-06-21-21-30-038:planet-snowcover-imagery-dem:201805\"| __truncated__\n",
      " $ : chr \"~/dem/planet-snowcover-experiments:planet-snowcover-2020-03-06-21-21-30-038:planet-snowcover-imagery-dem:201805\"| __truncated__\n",
      " $ : chr \"~/dem/planet-snowcover-experiments:planet-snowcover-2020-03-06-21-21-30-038:planet-snowcover-imagery-dem:201805\"| __truncated__\n",
      " $ : chr \"~/dem/planet-snowcover-experiments:planet-snowcover-2020-03-06-21-21-30-038:planet-snowcover-imagery-dem:201805\"| __truncated__\n",
      " $ : chr \"~/dem/planet-snowcover-experiments:planet-snowcover-2020-03-06-21-21-30-038:planet-snowcover-imagery-dem:201805\"| __truncated__\n",
      " $ : chr \"~/dem/planet-snowcover-experiments:planet-snowcover-2020-03-06-21-21-30-038:planet-snowcover-imagery-dem:201805\"| __truncated__\n",
      " $ : chr \"~/dem/planet-snowcover-experiments:planet-snowcover-2020-03-06-21-21-30-038:planet-snowcover-imagery-dem:201805\"| __truncated__\n"
     ]
    }
   ],
   "source": [
    "str(asos)"
   ]
  },
  {
   "cell_type": "code",
   "execution_count": 5,
   "metadata": {},
   "outputs": [],
   "source": [
    "aso_un <- unlist(asos)\n",
    "pred_un <- unlist(preds)"
   ]
  },
  {
   "cell_type": "code",
   "execution_count": 6,
   "metadata": {},
   "outputs": [],
   "source": [
    "aso_un_list <- paste(aso_un, collapse=' ' )\n",
    "pred_un_list <- paste(pred_un, collapse=' ' )"
   ]
  },
  {
   "cell_type": "code",
   "execution_count": 7,
   "metadata": {},
   "outputs": [],
   "source": [
    "system(\"mkdir aso_dem\")"
   ]
  },
  {
   "cell_type": "code",
   "execution_count": 8,
   "metadata": {},
   "outputs": [],
   "source": [
    "system(\"mkdir aso_dem_pred\")"
   ]
  },
  {
   "cell_type": "code",
   "execution_count": 9,
   "metadata": {},
   "outputs": [
    {
     "data": {
      "text/html": [
       "<ol class=list-inline>\n",
       "\t<li>TRUE</li>\n",
       "\t<li>TRUE</li>\n",
       "\t<li>TRUE</li>\n",
       "\t<li>TRUE</li>\n",
       "\t<li>TRUE</li>\n",
       "\t<li>TRUE</li>\n",
       "\t<li>TRUE</li>\n",
       "\t<li>TRUE</li>\n",
       "\t<li>TRUE</li>\n",
       "\t<li>TRUE</li>\n",
       "\t<li>TRUE</li>\n",
       "\t<li>TRUE</li>\n",
       "</ol>\n"
      ],
      "text/latex": [
       "\\begin{enumerate*}\n",
       "\\item TRUE\n",
       "\\item TRUE\n",
       "\\item TRUE\n",
       "\\item TRUE\n",
       "\\item TRUE\n",
       "\\item TRUE\n",
       "\\item TRUE\n",
       "\\item TRUE\n",
       "\\item TRUE\n",
       "\\item TRUE\n",
       "\\item TRUE\n",
       "\\item TRUE\n",
       "\\end{enumerate*}\n"
      ],
      "text/markdown": [
       "1. TRUE\n",
       "2. TRUE\n",
       "3. TRUE\n",
       "4. TRUE\n",
       "5. TRUE\n",
       "6. TRUE\n",
       "7. TRUE\n",
       "8. TRUE\n",
       "9. TRUE\n",
       "10. TRUE\n",
       "11. TRUE\n",
       "12. TRUE\n",
       "\n",
       "\n"
      ],
      "text/plain": [
       " [1] TRUE TRUE TRUE TRUE TRUE TRUE TRUE TRUE TRUE TRUE TRUE TRUE"
      ]
     },
     "metadata": {},
     "output_type": "display_data"
    }
   ],
   "source": [
    "file.copy(from=pred_un, to='./aso_dem_pred', \n",
    "          overwrite = TRUE, recursive = FALSE, \n",
    "          copy.mode = TRUE)"
   ]
  },
  {
   "cell_type": "code",
   "execution_count": 10,
   "metadata": {},
   "outputs": [
    {
     "name": "stdout",
     "output_type": "stream",
     "text": [
      "[1] \"~/dem/planet-snowcover-experiments:planet-snowcover-2020-03-06-21-21-30-038:planet-snowcover-imagery-dem:20180528_180846_1002_3B_AnalyticMS_SR_clip/mask/ASO_3M_SD_USCATE_20180528_binary_merged.tif\"\n",
      "[1] \"~/dem/planet-snowcover-experiments:planet-snowcover-2020-03-06-21-21-30-038:planet-snowcover-imagery-dem:20180528_180847_1002_3B_AnalyticMS_SR_clip/mask/ASO_3M_SD_USCATE_20180528_binary_merged.tif\"\n",
      "[1] \"~/dem/planet-snowcover-experiments:planet-snowcover-2020-03-06-21-21-30-038:planet-snowcover-imagery-dem:20180528_181108_1025_3B_AnalyticMS_SR_clip/mask/ASO_3M_SD_USCATE_20180528_binary_merged.tif\"\n",
      "[1] \"~/dem/planet-snowcover-experiments:planet-snowcover-2020-03-06-21-21-30-038:planet-snowcover-imagery-dem:20180528_181109_1025_3B_AnalyticMS_SR_clip/mask/ASO_3M_SD_USCATE_20180528_binary_merged.tif\"\n",
      "[1] \"~/dem/planet-snowcover-experiments:planet-snowcover-2020-03-06-21-21-30-038:planet-snowcover-imagery-dem:20180528_181110_1025_3B_AnalyticMS_SR_clip/mask/ASO_3M_SD_USCATE_20180528_binary_merged.tif\"\n",
      "[1] \"~/dem/planet-snowcover-experiments:planet-snowcover-2020-03-06-21-21-30-038:planet-snowcover-imagery-dem:20180528_181111_1025_3B_AnalyticMS_SR_clip/mask/ASO_3M_SD_USCATE_20180528_binary_merged.tif\"\n",
      "[1] \"~/dem/planet-snowcover-experiments:planet-snowcover-2020-03-06-21-21-30-038:planet-snowcover-imagery-dem:20180528_181112_1025_3B_AnalyticMS_SR_clip/mask/ASO_3M_SD_USCATE_20180528_binary_merged.tif\"\n",
      "[1] \"~/dem/planet-snowcover-experiments:planet-snowcover-2020-03-06-21-21-30-038:planet-snowcover-imagery-dem:20180528_181113_1025_3B_AnalyticMS_SR_clip/mask/ASO_3M_SD_USCATE_20180528_binary_merged.tif\"\n",
      "[1] \"~/dem/planet-snowcover-experiments:planet-snowcover-2020-03-06-21-21-30-038:planet-snowcover-imagery-dem:20180528_181319_1005_3B_AnalyticMS_SR_clip/mask/ASO_3M_SD_USCATE_20180528_binary_merged.tif\"\n",
      "[1] \"~/dem/planet-snowcover-experiments:planet-snowcover-2020-03-06-21-21-30-038:planet-snowcover-imagery-dem:20180528_181320_1005_3B_AnalyticMS_SR_clip/mask/ASO_3M_SD_USCATE_20180528_binary_merged.tif\"\n",
      "[1] \"~/dem/planet-snowcover-experiments:planet-snowcover-2020-03-06-21-21-30-038:planet-snowcover-imagery-dem:20180528_181322_1005_3B_AnalyticMS_SR_clip/mask/ASO_3M_SD_USCATE_20180528_binary_merged.tif\"\n",
      "[1] \"~/dem/planet-snowcover-experiments:planet-snowcover-2020-03-06-21-21-30-038:planet-snowcover-imagery-dem:20180528_181323_1005_3B_AnalyticMS_SR_clip/mask/ASO_3M_SD_USCATE_20180528_binary_merged.tif\"\n"
     ]
    }
   ],
   "source": [
    "for(i in 1:length(aso_un))\n",
    "    {\n",
    "     print(aso_un[i])\n",
    "    file.copy(from=aso_un[i],to=paste('./aso_dem/',i,'-ASO_3M_SD_USCATE_20180528_binary_merged.tif',sep=\"\"))\n",
    "}"
   ]
  },
  {
   "cell_type": "code",
   "execution_count": 3,
   "metadata": {},
   "outputs": [],
   "source": [
    "fo <- list.files(path = \"./aso_dem\", pattern = \".tif$\", full.names = TRUE)\n",
    "rlo <- lapply(fo, raster)\n",
    "\n",
    "aso_dem <- do.call(merge, c(rlo, tolerance = 1))"
   ]
  },
  {
   "cell_type": "code",
   "execution_count": 4,
   "metadata": {},
   "outputs": [],
   "source": [
    "f <- list.files(path = \"./aso_dem_pred\", pattern = \".tif$\", full.names = TRUE)\n",
    "rl <- lapply(f, raster)\n",
    "\n",
    "aso_dem_pred <- do.call(merge, c(rl, tolerance = 1))\n"
   ]
  },
  {
   "cell_type": "code",
   "execution_count": 18,
   "metadata": {},
   "outputs": [
    {
     "data": {
      "text/plain": [
       "class       : RasterLayer \n",
       "dimensions  : 26547, 32768, 869892096  (nrow, ncol, ncell)\n",
       "resolution  : 2.145767e-05, 1.695663e-05  (x, y)\n",
       "extent      : -119.8938, -119.1907, 37.7794, 38.22955  (xmin, xmax, ymin, ymax)\n",
       "coord. ref. : +proj=longlat +datum=WGS84 +no_defs +ellps=WGS84 +towgs84=0,0,0 \n",
       "data source : /tmp/RtmpfiPeyr/raster/r_tmp_2020-04-09_172447_5901_16154.grd \n",
       "names       : layer \n",
       "values      : 0, 1  (min, max)\n"
      ]
     },
     "metadata": {},
     "output_type": "display_data"
    }
   ],
   "source": [
    "aso_dem"
   ]
  },
  {
   "cell_type": "code",
   "execution_count": 20,
   "metadata": {},
   "outputs": [
    {
     "data": {
      "image/png": "[encoded data removed]",
      "text/plain": [
       "Plot with title “”"
      ]
     },
     "metadata": {},
     "output_type": "display_data",
     "source": "R display func"
    }
   ],
   "source": [
    "plot(aso_dem)"
   ]
  },
  {
   "cell_type": "code",
   "execution_count": 19,
   "metadata": {},
   "outputs": [
    {
     "data": {
      "text/plain": [
       "class       : RasterLayer \n",
       "dimensions  : 26557, 32768, 870219776  (nrow, ncol, ncell)\n",
       "resolution  : 2.145767e-05, 1.695065e-05  (x, y)\n",
       "extent      : -119.8938, -119.1907, 37.7794, 38.22956  (xmin, xmax, ymin, ymax)\n",
       "coord. ref. : +proj=longlat +datum=WGS84 +no_defs +ellps=WGS84 +towgs84=0,0,0 \n",
       "data source : /tmp/RtmpfiPeyr/raster/r_tmp_2020-04-09_172906_5901_37796.grd \n",
       "names       : layer \n",
       "values      : 0, 1  (min, max)\n"
      ]
     },
     "metadata": {},
     "output_type": "display_data"
    }
   ],
   "source": [
    "aso_dem_pred"
   ]
  },
  {
   "cell_type": "code",
   "execution_count": 21,
   "metadata": {},
   "outputs": [
    {
     "data": {
      "image/png": "[encoded data removed]",
      "text/plain": [
       "Plot with title “”"
      ]
     },
     "metadata": {},
     "output_type": "display_data",
     "source": "R display func"
    }
   ],
   "source": [
    "plot(aso_dem_pred)"
   ]
  },
  {
   "cell_type": "code",
   "execution_count": null,
   "metadata": {},
   "outputs": [],
   "source": [
    "str(df)"
   ]
  },
  {
   "cell_type": "code",
   "execution_count": 22,
   "metadata": {},
   "outputs": [],
   "source": [
    "aso_dem_pred_match_aso <- projectRaster(aso_dem_pred,aso_dem)"
   ]
  },
  {
   "cell_type": "code",
   "execution_count": 23,
   "metadata": {},
   "outputs": [],
   "source": [
    "df <- stack(aso_dem,aso_dem_pred_match_aso)"
   ]
  },
  {
   "cell_type": "code",
   "execution_count": 10,
   "metadata": {},
   "outputs": [],
   "source": [
    "veg_vegResamp <- raster(\"veg_reasampl2point1by1point6.tif\")\n"
   ]
  },
  {
   "cell_type": "code",
   "execution_count": 24,
   "metadata": {},
   "outputs": [],
   "source": [
    "veg_crop<-crop(veg_vegResamp,extent(df))"
   ]
  },
  {
   "cell_type": "code",
   "execution_count": null,
   "metadata": {},
   "outputs": [],
   "source": [
    "writeRaster(veg_crop, filename=\"aso_dem_ch_test_only.tif\", format=\"GTiff\", overwrite=TRUE)"
   ]
  },
  {
   "cell_type": "code",
   "execution_count": null,
   "metadata": {},
   "outputs": [],
   "source": [
    "#data_matrix <- rasterToPoints(df)\n",
    "#head(data_matrix)\n",
    "#datafra_comb <- data_matrix %>% as.data.frame()"
   ]
  },
  {
   "cell_type": "code",
   "execution_count": 7,
   "metadata": {},
   "outputs": [],
   "source": [
    "# save the inter,ediate raster\n",
    "writeRaster(aso_dem, filename=\"aso_dem_test_only.tif\", format=\"GTiff\", overwrite=TRUE)\n",
    "\n"
   ]
  },
  {
   "cell_type": "code",
   "execution_count": 8,
   "metadata": {},
   "outputs": [],
   "source": [
    "writeRaster(aso_dem_pred, filename=\"aso_dem_pred_test_only.tif\", format=\"GTiff\", overwrite=TRUE)"
   ]
  },
  {
   "cell_type": "code",
   "execution_count": 25,
   "metadata": {},
   "outputs": [],
   "source": [
    "# mask all the pixels below 2\n",
    "veg_crop_h <- veg_crop\n",
    "veg_crop_h[veg_crop_h < 2] <- NA\n",
    "aso_demabove2 <- mask(aso_dem, veg_crop_h, filename=\"aso_demabove2_test.tif\",overwrite=TRUE)"
   ]
  },
  {
   "cell_type": "code",
   "execution_count": 28,
   "metadata": {},
   "outputs": [],
   "source": [
    "aso_dem_predabove2 <- mask(aso_dem_pred_match_aso, veg_crop_h,filename=\"pred_demabove2_test.tif\",overwrite=TRUE)"
   ]
  },
  {
   "cell_type": "code",
   "execution_count": 2,
   "metadata": {},
   "outputs": [],
   "source": [
    "aso_dem_predabove2 <- raster(\"pred_demabove2_test.tif\")"
   ]
  },
  {
   "cell_type": "code",
   "execution_count": 3,
   "metadata": {},
   "outputs": [],
   "source": [
    "aso_demabove2 <- raster(\"aso_demabove2_test.tif\")"
   ]
  },
  {
   "cell_type": "code",
   "execution_count": 4,
   "metadata": {},
   "outputs": [],
   "source": [
    "vals_pred <- getValues(aso_dem_predabove2)"
   ]
  },
  {
   "cell_type": "code",
   "execution_count": 5,
   "metadata": {},
   "outputs": [],
   "source": [
    "vals_aso <- getValues(aso_demabove2)"
   ]
  },
  {
   "cell_type": "code",
   "execution_count": null,
   "metadata": {},
   "outputs": [
    {
     "name": "stderr",
     "output_type": "stream",
     "text": [
      "Warning message in levels(reference) != levels(data):\n",
      "“longer object length is not a multiple of shorter object length”Warning message in confusionMatrix.default(vals_aso, vals_pred, mode = \"prec_recall\"):\n",
      "“Levels are not in the same order for reference and data. Refactoring data to match.”"
     ]
    }
   ],
   "source": [
    "high_veg_perf<- confusionMatrix(vals_aso, vals_pred,mode = \"prec_recall\")"
   ]
  },
  {
   "cell_type": "code",
   "execution_count": null,
   "metadata": {},
   "outputs": [],
   "source": [
    "high_veg_perf"
   ]
  },
  {
   "cell_type": "code",
   "execution_count": null,
   "metadata": {},
   "outputs": [],
   "source": [
    "library(caret)"
   ]
  },
  {
   "cell_type": "code",
   "execution_count": null,
   "metadata": {},
   "outputs": [],
   "source": []
  },
  {
   "cell_type": "code",
   "execution_count": null,
   "metadata": {},
   "outputs": [],
   "source": []
  }
 ],
 "metadata": {
  "kernelspec": {
   "display_name": "R",
   "language": "R",
   "name": "ir"
  },
  "language_info": {
   "codemirror_mode": "r",
   "file_extension": ".r",
   "mimetype": "text/x-r-source",
   "name": "R",
   "pygments_lexer": "r",
   "version": "3.4.3"
  }
 },
 "nbformat": 4,
 "nbformat_minor": 2
}
