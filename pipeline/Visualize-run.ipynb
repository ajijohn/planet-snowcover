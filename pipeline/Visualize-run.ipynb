{
 "cells": [
  {
   "cell_type": "code",
   "execution_count": 1,
   "metadata": {},
   "outputs": [],
   "source": [
    "import boto3\n",
    "session = boto3.Session(profile_name='esip')\n",
    "# Any clients created from this session will use credentials\n",
    "# from the [dev] section of ~/.aws/credentials.\n",
    "dev_s3_client = session.client('s3')\n"
   ]
  },
  {
   "cell_type": "code",
   "execution_count": 6,
   "metadata": {},
   "outputs": [
    {
     "data": {
      "image/png": "[encoded data removed]",
      "text/plain": [
       "<Figure size 720x720 with 1 Axes>"
      ]
     },
     "metadata": {},
     "output_type": "display_data"
    }
   ],
   "source": [
    "%matplotlib inline\n",
    "import rasterio as rio\n",
    "import numpy as np\n",
    "from matplotlib import pyplot as plt\n",
    "import rasterio.plot\n",
    "import os\n",
    "from datetime import datetime as dt\n",
    "\n",
    "# Load the DEM and read out a np array of the elevation values (meters):\n",
    "dem = rio.open(r'/home/ubuntu/s3:::planet-snowcover-analysis:planet-snowcover-2020-03-01-13-37-37-330:planet-snowcover-imagery-veg:20180528_181108_1025_3B_AnalyticMS_SR_clip/preds/20180528_181108_1025_3B_AnalyticMS_SR_clip_merged.tif')\n",
    "elev = dem.read(1)\n",
    "\n",
    "\n",
    "\n",
    "# Plot this elevation band:\n",
    "plt.figure(figsize=(10,10))\n",
    "plt.imshow(elev)\n",
    "\n",
    "title_text = ''\n",
    "plt.title(title_text);\n"
   ]
  },
  {
   "cell_type": "code",
   "execution_count": 12,
   "metadata": {},
   "outputs": [
    {
     "name": "stdout",
     "output_type": "stream",
     "text": [
      "(3073, 6144)\n"
     ]
    }
   ],
   "source": [
    "\n",
    "elev = dem.read(1)\n",
    "print(elev.shape)"
   ]
  },
  {
   "cell_type": "code",
   "execution_count": 13,
   "metadata": {},
   "outputs": [
    {
     "data": {
      "image/png": "[encoded data removed]",
      "text/plain": [
       "<Figure size 720x720 with 1 Axes>"
      ]
     },
     "metadata": {},
     "output_type": "display_data"
    }
   ],
   "source": [
    "%matplotlib inline\n",
    "import rasterio as rio\n",
    "import numpy as np\n",
    "from matplotlib import pyplot as plt\n",
    "import rasterio.plot\n",
    "import os\n",
    "from datetime import datetime as dt\n",
    "\n",
    "# Load the DEM and read out a np array of the elevation values (meters):\n",
    "dem = rio.open(r'/home/ubuntu/s3:::planet-snowcover-analysis:planet-snowcover-2020-03-01-13-37-37-330:planet-snowcover-imagery-veg:20180528_181108_1025_3B_AnalyticMS_SR_clip/mask/ASO_3M_SD_USCATE_20180528_binary_merged.tif')\n",
    "masksnow = dem.read(1)\n",
    "\n",
    "\n",
    "\n",
    "# Plot this elevation band:\n",
    "plt.figure(figsize=(10,10))\n",
    "plt.imshow(masksnow)\n",
    "\n",
    "title_text = ''\n",
    "plt.title(title_text);"
   ]
  },
  {
   "cell_type": "code",
   "execution_count": 15,
   "metadata": {},
   "outputs": [],
   "source": [
    "def compute_metrics(true, pred):\n",
    "    print(true.shape, pred.shape)\n",
    "    assert true.shape == pred.shape, \"Masks and predictions are different shapes. Are you sure they're in the same CRS/extent?\"\n",
    "\n",
    "    compare = (true, pred)\n",
    "\n",
    "    balanced_acc = metrics.balanced_accuracy_score(*compare)\n",
    "    prfs = metrics.precision_recall_fscore_support(*compare, average='binary')\n",
    "\n",
    "    these_metrics = {\n",
    "        \"balanced_accuracy\" : balanced_acc,\n",
    "        \"precision\": prfs[0],\n",
    "        \"recall\": prfs[1],\n",
    "        \"f_score\": prfs[2]\n",
    "    }\n",
    "\n",
    "    return these_metrics"
   ]
  },
  {
   "cell_type": "code",
   "execution_count": 17,
   "metadata": {},
   "outputs": [],
   "source": [
    "mask_data = masksnow.flatten()\n",
    "pred_data = elev.flatten()\n",
    "    # remove nodata"
   ]
  },
  {
   "cell_type": "code",
   "execution_count": 28,
   "metadata": {},
   "outputs": [
    {
     "data": {
      "text/plain": [
       "2360320"
      ]
     },
     "execution_count": 28,
     "metadata": {},
     "output_type": "execute_result"
    }
   ],
   "source": [
    "len(mask_data[np.where(mask_data != 9999)])"
   ]
  },
  {
   "cell_type": "code",
   "execution_count": 19,
   "metadata": {},
   "outputs": [],
   "source": [
    "try:\n",
    "        mask_data = mask_data[np.where(mask_data != 9999)]\n",
    "        pred_data = pred_data[np.where(pred_data != 9999)]\n",
    "except Exception as e:\n",
    "        print(\"Error filtering nodata. Do input data files have nodata attribute set? [{}]\".format(e))"
   ]
  },
  {
   "cell_type": "code",
   "execution_count": 21,
   "metadata": {},
   "outputs": [
    {
     "name": "stdout",
     "output_type": "stream",
     "text": [
      "(2360320,) (2360320,)\n"
     ]
    }
   ],
   "source": [
    "from sklearn import metrics\n",
    "metrics = compute_metrics(mask_data, pred_data)"
   ]
  },
  {
   "cell_type": "code",
   "execution_count": 22,
   "metadata": {},
   "outputs": [
    {
     "name": "stdout",
     "output_type": "stream",
     "text": [
      "{'balanced_accuracy': 0.5935114876374716, 'precision': 0.286921030702358, 'recall': 0.9875438188505035, 'f_score': 0.44465265631726114}\n"
     ]
    }
   ],
   "source": [
    "print(metrics)"
   ]
  },
  {
   "cell_type": "code",
   "execution_count": 14,
   "metadata": {},
   "outputs": [
    {
     "name": "stdout",
     "output_type": "stream",
     "text": [
      "(3073, 6144)\n"
     ]
    }
   ],
   "source": [
    "print(masksnow.shape)"
   ]
  },
  {
   "cell_type": "code",
   "execution_count": 29,
   "metadata": {},
   "outputs": [
    {
     "data": {
      "image/png": "[encoded data removed]",
      "text/plain": [
       "<Figure size 432x288 with 1 Axes>"
      ]
     },
     "metadata": {},
     "output_type": "display_data"
    },
    {
     "data": {
      "text/plain": [
       "<matplotlib.axes._subplots.AxesSubplot at 0x7f7958025240>"
      ]
     },
     "execution_count": 29,
     "metadata": {},
     "output_type": "execute_result"
    }
   ],
   "source": [
    "from rasterio.plot import show\n",
    "show(masksnow)"
   ]
  },
  {
   "cell_type": "code",
   "execution_count": 5,
   "metadata": {},
   "outputs": [
    {
     "name": "stdout",
     "output_type": "stream",
     "text": [
      "Driver: GTiff/GeoTIFF\n",
      "Files: /home/ubuntu/s3:::planet-snowcover-analysis:planet-snowcover-2020-03-01-13-37-37-330:planet-snowcover-imagery-veg:20180528_181108_1025_3B_AnalyticMS_SR_clip/mask/ASO_3M_SD_USCATE_20180528_binary_merged.tif\n",
      "Size is 6144, 3073\n",
      "Coordinate System is:\n",
      "GEOGCS[\"WGS 84\",\n",
      "    DATUM[\"WGS_1984\",\n",
      "        SPHEROID[\"WGS 84\",6378137,298.257223563,\n",
      "            AUTHORITY[\"EPSG\",\"7030\"]],\n",
      "        AUTHORITY[\"EPSG\",\"6326\"]],\n",
      "    PRIMEM[\"Greenwich\",0],\n",
      "    UNIT[\"degree\",0.0174532925199433],\n",
      "    AUTHORITY[\"EPSG\",\"4326\"]]\n",
      "Origin = (-119.630126953125000,38.229550455326141)\n",
      "Pixel Size = (0.000021457672119,-0.000016856813467)\n",
      "Metadata:\n",
      "  AREA_OR_POINT=Area\n",
      "Image Structure Metadata:\n",
      "  COMPRESSION=LZW\n",
      "  INTERLEAVE=BAND\n",
      "Corner Coordinates:\n",
      "Upper Left  (-119.6301270,  38.2295505) (119d37'48.46\"W, 38d13'46.38\"N)\n",
      "Lower Left  (-119.6301270,  38.1777495) (119d37'48.46\"W, 38d10'39.90\"N)\n",
      "Upper Right (-119.4982910,  38.2295505) (119d29'53.85\"W, 38d13'46.38\"N)\n",
      "Lower Right (-119.4982910,  38.1777495) (119d29'53.85\"W, 38d10'39.90\"N)\n",
      "Center      (-119.5642090,  38.2036500) (119d33'51.15\"W, 38d12'13.14\"N)\n",
      "Band 1 Block=6144x1 Type=Int16, ColorInterp=Gray\n",
      "  NoData Value=9999\n"
     ]
    }
   ],
   "source": [
    "!gdalinfo /home/ubuntu/s3:::planet-snowcover-analysis:planet-snowcover-2020-03-01-13-37-37-330:planet-snowcover-imagery-veg:20180528_181108_1025_3B_AnalyticMS_SR_clip/mask/ASO_3M_SD_USCATE_20180528_binary_merged.tif"
   ]
  },
  {
   "cell_type": "code",
   "execution_count": null,
   "metadata": {},
   "outputs": [],
   "source": []
  }
 ],
 "metadata": {
  "kernelspec": {
   "display_name": "Environment (conda_pytorch_p36)",
   "language": "python",
   "name": "conda_pytorch_p36"
  },
  "language_info": {
   "codemirror_mode": {
    "name": "ipython",
    "version": 3
   },
   "file_extension": ".py",
   "mimetype": "text/x-python",
   "name": "python",
   "nbconvert_exporter": "python",
   "pygments_lexer": "ipython3",
   "version": "3.6.8"
  }
 },
 "nbformat": 4,
 "nbformat_minor": 2
}
