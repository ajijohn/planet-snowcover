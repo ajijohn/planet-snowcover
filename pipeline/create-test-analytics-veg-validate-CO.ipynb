{
 "cells": [
  {
   "cell_type": "code",
   "execution_count": 6,
   "metadata": {},
   "outputs": [
    {
     "name": "stdout",
     "output_type": "stream",
     "text": [
      "candidates:\n",
      "['planet-snowcover-analysis/planet-snowcover-2020-03-01-13-37-37-330/planet-snowcover-imagery-veg:20180524_172141_103d_3B_AnalyticMS_SR_clip',\n",
      " 'planet-snowcover-analysis/planet-snowcover-2020-03-01-13-37-37-330/planet-snowcover-imagery-veg:20180524_172142_103d_3B_AnalyticMS_SR_clip',\n",
      " 'planet-snowcover-analysis/planet-snowcover-2020-03-01-13-37-37-330/planet-snowcover-imagery-veg:20180524_172143_103d_3B_AnalyticMS_SR_clip',\n",
      " 'planet-snowcover-analysis/planet-snowcover-2020-03-01-13-37-37-330/planet-snowcover-imagery-veg:20180524_172144_103d_3B_AnalyticMS_SR_clip',\n",
      " 'planet-snowcover-analysis/planet-snowcover-2020-03-01-13-37-37-330/planet-snowcover-imagery-veg:20180524_172145_103d_3B_AnalyticMS_SR_clip',\n",
      " 'planet-snowcover-analysis/planet-snowcover-2020-03-01-13-37-37-330/planet-snowcover-imagery-veg:20180524_172146_103d_3B_AnalyticMS_SR_clip',\n",
      " 'planet-snowcover-analysis/planet-snowcover-2020-03-01-13-37-37-330/planet-snowcover-imagery-veg:20180524_172147_103d_3B_AnalyticMS_SR_clip',\n",
      " 'planet-snowcover-analysis/planet-snowcover-2020-03-01-13-37-37-330/planet-snowcover-imagery-veg:20180524_172148_103d_3B_AnalyticMS_SR_clip',\n",
      " 'planet-snowcover-analysis/planet-snowcover-2020-03-01-13-37-37-330/planet-snowcover-imagery-veg:20180524_172149_103d_3B_AnalyticMS_SR_clip',\n",
      " 'planet-snowcover-analysis/planet-snowcover-2020-03-01-13-37-37-330/planet-snowcover-imagery-veg:20180524_172326_0f51_3B_AnalyticMS_SR_clip',\n",
      " 'planet-snowcover-analysis/planet-snowcover-2020-03-01-13-37-37-330/planet-snowcover-imagery-veg:20180524_172327_0f51_3B_AnalyticMS_SR_clip',\n",
      " 'planet-snowcover-analysis/planet-snowcover-2020-03-01-13-37-37-330/planet-snowcover-imagery-veg:20180524_172329_0f51_3B_AnalyticMS_SR_clip',\n",
      " 'planet-snowcover-analysis/planet-snowcover-2020-03-01-13-37-37-330/planet-snowcover-imagery-veg:20180524_172330_0f51_3B_AnalyticMS_SR_clip',\n",
      " 'planet-snowcover-analysis/planet-snowcover-2020-03-01-13-37-37-330/planet-snowcover-imagery-veg:20180524_172331_0f51_3B_AnalyticMS_SR_clip',\n",
      " 'planet-snowcover-analysis/planet-snowcover-2020-03-01-13-37-37-330/planet-snowcover-imagery-veg:20180524_172332_0f51_3B_AnalyticMS_SR_clip',\n",
      " 'planet-snowcover-analysis/planet-snowcover-2020-03-01-13-37-37-330/planet-snowcover-imagery-veg:20180524_172333_0f51_3B_AnalyticMS_SR_clip',\n",
      " 'planet-snowcover-analysis/planet-snowcover-2020-03-01-13-37-37-330/planet-snowcover-imagery-veg:20180524_172334_0f51_3B_AnalyticMS_SR_clip',\n",
      " 'planet-snowcover-analysis/planet-snowcover-2020-03-01-13-37-37-330/planet-snowcover-imagery-veg:20180524_172630_0f2d_3B_AnalyticMS_SR_clip',\n",
      " 'planet-snowcover-analysis/planet-snowcover-2020-03-01-13-37-37-330/planet-snowcover-imagery-veg:20180524_172631_0f2d_3B_AnalyticMS_SR_clip',\n",
      " 'planet-snowcover-analysis/planet-snowcover-2020-03-01-13-37-37-330/planet-snowcover-imagery-veg:20180524_172632_0f2d_3B_AnalyticMS_SR_clip',\n",
      " 'planet-snowcover-analysis/planet-snowcover-2020-03-01-13-37-37-330/planet-snowcover-imagery-veg:20180524_172633_0f2d_3B_AnalyticMS_SR_clip',\n",
      " 'planet-snowcover-analysis/planet-snowcover-2020-03-01-13-37-37-330/planet-snowcover-imagery-veg:20180524_172634_0f2d_3B_AnalyticMS_SR_clip',\n",
      " 'planet-snowcover-analysis/planet-snowcover-2020-03-01-13-37-37-330/planet-snowcover-imagery-veg:20180524_172635_0f2d_3B_AnalyticMS_SR_clip',\n",
      " 'planet-snowcover-analysis/planet-snowcover-2020-03-01-13-37-37-330/planet-snowcover-imagery-veg:20180524_172636_0f2d_3B_AnalyticMS_SR_clip',\n",
      " 'planet-snowcover-analysis/planet-snowcover-2020-03-01-13-37-37-330/planet-snowcover-imagery-veg:20180524_172637_0f2d_3B_AnalyticMS_SR_clip',\n",
      " 'planet-snowcover-analysis/planet-snowcover-2020-03-01-13-37-37-330/planet-snowcover-imagery-veg:20180524_172637_1_0f2d_3B_AnalyticMS_SR_clip']\n"
     ]
    }
   ],
   "source": [
    "# Veg CO validate\n",
    "# read thru and combine with run summary\n",
    "#build a pipeline to assemble all the images\n",
    "#Amazon S3/planet-snowcover-experiments/planet-snowcover-2020-04-17-16-32-32-656\n",
    "import pprint\n",
    "import s3fs\n",
    "import boto3\n",
    "import io\n",
    "from re import match\n",
    "%matplotlib inline\n",
    "import rasterio as rio\n",
    "\n",
    "p = pprint.PrettyPrinter()\n",
    "\n",
    "fs = s3fs.S3FileSystem(session = boto3.Session(profile_name = 'esip'))\n",
    "#dem only\n",
    "imagery_searchpath = 's3://planet-snowcover-analysis/planet-snowcover-2020-03-01-13-37-37-330/'\n",
    "#print(\"Searching for imagery...({})\".format(imagery_searchpath))\n",
    "imagery_candidates = fs.ls(imagery_searchpath)\n",
    "print(\"candidates:\")\n",
    "#p.pprint(imagery_candidates)\n",
    "# filter only the test scenes tiles\n",
    "clipped_scenes = [link for link  in imagery_candidates if 'planet-snowcover-imagery-veg:20180524' in link]\n",
    "p.pprint(clipped_scenes)"
   ]
  },
  {
   "cell_type": "code",
   "execution_count": null,
   "metadata": {},
   "outputs": [],
   "source": []
  },
  {
   "cell_type": "code",
   "execution_count": 8,
   "metadata": {},
   "outputs": [
    {
     "name": "stdout",
     "output_type": "stream",
     "text": [
      "Imagepath: planet-snowcover-imagery-veg/20180524_172141_103d_3B_AnalyticMS_SR_clip\n",
      "28 935\n",
      "No overlapping tiles. Double-check mask path.\n",
      "Imagepath: planet-snowcover-imagery-veg/20180524_172142_103d_3B_AnalyticMS_SR_clip\n",
      "188 935\n",
      "100%|█████████████████████████████████████████████| 3/3 [00:00<00:00,  5.57it/s]\n",
      "0...10...20...30...40...50...60...70...80...90...100 - done.\n",
      "0...10...20...30...40...50...60...70...80...90...100 - done.\n",
      "Imagepath: planet-snowcover-imagery-veg/20180524_172143_103d_3B_AnalyticMS_SR_clip\n",
      "195 935\n",
      "100%|███████████████████████████████████████████| 87/87 [00:14<00:00,  5.85it/s]\n",
      "0...10...20...30...40...50...60...70...80...90...100 - done.\n",
      "0...10...20...30...40...50...60...70...80...90...100 - done.\n",
      "Imagepath: planet-snowcover-imagery-veg/20180524_172144_103d_3B_AnalyticMS_SR_clip\n",
      "47 935\n",
      "100%|███████████████████████████████████████████| 47/47 [00:08<00:00,  5.85it/s]\n",
      "0...10...20...30...40...50...60...70...80...90...100 - done.\n",
      "0...10...20...30...40...50...60...70...80...90...100 - done.\n",
      "Imagepath: planet-snowcover-imagery-veg/20180524_172145_103d_3B_AnalyticMS_SR_clip\n",
      "195 935\n",
      "100%|█████████████████████████████████████████| 142/142 [00:23<00:00,  5.96it/s]\n",
      "0...10...20...30...40...50...60...70...80...90...100 - done.\n",
      "0...10...20...30...40...50...60...70...80...90...100 - done.\n",
      "Imagepath: planet-snowcover-imagery-veg/20180524_172146_103d_3B_AnalyticMS_SR_clip\n",
      "195 935\n",
      "100%|█████████████████████████████████████████| 126/126 [00:22<00:00,  5.55it/s]\n",
      "0...10...20...30...40...50...60...70...80...90...100 - done.\n",
      "0...10...20...30...40...50...60...70...80...90...100 - done.\n",
      "Imagepath: planet-snowcover-imagery-veg/20180524_172147_103d_3B_AnalyticMS_SR_clip\n",
      "228 935\n",
      "100%|███████████████████████████████████████████| 59/59 [00:09<00:00,  6.15it/s]\n",
      "0...10...20...30...40...50...60...70...80...90...100 - done.\n",
      "0...10...20...30...40...50...60...70...80...90...100 - done.\n",
      "Imagepath: planet-snowcover-imagery-veg/20180524_172148_103d_3B_AnalyticMS_SR_clip\n",
      "172 935\n",
      "100%|█████████████████████████████████████████████| 2/2 [00:00<00:00,  5.48it/s]\n",
      "0...10...20...30...40...50...60...70...80...90...100 - done.\n",
      "0...10...20...30...40...50...60...70...80...90...100 - done.\n",
      "Imagepath: planet-snowcover-imagery-veg/20180524_172149_103d_3B_AnalyticMS_SR_clip\n",
      "11 935\n",
      "No overlapping tiles. Double-check mask path.\n",
      "Imagepath: planet-snowcover-imagery-veg/20180524_172326_0f51_3B_AnalyticMS_SR_clip\n",
      "27 935\n",
      "100%|█████████████████████████████████████████████| 2/2 [00:00<00:00,  5.44it/s]\n",
      "0...10...20...30...40...50...60...70...80...90...100 - done.\n",
      "0...10...20...30...40...50...60...70...80...90...100 - done.\n",
      "Imagepath: planet-snowcover-imagery-veg/20180524_172327_0f51_3B_AnalyticMS_SR_clip\n",
      "143 935\n",
      "100%|███████████████████████████████████████████| 49/49 [00:08<00:00,  5.58it/s]\n",
      "0...10...20...30...40...50...60...70...80...90...100 - done.\n",
      "0...10...20...30...40...50...60...70...80...90...100 - done.\n",
      "Imagepath: planet-snowcover-imagery-veg/20180524_172329_0f51_3B_AnalyticMS_SR_clip\n",
      "129 935\n",
      "100%|███████████████████████████████████████████| 42/42 [00:07<00:00,  5.42it/s]\n",
      "0...10...20...30...40...50...60...70...80...90...100 - done.\n",
      "0...10...20...30...40...50...60...70...80...90...100 - done.\n",
      "Imagepath: planet-snowcover-imagery-veg/20180524_172330_0f51_3B_AnalyticMS_SR_clip\n",
      "116 935\n",
      "100%|███████████████████████████████████████████| 40/40 [00:06<00:00,  6.00it/s]\n",
      "0...10...20...30...40...50...60...70...80...90...100 - done.\n",
      "0...10...20...30...40...50...60...70...80...90...100 - done.\n",
      "Imagepath: planet-snowcover-imagery-veg/20180524_172331_0f51_3B_AnalyticMS_SR_clip\n",
      "102 935\n",
      "100%|███████████████████████████████████████████| 24/24 [00:04<00:00,  5.45it/s]\n",
      "0...10...20...30...40...50...60...70...80...90...100 - done.\n",
      "0...10...20...30...40...50...60...70...80...90...100 - done.\n",
      "Imagepath: planet-snowcover-imagery-veg/20180524_172332_0f51_3B_AnalyticMS_SR_clip\n",
      "24 935\n",
      "100%|█████████████████████████████████████████████| 5/5 [00:01<00:00,  4.81it/s]\n",
      "0...10...20...30...40...50...60...70...80...90...100 - done.\n",
      "0...10...20...30...40...50...60...70...80...90...100 - done.\n",
      "Imagepath: planet-snowcover-imagery-veg/20180524_172333_0f51_3B_AnalyticMS_SR_clip\n",
      "74 935\n",
      "100%|███████████████████████████████████████████| 22/22 [00:03<00:00,  5.75it/s]\n",
      "0...10...20...30...40...50...60...70...80...90...100 - done.\n",
      "0...10...20...30...40...50...60...70...80...90...100 - done.\n",
      "Imagepath: planet-snowcover-imagery-veg/20180524_172334_0f51_3B_AnalyticMS_SR_clip\n",
      "45 935\n",
      "No overlapping tiles. Double-check mask path.\n",
      "Imagepath: planet-snowcover-imagery-veg/20180524_172630_0f2d_3B_AnalyticMS_SR_clip\n",
      "51 935\n",
      "No overlapping tiles. Double-check mask path.\n",
      "Imagepath: planet-snowcover-imagery-veg/20180524_172631_0f2d_3B_AnalyticMS_SR_clip\n",
      "170 935\n",
      "No overlapping tiles. Double-check mask path.\n",
      "Imagepath: planet-snowcover-imagery-veg/20180524_172632_0f2d_3B_AnalyticMS_SR_clip\n",
      "169 935\n",
      "100%|███████████████████████████████████████████| 58/58 [00:09<00:00,  6.33it/s]\n",
      "0...10...20...30...40...50...60...70...80...90...100 - done.\n",
      "0...10...20...30...40...50...60...70...80...90...100 - done.\n",
      "Imagepath: planet-snowcover-imagery-veg/20180524_172633_0f2d_3B_AnalyticMS_SR_clip\n",
      "169 935\n",
      "100%|█████████████████████████████████████████| 145/145 [00:23<00:00,  6.20it/s]\n",
      "0...10...20...30...40...50...60...70...80...90...100 - done.\n",
      "0...10...20...30...40...50...60...70...80...90...100 - done.\n",
      "Imagepath: planet-snowcover-imagery-veg/20180524_172634_0f2d_3B_AnalyticMS_SR_clip\n",
      "169 935\n",
      "100%|█████████████████████████████████████████| 139/139 [00:22<00:00,  6.10it/s]\n",
      "0...10...20...30...40...50...60...70...80...90...100 - done.\n",
      "0...10...20...30...40...50...60...70...80...90...100 - done.\n",
      "Imagepath: planet-snowcover-imagery-veg/20180524_172635_0f2d_3B_AnalyticMS_SR_clip\n",
      "170 935\n",
      "100%|█████████████████████████████████████████| 154/154 [00:25<00:00,  6.01it/s]\n",
      "0...10...20...30...40...50...60...70...80...90...100 - done.\n",
      "0...10...20...30...40...50...60...70...80...90...100 - done.\n",
      "Imagepath: planet-snowcover-imagery-veg/20180524_172636_0f2d_3B_AnalyticMS_SR_clip\n",
      "2 935\n",
      "No overlapping tiles. Double-check mask path.\n",
      "Imagepath: planet-snowcover-imagery-veg/20180524_172637_0f2d_3B_AnalyticMS_SR_clip\n",
      "169 935\n",
      "100%|███████████████████████████████████████████| 58/58 [00:09<00:00,  6.21it/s]\n",
      "0...10...20...30...40...50...60...70...80...90...100 - done.\n",
      "0...10...20...30...40...50...60...70...80...90...100 - done.\n",
      "Imagepath: planet-snowcover-imagery-veg/20180524_172637_1_0f2d_3B_AnalyticMS_SR_clip\n",
      "38 935\n",
      "No overlapping tiles. Double-check mask path.\n"
     ]
    }
   ],
   "source": [
    "import os\n",
    "os.chdir('/home/ubuntu/planet-snowcover/experiments/ASO_Tuolumne/scripts')\n",
    "for link in clipped_scenes:\n",
    "    !python summarize.py --aws_profile esip {link} ~/veg-co-validate --mask_loc planet-snowcover-snow/ASO_3M_SD_USCOGE_20180524_binary \n"
   ]
  },
  {
   "cell_type": "code",
   "execution_count": 24,
   "metadata": {},
   "outputs": [
    {
     "name": "stdout",
     "output_type": "stream",
     "text": [
      "total 5500\n",
      "-rw-rw-r-- 1 ubuntu ubuntu    2259 Mar  5 04:36 aftertrain.py\n",
      "-rw-rw-r-- 1 ubuntu ubuntu    7409 Feb 27 23:33 compare.py\n",
      "-rw-rw-r-- 1 ubuntu ubuntu    3952 Feb 27 23:33 get-modis.py\n",
      "-rw-rw-r-- 1 ubuntu ubuntu    8868 Feb 27 23:33 get_sentinel.py\n",
      "-rw-rw-r-- 1 ubuntu ubuntu     680 Mar 12 14:42 output.log\n",
      "-rw-rw-r-- 1 ubuntu ubuntu    1673 Mar  5 04:42 output_summarize_veg.log\n",
      "-rw-rw-r-- 1 ubuntu ubuntu  314434 Mar 18 05:36 prediction_base_test_only.log\n",
      "-rw-rw-r-- 1 ubuntu ubuntu 2332511 Mar 13 03:04 prediction_veg_dem_job.log\n",
      "-rw-rw-r-- 1 ubuntu ubuntu  332866 Mar 18 05:32 prediction_veg_dem_job_test.log\n",
      "-rw-rw-r-- 1 ubuntu ubuntu 2265075 Mar 13 08:08 prediction_veg_job.log\n",
      "-rw-rw-r-- 1 ubuntu ubuntu  319397 Mar 18 05:25 prediction_veg_job_test_only.log\n",
      "-rw-rw-r-- 1 ubuntu ubuntu    3738 Mar 12 17:20 run_prediction.py\n",
      "-rw-rw-r-- 1 ubuntu ubuntu    2737 Feb 27 23:33 sagetrain.py\n",
      "-rw-rw-r-- 1 ubuntu ubuntu    6068 Mar  5 04:36 summarize.py\n"
     ]
    }
   ],
   "source": [
    "ls -l"
   ]
  },
  {
   "cell_type": "code",
   "execution_count": 3,
   "metadata": {},
   "outputs": [],
   "source": [
    "# Run metrics"
   ]
  },
  {
   "cell_type": "code",
   "execution_count": 5,
   "metadata": {},
   "outputs": [],
   "source": [
    "import os\n",
    "from glob import glob\n",
    "import pandas as pd \n",
    "import matplotlib.pyplot as plt\n",
    "\n",
    "resultRoot = \"/home/ubuntu/veg-validate/\""
   ]
  },
  {
   "cell_type": "code",
   "execution_count": 6,
   "metadata": {},
   "outputs": [],
   "source": [
    "results = glob(os.path.join(resultRoot, \"*/*/*_merged.tif\"))"
   ]
  },
  {
   "cell_type": "code",
   "execution_count": 7,
   "metadata": {},
   "outputs": [
    {
     "data": {
      "text/plain": [
       "['/home/ubuntu/veg-validate/planet-snowcover-analysis:planet-snowcover-2020-03-01-13-37-37-330:planet-snowcover-imagery-veg:20190705_182534_0f17_3B_AnalyticMS_SR/preds/20190705_182534_0f17_3B_AnalyticMS_SR_merged.tif',\n",
       " '/home/ubuntu/veg-validate/planet-snowcover-analysis:planet-snowcover-2020-03-01-13-37-37-330:planet-snowcover-imagery-veg:20190705_182534_0f17_3B_AnalyticMS_SR/mask/ASO_3M_SD_USCATE_20190705_4326_binary_merged.tif',\n",
       " '/home/ubuntu/veg-validate/planet-snowcover-analysis:planet-snowcover-2020-03-01-13-37-37-330:planet-snowcover-imagery-veg:20190705_182425_0f28_3B_AnalyticMS_SR/preds/20190705_182425_0f28_3B_AnalyticMS_SR_merged.tif',\n",
       " '/home/ubuntu/veg-validate/planet-snowcover-analysis:planet-snowcover-2020-03-01-13-37-37-330:planet-snowcover-imagery-veg:20190705_182425_0f28_3B_AnalyticMS_SR/mask/ASO_3M_SD_USCATE_20190705_4326_binary_merged.tif',\n",
       " '/home/ubuntu/veg-validate/planet-snowcover-analysis:planet-snowcover-2020-03-01-13-37-37-330:planet-snowcover-imagery-veg:20190705_171624_0f49_3B_AnalyticMS_SR/preds/20190705_171624_0f49_3B_AnalyticMS_SR_merged.tif',\n",
       " '/home/ubuntu/veg-validate/planet-snowcover-analysis:planet-snowcover-2020-03-01-13-37-37-330:planet-snowcover-imagery-veg:20190705_171624_0f49_3B_AnalyticMS_SR/mask/ASO_3M_SD_USCATE_20190705_4326_binary_merged.tif',\n",
       " '/home/ubuntu/veg-validate/planet-snowcover-analysis:planet-snowcover-2020-03-01-13-37-37-330:planet-snowcover-imagery-veg:20190705_182422_0f28_3B_AnalyticMS_SR/preds/20190705_182422_0f28_3B_AnalyticMS_SR_merged.tif',\n",
       " '/home/ubuntu/veg-validate/planet-snowcover-analysis:planet-snowcover-2020-03-01-13-37-37-330:planet-snowcover-imagery-veg:20190705_182422_0f28_3B_AnalyticMS_SR/mask/ASO_3M_SD_USCATE_20190705_4326_binary_merged.tif',\n",
       " '/home/ubuntu/veg-validate/planet-snowcover-analysis:planet-snowcover-2020-03-01-13-37-37-330:planet-snowcover-imagery-veg:20190705_182533_0f17_3B_AnalyticMS_SR/preds/20190705_182533_0f17_3B_AnalyticMS_SR_merged.tif',\n",
       " '/home/ubuntu/veg-validate/planet-snowcover-analysis:planet-snowcover-2020-03-01-13-37-37-330:planet-snowcover-imagery-veg:20190705_182533_0f17_3B_AnalyticMS_SR/mask/ASO_3M_SD_USCATE_20190705_4326_binary_merged.tif',\n",
       " '/home/ubuntu/veg-validate/planet-snowcover-analysis:planet-snowcover-2020-03-01-13-37-37-330:planet-snowcover-imagery-veg:20190705_182421_0f28_3B_AnalyticMS_SR/preds/20190705_182421_0f28_3B_AnalyticMS_SR_merged.tif',\n",
       " '/home/ubuntu/veg-validate/planet-snowcover-analysis:planet-snowcover-2020-03-01-13-37-37-330:planet-snowcover-imagery-veg:20190705_182421_0f28_3B_AnalyticMS_SR/mask/ASO_3M_SD_USCATE_20190705_4326_binary_merged.tif',\n",
       " '/home/ubuntu/veg-validate/planet-snowcover-analysis:planet-snowcover-2020-03-01-13-37-37-330:planet-snowcover-imagery-veg:20190705_182423_0f28_3B_AnalyticMS_SR/preds/20190705_182423_0f28_3B_AnalyticMS_SR_merged.tif',\n",
       " '/home/ubuntu/veg-validate/planet-snowcover-analysis:planet-snowcover-2020-03-01-13-37-37-330:planet-snowcover-imagery-veg:20190705_182423_0f28_3B_AnalyticMS_SR/mask/ASO_3M_SD_USCATE_20190705_4326_binary_merged.tif',\n",
       " '/home/ubuntu/veg-validate/planet-snowcover-analysis:planet-snowcover-2020-03-01-13-37-37-330:planet-snowcover-imagery-veg:20190705_181944_101b_3B_AnalyticMS_SR/preds/20190705_181944_101b_3B_AnalyticMS_SR_merged.tif',\n",
       " '/home/ubuntu/veg-validate/planet-snowcover-analysis:planet-snowcover-2020-03-01-13-37-37-330:planet-snowcover-imagery-veg:20190705_181944_101b_3B_AnalyticMS_SR/mask/ASO_3M_SD_USCATE_20190705_4326_binary_merged.tif',\n",
       " '/home/ubuntu/veg-validate/planet-snowcover-analysis:planet-snowcover-2020-03-01-13-37-37-330:planet-snowcover-imagery-veg:20190705_182536_0f17_3B_AnalyticMS_SR/preds/20190705_182536_0f17_3B_AnalyticMS_SR_merged.tif',\n",
       " '/home/ubuntu/veg-validate/planet-snowcover-analysis:planet-snowcover-2020-03-01-13-37-37-330:planet-snowcover-imagery-veg:20190705_182536_0f17_3B_AnalyticMS_SR/mask/ASO_3M_SD_USCATE_20190705_4326_binary_merged.tif',\n",
       " '/home/ubuntu/veg-validate/planet-snowcover-analysis:planet-snowcover-2020-03-01-13-37-37-330:planet-snowcover-imagery-veg:20190705_182535_0f17_3B_AnalyticMS_SR/preds/20190705_182535_0f17_3B_AnalyticMS_SR_merged.tif',\n",
       " '/home/ubuntu/veg-validate/planet-snowcover-analysis:planet-snowcover-2020-03-01-13-37-37-330:planet-snowcover-imagery-veg:20190705_182535_0f17_3B_AnalyticMS_SR/mask/ASO_3M_SD_USCATE_20190705_4326_binary_merged.tif',\n",
       " '/home/ubuntu/veg-validate/planet-snowcover-analysis:planet-snowcover-2020-03-01-13-37-37-330:planet-snowcover-imagery-veg:20190705_182420_0f28_3B_AnalyticMS_SR/preds/20190705_182420_0f28_3B_AnalyticMS_SR_merged.tif',\n",
       " '/home/ubuntu/veg-validate/planet-snowcover-analysis:planet-snowcover-2020-03-01-13-37-37-330:planet-snowcover-imagery-veg:20190705_182420_0f28_3B_AnalyticMS_SR/mask/ASO_3M_SD_USCATE_20190705_4326_binary_merged.tif',\n",
       " '/home/ubuntu/veg-validate/planet-snowcover-analysis:planet-snowcover-2020-03-01-13-37-37-330:planet-snowcover-imagery-veg:20190705_182537_0f17_3B_AnalyticMS_SR/preds/20190705_182537_0f17_3B_AnalyticMS_SR_merged.tif',\n",
       " '/home/ubuntu/veg-validate/planet-snowcover-analysis:planet-snowcover-2020-03-01-13-37-37-330:planet-snowcover-imagery-veg:20190705_182537_0f17_3B_AnalyticMS_SR/mask/ASO_3M_SD_USCATE_20190705_4326_binary_merged.tif',\n",
       " '/home/ubuntu/veg-validate/planet-snowcover-analysis:planet-snowcover-2020-03-01-13-37-37-330:planet-snowcover-imagery-veg:20190705_181947_101b_3B_AnalyticMS_SR/preds/20190705_181947_101b_3B_AnalyticMS_SR_merged.tif',\n",
       " '/home/ubuntu/veg-validate/planet-snowcover-analysis:planet-snowcover-2020-03-01-13-37-37-330:planet-snowcover-imagery-veg:20190705_181947_101b_3B_AnalyticMS_SR/mask/ASO_3M_SD_USCATE_20190705_4326_binary_merged.tif',\n",
       " '/home/ubuntu/veg-validate/planet-snowcover-analysis:planet-snowcover-2020-03-01-13-37-37-330:planet-snowcover-imagery-veg:20190705_171625_0f49_3B_AnalyticMS_SR/preds/20190705_171625_0f49_3B_AnalyticMS_SR_merged.tif',\n",
       " '/home/ubuntu/veg-validate/planet-snowcover-analysis:planet-snowcover-2020-03-01-13-37-37-330:planet-snowcover-imagery-veg:20190705_171625_0f49_3B_AnalyticMS_SR/mask/ASO_3M_SD_USCATE_20190705_4326_binary_merged.tif',\n",
       " '/home/ubuntu/veg-validate/planet-snowcover-analysis:planet-snowcover-2020-03-01-13-37-37-330:planet-snowcover-imagery-veg:20190705_181945_101b_3B_AnalyticMS_SR/preds/20190705_181945_101b_3B_AnalyticMS_SR_merged.tif',\n",
       " '/home/ubuntu/veg-validate/planet-snowcover-analysis:planet-snowcover-2020-03-01-13-37-37-330:planet-snowcover-imagery-veg:20190705_181945_101b_3B_AnalyticMS_SR/mask/ASO_3M_SD_USCATE_20190705_4326_binary_merged.tif',\n",
       " '/home/ubuntu/veg-validate/planet-snowcover-analysis:planet-snowcover-2020-03-01-13-37-37-330:planet-snowcover-imagery-veg:20190705_181946_101b_3B_AnalyticMS_SR/preds/20190705_181946_101b_3B_AnalyticMS_SR_merged.tif',\n",
       " '/home/ubuntu/veg-validate/planet-snowcover-analysis:planet-snowcover-2020-03-01-13-37-37-330:planet-snowcover-imagery-veg:20190705_181946_101b_3B_AnalyticMS_SR/mask/ASO_3M_SD_USCATE_20190705_4326_binary_merged.tif',\n",
       " '/home/ubuntu/veg-validate/planet-snowcover-analysis:planet-snowcover-2020-03-01-13-37-37-330:planet-snowcover-imagery-veg:20190705_182424_0f28_3B_AnalyticMS_SR/preds/20190705_182424_0f28_3B_AnalyticMS_SR_merged.tif',\n",
       " '/home/ubuntu/veg-validate/planet-snowcover-analysis:planet-snowcover-2020-03-01-13-37-37-330:planet-snowcover-imagery-veg:20190705_182424_0f28_3B_AnalyticMS_SR/mask/ASO_3M_SD_USCATE_20190705_4326_binary_merged.tif',\n",
       " '/home/ubuntu/veg-validate/planet-snowcover-analysis:planet-snowcover-2020-03-01-13-37-37-330:planet-snowcover-imagery-veg:20190705_182532_0f17_3B_AnalyticMS_SR/preds/20190705_182532_0f17_3B_AnalyticMS_SR_merged.tif',\n",
       " '/home/ubuntu/veg-validate/planet-snowcover-analysis:planet-snowcover-2020-03-01-13-37-37-330:planet-snowcover-imagery-veg:20190705_182532_0f17_3B_AnalyticMS_SR/mask/ASO_3M_SD_USCATE_20190705_4326_binary_merged.tif',\n",
       " '/home/ubuntu/veg-validate/planet-snowcover-analysis:planet-snowcover-2020-03-01-13-37-37-330:planet-snowcover-imagery-veg:20190705_181943_101b_3B_AnalyticMS_SR/preds/20190705_181943_101b_3B_AnalyticMS_SR_merged.tif',\n",
       " '/home/ubuntu/veg-validate/planet-snowcover-analysis:planet-snowcover-2020-03-01-13-37-37-330:planet-snowcover-imagery-veg:20190705_181943_101b_3B_AnalyticMS_SR/mask/ASO_3M_SD_USCATE_20190705_4326_binary_merged.tif',\n",
       " '/home/ubuntu/veg-validate/planet-snowcover-analysis:planet-snowcover-2020-03-01-13-37-37-330:planet-snowcover-imagery-veg:20190705_181948_101b_3B_AnalyticMS_SR/preds/20190705_181948_101b_3B_AnalyticMS_SR_merged.tif',\n",
       " '/home/ubuntu/veg-validate/planet-snowcover-analysis:planet-snowcover-2020-03-01-13-37-37-330:planet-snowcover-imagery-veg:20190705_181948_101b_3B_AnalyticMS_SR/mask/ASO_3M_SD_USCATE_20190705_4326_binary_merged.tif']"
      ]
     },
     "execution_count": 7,
     "metadata": {},
     "output_type": "execute_result"
    }
   ],
   "source": [
    "results"
   ]
  },
  {
   "cell_type": "code",
   "execution_count": 8,
   "metadata": {},
   "outputs": [
    {
     "name": "stdout",
     "output_type": "stream",
     "text": [
      "/home/ubuntu/veg-validate/planet-snowcover-analysis:planet-snowcover-2020-03-01-13-37-37-330:planet-snowcover-imagery-veg:20190705_182534_0f17_3B_AnalyticMS_SR/preds/20190705_182534_0f17_3B_AnalyticMS_SR_merged.tif\n",
      "[[   0    0    0 ... 9999 9999 9999]\n",
      " [   0    0    0 ... 9999 9999 9999]\n",
      " [   0    0    0 ... 9999 9999 9999]\n",
      " ...\n",
      " [9999 9999 9999 ... 9999 9999 9999]\n",
      " [9999 9999 9999 ... 9999 9999 9999]\n",
      " [9999 9999 9999 ... 9999 9999 9999]]\n"
     ]
    },
    {
     "data": {
      "image/png": "[encoded data removed]",
      "text/plain": [
       "<Figure size 720x720 with 1 Axes>"
      ]
     },
     "metadata": {},
     "output_type": "display_data"
    }
   ],
   "source": [
    "%matplotlib inline\n",
    "import rasterio as rio\n",
    "import numpy as np\n",
    "from matplotlib import pyplot as plt\n",
    "import rasterio.plot\n",
    "import os\n",
    "from datetime import datetime as dt\n",
    "print(results[0])\n",
    "# Load the DEM and read out a np array of the elevation values (meters):\n",
    "dem = rio.open(results[0])\n",
    "elev = dem.read(1)\n",
    "print(elev)\n",
    "\n",
    "\n",
    "# Plot this elevation band:\n",
    "plt.figure(figsize=(10,10))\n",
    "plt.imshow(elev)\n",
    "\n",
    "title_text = ''\n",
    "plt.title(title_text);"
   ]
  },
  {
   "cell_type": "code",
   "execution_count": 12,
   "metadata": {},
   "outputs": [
    {
     "name": "stdout",
     "output_type": "stream",
     "text": [
      "/home/ubuntu/veg-validate/planet-snowcover-analysis:planet-snowcover-2020-03-01-13-37-37-330:planet-snowcover-imagery-veg:20190705_182534_0f17_3B_AnalyticMS_SR/mask/ASO_3M_SD_USCATE_20190705_4326_binary_merged.tif\n",
      "[[   0    0    0 ... 9999 9999 9999]\n",
      " [   0    0    0 ... 9999 9999 9999]\n",
      " [   0    0    0 ... 9999 9999 9999]\n",
      " ...\n",
      " [9999 9999 9999 ... 9999 9999 9999]\n",
      " [9999 9999 9999 ... 9999 9999 9999]\n",
      " [9999 9999 9999 ... 9999 9999 9999]]\n"
     ]
    },
    {
     "data": {
      "image/png": "[encoded data removed]",
      "text/plain": [
       "<Figure size 720x720 with 1 Axes>"
      ]
     },
     "metadata": {},
     "output_type": "display_data"
    }
   ],
   "source": [
    "# Load the DEM and read out a np array of the elevation values (meters):\n",
    "print(results[1])\n",
    "dem = rio.open(results[1])\n",
    "elev = dem.read(1)\n",
    "print(elev)\n",
    "\n",
    "\n",
    "# Plot this elevation band:\n",
    "plt.figure(figsize=(10,10))\n",
    "plt.imshow(elev)\n",
    "\n",
    "title_text = ''\n",
    "plt.title(title_text);"
   ]
  },
  {
   "cell_type": "code",
   "execution_count": 58,
   "metadata": {},
   "outputs": [],
   "source": [
    "from osgeo import gdal\n",
    "def match_extent(small,large):\n",
    "\n",
    "    # given that a geotransform object is in this form:\n",
    "    #adfGeoTransform[0] /* top left x */\n",
    "    #adfGeoTransform[1] /* w-e pixel resolution */\n",
    "    #adfGeoTransform[2] /* 0 */\n",
    "    #adfGeoTransform[3] /* top left y */\n",
    "    #adfGeoTransform[4] /* 0 */\n",
    "    #adfGeoTransform[5] /* n-s pixel resolution (negative value) */\n",
    "\n",
    "    smaller_raster = gdal.Open(small)\n",
    "    larger_raster  = gdal.Open(large)\n",
    "    \n",
    "    gt = smaller_raster.GetGeoTransform()\n",
    "    lt = larger_raster.GetGeoTransform()\n",
    "\n",
    "    SmlMaxX = gt[0] + (gt[1] * smaller_raster.RasterXSize)\n",
    "    SmlMinY = gt[3] + (gt[5] * smaller_raster.RasterYSize)\n",
    "    \n",
    "    Xoff = int((gt[0] - lt[0])/lt[1]) # cols to skip\n",
    "    Yoff = int((gt[3] - lt[3])/lt[5]) # rows to skip\n",
    "    \n",
    "    # Modified to take resolution of the smaller raster\n",
    "    Cols = int((SmlMaxX - gt[0])/lt[1])\n",
    "    print(\"gt0 {}, lt1 {}\".format(gt[0],lt[1]))\n",
    "    print(\"gt0 {}, gt1 {}\".format(gt[0],gt[1]))\n",
    "    # Modified to take resolution of the smaller raster\n",
    "    Rows = int((SmlMinY - gt[3])/lt[5])\n",
    "    print(\"gt3 {}, lt5 {}\".format(gt[3],lt[5]))\n",
    "    print(\"gt3 {}, gt5 {}\".format(gt[3],gt[5]))\n",
    "    \n",
    "    # print out some numbers so you can check manually\n",
    "    print(\"X offset {}, Y offset {}\".format(Xoff,Yoff))\n",
    "    print(\"Xmax {}, Ymin {}\".format(SmlMaxX,SmlMinY))\n",
    "    print(\"Reading {} cols, {} rows\".format(Cols,Rows))\n",
    "\n",
    "    band = larger_raster.GetRasterBand(1)\n",
    "    data = larger_raster.ReadAsArray(Xoff,Yoff,Cols,Rows) # read the larger raster \n",
    "    return data"
   ]
  },
  {
   "cell_type": "code",
   "execution_count": 18,
   "metadata": {},
   "outputs": [],
   "source": [
    "from glob import glob\n",
    "from sklearn import metrics\n",
    "import json\n",
    "def compute_metrics(true, pred):\n",
    "    print(true.shape, pred.shape)\n",
    "    assert true.shape == pred.shape, \"Masks and predictions are different shapes. Are you sure they're in the same CRS/extent?\"\n",
    "\n",
    "    compare = (true, pred)\n",
    "\n",
    "    balanced_acc = metrics.balanced_accuracy_score(*compare)\n",
    "    prfs = metrics.precision_recall_fscore_support(*compare, average='binary')\n",
    "\n",
    "    these_metrics = {\n",
    "        \"balanced_accuracy\" : balanced_acc,\n",
    "        \"precision\": prfs[0],\n",
    "        \"recall\": prfs[1],\n",
    "        \"f_score\": prfs[2]\n",
    "    }\n",
    "\n",
    "    return these_metrics\n"
   ]
  },
  {
   "cell_type": "code",
   "execution_count": 36,
   "metadata": {},
   "outputs": [],
   "source": [
    "def prediction(directory, plot, mask_dir):\n",
    "    \"\"\"\n",
    "    Compare ASO in <directory> to predictions found in <directory>.\n",
    "\n",
    "    Looks for *merged.tif files.\n",
    "    \"\"\"\n",
    "\n",
    "    dirfiles = os.listdir(directory)\n",
    "    assert mask_dir in dirfiles, f\"Mask directory '{mask_dir}' not found in {directory}\"\n",
    "    assert \"preds\" in dirfiles, f\"Prediction directory not found in {directory}\"\n",
    "\n",
    "    mask_file = glob(os.path.join(directory, mask_dir, \"*merged*.tif\"))[0]\n",
    "    print('mask file - ',mask_file)\n",
    "    mask = rio.open(mask_file)\n",
    "    print(mask.nodata)\n",
    "\n",
    "    preds_file = glob(os.path.join(directory, \"preds\", \"*merged*.tif\"))[0]\n",
    "    print('pred file - ',preds_file)\n",
    "    preds = rio.open(preds_file)\n",
    "    print(preds.nodata)\n",
    "\n",
    "    print(mask.crs, preds.crs)\n",
    "    mask_data = mask.read(1).flatten()\n",
    "    pred_data = preds.read(1).flatten()\n",
    "    print(mask_data.shape, pred_data.shape)\n",
    "    # remove nodata\n",
    "    try:\n",
    "        mask_data = mask_data[np.where(mask_data != mask.nodata)]\n",
    "        pred_data = pred_data[np.where(pred_data != preds.nodata)]\n",
    "    except Exception as e:\n",
    "        print(\"Error filtering nodata. Do input data files have nodata attribute set? [{}]\".format(e))\n",
    "        sys.exit(1)\n",
    "    print(mask_data.shape, pred_data.shape)\n",
    "    if not (mask_data.shape==pred_data.shape):\n",
    "        if mask_data.shape < pred_data.shape:\n",
    "            print('pred greater')\n",
    "            pred_r = match_extent(mask_file,preds_file).ravel()\n",
    "            print(type(pred_r))\n",
    "            mask_data = mask_data\n",
    "            pred_data = pred_r.flatten()\n",
    "            pred_data = pred_data[np.where(pred_data != preds.nodata)]\n",
    "            print('after transform pred greater',mask_data.shape, pred_data.shape)\n",
    "        elif mask_data.shape > pred_data.shape:  \n",
    "            print('mask greater')\n",
    "            mask_r = match_extent(preds_file,mask_file).ravel()\n",
    "            print(type(mask_r))\n",
    "            pred_data = pred_data\n",
    "            mask_data = mask_r.flatten()  \n",
    "            mask_data = mask_data[np.where(mask_data != mask.nodata)]  \n",
    "            print('after transform mask greater',mask_data.shape, pred_data.shape)\n",
    " \n",
    " \n",
    "        #mask_data = mask_data[np.where(mask_data != mask.nodata)]\n",
    "        #pred_data = pred_data[np.where(pred_data != preds.nodata)]\n",
    "        print(mask_data.shape, pred_data.shape)\n",
    "        #mask = reproject_like_vrt(mask, preds)\n",
    "        \n",
    "    metrics = compute_metrics(mask_data, pred_data)\n",
    "\n",
    "    results = {\n",
    "        \"mask\": mask_file,\n",
    "        \"preds\": preds_file,\n",
    "        \"metrics\" : metrics\n",
    "    }\n",
    "    print(results)\n",
    "    outfile = os.path.join(directory, \"aso_metrics.json\")\n",
    "    with open(outfile, 'w') as o:\n",
    "        json.dump(results, o)\n"
   ]
  },
  {
   "cell_type": "code",
   "execution_count": 15,
   "metadata": {},
   "outputs": [],
   "source": [
    "results_dirs = glob(os.path.join(resultRoot, \"*\"))"
   ]
  },
  {
   "cell_type": "code",
   "execution_count": 16,
   "metadata": {},
   "outputs": [
    {
     "data": {
      "text/plain": [
       "['/home/ubuntu/veg-validate/planet-snowcover-analysis:planet-snowcover-2020-03-01-13-37-37-330:planet-snowcover-imagery-veg:20190705_182534_0f17_3B_AnalyticMS_SR',\n",
       " '/home/ubuntu/veg-validate/planet-snowcover-analysis:planet-snowcover-2020-03-01-13-37-37-330:planet-snowcover-imagery-veg:20190705_182425_0f28_3B_AnalyticMS_SR',\n",
       " '/home/ubuntu/veg-validate/planet-snowcover-analysis:planet-snowcover-2020-03-01-13-37-37-330:planet-snowcover-imagery-veg:20190705_171624_0f49_3B_AnalyticMS_SR',\n",
       " '/home/ubuntu/veg-validate/planet-snowcover-analysis:planet-snowcover-2020-03-01-13-37-37-330:planet-snowcover-imagery-veg:20190705_182422_0f28_3B_AnalyticMS_SR',\n",
       " '/home/ubuntu/veg-validate/planet-snowcover-analysis:planet-snowcover-2020-03-01-13-37-37-330:planet-snowcover-imagery-veg:20190705_182533_0f17_3B_AnalyticMS_SR',\n",
       " '/home/ubuntu/veg-validate/planet-snowcover-analysis:planet-snowcover-2020-03-01-13-37-37-330:planet-snowcover-imagery-veg:20190705_182421_0f28_3B_AnalyticMS_SR',\n",
       " '/home/ubuntu/veg-validate/planet-snowcover-analysis:planet-snowcover-2020-03-01-13-37-37-330:planet-snowcover-imagery-veg:20190705_182423_0f28_3B_AnalyticMS_SR',\n",
       " '/home/ubuntu/veg-validate/planet-snowcover-analysis:planet-snowcover-2020-03-01-13-37-37-330:planet-snowcover-imagery-veg:20190705_181944_101b_3B_AnalyticMS_SR',\n",
       " '/home/ubuntu/veg-validate/planet-snowcover-analysis:planet-snowcover-2020-03-01-13-37-37-330:planet-snowcover-imagery-veg:20190705_182536_0f17_3B_AnalyticMS_SR',\n",
       " '/home/ubuntu/veg-validate/planet-snowcover-analysis:planet-snowcover-2020-03-01-13-37-37-330:planet-snowcover-imagery-veg:20190705_182535_0f17_3B_AnalyticMS_SR',\n",
       " '/home/ubuntu/veg-validate/planet-snowcover-analysis:planet-snowcover-2020-03-01-13-37-37-330:planet-snowcover-imagery-veg:20190705_182420_0f28_3B_AnalyticMS_SR',\n",
       " '/home/ubuntu/veg-validate/planet-snowcover-analysis:planet-snowcover-2020-03-01-13-37-37-330:planet-snowcover-imagery-veg:20190705_182537_0f17_3B_AnalyticMS_SR',\n",
       " '/home/ubuntu/veg-validate/planet-snowcover-analysis:planet-snowcover-2020-03-01-13-37-37-330:planet-snowcover-imagery-veg:20190705_181947_101b_3B_AnalyticMS_SR',\n",
       " '/home/ubuntu/veg-validate/planet-snowcover-analysis:planet-snowcover-2020-03-01-13-37-37-330:planet-snowcover-imagery-veg:20190705_171625_0f49_3B_AnalyticMS_SR',\n",
       " '/home/ubuntu/veg-validate/planet-snowcover-analysis:planet-snowcover-2020-03-01-13-37-37-330:planet-snowcover-imagery-veg:20190705_181945_101b_3B_AnalyticMS_SR',\n",
       " '/home/ubuntu/veg-validate/planet-snowcover-analysis:planet-snowcover-2020-03-01-13-37-37-330:planet-snowcover-imagery-veg:20190705_181946_101b_3B_AnalyticMS_SR',\n",
       " '/home/ubuntu/veg-validate/planet-snowcover-analysis:planet-snowcover-2020-03-01-13-37-37-330:planet-snowcover-imagery-veg:20190705_182424_0f28_3B_AnalyticMS_SR',\n",
       " '/home/ubuntu/veg-validate/planet-snowcover-analysis:planet-snowcover-2020-03-01-13-37-37-330:planet-snowcover-imagery-veg:20190705_182532_0f17_3B_AnalyticMS_SR',\n",
       " '/home/ubuntu/veg-validate/planet-snowcover-analysis:planet-snowcover-2020-03-01-13-37-37-330:planet-snowcover-imagery-veg:20190705_181943_101b_3B_AnalyticMS_SR',\n",
       " '/home/ubuntu/veg-validate/planet-snowcover-analysis:planet-snowcover-2020-03-01-13-37-37-330:planet-snowcover-imagery-veg:20190705_181948_101b_3B_AnalyticMS_SR']"
      ]
     },
     "execution_count": 16,
     "metadata": {},
     "output_type": "execute_result"
    }
   ],
   "source": [
    "results_dirs"
   ]
  },
  {
   "cell_type": "code",
   "execution_count": 53,
   "metadata": {},
   "outputs": [
    {
     "name": "stdout",
     "output_type": "stream",
     "text": [
      "mask file -  /home/ubuntu/veg-validate/planet-snowcover-analysis:planet-snowcover-2020-03-01-13-37-37-330:planet-snowcover-imagery-veg:20190705_182534_0f17_3B_AnalyticMS_SR/mask/ASO_3M_SD_USCATE_20190705_4326_binary_merged.tif\n",
      "9999.0\n",
      "pred file -  /home/ubuntu/veg-validate/planet-snowcover-analysis:planet-snowcover-2020-03-01-13-37-37-330:planet-snowcover-imagery-veg:20190705_182534_0f17_3B_AnalyticMS_SR/preds/20190705_182534_0f17_3B_AnalyticMS_SR_merged.tif\n",
      "9999.0\n",
      "EPSG:4326 EPSG:4326\n",
      "(72351744,) (72351744,)\n",
      "(44828672,) (44828672,)\n",
      "(44828672,) (44828672,)\n",
      "{'mask': '/home/ubuntu/veg-validate/planet-snowcover-analysis:planet-snowcover-2020-03-01-13-37-37-330:planet-snowcover-imagery-veg:20190705_182534_0f17_3B_AnalyticMS_SR/mask/ASO_3M_SD_USCATE_20190705_4326_binary_merged.tif', 'preds': '/home/ubuntu/veg-validate/planet-snowcover-analysis:planet-snowcover-2020-03-01-13-37-37-330:planet-snowcover-imagery-veg:20190705_182534_0f17_3B_AnalyticMS_SR/preds/20190705_182534_0f17_3B_AnalyticMS_SR_merged.tif', 'metrics': {'balanced_accuracy': 0.7326480600730012, 'precision': 0.2364902061111529, 'recall': 0.8966406313026759, 'f_score': 0.37426697906900724}}\n",
      "mask file -  /home/ubuntu/veg-validate/planet-snowcover-analysis:planet-snowcover-2020-03-01-13-37-37-330:planet-snowcover-imagery-veg:20190705_182425_0f28_3B_AnalyticMS_SR/mask/ASO_3M_SD_USCATE_20190705_4326_binary_merged.tif\n",
      "9999.0\n",
      "pred file -  /home/ubuntu/veg-validate/planet-snowcover-analysis:planet-snowcover-2020-03-01-13-37-37-330:planet-snowcover-imagery-veg:20190705_182425_0f28_3B_AnalyticMS_SR/preds/20190705_182425_0f28_3B_AnalyticMS_SR_merged.tif\n",
      "9999.0\n",
      "EPSG:4326 EPSG:4326\n",
      "(74946560,) (74959872,)\n",
      "(45869568,) (45878272,)\n",
      "pred greater\n",
      "gt0 -119.55322265625, lt1 2.1457672119140625e-05\n",
      "gt0 -119.55322265625, gt1 2.1457672119140625e-05\n",
      "gt3 37.82280243352756, lt5 -1.6962603054657133e-05\n",
      "gt3 37.82280243352756, gt5 -1.6966586732794497e-05\n",
      "X offset 0, Y offset 0\n",
      "Xmax -119.267578125, Ymin 37.72728055022193\n",
      "Reading 13312 cols, 5630 rows\n",
      "<class 'numpy.ndarray'>\n",
      "after transform pred greater (45869568,) (45872640,)\n",
      "(45869568,) (45872640,)\n",
      "(45869568,) (45872640,)\n"
     ]
    },
    {
     "ename": "AssertionError",
     "evalue": "Masks and predictions are different shapes. Are you sure they're in the same CRS/extent?",
     "output_type": "error",
     "traceback": [
      "\u001b[0;31m---------------------------------------------------------------------------\u001b[0m",
      "\u001b[0;31mAssertionError\u001b[0m                            Traceback (most recent call last)",
      "\u001b[0;32m<ipython-input-53-bbdcf0627892>\u001b[0m in \u001b[0;36m<module>\u001b[0;34m()\u001b[0m\n\u001b[1;32m      1\u001b[0m \u001b[0;32mfor\u001b[0m \u001b[0mpath\u001b[0m \u001b[0;32min\u001b[0m \u001b[0mresults_dirs\u001b[0m\u001b[0;34m:\u001b[0m\u001b[0;34m\u001b[0m\u001b[0;34m\u001b[0m\u001b[0m\n\u001b[0;32m----> 2\u001b[0;31m     \u001b[0mprediction\u001b[0m\u001b[0;34m(\u001b[0m\u001b[0mpath\u001b[0m\u001b[0;34m,\u001b[0m\u001b[0;34m''\u001b[0m\u001b[0;34m,\u001b[0m\u001b[0;34m'mask'\u001b[0m\u001b[0;34m)\u001b[0m\u001b[0;34m\u001b[0m\u001b[0;34m\u001b[0m\u001b[0m\n\u001b[0m",
      "\u001b[0;32m<ipython-input-36-519af6e22496>\u001b[0m in \u001b[0;36mprediction\u001b[0;34m(directory, plot, mask_dir)\u001b[0m\n\u001b[1;32m     56\u001b[0m         \u001b[0;31m#mask = reproject_like_vrt(mask, preds)\u001b[0m\u001b[0;34m\u001b[0m\u001b[0;34m\u001b[0m\u001b[0;34m\u001b[0m\u001b[0m\n\u001b[1;32m     57\u001b[0m \u001b[0;34m\u001b[0m\u001b[0m\n\u001b[0;32m---> 58\u001b[0;31m     \u001b[0mmetrics\u001b[0m \u001b[0;34m=\u001b[0m \u001b[0mcompute_metrics\u001b[0m\u001b[0;34m(\u001b[0m\u001b[0mmask_data\u001b[0m\u001b[0;34m,\u001b[0m \u001b[0mpred_data\u001b[0m\u001b[0;34m)\u001b[0m\u001b[0;34m\u001b[0m\u001b[0;34m\u001b[0m\u001b[0m\n\u001b[0m\u001b[1;32m     59\u001b[0m \u001b[0;34m\u001b[0m\u001b[0m\n\u001b[1;32m     60\u001b[0m     results = {\n",
      "\u001b[0;32m<ipython-input-18-08c187b934bf>\u001b[0m in \u001b[0;36mcompute_metrics\u001b[0;34m(true, pred)\u001b[0m\n\u001b[1;32m      4\u001b[0m \u001b[0;32mdef\u001b[0m \u001b[0mcompute_metrics\u001b[0m\u001b[0;34m(\u001b[0m\u001b[0mtrue\u001b[0m\u001b[0;34m,\u001b[0m \u001b[0mpred\u001b[0m\u001b[0;34m)\u001b[0m\u001b[0;34m:\u001b[0m\u001b[0;34m\u001b[0m\u001b[0;34m\u001b[0m\u001b[0m\n\u001b[1;32m      5\u001b[0m     \u001b[0mprint\u001b[0m\u001b[0;34m(\u001b[0m\u001b[0mtrue\u001b[0m\u001b[0;34m.\u001b[0m\u001b[0mshape\u001b[0m\u001b[0;34m,\u001b[0m \u001b[0mpred\u001b[0m\u001b[0;34m.\u001b[0m\u001b[0mshape\u001b[0m\u001b[0;34m)\u001b[0m\u001b[0;34m\u001b[0m\u001b[0;34m\u001b[0m\u001b[0m\n\u001b[0;32m----> 6\u001b[0;31m     \u001b[0;32massert\u001b[0m \u001b[0mtrue\u001b[0m\u001b[0;34m.\u001b[0m\u001b[0mshape\u001b[0m \u001b[0;34m==\u001b[0m \u001b[0mpred\u001b[0m\u001b[0;34m.\u001b[0m\u001b[0mshape\u001b[0m\u001b[0;34m,\u001b[0m \u001b[0;34m\"Masks and predictions are different shapes. Are you sure they're in the same CRS/extent?\"\u001b[0m\u001b[0;34m\u001b[0m\u001b[0;34m\u001b[0m\u001b[0m\n\u001b[0m\u001b[1;32m      7\u001b[0m \u001b[0;34m\u001b[0m\u001b[0m\n\u001b[1;32m      8\u001b[0m     \u001b[0mcompare\u001b[0m \u001b[0;34m=\u001b[0m \u001b[0;34m(\u001b[0m\u001b[0mtrue\u001b[0m\u001b[0;34m,\u001b[0m \u001b[0mpred\u001b[0m\u001b[0;34m)\u001b[0m\u001b[0;34m\u001b[0m\u001b[0;34m\u001b[0m\u001b[0m\n",
      "\u001b[0;31mAssertionError\u001b[0m: Masks and predictions are different shapes. Are you sure they're in the same CRS/extent?"
     ]
    }
   ],
   "source": [
    "for path in results_dirs:\n",
    "    prediction(path,'','mask')"
   ]
  },
  {
   "cell_type": "code",
   "execution_count": 50,
   "metadata": {},
   "outputs": [],
   "source": [
    "Rows = int((37.72728055022193 - 37.82280243352756)/-1.6966586732794497e-05)"
   ]
  },
  {
   "cell_type": "code",
   "execution_count": 51,
   "metadata": {},
   "outputs": [
    {
     "data": {
      "text/plain": [
       "5630"
      ]
     },
     "execution_count": 51,
     "metadata": {},
     "output_type": "execute_result"
    }
   ],
   "source": [
    "Rows"
   ]
  },
  {
   "cell_type": "code",
   "execution_count": 54,
   "metadata": {},
   "outputs": [
    {
     "data": {
      "text/plain": [
       "74946560"
      ]
     },
     "execution_count": 54,
     "metadata": {},
     "output_type": "execute_result"
    }
   ],
   "source": [
    "13312 *5630"
   ]
  },
  {
   "cell_type": "code",
   "execution_count": 38,
   "metadata": {},
   "outputs": [
    {
     "name": "stdout",
     "output_type": "stream",
     "text": [
      "Driver: GTiff/GeoTIFF\n",
      "Files: /home/ubuntu/veg-validate/planet-snowcover-analysis:planet-snowcover-2020-03-01-13-37-37-330:planet-snowcover-imagery-veg:20190705_182425_0f28_3B_AnalyticMS_SR/preds/20190705_182425_0f28_3B_AnalyticMS_SR_merged.tif\n",
      "Size is 13312, 5631\n",
      "Coordinate System is:\n",
      "GEOGCRS[\"WGS 84\",\n",
      "    DATUM[\"World Geodetic System 1984\",\n",
      "        ELLIPSOID[\"WGS 84\",6378137,298.257223563,\n",
      "            LENGTHUNIT[\"metre\",1]]],\n",
      "    PRIMEM[\"Greenwich\",0,\n",
      "        ANGLEUNIT[\"degree\",0.0174532925199433]],\n",
      "    CS[ellipsoidal,2],\n",
      "        AXIS[\"geodetic latitude (Lat)\",north,\n",
      "            ORDER[1],\n",
      "            ANGLEUNIT[\"degree\",0.0174532925199433]],\n",
      "        AXIS[\"geodetic longitude (Lon)\",east,\n",
      "            ORDER[2],\n",
      "            ANGLEUNIT[\"degree\",0.0174532925199433]],\n",
      "    USAGE[\n",
      "        SCOPE[\"unknown\"],\n",
      "        AREA[\"World\"],\n",
      "        BBOX[-90,-180,90,180]],\n",
      "    ID[\"EPSG\",4326]]\n",
      "Data axis to CRS axis mapping: 2,1\n",
      "Origin = (-119.553222656250000,37.822802433527563)\n",
      "Pixel Size = (0.000021457672119,-0.000016962603055)\n",
      "Metadata:\n",
      "  AREA_OR_POINT=Area\n",
      "Image Structure Metadata:\n",
      "  COMPRESSION=LZW\n",
      "  INTERLEAVE=BAND\n",
      "Corner Coordinates:\n",
      "Upper Left  (-119.5532227,  37.8228024) (119d33'11.60\"W, 37d49'22.09\"N)\n",
      "Lower Left  (-119.5532227,  37.7272860) (119d33'11.60\"W, 37d43'38.23\"N)\n",
      "Upper Right (-119.2675781,  37.8228024) (119d16' 3.28\"W, 37d49'22.09\"N)\n",
      "Lower Right (-119.2675781,  37.7272860) (119d16' 3.28\"W, 37d43'38.23\"N)\n",
      "Center      (-119.4104004,  37.7750442) (119d24'37.44\"W, 37d46'30.16\"N)\n",
      "Band 1 Block=13312x1 Type=Int16, ColorInterp=Gray\n",
      "  NoData Value=9999\n"
     ]
    }
   ],
   "source": [
    "!gdalinfo /home/ubuntu/veg-validate/planet-snowcover-analysis:planet-snowcover-2020-03-01-13-37-37-330:planet-snowcover-imagery-veg:20190705_182425_0f28_3B_AnalyticMS_SR/preds/20190705_182425_0f28_3B_AnalyticMS_SR_merged.tif"
   ]
  },
  {
   "cell_type": "code",
   "execution_count": 39,
   "metadata": {},
   "outputs": [
    {
     "name": "stdout",
     "output_type": "stream",
     "text": [
      "Driver: GTiff/GeoTIFF\n",
      "Files: /home/ubuntu/veg-validate/planet-snowcover-analysis:planet-snowcover-2020-03-01-13-37-37-330:planet-snowcover-imagery-veg:20190705_182425_0f28_3B_AnalyticMS_SR/mask/ASO_3M_SD_USCATE_20190705_4326_binary_merged.tif\n",
      "Size is 13312, 5630\n",
      "Coordinate System is:\n",
      "GEOGCRS[\"WGS 84\",\n",
      "    DATUM[\"World Geodetic System 1984\",\n",
      "        ELLIPSOID[\"WGS 84\",6378137,298.257223563,\n",
      "            LENGTHUNIT[\"metre\",1]]],\n",
      "    PRIMEM[\"Greenwich\",0,\n",
      "        ANGLEUNIT[\"degree\",0.0174532925199433]],\n",
      "    CS[ellipsoidal,2],\n",
      "        AXIS[\"geodetic latitude (Lat)\",north,\n",
      "            ORDER[1],\n",
      "            ANGLEUNIT[\"degree\",0.0174532925199433]],\n",
      "        AXIS[\"geodetic longitude (Lon)\",east,\n",
      "            ORDER[2],\n",
      "            ANGLEUNIT[\"degree\",0.0174532925199433]],\n",
      "    USAGE[\n",
      "        SCOPE[\"unknown\"],\n",
      "        AREA[\"World\"],\n",
      "        BBOX[-90,-180,90,180]],\n",
      "    ID[\"EPSG\",4326]]\n",
      "Data axis to CRS axis mapping: 2,1\n",
      "Origin = (-119.553222656250000,37.822802433527563)\n",
      "Pixel Size = (0.000021457672119,-0.000016966586733)\n",
      "Metadata:\n",
      "  AREA_OR_POINT=Area\n",
      "Image Structure Metadata:\n",
      "  COMPRESSION=LZW\n",
      "  INTERLEAVE=BAND\n",
      "Corner Coordinates:\n",
      "Upper Left  (-119.5532227,  37.8228024) (119d33'11.60\"W, 37d49'22.09\"N)\n",
      "Lower Left  (-119.5532227,  37.7272806) (119d33'11.60\"W, 37d43'38.21\"N)\n",
      "Upper Right (-119.2675781,  37.8228024) (119d16' 3.28\"W, 37d49'22.09\"N)\n",
      "Lower Right (-119.2675781,  37.7272806) (119d16' 3.28\"W, 37d43'38.21\"N)\n",
      "Center      (-119.4104004,  37.7750415) (119d24'37.44\"W, 37d46'30.15\"N)\n",
      "Band 1 Block=13312x1 Type=Int16, ColorInterp=Gray\n",
      "  NoData Value=9999\n"
     ]
    }
   ],
   "source": [
    "!gdalinfo /home/ubuntu/veg-validate/planet-snowcover-analysis:planet-snowcover-2020-03-01-13-37-37-330:planet-snowcover-imagery-veg:20190705_182425_0f28_3B_AnalyticMS_SR/mask/ASO_3M_SD_USCATE_20190705_4326_binary_merged.tif"
   ]
  },
  {
   "cell_type": "code",
   "execution_count": 55,
   "metadata": {},
   "outputs": [],
   "source": [
    "mask_file = '/home/ubuntu/veg-validate/planet-snowcover-analysis:planet-snowcover-2020-03-01-13-37-37-330:planet-snowcover-imagery-veg:20190705_182425_0f28_3B_AnalyticMS_SR/mask/ASO_3M_SD_USCATE_20190705_4326_binary_merged.tif'"
   ]
  },
  {
   "cell_type": "code",
   "execution_count": 56,
   "metadata": {},
   "outputs": [],
   "source": [
    "preds_file='/home/ubuntu/veg-validate/planet-snowcover-analysis:planet-snowcover-2020-03-01-13-37-37-330:planet-snowcover-imagery-veg:20190705_182425_0f28_3B_AnalyticMS_SR/preds/20190705_182425_0f28_3B_AnalyticMS_SR_merged.tif'"
   ]
  },
  {
   "cell_type": "code",
   "execution_count": 115,
   "metadata": {},
   "outputs": [],
   "source": [
    "def reproject_image_to_master ( master, slave, res=None ):\n",
    "    \"\"\"This function reprojects an image (``slave``) to\n",
    "    match the extent, resolution and projection of another\n",
    "    (``master``) using GDAL. The newly reprojected image\n",
    "    is a GDAL VRT file for efficiency. A different spatial\n",
    "    resolution can be chosen by specifyign the optional\n",
    "    ``res`` parameter. The function returns the new file's\n",
    "    name.\n",
    "    Parameters\n",
    "    -------------\n",
    "    master: str \n",
    "        A filename (with full path if required) with the \n",
    "        master image (that that will be taken as a reference)\n",
    "    slave: str \n",
    "        A filename (with path if needed) with the image\n",
    "        that will be reprojected\n",
    "    res: float, optional\n",
    "        The desired output spatial resolution, if different \n",
    "        to the one in ``master``.\n",
    "    Returns\n",
    "    ----------\n",
    "    The reprojected filename\n",
    "    TODO Have a way of controlling output filename\n",
    "    \"\"\"\n",
    "    slave_ds = gdal.Open( slave )\n",
    "    if slave_ds is None:\n",
    "        raise IOError( \"GDAL could not open slave file %s \" % slave)\n",
    "    slave_proj = slave_ds.GetProjection()\n",
    "    slave_geotrans = slave_ds.GetGeoTransform()\n",
    "    data_type = slave_ds.GetRasterBand(1).DataType\n",
    "    n_bands = slave_ds.RasterCount\n",
    "\n",
    "    master_ds = gdal.Open( master )\n",
    "    if master_ds is None:\n",
    "        raise IOError (\"GDAL could not open master file %s \" % master)\n",
    "    master_proj = master_ds.GetProjection()\n",
    "    master_geotrans = master_ds.GetGeoTransform()\n",
    "    w = master_ds.RasterXSize\n",
    "    h = master_ds.RasterYSize\n",
    "    if res is not None:\n",
    "        master_geotrans[1] = float( res )\n",
    "        master_geotrans[-1] = - float ( res )\n",
    "\n",
    "    dst_filename = slave.replace( \".tif\", \"_crop.vrt\" )\n",
    "    dst_ds = gdal.GetDriverByName('VRT').Create(dst_filename,\n",
    "                                                w, h, n_bands, data_type)\n",
    "    dst_ds.GetRasterBand(1).SetNoDataValue( 9999.0 )\n",
    "    dst_ds.SetGeoTransform( master_geotrans )\n",
    "    dst_ds.SetProjection( master_proj)\n",
    "\n",
    "    gdal.ReprojectImage( slave_ds, dst_ds, slave_proj,\n",
    "                         master_proj, gdal.GRA_Bilinear)\n",
    "    dst_ds = None  # Flush to disk\n",
    "    return dst_filename\n"
   ]
  },
  {
   "cell_type": "code",
   "execution_count": 116,
   "metadata": {},
   "outputs": [],
   "source": [
    "sl_file=reproject_image_to_master(mask_file,preds_file)"
   ]
  },
  {
   "cell_type": "code",
   "execution_count": 117,
   "metadata": {},
   "outputs": [
    {
     "name": "stdout",
     "output_type": "stream",
     "text": [
      "/home/ubuntu/veg-validate/planet-snowcover-analysis:planet-snowcover-2020-03-01-13-37-37-330:planet-snowcover-imagery-veg:20190705_182425_0f28_3B_AnalyticMS_SR/preds/20190705_182425_0f28_3B_AnalyticMS_SR_merged_crop.vrt\n",
      "[[9999 9999 9999 ... 9999 9999 9999]\n",
      " [9999 9999 9999 ... 9999 9999 9999]\n",
      " [9999 9999 9999 ... 9999 9999 9999]\n",
      " ...\n",
      " [9999 9999 9999 ... 9999 9999 9999]\n",
      " [9999 9999 9999 ... 9999 9999 9999]\n",
      " [9999 9999 9999 ... 9999 9999 9999]]\n"
     ]
    },
    {
     "data": {
      "image/png": "[encoded data removed]",
      "text/plain": [
       "<Figure size 720x720 with 1 Axes>"
      ]
     },
     "metadata": {},
     "output_type": "display_data"
    }
   ],
   "source": [
    "# Load the DEM and read out a np array of the elevation values (meters):\n",
    "print(sl_file)\n",
    "dem = rio.open(sl_file)\n",
    "elev = dem.read(1)\n",
    "print(elev)\n",
    "\n",
    "\n",
    "# Plot this elevation band:\n",
    "plt.figure(figsize=(10,10))\n",
    "plt.imshow(elev)\n",
    "\n",
    "title_text = ''\n",
    "plt.title(title_text);"
   ]
  },
  {
   "cell_type": "code",
   "execution_count": 118,
   "metadata": {},
   "outputs": [
    {
     "name": "stdout",
     "output_type": "stream",
     "text": [
      "Driver: VRT/Virtual Raster\n",
      "Files: /home/ubuntu/veg-validate/planet-snowcover-analysis:planet-snowcover-2020-03-01-13-37-37-330:planet-snowcover-imagery-veg:20190705_182425_0f28_3B_AnalyticMS_SR/preds/20190705_182425_0f28_3B_AnalyticMS_SR_merged_crop.vrt\n",
      "Size is 13312, 5630\n",
      "Coordinate System is:\n",
      "GEOGCRS[\"WGS 84\",\n",
      "    DATUM[\"World Geodetic System 1984\",\n",
      "        ELLIPSOID[\"WGS 84\",6378137,298.257223563,\n",
      "            LENGTHUNIT[\"metre\",1]]],\n",
      "    PRIMEM[\"Greenwich\",0,\n",
      "        ANGLEUNIT[\"degree\",0.0174532925199433]],\n",
      "    CS[ellipsoidal,2],\n",
      "        AXIS[\"geodetic latitude (Lat)\",north,\n",
      "            ORDER[1],\n",
      "            ANGLEUNIT[\"degree\",0.0174532925199433]],\n",
      "        AXIS[\"geodetic longitude (Lon)\",east,\n",
      "            ORDER[2],\n",
      "            ANGLEUNIT[\"degree\",0.0174532925199433]],\n",
      "    ID[\"EPSG\",4326]]\n",
      "Data axis to CRS axis mapping: 2,1\n",
      "Origin = (-119.553222656250000,37.822802433527563)\n",
      "Pixel Size = (0.000021457672119,-0.000016966586733)\n",
      "Corner Coordinates:\n",
      "Upper Left  (-119.5532227,  37.8228024) ( 37d49'22.09\"E,119d33'11.60\"S)\n",
      "Lower Left  (-119.5532227,  37.7272806) ( 37d43'38.21\"E,119d33'11.60\"S)\n",
      "Upper Right (-119.2675781,  37.8228024) ( 37d49'22.09\"E,119d16' 3.28\"S)\n",
      "Lower Right (-119.2675781,  37.7272806) ( 37d43'38.21\"E,119d16' 3.28\"S)\n",
      "Center      (-119.4104004,  37.7750415) ( 37d46'30.15\"E,119d24'37.44\"S)\n",
      "Band 1 Block=128x128 Type=Int16, ColorInterp=Undefined\n",
      "  Min=0.000 Max=0.000 \n",
      "  NoData Value=9999\n"
     ]
    }
   ],
   "source": [
    "!gdalinfo {sl_file}"
   ]
  },
  {
   "cell_type": "code",
   "execution_count": 119,
   "metadata": {},
   "outputs": [
    {
     "name": "stdout",
     "output_type": "stream",
     "text": [
      "Driver: GTiff/GeoTIFF\n",
      "Files: /home/ubuntu/veg-validate/planet-snowcover-analysis:planet-snowcover-2020-03-01-13-37-37-330:planet-snowcover-imagery-veg:20190705_182425_0f28_3B_AnalyticMS_SR/preds/20190705_182425_0f28_3B_AnalyticMS_SR_merged.tif\n",
      "Size is 13312, 5631\n",
      "Coordinate System is:\n",
      "GEOGCRS[\"WGS 84\",\n",
      "    DATUM[\"World Geodetic System 1984\",\n",
      "        ELLIPSOID[\"WGS 84\",6378137,298.257223563,\n",
      "            LENGTHUNIT[\"metre\",1]]],\n",
      "    PRIMEM[\"Greenwich\",0,\n",
      "        ANGLEUNIT[\"degree\",0.0174532925199433]],\n",
      "    CS[ellipsoidal,2],\n",
      "        AXIS[\"geodetic latitude (Lat)\",north,\n",
      "            ORDER[1],\n",
      "            ANGLEUNIT[\"degree\",0.0174532925199433]],\n",
      "        AXIS[\"geodetic longitude (Lon)\",east,\n",
      "            ORDER[2],\n",
      "            ANGLEUNIT[\"degree\",0.0174532925199433]],\n",
      "    USAGE[\n",
      "        SCOPE[\"unknown\"],\n",
      "        AREA[\"World\"],\n",
      "        BBOX[-90,-180,90,180]],\n",
      "    ID[\"EPSG\",4326]]\n",
      "Data axis to CRS axis mapping: 2,1\n",
      "Origin = (-119.553222656250000,37.822802433527563)\n",
      "Pixel Size = (0.000021457672119,-0.000016962603055)\n",
      "Metadata:\n",
      "  AREA_OR_POINT=Area\n",
      "Image Structure Metadata:\n",
      "  COMPRESSION=LZW\n",
      "  INTERLEAVE=BAND\n",
      "Corner Coordinates:\n",
      "Upper Left  (-119.5532227,  37.8228024) (119d33'11.60\"W, 37d49'22.09\"N)\n",
      "Lower Left  (-119.5532227,  37.7272860) (119d33'11.60\"W, 37d43'38.23\"N)\n",
      "Upper Right (-119.2675781,  37.8228024) (119d16' 3.28\"W, 37d49'22.09\"N)\n",
      "Lower Right (-119.2675781,  37.7272860) (119d16' 3.28\"W, 37d43'38.23\"N)\n",
      "Center      (-119.4104004,  37.7750442) (119d24'37.44\"W, 37d46'30.16\"N)\n",
      "Band 1 Block=13312x1 Type=Int16, ColorInterp=Gray\n",
      "  NoData Value=9999\n"
     ]
    }
   ],
   "source": [
    "!gdalinfo {preds_file}"
   ]
  },
  {
   "cell_type": "code",
   "execution_count": 110,
   "metadata": {},
   "outputs": [],
   "source": [
    "pred_data= rio.open(preds_file).read(1).flatten()"
   ]
  },
  {
   "cell_type": "code",
   "execution_count": 111,
   "metadata": {},
   "outputs": [],
   "source": [
    "pred_data = pred_data[np.where(pred_data != 9999)]"
   ]
  },
  {
   "cell_type": "code",
   "execution_count": 112,
   "metadata": {},
   "outputs": [],
   "source": [
    "mask_data= rio.open(mask_file).read(1).flatten()"
   ]
  },
  {
   "cell_type": "code",
   "execution_count": 113,
   "metadata": {},
   "outputs": [],
   "source": [
    "mask_data = mask_data[np.where(mask_data != 9999)]"
   ]
  },
  {
   "cell_type": "code",
   "execution_count": 114,
   "metadata": {},
   "outputs": [
    {
     "name": "stdout",
     "output_type": "stream",
     "text": [
      "(45878272,) (45869568,)\n"
     ]
    },
    {
     "ename": "AssertionError",
     "evalue": "Masks and predictions are different shapes. Are you sure they're in the same CRS/extent?",
     "output_type": "error",
     "traceback": [
      "\u001b[0;31m---------------------------------------------------------------------------\u001b[0m",
      "\u001b[0;31mAssertionError\u001b[0m                            Traceback (most recent call last)",
      "\u001b[0;32m<ipython-input-114-4c58573328ee>\u001b[0m in \u001b[0;36m<module>\u001b[0;34m()\u001b[0m\n\u001b[0;32m----> 1\u001b[0;31m \u001b[0mcompute_metrics\u001b[0m\u001b[0;34m(\u001b[0m\u001b[0mpred_data\u001b[0m\u001b[0;34m,\u001b[0m\u001b[0mmask_data\u001b[0m\u001b[0;34m)\u001b[0m\u001b[0;34m\u001b[0m\u001b[0;34m\u001b[0m\u001b[0m\n\u001b[0m",
      "\u001b[0;32m<ipython-input-18-08c187b934bf>\u001b[0m in \u001b[0;36mcompute_metrics\u001b[0;34m(true, pred)\u001b[0m\n\u001b[1;32m      4\u001b[0m \u001b[0;32mdef\u001b[0m \u001b[0mcompute_metrics\u001b[0m\u001b[0;34m(\u001b[0m\u001b[0mtrue\u001b[0m\u001b[0;34m,\u001b[0m \u001b[0mpred\u001b[0m\u001b[0;34m)\u001b[0m\u001b[0;34m:\u001b[0m\u001b[0;34m\u001b[0m\u001b[0;34m\u001b[0m\u001b[0m\n\u001b[1;32m      5\u001b[0m     \u001b[0mprint\u001b[0m\u001b[0;34m(\u001b[0m\u001b[0mtrue\u001b[0m\u001b[0;34m.\u001b[0m\u001b[0mshape\u001b[0m\u001b[0;34m,\u001b[0m \u001b[0mpred\u001b[0m\u001b[0;34m.\u001b[0m\u001b[0mshape\u001b[0m\u001b[0;34m)\u001b[0m\u001b[0;34m\u001b[0m\u001b[0;34m\u001b[0m\u001b[0m\n\u001b[0;32m----> 6\u001b[0;31m     \u001b[0;32massert\u001b[0m \u001b[0mtrue\u001b[0m\u001b[0;34m.\u001b[0m\u001b[0mshape\u001b[0m \u001b[0;34m==\u001b[0m \u001b[0mpred\u001b[0m\u001b[0;34m.\u001b[0m\u001b[0mshape\u001b[0m\u001b[0;34m,\u001b[0m \u001b[0;34m\"Masks and predictions are different shapes. Are you sure they're in the same CRS/extent?\"\u001b[0m\u001b[0;34m\u001b[0m\u001b[0;34m\u001b[0m\u001b[0m\n\u001b[0m\u001b[1;32m      7\u001b[0m \u001b[0;34m\u001b[0m\u001b[0m\n\u001b[1;32m      8\u001b[0m     \u001b[0mcompare\u001b[0m \u001b[0;34m=\u001b[0m \u001b[0;34m(\u001b[0m\u001b[0mtrue\u001b[0m\u001b[0;34m,\u001b[0m \u001b[0mpred\u001b[0m\u001b[0;34m)\u001b[0m\u001b[0;34m\u001b[0m\u001b[0;34m\u001b[0m\u001b[0m\n",
      "\u001b[0;31mAssertionError\u001b[0m: Masks and predictions are different shapes. Are you sure they're in the same CRS/extent?"
     ]
    }
   ],
   "source": [
    "compute_metrics(pred_data,mask_data)"
   ]
  },
  {
   "cell_type": "code",
   "execution_count": 90,
   "metadata": {},
   "outputs": [
    {
     "name": "stdout",
     "output_type": "stream",
     "text": [
      "Driver: VRT/Virtual Raster\n",
      "Files: /home/ubuntu/veg-validate/planet-snowcover-analysis:planet-snowcover-2020-03-01-13-37-37-330:planet-snowcover-imagery-veg:20190705_182425_0f28_3B_AnalyticMS_SR/preds/20190705_182425_0f28_3B_AnalyticMS_SR_merged_crop.vrt\n",
      "Size is 13312, 5630\n",
      "Coordinate System is:\n",
      "GEOGCRS[\"WGS 84\",\n",
      "    DATUM[\"World Geodetic System 1984\",\n",
      "        ELLIPSOID[\"WGS 84\",6378137,298.257223563,\n",
      "            LENGTHUNIT[\"metre\",1]]],\n",
      "    PRIMEM[\"Greenwich\",0,\n",
      "        ANGLEUNIT[\"degree\",0.0174532925199433]],\n",
      "    CS[ellipsoidal,2],\n",
      "        AXIS[\"geodetic latitude (Lat)\",north,\n",
      "            ORDER[1],\n",
      "            ANGLEUNIT[\"degree\",0.0174532925199433]],\n",
      "        AXIS[\"geodetic longitude (Lon)\",east,\n",
      "            ORDER[2],\n",
      "            ANGLEUNIT[\"degree\",0.0174532925199433]],\n",
      "    ID[\"EPSG\",4326]]\n",
      "Data axis to CRS axis mapping: 2,1\n",
      "Origin = (-119.553222656250000,37.822802433527563)\n",
      "Pixel Size = (0.000021457672119,-0.000016966586733)\n",
      "Corner Coordinates:\n",
      "Upper Left  (-119.5532227,  37.8228024) ( 37d49'22.09\"E,119d33'11.60\"S)\n",
      "Lower Left  (-119.5532227,  37.7272806) ( 37d43'38.21\"E,119d33'11.60\"S)\n",
      "Upper Right (-119.2675781,  37.8228024) ( 37d49'22.09\"E,119d16' 3.28\"S)\n",
      "Lower Right (-119.2675781,  37.7272806) ( 37d43'38.21\"E,119d16' 3.28\"S)\n",
      "Center      (-119.4104004,  37.7750415) ( 37d46'30.15\"E,119d24'37.44\"S)\n",
      "Band 1 Block=128x128 Type=Int16, ColorInterp=Undefined\n",
      "  Min=0.000 Max=0.000 \n",
      "  NoData Value=9999\n"
     ]
    }
   ],
   "source": [
    "!gdalinfo {sl_file}"
   ]
  },
  {
   "cell_type": "code",
   "execution_count": 81,
   "metadata": {},
   "outputs": [
    {
     "name": "stdout",
     "output_type": "stream",
     "text": [
      "dem meta origin {'driver': 'GTiff', 'dtype': 'int16', 'nodata': 9999.0, 'width': 13312, 'height': 5631, 'count': 1, 'crs': CRS.from_dict(init='epsg:4326'), 'transform': Affine(2.1457672119140625e-05, 0.0, -119.55322265625,\n",
      "       0.0, -1.6962603054657133e-05, 37.82280243352756)}\n",
      "planet origin {'driver': 'GTiff', 'dtype': 'int16', 'nodata': 9999.0, 'width': 13312, 'height': 5630, 'count': 1, 'crs': CRS.from_dict(init='epsg:4326'), 'transform': Affine(2.1457672119140625e-05, 0.0, -119.55322265625,\n",
      "       0.0, -1.6966586732794497e-05, 37.82280243352756)}\n",
      "POLYGON ((-119.267578125 37.72728055022193, -119.267578125 37.82280243352756, -119.55322265625 37.82280243352756, -119.55322265625 37.72728055022193, -119.267578125 37.72728055022193))\n"
     ]
    }
   ],
   "source": [
    "from shapely.geometry import shape,box\n",
    "from rasterio.mask import mask\n",
    "with rio.open(mask_file) as src:\n",
    "    with rio.open(preds_file) as origin:\n",
    "\n",
    "        epsg4326_dem = origin.read(1)\n",
    "        print('dem meta origin',origin.meta)\n",
    "\n",
    "        print('planet origin',src.meta)\n",
    "        #pf = src.read(1, masked=True)\n",
    "        print(box(*src.bounds))\n",
    "                \n",
    "        try:\n",
    "            clipped_raster,clipped_transform = mask(origin,[box(*src.bounds)],crop=True,nodata= 0)\n",
    "            clipped_meta = origin.meta.copy()\n",
    "            clipped_meta.update({\"driver\": \"GTiff\",\n",
    "                     \"height\": clipped_raster.shape[1],\n",
    "                     \"width\": clipped_raster.shape[2],\n",
    "                               \"nodata\": 0,\n",
    "                     \"transform\": clipped_transform}) \n",
    "            with rio.open(\"pred.masked1\" + \".tif\", \"w\", **clipped_meta) as dest:\n",
    "                    dest.write(clipped_raster)\n",
    "        except ValueError as err:\n",
    "            print('Handling run-time error:', err)"
   ]
  },
  {
   "cell_type": "code",
   "execution_count": 80,
   "metadata": {},
   "outputs": [
    {
     "ename": "TypeError",
     "evalue": "print() takes at most 4 arguments (8 given)",
     "output_type": "error",
     "traceback": [
      "\u001b[0;31m---------------------------------------------------------------------------\u001b[0m",
      "\u001b[0;31mTypeError\u001b[0m                                 Traceback (most recent call last)",
      "\u001b[0;32m<ipython-input-80-bec5ae415ade>\u001b[0m in \u001b[0;36m<module>\u001b[0;34m()\u001b[0m\n\u001b[0;32m----> 1\u001b[0;31m \u001b[0mprint\u001b[0m\u001b[0;34m(\u001b[0m\u001b[0;34m**\u001b[0m\u001b[0mclipped_meta\u001b[0m\u001b[0;34m)\u001b[0m\u001b[0;34m\u001b[0m\u001b[0;34m\u001b[0m\u001b[0m\n\u001b[0m",
      "\u001b[0;31mTypeError\u001b[0m: print() takes at most 4 arguments (8 given)"
     ]
    }
   ],
   "source": [
    "print(**clipped_meta)"
   ]
  },
  {
   "cell_type": "code",
   "execution_count": 82,
   "metadata": {},
   "outputs": [],
   "source": [
    "pred_data= rio.open('pred.masked1.tif').read(1).flatten()"
   ]
  },
  {
   "cell_type": "code",
   "execution_count": 83,
   "metadata": {},
   "outputs": [],
   "source": [
    "pred_data = pred_data[np.where(pred_data != 9999)]"
   ]
  },
  {
   "cell_type": "code",
   "execution_count": 84,
   "metadata": {},
   "outputs": [
    {
     "data": {
      "text/plain": [
       "(74959872,)"
      ]
     },
     "execution_count": 84,
     "metadata": {},
     "output_type": "execute_result"
    }
   ],
   "source": [
    "pred_data.shape"
   ]
  },
  {
   "cell_type": "code",
   "execution_count": 85,
   "metadata": {},
   "outputs": [
    {
     "name": "stdout",
     "output_type": "stream",
     "text": [
      "Driver: GTiff/GeoTIFF\n",
      "Files: pred.masked1.tif\n",
      "Size is 13312, 5631\n",
      "Coordinate System is:\n",
      "GEOGCRS[\"WGS 84\",\n",
      "    DATUM[\"World Geodetic System 1984\",\n",
      "        ELLIPSOID[\"WGS 84\",6378137,298.257223563,\n",
      "            LENGTHUNIT[\"metre\",1]]],\n",
      "    PRIMEM[\"Greenwich\",0,\n",
      "        ANGLEUNIT[\"degree\",0.0174532925199433]],\n",
      "    CS[ellipsoidal,2],\n",
      "        AXIS[\"geodetic latitude (Lat)\",north,\n",
      "            ORDER[1],\n",
      "            ANGLEUNIT[\"degree\",0.0174532925199433]],\n",
      "        AXIS[\"geodetic longitude (Lon)\",east,\n",
      "            ORDER[2],\n",
      "            ANGLEUNIT[\"degree\",0.0174532925199433]],\n",
      "    USAGE[\n",
      "        SCOPE[\"unknown\"],\n",
      "        AREA[\"World\"],\n",
      "        BBOX[-90,-180,90,180]],\n",
      "    ID[\"EPSG\",4326]]\n",
      "Data axis to CRS axis mapping: 2,1\n",
      "Origin = (-119.553222656250000,37.822802433527563)\n",
      "Pixel Size = (0.000021457672119,-0.000016962603055)\n",
      "Metadata:\n",
      "  AREA_OR_POINT=Area\n",
      "Image Structure Metadata:\n",
      "  INTERLEAVE=BAND\n",
      "Corner Coordinates:\n",
      "Upper Left  (-119.5532227,  37.8228024) (119d33'11.60\"W, 37d49'22.09\"N)\n",
      "Lower Left  (-119.5532227,  37.7272860) (119d33'11.60\"W, 37d43'38.23\"N)\n",
      "Upper Right (-119.2675781,  37.8228024) (119d16' 3.28\"W, 37d49'22.09\"N)\n",
      "Lower Right (-119.2675781,  37.7272860) (119d16' 3.28\"W, 37d43'38.23\"N)\n",
      "Center      (-119.4104004,  37.7750442) (119d24'37.44\"W, 37d46'30.16\"N)\n",
      "Band 1 Block=13312x1 Type=Int16, ColorInterp=Gray\n",
      "  NoData Value=0\n"
     ]
    }
   ],
   "source": [
    "!gdalinfo pred.masked1.tif"
   ]
  },
  {
   "cell_type": "code",
   "execution_count": 74,
   "metadata": {},
   "outputs": [],
   "source": [
    "mask_data= rio.open(mask_file).read(1).flatten()"
   ]
  },
  {
   "cell_type": "code",
   "execution_count": 75,
   "metadata": {},
   "outputs": [],
   "source": [
    "mask_data = mask_data[np.where(mask_data != 9999)]"
   ]
  },
  {
   "cell_type": "code",
   "execution_count": 76,
   "metadata": {},
   "outputs": [
    {
     "data": {
      "text/plain": [
       "(45869568,)"
      ]
     },
     "execution_count": 76,
     "metadata": {},
     "output_type": "execute_result"
    }
   ],
   "source": [
    "mask_data.shape"
   ]
  },
  {
   "cell_type": "code",
   "execution_count": 3,
   "metadata": {},
   "outputs": [],
   "source": [
    "s3 = boto3.resource('s3')\n",
    "s3_client = boto3.client('s3')"
   ]
  },
  {
   "cell_type": "code",
   "execution_count": 5,
   "metadata": {},
   "outputs": [],
   "source": [
    "#planet-snowcover-snow/ASO_3M_SD_USCATE_20190705_4326_binary/15/5492/12642.tif\n",
    "\n",
    "# These define the bucket and object to read\n",
    "bucketname = 'planet-snowcover-snow'\n",
    "file_to_read = 'ASO_3M_SD_USCATE_20190705_4326_binary/15/5492/12642.tif' \n",
    "\n",
    "#Create a file object using the bucket and object key. \n",
    "fileobj = s3_client.get_object(\n",
    "    Bucket=bucketname,\n",
    "    Key=file_to_read\n",
    "    ) \n",
    "# open the file object and read it into the variable filedata. \n",
    "filedata = fileobj['Body'].read()\n",
    "\n",
    "\n"
   ]
  },
  {
   "cell_type": "code",
   "execution_count": 8,
   "metadata": {},
   "outputs": [
    {
     "name": "stdout",
     "output_type": "stream",
     "text": [
      "{'driver': 'GTiff', 'dtype': 'uint8', 'nodata': None, 'width': 512, 'height': 512, 'count': 1, 'crs': CRS.from_dict(init='epsg:4326'), 'transform': Affine(2.1457672119140625e-05, 0.0, -119.6630859375,\n",
      "       0.0, -1.6914750764901454e-05, 37.97884504049711)}\n"
     ]
    },
    {
     "data": {
      "image/png": "[encoded data removed]",
      "text/plain": [
       "<Figure size 720x720 with 2 Axes>"
      ]
     },
     "metadata": {},
     "output_type": "display_data"
    }
   ],
   "source": [
    "# Open the DEM raster already in  epsg4326\n",
    "%matplotlib inline\n",
    "import rasterio as rio\n",
    "import numpy as np\n",
    "from matplotlib import pyplot as plt\n",
    "import rasterio.plot\n",
    "import os\n",
    "from datetime import datetime as dt\n",
    "\n",
    "# Load the DEM and read out a np array of the elevation values (meters):\n",
    "dem = rio.open('s3://planet-snowcover-snow/ASO_3M_SD_USCATE_20190705_4326_binary/15/5492/12642.tif')\n",
    "elev = dem.read(2)\n",
    "print(dem.meta)\n",
    "# Plot this reprojected  elevation band:\n",
    "plt.figure(figsize=(10,10))\n",
    "plt.imshow(elev)\n",
    "plt.colorbar()\n",
    "title_text = ''\n",
    "plt.title(title_text);\n"
   ]
  },
  {
   "cell_type": "code",
   "execution_count": 4,
   "metadata": {},
   "outputs": [],
   "source": [
    "s3 = boto3.resource('s3')\n",
    "s3_client = boto3.client('s3')\n",
    "# These define the bucket and object to read\n",
    "bucketname = 'planet-snowcover-experiments'\n",
    "file_to_read = 'planet-snowcover-2020-03-12-02-43-15-610/test_ids.txt' \n",
    "\n",
    "#Create a file object using the bucket and object key. \n",
    "fileobj = s3_client.get_object(\n",
    "    Bucket=bucketname,\n",
    "    Key=file_to_read\n",
    "    ) \n",
    "# open the file object and read it into the variable filedata. \n",
    "filedata = fileobj['Body'].read()\n",
    "\n",
    "# file data will be a binary stream.  We have to decode it \n",
    "contents = filedata.decode('utf-8') \n",
    "\n",
    "# Once decoded, you can treat the file as plain text if appropriate \n",
    "#print(contents)"
   ]
  },
  {
   "cell_type": "code",
   "execution_count": 5,
   "metadata": {},
   "outputs": [],
   "source": [
    "s3 = boto3.resource('s3')\n",
    "s3_client = boto3.client('s3')\n",
    "# These define the bucket and object to read\n",
    "bucketname = 'planet-snowcover-experiments'\n",
    "file_to_read = 'planet-snowcover-2020-03-06-21-21-30-038/test_ids.txt' \n",
    "\n",
    "#Create a file object using the bucket and object key. \n",
    "fileobj = s3_client.get_object(\n",
    "    Bucket=bucketname,\n",
    "    Key=file_to_read\n",
    "    ) \n",
    "# open the file object and read it into the variable filedata. \n",
    "filedata = fileobj['Body'].read()\n",
    "\n",
    "# file data will be a binary stream.  We have to decode it \n",
    "contents = filedata.decode('utf-8') \n",
    "\n",
    "# Once decoded, you can treat the file as plain text if appropriate \n",
    "#print(contents)"
   ]
  },
  {
   "cell_type": "code",
   "execution_count": null,
   "metadata": {},
   "outputs": [],
   "source": []
  }
 ],
 "metadata": {
  "kernelspec": {
   "display_name": "Environment (conda_process_results)",
   "language": "python",
   "name": "conda_process_results"
  },
  "language_info": {
   "codemirror_mode": {
    "name": "ipython",
    "version": 3
   },
   "file_extension": ".py",
   "mimetype": "text/x-python",
   "name": "python",
   "nbconvert_exporter": "python",
   "pygments_lexer": "ipython3",
   "version": "3.6.8"
  }
 },
 "nbformat": 4,
 "nbformat_minor": 2
}
