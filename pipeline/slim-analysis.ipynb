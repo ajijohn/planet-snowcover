{
 "cells": [
  {
   "cell_type": "code",
   "execution_count": 1,
   "metadata": {},
   "outputs": [
    {
     "name": "stderr",
     "output_type": "stream",
     "text": [
      "── Attaching packages ─────────────────────────────────────── tidyverse 1.2.1 ──\n",
      "✔ ggplot2 2.2.1     ✔ purrr   0.2.4\n",
      "✔ tibble  1.4.1     ✔ dplyr   0.7.4\n",
      "✔ tidyr   0.7.2     ✔ stringr 1.2.0\n",
      "✔ readr   1.1.1     ✔ forcats 0.2.0\n",
      "── Conflicts ────────────────────────────────────────── tidyverse_conflicts() ──\n",
      "✖ dplyr::filter() masks stats::filter()\n",
      "✖ dplyr::lag()    masks stats::lag()\n"
     ]
    },
    {
     "ename": "ERROR",
     "evalue": "Error in library(patchwork): there is no package called ‘patchwork’\n",
     "execution_count": 1,
     "output_type": "error",
     "traceback": [
      "Error in library(patchwork): there is no package called ‘patchwork’\nTraceback:\n",
      "1. library(patchwork)",
      "2. stop(txt, domain = NA)"
     ]
    }
   ],
   "source": [
    "library(tidyverse)\n",
    "library(patchwork)"
   ]
  },
  {
   "cell_type": "code",
   "execution_count": 2,
   "metadata": {},
   "outputs": [
    {
     "name": "stderr",
     "output_type": "stream",
     "text": [
      "Loading required package: sp\n",
      "\n",
      "Attaching package: ‘raster’\n",
      "\n",
      "The following object is masked from ‘package:dplyr’:\n",
      "\n",
      "    select\n",
      "\n",
      "The following object is masked from ‘package:tidyr’:\n",
      "\n",
      "    extract\n",
      "\n"
     ]
    }
   ],
   "source": [
    "library(raster)\n",
    "library(gdalUtils)"
   ]
  },
  {
   "cell_type": "code",
   "execution_count": 3,
   "metadata": {},
   "outputs": [],
   "source": [
    "# get all the rasters aso tiles\n",
    "#list files in a specific folder\n",
    "veg_aso <- list.files(path = \"~/veg\")"
   ]
  },
  {
   "cell_type": "code",
   "execution_count": 4,
   "metadata": {},
   "outputs": [
    {
     "name": "stdout",
     "output_type": "stream",
     "text": [
      "[[1]]\n",
      "[1] \"~/veg/planet-snowcover-analysis:planet-snowcover-2020-03-01-13-37-37-330:planet-snowcover-imagery-veg:20180528_180846_1002_3B_AnalyticMS_SR_clip/mask/ASO_3M_SD_USCATE_20180528_binary_merged.tif\"\n",
      "\n",
      "[[2]]\n",
      "[1] \"~/veg/planet-snowcover-analysis:planet-snowcover-2020-03-01-13-37-37-330:planet-snowcover-imagery-veg:20180528_180847_1002_3B_AnalyticMS_SR_clip/mask/ASO_3M_SD_USCATE_20180528_binary_merged.tif\"\n",
      "\n",
      "[[3]]\n",
      "[1] \"~/veg/planet-snowcover-analysis:planet-snowcover-2020-03-01-13-37-37-330:planet-snowcover-imagery-veg:20180528_181108_1025_3B_AnalyticMS_SR_clip/mask/ASO_3M_SD_USCATE_20180528_binary_merged.tif\"\n",
      "\n",
      "[[4]]\n",
      "[1] \"~/veg/planet-snowcover-analysis:planet-snowcover-2020-03-01-13-37-37-330:planet-snowcover-imagery-veg:20180528_181109_1025_3B_AnalyticMS_SR_clip/mask/ASO_3M_SD_USCATE_20180528_binary_merged.tif\"\n",
      "\n",
      "[[5]]\n",
      "[1] \"~/veg/planet-snowcover-analysis:planet-snowcover-2020-03-01-13-37-37-330:planet-snowcover-imagery-veg:20180528_181110_1025_3B_AnalyticMS_SR_clip/mask/ASO_3M_SD_USCATE_20180528_binary_merged.tif\"\n",
      "\n",
      "[[6]]\n",
      "[1] \"~/veg/planet-snowcover-analysis:planet-snowcover-2020-03-01-13-37-37-330:planet-snowcover-imagery-veg:20180528_181111_1025_3B_AnalyticMS_SR_clip/mask/ASO_3M_SD_USCATE_20180528_binary_merged.tif\"\n",
      "\n",
      "[[7]]\n",
      "[1] \"~/veg/planet-snowcover-analysis:planet-snowcover-2020-03-01-13-37-37-330:planet-snowcover-imagery-veg:20180528_181112_1025_3B_AnalyticMS_SR_clip/mask/ASO_3M_SD_USCATE_20180528_binary_merged.tif\"\n",
      "\n",
      "[[8]]\n",
      "[1] \"~/veg/planet-snowcover-analysis:planet-snowcover-2020-03-01-13-37-37-330:planet-snowcover-imagery-veg:20180528_181113_1025_3B_AnalyticMS_SR_clip/mask/ASO_3M_SD_USCATE_20180528_binary_merged.tif\"\n",
      "\n",
      "[[9]]\n",
      "[1] \"~/veg/planet-snowcover-analysis:planet-snowcover-2020-03-01-13-37-37-330:planet-snowcover-imagery-veg:20180528_181319_1005_3B_AnalyticMS_SR_clip/mask/ASO_3M_SD_USCATE_20180528_binary_merged.tif\"\n",
      "\n",
      "[[10]]\n",
      "[1] \"~/veg/planet-snowcover-analysis:planet-snowcover-2020-03-01-13-37-37-330:planet-snowcover-imagery-veg:20180528_181320_1005_3B_AnalyticMS_SR_clip/mask/ASO_3M_SD_USCATE_20180528_binary_merged.tif\"\n",
      "\n",
      "[[11]]\n",
      "[1] \"~/veg/planet-snowcover-analysis:planet-snowcover-2020-03-01-13-37-37-330:planet-snowcover-imagery-veg:20180528_181322_1005_3B_AnalyticMS_SR_clip/mask/ASO_3M_SD_USCATE_20180528_binary_merged.tif\"\n",
      "\n",
      "[[12]]\n",
      "[1] \"~/veg/planet-snowcover-analysis:planet-snowcover-2020-03-01-13-37-37-330:planet-snowcover-imagery-veg:20180528_181323_1005_3B_AnalyticMS_SR_clip/mask/ASO_3M_SD_USCATE_20180528_binary_merged.tif\"\n",
      "\n",
      "[[1]]\n",
      "[1] \"~/veg/planet-snowcover-analysis:planet-snowcover-2020-03-01-13-37-37-330:planet-snowcover-imagery-veg:20180528_180846_1002_3B_AnalyticMS_SR_clip/preds/20180528_180846_1002_3B_AnalyticMS_SR_clip_merged.tif\"\n",
      "\n",
      "[[2]]\n",
      "[1] \"~/veg/planet-snowcover-analysis:planet-snowcover-2020-03-01-13-37-37-330:planet-snowcover-imagery-veg:20180528_180847_1002_3B_AnalyticMS_SR_clip/preds/20180528_180847_1002_3B_AnalyticMS_SR_clip_merged.tif\"\n",
      "\n",
      "[[3]]\n",
      "[1] \"~/veg/planet-snowcover-analysis:planet-snowcover-2020-03-01-13-37-37-330:planet-snowcover-imagery-veg:20180528_181108_1025_3B_AnalyticMS_SR_clip/preds/20180528_181108_1025_3B_AnalyticMS_SR_clip_merged.tif\"\n",
      "\n",
      "[[4]]\n",
      "[1] \"~/veg/planet-snowcover-analysis:planet-snowcover-2020-03-01-13-37-37-330:planet-snowcover-imagery-veg:20180528_181109_1025_3B_AnalyticMS_SR_clip/preds/20180528_181109_1025_3B_AnalyticMS_SR_clip_merged.tif\"\n",
      "\n",
      "[[5]]\n",
      "[1] \"~/veg/planet-snowcover-analysis:planet-snowcover-2020-03-01-13-37-37-330:planet-snowcover-imagery-veg:20180528_181110_1025_3B_AnalyticMS_SR_clip/preds/20180528_181110_1025_3B_AnalyticMS_SR_clip_merged.tif\"\n",
      "\n",
      "[[6]]\n",
      "[1] \"~/veg/planet-snowcover-analysis:planet-snowcover-2020-03-01-13-37-37-330:planet-snowcover-imagery-veg:20180528_181111_1025_3B_AnalyticMS_SR_clip/preds/20180528_181111_1025_3B_AnalyticMS_SR_clip_merged.tif\"\n",
      "\n",
      "[[7]]\n",
      "[1] \"~/veg/planet-snowcover-analysis:planet-snowcover-2020-03-01-13-37-37-330:planet-snowcover-imagery-veg:20180528_181112_1025_3B_AnalyticMS_SR_clip/preds/20180528_181112_1025_3B_AnalyticMS_SR_clip_merged.tif\"\n",
      "\n",
      "[[8]]\n",
      "[1] \"~/veg/planet-snowcover-analysis:planet-snowcover-2020-03-01-13-37-37-330:planet-snowcover-imagery-veg:20180528_181113_1025_3B_AnalyticMS_SR_clip/preds/20180528_181113_1025_3B_AnalyticMS_SR_clip_merged.tif\"\n",
      "\n",
      "[[9]]\n",
      "[1] \"~/veg/planet-snowcover-analysis:planet-snowcover-2020-03-01-13-37-37-330:planet-snowcover-imagery-veg:20180528_181319_1005_3B_AnalyticMS_SR_clip/preds/20180528_181319_1005_3B_AnalyticMS_SR_clip_merged.tif\"\n",
      "\n",
      "[[10]]\n",
      "[1] \"~/veg/planet-snowcover-analysis:planet-snowcover-2020-03-01-13-37-37-330:planet-snowcover-imagery-veg:20180528_181320_1005_3B_AnalyticMS_SR_clip/preds/20180528_181320_1005_3B_AnalyticMS_SR_clip_merged.tif\"\n",
      "\n",
      "[[11]]\n",
      "[1] \"~/veg/planet-snowcover-analysis:planet-snowcover-2020-03-01-13-37-37-330:planet-snowcover-imagery-veg:20180528_181322_1005_3B_AnalyticMS_SR_clip/preds/20180528_181322_1005_3B_AnalyticMS_SR_clip_merged.tif\"\n",
      "\n",
      "[[12]]\n",
      "[1] \"~/veg/planet-snowcover-analysis:planet-snowcover-2020-03-01-13-37-37-330:planet-snowcover-imagery-veg:20180528_181323_1005_3B_AnalyticMS_SR_clip/preds/20180528_181323_1005_3B_AnalyticMS_SR_clip_merged.tif\"\n",
      "\n"
     ]
    }
   ],
   "source": [
    "asos <- list()\n",
    "preds <-list()\n",
    "for (vaso in veg_aso)\n",
    "{\n",
    "    #print(vaso)\n",
    "    recur = list.files(path=paste(\"~/veg/\",vaso,sep=\"\"),recursive = TRUE)\n",
    "    #print(recur)\n",
    "    for (filename in recur)\n",
    "        {\n",
    "          if (startsWith(filename,'mask/') & endsWith(filename,\"merged.tif\"))\n",
    "              asos <- append(asos,paste(\"~/veg/\",vaso,\"/\",filename,sep=\"\"))\n",
    "              \n",
    "           if (startsWith(filename,'preds/') & endsWith(filename,\"merged.tif\"))\n",
    "              preds <- append(preds,paste(\"~/veg/\",vaso,\"/\",filename,sep=\"\"))    \n",
    "        }\n",
    "}\n",
    "\n",
    "print(asos) \n",
    "print(preds)        \n",
    "    "
   ]
  },
  {
   "cell_type": "code",
   "execution_count": null,
   "metadata": {},
   "outputs": [],
   "source": [
    "fo <- list.files(path = \"./aso_veg\", pattern = \".tif$\", full.names = TRUE)\n",
    "rlo <- lapply(fo, raster)\n",
    "\n",
    "aso_veg <- do.call(merge, c(rlo, tolerance = 1))"
   ]
  },
  {
   "cell_type": "code",
   "execution_count": null,
   "metadata": {},
   "outputs": [],
   "source": [
    "f <- list.files(path = \"./aso_pred\", pattern = \".tif$\", full.names = TRUE)\n",
    "rl <- lapply(f, raster)\n",
    "\n",
    "aso_pred <- do.call(merge, c(rl, tolerance = 1))\n"
   ]
  },
  {
   "cell_type": "code",
   "execution_count": null,
   "metadata": {},
   "outputs": [],
   "source": []
  },
  {
   "cell_type": "code",
   "execution_count": null,
   "metadata": {},
   "outputs": [],
   "source": [
    "df <- stack(aso_veg,aso_pred)"
   ]
  },
  {
   "cell_type": "code",
   "execution_count": null,
   "metadata": {},
   "outputs": [],
   "source": [
    "veg_crop <- raster(\"veg_reasampl2point1by1point6.tif\")\n"
   ]
  },
  {
   "cell_type": "code",
   "execution_count": null,
   "metadata": {},
   "outputs": [],
   "source": []
  }
 ],
 "metadata": {
  "kernelspec": {
   "display_name": "R",
   "language": "R",
   "name": "ir"
  },
  "language_info": {
   "codemirror_mode": "r",
   "file_extension": ".r",
   "mimetype": "text/x-r-source",
   "name": "R",
   "pygments_lexer": "r",
   "version": "3.4.3"
  }
 },
 "nbformat": 4,
 "nbformat_minor": 2
}
