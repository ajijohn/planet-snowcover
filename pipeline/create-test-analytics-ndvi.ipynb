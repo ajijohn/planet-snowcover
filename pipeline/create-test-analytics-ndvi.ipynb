{
 "cells": [
  {
   "cell_type": "code",
   "execution_count": 1,
   "metadata": {},
   "outputs": [
    {
     "name": "stderr",
     "output_type": "stream",
     "text": [
      "/home/ubuntu/anaconda3/envs/process_results/lib/python3.6/site-packages/matplotlib/__init__.py:1067: UserWarning: Duplicate key in file \"/home/ubuntu/.config/matplotlib/matplotlibrc\", line #2\n",
      "  (fname, cnt))\n",
      "/home/ubuntu/anaconda3/envs/process_results/lib/python3.6/site-packages/matplotlib/__init__.py:1067: UserWarning: Duplicate key in file \"/home/ubuntu/.config/matplotlib/matplotlibrc\", line #3\n",
      "  (fname, cnt))\n"
     ]
    },
    {
     "name": "stdout",
     "output_type": "stream",
     "text": [
      "candidates:\n",
      "['planet-snowcover-experiments/planet-snowcover-2020-04-17-16-32-32-656/planet-snowcover-imagery-ndvi:20180528_180847_1002_3B_AnalyticMS_SR_clip',\n",
      " 'planet-snowcover-experiments/planet-snowcover-2020-04-17-16-32-32-656/planet-snowcover-imagery-ndvi:20180528_181108_1025_3B_AnalyticMS_SR_clip',\n",
      " 'planet-snowcover-experiments/planet-snowcover-2020-04-17-16-32-32-656/planet-snowcover-imagery-ndvi:20180528_181109_1025_3B_AnalyticMS_SR_clip',\n",
      " 'planet-snowcover-experiments/planet-snowcover-2020-04-17-16-32-32-656/planet-snowcover-imagery-ndvi:20180528_181110_1025_3B_AnalyticMS_SR_clip',\n",
      " 'planet-snowcover-experiments/planet-snowcover-2020-04-17-16-32-32-656/planet-snowcover-imagery-ndvi:20180528_181111_1025_3B_AnalyticMS_SR_clip',\n",
      " 'planet-snowcover-experiments/planet-snowcover-2020-04-17-16-32-32-656/planet-snowcover-imagery-ndvi:20180528_181112_1025_3B_AnalyticMS_SR_clip',\n",
      " 'planet-snowcover-experiments/planet-snowcover-2020-04-17-16-32-32-656/planet-snowcover-imagery-ndvi:20180528_181113_1025_3B_AnalyticMS_SR_clip',\n",
      " 'planet-snowcover-experiments/planet-snowcover-2020-04-17-16-32-32-656/planet-snowcover-imagery-ndvi:20180528_181319_1005_3B_AnalyticMS_SR_clip',\n",
      " 'planet-snowcover-experiments/planet-snowcover-2020-04-17-16-32-32-656/planet-snowcover-imagery-ndvi:20180528_181320_1005_3B_AnalyticMS_SR_clip',\n",
      " 'planet-snowcover-experiments/planet-snowcover-2020-04-17-16-32-32-656/planet-snowcover-imagery-ndvi:20180528_181322_1005_3B_AnalyticMS_SR_clip',\n",
      " 'planet-snowcover-experiments/planet-snowcover-2020-04-17-16-32-32-656/planet-snowcover-imagery-ndvi:20180528_181323_1005_3B_AnalyticMS_SR_clip']\n"
     ]
    }
   ],
   "source": [
    "# NDVI\n",
    "# read thru and combine with run summary\n",
    "#build a pipeline to assemble all the images\n",
    "#Amazon S3/planet-snowcover-experiments/planet-snowcover-2020-04-17-16-32-32-656\n",
    "import pprint\n",
    "import s3fs\n",
    "import boto3\n",
    "import io\n",
    "from re import match\n",
    "%matplotlib inline\n",
    "import rasterio as rio\n",
    "\n",
    "p = pprint.PrettyPrinter()\n",
    "\n",
    "fs = s3fs.S3FileSystem(session = boto3.Session(profile_name = 'esip'))\n",
    "#dem only\n",
    "imagery_searchpath = 's3://planet-snowcover-experiments/planet-snowcover-2020-04-17-16-32-32-656'\n",
    "#print(\"Searching for imagery...({})\".format(imagery_searchpath))\n",
    "imagery_candidates = fs.ls(imagery_searchpath)\n",
    "print(\"candidates:\")\n",
    "#p.pprint(imagery_candidates)\n",
    "# filter only the test scenes tiles\n",
    "clipped_scenes = [link for link  in imagery_candidates if link.endswith('clip')]\n",
    "p.pprint(clipped_scenes)"
   ]
  },
  {
   "cell_type": "code",
   "execution_count": 2,
   "metadata": {},
   "outputs": [
    {
     "name": "stdout",
     "output_type": "stream",
     "text": [
      "Imagepath: planet-snowcover-imagery-ndvi/20180528_180847_1002_3B_AnalyticMS_SR_clip\n",
      "1 1983\n",
      "100%|█████████████████████████████████████████████| 1/1 [00:00<00:00,  4.31it/s]\n",
      "0...10...20...30...40...50...60...70...80...90...100 - done.\n",
      "0...10...20...30...40...50...60...70...80...90...100 - done.\n",
      "Imagepath: planet-snowcover-imagery-ndvi/20180528_181108_1025_3B_AnalyticMS_SR_clip\n",
      "7 1983\n",
      "100%|█████████████████████████████████████████████| 7/7 [00:01<00:00,  6.12it/s]\n",
      "0...10...20...30...40...50...60...70...80...90...100 - done.\n",
      "0...10...20...30...40...50...60...70...80...90...100 - done.\n",
      "Imagepath: planet-snowcover-imagery-ndvi/20180528_181109_1025_3B_AnalyticMS_SR_clip\n",
      "42 1983\n",
      "100%|███████████████████████████████████████████| 42/42 [00:07<00:00,  5.96it/s]\n",
      "0...10...20...30...40...50...60...70...80...90...100 - done.\n",
      "0...10...20...30...40...50...60...70...80...90...100 - done.\n",
      "Imagepath: planet-snowcover-imagery-ndvi/20180528_181110_1025_3B_AnalyticMS_SR_clip\n",
      "48 1983\n",
      "100%|███████████████████████████████████████████| 48/48 [00:08<00:00,  5.35it/s]\n",
      "0...10...20...30...40...50...60...70...80...90...100 - done.\n",
      "0...10...20...30...40...50...60...70...80...90...100 - done.\n",
      "Imagepath: planet-snowcover-imagery-ndvi/20180528_181111_1025_3B_AnalyticMS_SR_clip\n",
      "56 1983\n",
      "100%|███████████████████████████████████████████| 56/56 [00:09<00:00,  5.62it/s]\n",
      "0...10...20...30...40...50...60...70...80...90...100 - done.\n",
      "0...10...20...30...40...50...60...70...80...90...100 - done.\n",
      "Imagepath: planet-snowcover-imagery-ndvi/20180528_181112_1025_3B_AnalyticMS_SR_clip\n",
      "60 1983\n",
      "100%|███████████████████████████████████████████| 60/60 [00:11<00:00,  5.23it/s]\n",
      "0...10...20...30...40...50...60...70...80...90...100 - done.\n",
      "0...10...20...30...40...50...60...70...80...90...100 - done.\n",
      "Imagepath: planet-snowcover-imagery-ndvi/20180528_181113_1025_3B_AnalyticMS_SR_clip\n",
      "42 1983\n",
      "100%|███████████████████████████████████████████| 42/42 [00:07<00:00,  5.49it/s]\n",
      "0...10...20...30...40...50...60...70...80...90...100 - done.\n",
      "0...10...20...30...40...50...60...70...80...90...100 - done.\n",
      "Imagepath: planet-snowcover-imagery-ndvi/20180528_181319_1005_3B_AnalyticMS_SR_clip\n",
      "2 1983\n",
      "100%|█████████████████████████████████████████████| 2/2 [00:00<00:00,  5.28it/s]\n",
      "0...10...20...30...40...50...60...70...80...90...100 - done.\n",
      "0...10...20...30...40...50...60...70...80...90...100 - done.\n",
      "Imagepath: planet-snowcover-imagery-ndvi/20180528_181320_1005_3B_AnalyticMS_SR_clip\n",
      "24 1983\n",
      "100%|███████████████████████████████████████████| 24/24 [00:04<00:00,  5.72it/s]\n",
      "0...10...20...30...40...50...60...70...80...90...100 - done.\n",
      "0...10...20...30...40...50...60...70...80...90...100 - done.\n",
      "Imagepath: planet-snowcover-imagery-ndvi/20180528_181322_1005_3B_AnalyticMS_SR_clip\n",
      "9 1983\n",
      "100%|█████████████████████████████████████████████| 9/9 [00:01<00:00,  4.86it/s]\n",
      "0...10...20...30...40...50...60...70...80...90...100 - done.\n",
      "0...10...20...30...40...50...60...70...80...90...100 - done.\n",
      "Imagepath: planet-snowcover-imagery-ndvi/20180528_181323_1005_3B_AnalyticMS_SR_clip\n",
      "9 1983\n",
      "100%|█████████████████████████████████████████████| 9/9 [00:01<00:00,  5.84it/s]\n",
      "0...10...20...30...40...50...60...70...80...90...100 - done.\n",
      "0...10...20...30...40...50...60...70...80...90...100 - done.\n"
     ]
    }
   ],
   "source": [
    "import os\n",
    "os.chdir('/home/ubuntu/planet-snowcover/experiments/ASO_Tuolumne/scripts')\n",
    "for link in clipped_scenes:\n",
    "    !python summarize.py --aws_profile esip {link} ~/ndvi --mask_loc planet-snowcover-snow/ASO_3M_SD_USCATE_20180528_binary \n"
   ]
  },
  {
   "cell_type": "code",
   "execution_count": 24,
   "metadata": {},
   "outputs": [
    {
     "name": "stdout",
     "output_type": "stream",
     "text": [
      "total 5500\n",
      "-rw-rw-r-- 1 ubuntu ubuntu    2259 Mar  5 04:36 aftertrain.py\n",
      "-rw-rw-r-- 1 ubuntu ubuntu    7409 Feb 27 23:33 compare.py\n",
      "-rw-rw-r-- 1 ubuntu ubuntu    3952 Feb 27 23:33 get-modis.py\n",
      "-rw-rw-r-- 1 ubuntu ubuntu    8868 Feb 27 23:33 get_sentinel.py\n",
      "-rw-rw-r-- 1 ubuntu ubuntu     680 Mar 12 14:42 output.log\n",
      "-rw-rw-r-- 1 ubuntu ubuntu    1673 Mar  5 04:42 output_summarize_veg.log\n",
      "-rw-rw-r-- 1 ubuntu ubuntu  314434 Mar 18 05:36 prediction_base_test_only.log\n",
      "-rw-rw-r-- 1 ubuntu ubuntu 2332511 Mar 13 03:04 prediction_veg_dem_job.log\n",
      "-rw-rw-r-- 1 ubuntu ubuntu  332866 Mar 18 05:32 prediction_veg_dem_job_test.log\n",
      "-rw-rw-r-- 1 ubuntu ubuntu 2265075 Mar 13 08:08 prediction_veg_job.log\n",
      "-rw-rw-r-- 1 ubuntu ubuntu  319397 Mar 18 05:25 prediction_veg_job_test_only.log\n",
      "-rw-rw-r-- 1 ubuntu ubuntu    3738 Mar 12 17:20 run_prediction.py\n",
      "-rw-rw-r-- 1 ubuntu ubuntu    2737 Feb 27 23:33 sagetrain.py\n",
      "-rw-rw-r-- 1 ubuntu ubuntu    6068 Mar  5 04:36 summarize.py\n"
     ]
    }
   ],
   "source": [
    "ls -l"
   ]
  },
  {
   "cell_type": "code",
   "execution_count": null,
   "metadata": {},
   "outputs": [],
   "source": []
  },
  {
   "cell_type": "code",
   "execution_count": 3,
   "metadata": {},
   "outputs": [],
   "source": [
    "s3 = boto3.resource('s3')\n",
    "s3_client = boto3.client('s3')"
   ]
  },
  {
   "cell_type": "code",
   "execution_count": 4,
   "metadata": {},
   "outputs": [],
   "source": [
    "s3 = boto3.resource('s3')\n",
    "s3_client = boto3.client('s3')\n",
    "# These define the bucket and object to read\n",
    "bucketname = 'planet-snowcover-experiments'\n",
    "file_to_read = 'planet-snowcover-2020-03-12-02-43-15-610/test_ids.txt' \n",
    "\n",
    "#Create a file object using the bucket and object key. \n",
    "fileobj = s3_client.get_object(\n",
    "    Bucket=bucketname,\n",
    "    Key=file_to_read\n",
    "    ) \n",
    "# open the file object and read it into the variable filedata. \n",
    "filedata = fileobj['Body'].read()\n",
    "\n",
    "# file data will be a binary stream.  We have to decode it \n",
    "contents = filedata.decode('utf-8') \n",
    "\n",
    "# Once decoded, you can treat the file as plain text if appropriate \n",
    "#print(contents)"
   ]
  },
  {
   "cell_type": "code",
   "execution_count": 5,
   "metadata": {},
   "outputs": [],
   "source": [
    "s3 = boto3.resource('s3')\n",
    "s3_client = boto3.client('s3')\n",
    "# These define the bucket and object to read\n",
    "bucketname = 'planet-snowcover-experiments'\n",
    "file_to_read = 'planet-snowcover-2020-03-06-21-21-30-038/test_ids.txt' \n",
    "\n",
    "#Create a file object using the bucket and object key. \n",
    "fileobj = s3_client.get_object(\n",
    "    Bucket=bucketname,\n",
    "    Key=file_to_read\n",
    "    ) \n",
    "# open the file object and read it into the variable filedata. \n",
    "filedata = fileobj['Body'].read()\n",
    "\n",
    "# file data will be a binary stream.  We have to decode it \n",
    "contents = filedata.decode('utf-8') \n",
    "\n",
    "# Once decoded, you can treat the file as plain text if appropriate \n",
    "#print(contents)"
   ]
  },
  {
   "cell_type": "code",
   "execution_count": null,
   "metadata": {},
   "outputs": [],
   "source": []
  }
 ],
 "metadata": {
  "kernelspec": {
   "display_name": "Environment (conda_process_results)",
   "language": "python",
   "name": "conda_process_results"
  },
  "language_info": {
   "codemirror_mode": {
    "name": "ipython",
    "version": 3
   },
   "file_extension": ".py",
   "mimetype": "text/x-python",
   "name": "python",
   "nbconvert_exporter": "python",
   "pygments_lexer": "ipython3",
   "version": "3.6.8"
  }
 },
 "nbformat": 4,
 "nbformat_minor": 2
}
