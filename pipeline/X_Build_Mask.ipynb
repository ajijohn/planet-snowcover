{
 "cells": [
  {
   "cell_type": "code",
   "execution_count": 36,
   "metadata": {},
   "outputs": [],
   "source": [
    "import subprocess\n",
    "import ipywidgets as widgets\n",
    "import rasterio as rio\n",
    "from rasterio.plot import show\n",
    "import os\n",
    "\n",
    "import matplotlib.pyplot as plt\n",
    "\n",
    "%matplotlib inline"
   ]
  },
  {
   "cell_type": "markdown",
   "metadata": {},
   "source": [
    "# Build Prediction Mask 🖥\n",
    "\n",
    "This notebook is the second-to-last step in the Planet snowmask workflow. Here, we use a **trained model** to make predictions on tiled imagery, and combine those predictions into a single raster (or vectorized) snow mask. \n",
    "\n",
    "This notebook requires the following: \n",
    "\n",
    "* A Trained model, accessible either locally or via Amazon S3\n",
    "* The configuration file used to train the above model\n",
    "* A set of test/validation image tiles. \n",
    "\n",
    "## Step 1: Build Command\n",
    "\n",
    "We use our modified `robosat_pink` package to do the prediction. We'll build the prediction command below. "
   ]
  },
  {
   "cell_type": "code",
   "execution_count": 10,
   "metadata": {},
   "outputs": [
    {
     "data": {
      "application/vnd.jupyter.widget-view+json": {
       "model_id": "691b683fe7ed4b5dbabe46408ad88130",
       "version_major": 2,
       "version_minor": 0
      },
      "text/plain": [
       "VBox(children=(Text(value='', description='Saved Model'), Text(value='', description='Config File'), Text(valu…"
      ]
     },
     "metadata": {},
     "output_type": "display_data"
    }
   ],
   "source": [
    "modelPath = widgets.Text(description=\"Saved Model\")\n",
    "configFile = widgets.Text(description=\"Config File\")\n",
    "imageTilesPath = widgets.Text(description=\"Image Tiles\")\n",
    "destination = widgets.Text(description=\"Predictions\")\n",
    "aws_profile = widgets.Text(description=\"AWS Profile\")\n",
    "vb = widgets.VBox([modelPath, configFile, imageTilesPath, aws_profile, destination])\n",
    "vb"
   ]
  },
  {
   "cell_type": "code",
   "execution_count": 73,
   "metadata": {},
   "outputs": [],
   "source": [
    "raw_command = \"cd ../model/robosat_pink/ ; ./rsp predict --create_tif --checkpoint {} --aws_profile {} --config {} {} {}\""
   ]
  },
  {
   "cell_type": "code",
   "execution_count": 74,
   "metadata": {},
   "outputs": [
    {
     "name": "stdout",
     "output_type": "stream",
     "text": [
      "cd ../model/robosat_pink/ ; ./rsp predict --create_tif --checkpoint s3://planet-snowcover-models/USCOGE-20180524-may16ckpt/checkpoint-00050-of-00050.pth --aws_profile esip --config ../../experiments/tester-harnes.toml s3://planet-snowcover-imagery/20180528_181114_1025_3B_AnalyticMS_SR_clip /tmp/20180528_181114_1025_3B_AnalyticMS_SR_clip/\n"
     ]
    }
   ],
   "source": [
    "this_command = raw_command.format(modelPath.value, aws_profile.value, configFile.value, imageTilesPath.value, destination.value)\n",
    "print(this_command)"
   ]
  },
  {
   "cell_type": "markdown",
   "metadata": {},
   "source": [
    "## Step 2: Run Prediction Module\n",
    "Here we execute the above command (`this_command`) in the current working conda environment to run the model (`modelPath.value`) on all image tiles (`imageTilesPath.value`), saving the results in `destination.value`. "
   ]
  },
  {
   "cell_type": "code",
   "execution_count": 75,
   "metadata": {},
   "outputs": [
    {
     "name": "stdout",
     "output_type": "stream",
     "text": [
      "185 image tiles found.\n",
      "Eval: 100%|##################################| 27/27 [01:39<00:00,  3.69s/batch]\n"
     ]
    }
   ],
   "source": [
    "!{this_command}"
   ]
  },
  {
   "cell_type": "markdown",
   "metadata": {},
   "source": [
    "## Step 3: Create `tif` Mask\n",
    "\n",
    "**Note:** This step requires a conda environment with [GDAL](https://gdal.org) installed. You can do this yourself via ` conda create -n gdal -c conda-forge python=3.6 gdal`."
   ]
  },
  {
   "cell_type": "code",
   "execution_count": 76,
   "metadata": {},
   "outputs": [
    {
     "name": "stdout",
     "output_type": "stream",
     "text": [
      "0...10...20...30...40...50...60...70...80...90...100 - done.\n",
      "  File: '/tmp/20180528_181114_1025_3B_AnalyticMS_SR_clip//merged.tif'\n",
      "  Size: 81865086  \tBlocks: 139616     IO Block: 4096   regular file\n",
      "Device: ca01h/51713d\tInode: 159097      Links: 1\n",
      "Access: (0664/-rw-rw-r--)  Uid: ( 1000/  ubuntu)   Gid: ( 1000/  ubuntu)\n",
      "Access: 2019-10-10 19:47:48.931223838 +0000\n",
      "Modify: 2019-10-10 19:47:48.935223802 +0000\n",
      "Change: 2019-10-10 19:47:48.935223802 +0000\n",
      " Birth: -\n"
     ]
    }
   ],
   "source": [
    "%%bash -s \"$destination.value\"\n",
    "\n",
    "source activate gdal\n",
    "gdal_merge.py -o $1/merged.tif $(find $1 -name  \"*.tif\")\n",
    "stat $1/merged.tif"
   ]
  },
  {
   "cell_type": "markdown",
   "metadata": {},
   "source": [
    "## Step 4: Verify `tif` mask"
   ]
  },
  {
   "cell_type": "code",
   "execution_count": 77,
   "metadata": {},
   "outputs": [
    {
     "data": {
      "image/png": "[encoded data removed]",
      "text/plain": [
       "<Figure size 720x576 with 1 Axes>"
      ]
     },
     "metadata": {},
     "output_type": "display_data"
    }
   ],
   "source": [
    "mask_file = os.path.join(destination.value, 'merged.tif').strip()\n",
    "with rio.open(mask_file) as f:\n",
    "    fig, ax = plt.subplots(figsize=(10,8))\n",
    "    show(f, title=mask_file, cmap='binary', ax = ax)"
   ]
  },
  {
   "cell_type": "code",
   "execution_count": 78,
   "metadata": {},
   "outputs": [
    {
     "name": "stdout",
     "output_type": "stream",
     "text": [
      "/tmp/20180528_181114_1025_3B_AnalyticMS_SR_clip/\n"
     ]
    }
   ],
   "source": [
    "print(destination.value)"
   ]
  },
  {
   "cell_type": "code",
   "execution_count": null,
   "metadata": {},
   "outputs": [],
   "source": []
  }
 ],
 "metadata": {
  "kernelspec": {
   "display_name": "R",
   "language": "R",
   "name": "ir"
  },
  "language_info": {
   "codemirror_mode": "r",
   "file_extension": ".r",
   "mimetype": "text/x-r-source",
   "name": "R",
   "pygments_lexer": "r",
   "version": "3.4.3"
  }
 },
 "nbformat": 4,
 "nbformat_minor": 4
}
